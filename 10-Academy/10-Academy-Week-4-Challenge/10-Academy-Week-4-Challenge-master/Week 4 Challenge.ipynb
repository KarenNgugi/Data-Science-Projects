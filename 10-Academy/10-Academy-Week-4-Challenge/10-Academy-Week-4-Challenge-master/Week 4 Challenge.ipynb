{
 "cells": [
  {
   "cell_type": "markdown",
   "metadata": {},
   "source": [
    "# 1. Introduction\n",
    "### 1.1 Problem Statement\n",
    "\n",
    "As a data scientist in SmartAd, one of your tasks is to design a reliable hypothesis testing algorithm for the BIO service and to determine whether a recent advertising campaign resulted in a significant lift in brand awareness.\n",
    "\n",
    "### 1.2 Context\n",
    "SmartAd is a mobile first advertiser agency. It designs Intuitive touch-enabled advertising. It provides brands with an automated advertising experience via machine learning and creative excellence. Their company is based on the principle of voluntary participation which is proven to increase brand engagement and memorability 10 x more than static alternatives.\n",
    "\n",
    "SmartAd provides an additional service called Brand Impact Optimiser (BIO), a lightweight questionnaire, served with every campaign to determine the impact of the creative, the ad they design, on various upper funnel metrics, including memorability and brand sentiment.\n",
    "\n",
    "### 1.3 Metric for Success\n",
    "\n",
    "### 1.4 Experimental Design\n",
    "\n",
    "### 1.5 Variable Definitions\n",
    "* **auction_id:** the unique id of the online user who has been presented the BIO. In standard terminologies this is called an impression id. The user may see the BIO questionnaire but choose not to respond. In that case both the yes and no columns are zero.\n",
    "* **experiment:** which group the user belongs to - control or exposed.\n",
    "* **date:** the date in YYYY-MM-DD format\n",
    "* **hour:** the hour of the day in HH format.\n",
    "* **device_make:** the name of the type of device the user has e.g. Samsung\n",
    "* **platform_os:** the id of the OS the user has.\n",
    "* **browser:** the name of the browser the user uses to see the BIO questionnaire.\n",
    "* **yes:** 1 if the user chooses the “Yes” radio button for the BIO questionnaire.\n",
    "* **no:**  if the user chooses the “No” radio button for the BIO questionnaire."
   ]
  },
  {
   "cell_type": "markdown",
   "metadata": {},
   "source": [
    "# 2. Data Preparation"
   ]
  },
  {
   "cell_type": "code",
   "execution_count": 1,
   "metadata": {},
   "outputs": [],
   "source": [
    "import pandas as pd\n",
    "import matplotlib.pyplot as plt\n",
    "import numpy as np\n",
    "import seaborn as sns\n",
    "\n",
    "%matplotlib inline\n",
    "pd.set_option(\"display.max.columns\", None)\n",
    "pd.set_option(\"display.max_colwidth\", None)"
   ]
  },
  {
   "cell_type": "code",
   "execution_count": 2,
   "metadata": {},
   "outputs": [
    {
     "data": {
      "text/html": [
       "<div>\n",
       "<style scoped>\n",
       "    .dataframe tbody tr th:only-of-type {\n",
       "        vertical-align: middle;\n",
       "    }\n",
       "\n",
       "    .dataframe tbody tr th {\n",
       "        vertical-align: top;\n",
       "    }\n",
       "\n",
       "    .dataframe thead th {\n",
       "        text-align: right;\n",
       "    }\n",
       "</style>\n",
       "<table border=\"1\" class=\"dataframe\">\n",
       "  <thead>\n",
       "    <tr style=\"text-align: right;\">\n",
       "      <th></th>\n",
       "      <th>auction_id</th>\n",
       "      <th>experiment</th>\n",
       "      <th>date</th>\n",
       "      <th>hour</th>\n",
       "      <th>device_make</th>\n",
       "      <th>platform_os</th>\n",
       "      <th>browser</th>\n",
       "      <th>yes</th>\n",
       "      <th>no</th>\n",
       "    </tr>\n",
       "  </thead>\n",
       "  <tbody>\n",
       "    <tr>\n",
       "      <th>305</th>\n",
       "      <td>090b32d5-a098-4e68-81bd-60325a6898fa</td>\n",
       "      <td>exposed</td>\n",
       "      <td>2020-07-05</td>\n",
       "      <td>21</td>\n",
       "      <td>Generic Smartphone</td>\n",
       "      <td>6</td>\n",
       "      <td>Chrome Mobile</td>\n",
       "      <td>1</td>\n",
       "      <td>0</td>\n",
       "    </tr>\n",
       "    <tr>\n",
       "      <th>5745</th>\n",
       "      <td>b516b9dc-880b-45cf-a233-a75b6fba6666</td>\n",
       "      <td>control</td>\n",
       "      <td>2020-07-05</td>\n",
       "      <td>2</td>\n",
       "      <td>Generic Smartphone</td>\n",
       "      <td>6</td>\n",
       "      <td>Chrome Mobile</td>\n",
       "      <td>0</td>\n",
       "      <td>0</td>\n",
       "    </tr>\n",
       "    <tr>\n",
       "      <th>162</th>\n",
       "      <td>04ce7ee1-a4be-4c40-82a9-23f255aa3395</td>\n",
       "      <td>control</td>\n",
       "      <td>2020-07-03</td>\n",
       "      <td>15</td>\n",
       "      <td>ELE-L09</td>\n",
       "      <td>6</td>\n",
       "      <td>Facebook</td>\n",
       "      <td>1</td>\n",
       "      <td>0</td>\n",
       "    </tr>\n",
       "    <tr>\n",
       "      <th>2946</th>\n",
       "      <td>5eb76d8a-2d41-4fa4-9c53-7f9b1d56dd57</td>\n",
       "      <td>exposed</td>\n",
       "      <td>2020-07-03</td>\n",
       "      <td>10</td>\n",
       "      <td>Generic Smartphone</td>\n",
       "      <td>6</td>\n",
       "      <td>Chrome Mobile</td>\n",
       "      <td>0</td>\n",
       "      <td>0</td>\n",
       "    </tr>\n",
       "    <tr>\n",
       "      <th>5683</th>\n",
       "      <td>b3829173-e9b4-4668-8f0c-bd1891514cbf</td>\n",
       "      <td>exposed</td>\n",
       "      <td>2020-07-09</td>\n",
       "      <td>14</td>\n",
       "      <td>Generic Smartphone</td>\n",
       "      <td>6</td>\n",
       "      <td>Chrome Mobile</td>\n",
       "      <td>0</td>\n",
       "      <td>0</td>\n",
       "    </tr>\n",
       "  </tbody>\n",
       "</table>\n",
       "</div>"
      ],
      "text/plain": [
       "                                auction_id experiment        date  hour  \\\n",
       "305   090b32d5-a098-4e68-81bd-60325a6898fa    exposed  2020-07-05    21   \n",
       "5745  b516b9dc-880b-45cf-a233-a75b6fba6666    control  2020-07-05     2   \n",
       "162   04ce7ee1-a4be-4c40-82a9-23f255aa3395    control  2020-07-03    15   \n",
       "2946  5eb76d8a-2d41-4fa4-9c53-7f9b1d56dd57    exposed  2020-07-03    10   \n",
       "5683  b3829173-e9b4-4668-8f0c-bd1891514cbf    exposed  2020-07-09    14   \n",
       "\n",
       "             device_make  platform_os        browser  yes  no  \n",
       "305   Generic Smartphone            6  Chrome Mobile    1   0  \n",
       "5745  Generic Smartphone            6  Chrome Mobile    0   0  \n",
       "162              ELE-L09            6       Facebook    1   0  \n",
       "2946  Generic Smartphone            6  Chrome Mobile    0   0  \n",
       "5683  Generic Smartphone            6  Chrome Mobile    0   0  "
      ]
     },
     "execution_count": 2,
     "metadata": {},
     "output_type": "execute_result"
    }
   ],
   "source": [
    "df = pd.read_csv('ABAdRecall.csv')\n",
    "df.sample(5)"
   ]
  },
  {
   "cell_type": "code",
   "execution_count": 3,
   "metadata": {},
   "outputs": [
    {
     "data": {
      "text/plain": [
       "(8077, 9)"
      ]
     },
     "execution_count": 3,
     "metadata": {},
     "output_type": "execute_result"
    }
   ],
   "source": [
    "# checking shape\n",
    "df.shape"
   ]
  },
  {
   "cell_type": "code",
   "execution_count": 4,
   "metadata": {},
   "outputs": [
    {
     "data": {
      "text/plain": [
       "(8077, 9)"
      ]
     },
     "execution_count": 4,
     "metadata": {},
     "output_type": "execute_result"
    }
   ],
   "source": [
    "# dropping duplicates, if any\n",
    "df.drop_duplicates(inplace = True)\n",
    "df.shape"
   ]
  },
  {
   "cell_type": "code",
   "execution_count": 5,
   "metadata": {},
   "outputs": [
    {
     "data": {
      "text/plain": [
       "auction_id     0\n",
       "experiment     0\n",
       "date           0\n",
       "hour           0\n",
       "device_make    0\n",
       "platform_os    0\n",
       "browser        0\n",
       "yes            0\n",
       "no             0\n",
       "dtype: int64"
      ]
     },
     "execution_count": 5,
     "metadata": {},
     "output_type": "execute_result"
    }
   ],
   "source": [
    "# checking for missing values\n",
    "df.isna().sum()"
   ]
  },
  {
   "cell_type": "code",
   "execution_count": 6,
   "metadata": {},
   "outputs": [
    {
     "data": {
      "text/plain": [
       "auction_id     object\n",
       "experiment     object\n",
       "date           object\n",
       "hour            int64\n",
       "device_make    object\n",
       "platform_os     int64\n",
       "browser        object\n",
       "yes             int64\n",
       "no              int64\n",
       "dtype: object"
      ]
     },
     "execution_count": 6,
     "metadata": {},
     "output_type": "execute_result"
    }
   ],
   "source": [
    "# checking data types\n",
    "df.dtypes"
   ]
  },
  {
   "cell_type": "markdown",
   "metadata": {},
   "source": [
    "# 3. Exploratory Data Analysis"
   ]
  },
  {
   "cell_type": "code",
   "execution_count": 7,
   "metadata": {},
   "outputs": [
    {
     "data": {
      "image/png": "[encoded data removed]",
      "text/plain": [
       "<Figure size 360x360 with 1 Axes>"
      ]
     },
     "metadata": {},
     "output_type": "display_data"
    }
   ],
   "source": [
    "# previewing distribution of control vs exposed\n",
    "plt.figure(figsize = (5, 5))\n",
    "df.experiment.value_counts().plot(kind = 'pie', autopct = '%1.1f%%')\n",
    "plt.title('pie chart of distribution of control group vs exposed group')\n",
    "plt.show()"
   ]
  },
  {
   "cell_type": "code",
   "execution_count": 8,
   "metadata": {},
   "outputs": [
    {
     "data": {
      "image/png": "[encoded data removed]",
      "text/plain": [
       "<Figure size 576x432 with 1 Axes>"
      ]
     },
     "metadata": {
      "needs_background": "light"
     },
     "output_type": "display_data"
    }
   ],
   "source": [
    "# distribution of platform OS\n",
    "plt.figure(figsize = (8, 6))\n",
    "df.platform_os.value_counts().plot(kind = 'bar', rot = 0, \n",
    "                                   color = sns.color_palette('rocket', len(df.platform_os.unique())))\n",
    "plt.title('Distribution of platform operating system')\n",
    "plt.show()"
   ]
  },
  {
   "cell_type": "code",
   "execution_count": 9,
   "metadata": {},
   "outputs": [
    {
     "data": {
      "image/png": "[encoded data removed]",
      "text/plain": [
       "<Figure size 720x432 with 1 Axes>"
      ]
     },
     "metadata": {
      "needs_background": "light"
     },
     "output_type": "display_data"
    }
   ],
   "source": [
    "# distribution of top 5 browsers\n",
    "plt.figure(figsize = (10, 6))\n",
    "df.browser.value_counts()[:5].plot(kind = 'bar', rot = 0, color = sns.color_palette('rocket', 5))\n",
    "plt.title(\"Top 5 Browsers\")\n",
    "plt.show()"
   ]
  },
  {
   "cell_type": "code",
   "execution_count": 10,
   "metadata": {},
   "outputs": [
    {
     "data": {
      "image/png": "[encoded data removed]",
      "text/plain": [
       "<Figure size 720x432 with 1 Axes>"
      ]
     },
     "metadata": {
      "needs_background": "light"
     },
     "output_type": "display_data"
    }
   ],
   "source": [
    "# distribution of top 5 devices\n",
    "plt.figure(figsize = (10, 6))\n",
    "df.device_make.value_counts()[:5].plot(kind = 'bar', rot = 0, color = sns.color_palette('rocket', 5))\n",
    "plt.title(\"Top 5 devices\")\n",
    "plt.show()"
   ]
  },
  {
   "cell_type": "code",
   "execution_count": 11,
   "metadata": {},
   "outputs": [
    {
     "data": {
      "image/png": "[encoded data removed]",
      "text/plain": [
       "<Figure size 720x432 with 1 Axes>"
      ]
     },
     "metadata": {
      "needs_background": "light"
     },
     "output_type": "display_data"
    }
   ],
   "source": [
    "plt.figure(figsize = (10, 6))\n",
    "df.date.value_counts().plot(kind = 'bar', rot = 0, color = sns.color_palette('rocket', df.date.nunique()))\n",
    "plt.title(\"Countplot per date\")\n",
    "plt.show()"
   ]
  },
  {
   "cell_type": "code",
   "execution_count": 12,
   "metadata": {},
   "outputs": [
    {
     "data": {
      "image/png": "[encoded data removed]",
      "text/plain": [
       "<Figure size 720x432 with 1 Axes>"
      ]
     },
     "metadata": {
      "needs_background": "light"
     },
     "output_type": "display_data"
    }
   ],
   "source": [
    "# top 10 hours\n",
    "plt.figure(figsize = (10, 6))\n",
    "df.hour.value_counts()[:10].plot(kind = 'bar', rot = 0, color = sns.color_palette('rocket', 10))\n",
    "plt.title(\"Top 10 countplots per hour\")\n",
    "plt.show()"
   ]
  },
  {
   "cell_type": "code",
   "execution_count": 13,
   "metadata": {},
   "outputs": [
    {
     "name": "stdout",
     "output_type": "stream",
     "text": [
      "Date: 2020-07-10\n",
      "15    78\n",
      "8     68\n",
      "9     61\n",
      "Name: hour, dtype: int64\n",
      "\n",
      "Date: 2020-07-07\n",
      "9    46\n",
      "7    34\n",
      "8    34\n",
      "Name: hour, dtype: int64\n",
      "\n",
      "Date: 2020-07-05\n",
      "7    72\n",
      "8    58\n",
      "9    48\n",
      "Name: hour, dtype: int64\n",
      "\n",
      "Date: 2020-07-03\n",
      "15    1546\n",
      "10      49\n",
      "8       44\n",
      "Name: hour, dtype: int64\n",
      "\n",
      "Date: 2020-07-09\n",
      "13    78\n",
      "8     72\n",
      "11    69\n",
      "Name: hour, dtype: int64\n",
      "\n",
      "Date: 2020-07-04\n",
      "11    49\n",
      "15    49\n",
      "16    48\n",
      "Name: hour, dtype: int64\n",
      "\n",
      "Date: 2020-07-06\n",
      "8     65\n",
      "7     58\n",
      "10    54\n",
      "Name: hour, dtype: int64\n",
      "\n",
      "Date: 2020-07-08\n",
      "20    126\n",
      "15    125\n",
      "18    116\n",
      "Name: hour, dtype: int64\n",
      "\n"
     ]
    }
   ],
   "source": [
    "# top 3 hours per date\n",
    "for date in df.date.unique():\n",
    "    print(\"Date:\", date)\n",
    "    print(df.loc[df.date == date].hour.value_counts()[:3])\n",
    "    print()"
   ]
  },
  {
   "cell_type": "code",
   "execution_count": 14,
   "metadata": {},
   "outputs": [
    {
     "data": {
      "text/html": [
       "<div>\n",
       "<style scoped>\n",
       "    .dataframe tbody tr th:only-of-type {\n",
       "        vertical-align: middle;\n",
       "    }\n",
       "\n",
       "    .dataframe tbody tr th {\n",
       "        vertical-align: top;\n",
       "    }\n",
       "\n",
       "    .dataframe thead th {\n",
       "        text-align: right;\n",
       "    }\n",
       "</style>\n",
       "<table border=\"1\" class=\"dataframe\">\n",
       "  <thead>\n",
       "    <tr style=\"text-align: right;\">\n",
       "      <th></th>\n",
       "      <th>auction_id</th>\n",
       "      <th>experiment</th>\n",
       "      <th>date</th>\n",
       "      <th>hour</th>\n",
       "      <th>device_make</th>\n",
       "      <th>platform_os</th>\n",
       "      <th>browser</th>\n",
       "      <th>yes</th>\n",
       "      <th>no</th>\n",
       "      <th>BIO_option</th>\n",
       "    </tr>\n",
       "  </thead>\n",
       "  <tbody>\n",
       "    <tr>\n",
       "      <th>1831</th>\n",
       "      <td>3cadd5e5-8860-4387-84cb-f4c12574d12f</td>\n",
       "      <td>exposed</td>\n",
       "      <td>2020-07-04</td>\n",
       "      <td>3</td>\n",
       "      <td>Samsung SM-G973F</td>\n",
       "      <td>6</td>\n",
       "      <td>Chrome Mobile WebView</td>\n",
       "      <td>0</td>\n",
       "      <td>0</td>\n",
       "      <td>blank</td>\n",
       "    </tr>\n",
       "    <tr>\n",
       "      <th>2402</th>\n",
       "      <td>4e7e66c4-0941-479c-9dac-0a97ce786b01</td>\n",
       "      <td>control</td>\n",
       "      <td>2020-07-10</td>\n",
       "      <td>4</td>\n",
       "      <td>Samsung SM-G981B</td>\n",
       "      <td>6</td>\n",
       "      <td>Chrome Mobile WebView</td>\n",
       "      <td>0</td>\n",
       "      <td>0</td>\n",
       "      <td>blank</td>\n",
       "    </tr>\n",
       "    <tr>\n",
       "      <th>787</th>\n",
       "      <td>19548e79-bf25-4570-b8ca-54e8e28590f0</td>\n",
       "      <td>exposed</td>\n",
       "      <td>2020-07-03</td>\n",
       "      <td>1</td>\n",
       "      <td>Generic Smartphone</td>\n",
       "      <td>6</td>\n",
       "      <td>Chrome Mobile</td>\n",
       "      <td>0</td>\n",
       "      <td>1</td>\n",
       "      <td>no</td>\n",
       "    </tr>\n",
       "    <tr>\n",
       "      <th>6955</th>\n",
       "      <td>dd3be93f-e3b7-4906-b4a2-a51fcbfe8c1a</td>\n",
       "      <td>control</td>\n",
       "      <td>2020-07-10</td>\n",
       "      <td>15</td>\n",
       "      <td>Samsung SM-G975F</td>\n",
       "      <td>6</td>\n",
       "      <td>Facebook</td>\n",
       "      <td>0</td>\n",
       "      <td>0</td>\n",
       "      <td>blank</td>\n",
       "    </tr>\n",
       "    <tr>\n",
       "      <th>7653</th>\n",
       "      <td>f24f8392-a62c-456c-94b0-07258ebc3730</td>\n",
       "      <td>exposed</td>\n",
       "      <td>2020-07-03</td>\n",
       "      <td>12</td>\n",
       "      <td>Generic Smartphone</td>\n",
       "      <td>6</td>\n",
       "      <td>Chrome Mobile</td>\n",
       "      <td>0</td>\n",
       "      <td>0</td>\n",
       "      <td>blank</td>\n",
       "    </tr>\n",
       "  </tbody>\n",
       "</table>\n",
       "</div>"
      ],
      "text/plain": [
       "                                auction_id experiment        date  hour  \\\n",
       "1831  3cadd5e5-8860-4387-84cb-f4c12574d12f    exposed  2020-07-04     3   \n",
       "2402  4e7e66c4-0941-479c-9dac-0a97ce786b01    control  2020-07-10     4   \n",
       "787   19548e79-bf25-4570-b8ca-54e8e28590f0    exposed  2020-07-03     1   \n",
       "6955  dd3be93f-e3b7-4906-b4a2-a51fcbfe8c1a    control  2020-07-10    15   \n",
       "7653  f24f8392-a62c-456c-94b0-07258ebc3730    exposed  2020-07-03    12   \n",
       "\n",
       "             device_make  platform_os                browser  yes  no  \\\n",
       "1831    Samsung SM-G973F            6  Chrome Mobile WebView    0   0   \n",
       "2402    Samsung SM-G981B            6  Chrome Mobile WebView    0   0   \n",
       "787   Generic Smartphone            6          Chrome Mobile    0   1   \n",
       "6955    Samsung SM-G975F            6               Facebook    0   0   \n",
       "7653  Generic Smartphone            6          Chrome Mobile    0   0   \n",
       "\n",
       "     BIO_option  \n",
       "1831      blank  \n",
       "2402      blank  \n",
       "787          no  \n",
       "6955      blank  \n",
       "7653      blank  "
      ]
     },
     "execution_count": 14,
     "metadata": {},
     "output_type": "execute_result"
    }
   ],
   "source": [
    "# create new variable to store the users' BIO option (yes, no, didn't answer)\n",
    "conditions = [\n",
    "    ((df.yes == 0) & (df.no == 0)),\n",
    "    ((df.yes == 1) & (df.no == 0)),\n",
    "    ((df.yes == 0) & (df.no == 1)),\n",
    "]\n",
    "\n",
    "choices = ['blank', 'yes', 'no']\n",
    "\n",
    "df['BIO_option'] = np.select(conditions, choices)\n",
    "df.sample(5)"
   ]
  },
  {
   "cell_type": "code",
   "execution_count": 15,
   "metadata": {},
   "outputs": [
    {
     "data": {
      "image/png": "[encoded data removed]",
      "text/plain": [
       "<Figure size 576x432 with 1 Axes>"
      ]
     },
     "metadata": {
      "needs_background": "light"
     },
     "output_type": "display_data"
    }
   ],
   "source": [
    "# previewing the distribution of BIO options per experimental group\n",
    "plt.figure(figsize = (8, 6))\n",
    "sns.countplot('experiment', hue = 'BIO_option', data = df)\n",
    "plt.title('BIO option by control group vs exposed group')\n",
    "plt.show()"
   ]
  },
  {
   "cell_type": "code",
   "execution_count": 16,
   "metadata": {},
   "outputs": [
    {
     "data": {
      "text/plain": [
       "(1243, 10)"
      ]
     },
     "execution_count": 16,
     "metadata": {},
     "output_type": "execute_result"
    }
   ],
   "source": [
    "# dropping users that didn't answer the questionnaire\n",
    "df = df[df.BIO_option != 'blank']\n",
    "df.shape"
   ]
  },
  {
   "cell_type": "markdown",
   "metadata": {},
   "source": [
    "# 4. Hypothesis Testing"
   ]
  },
  {
   "cell_type": "markdown",
   "metadata": {},
   "source": [
    "**Statistical Question:** Is there a significant lift in brand awareness between the control group and the exposed group?\n",
    "\n",
    "> H0 : There is no significant lift in brand awareness between the control group and the exposed group. <br>\n",
    "> HA : There is a significant lift in brand awareness between the control group and the exposed group.\n",
    "\n",
    "We will set the level of significance (alpha) to 5% (0.05)."
   ]
  },
  {
   "cell_type": "code",
   "execution_count": 17,
   "metadata": {},
   "outputs": [
    {
     "name": "stdout",
     "output_type": "stream",
     "text": [
      "P-value: 0.5188723218522058\n",
      "\n",
      "Failed to reject null hypothesis. There is no significant lift in brand awareness between the control group and the exposed group.\n"
     ]
    }
   ],
   "source": [
    "from scipy import stats\n",
    "\n",
    "control = df['experiment'] == 'control'\n",
    "control = df[control]['yes']\n",
    "exposed = df['experiment'] == 'exposed'\n",
    "exposed = df[exposed]['yes']\n",
    "\n",
    "test_statistic, p_value = stats.ttest_ind(exposed, control)\n",
    "print(\"P-value:\", p_value)\n",
    "print()\n",
    "\n",
    "alpha = 0.05\n",
    "\n",
    "if (p_value < alpha):\n",
    "    print(\"Null hypothesis rejected. There is a significant lift in brand awareness between the control group and the exposed group.\")\n",
    "else:\n",
    "    print(\"Failed to reject null hypothesis. There is no significant lift in brand awareness between the control group and the exposed group.\")"
   ]
  },
  {
   "cell_type": "markdown",
   "metadata": {},
   "source": [
    "# 5. Modeling"
   ]
  },
  {
   "cell_type": "code",
   "execution_count": 18,
   "metadata": {},
   "outputs": [
    {
     "data": {
      "text/html": [
       "<div>\n",
       "<style scoped>\n",
       "    .dataframe tbody tr th:only-of-type {\n",
       "        vertical-align: middle;\n",
       "    }\n",
       "\n",
       "    .dataframe tbody tr th {\n",
       "        vertical-align: top;\n",
       "    }\n",
       "\n",
       "    .dataframe thead th {\n",
       "        text-align: right;\n",
       "    }\n",
       "</style>\n",
       "<table border=\"1\" class=\"dataframe\">\n",
       "  <thead>\n",
       "    <tr style=\"text-align: right;\">\n",
       "      <th></th>\n",
       "      <th>auction_id</th>\n",
       "      <th>experiment</th>\n",
       "      <th>date</th>\n",
       "      <th>hour</th>\n",
       "      <th>device_make</th>\n",
       "      <th>platform_os</th>\n",
       "      <th>browser</th>\n",
       "      <th>yes</th>\n",
       "      <th>no</th>\n",
       "      <th>BIO_option</th>\n",
       "      <th>day</th>\n",
       "    </tr>\n",
       "  </thead>\n",
       "  <tbody>\n",
       "    <tr>\n",
       "      <th>4604</th>\n",
       "      <td>92b5d593-a8bf-49a0-9bc5-58b78fa5ae37</td>\n",
       "      <td>exposed</td>\n",
       "      <td>2020-07-08</td>\n",
       "      <td>12</td>\n",
       "      <td>Samsung SM-G610F</td>\n",
       "      <td>6</td>\n",
       "      <td>Chrome Mobile WebView</td>\n",
       "      <td>0</td>\n",
       "      <td>1</td>\n",
       "      <td>no</td>\n",
       "      <td>08</td>\n",
       "    </tr>\n",
       "    <tr>\n",
       "      <th>7566</th>\n",
       "      <td>efba938d-d81d-4d64-a4c3-2cc7656dcb4f</td>\n",
       "      <td>control</td>\n",
       "      <td>2020-07-08</td>\n",
       "      <td>21</td>\n",
       "      <td>Generic Smartphone</td>\n",
       "      <td>6</td>\n",
       "      <td>Chrome Mobile</td>\n",
       "      <td>1</td>\n",
       "      <td>0</td>\n",
       "      <td>yes</td>\n",
       "      <td>08</td>\n",
       "    </tr>\n",
       "    <tr>\n",
       "      <th>671</th>\n",
       "      <td>14db6b8d-4c4d-4543-a492-464861c1b1b8</td>\n",
       "      <td>control</td>\n",
       "      <td>2020-07-03</td>\n",
       "      <td>15</td>\n",
       "      <td>Generic Smartphone</td>\n",
       "      <td>6</td>\n",
       "      <td>Chrome Mobile</td>\n",
       "      <td>1</td>\n",
       "      <td>0</td>\n",
       "      <td>yes</td>\n",
       "      <td>03</td>\n",
       "    </tr>\n",
       "  </tbody>\n",
       "</table>\n",
       "</div>"
      ],
      "text/plain": [
       "                                auction_id experiment       date  hour  \\\n",
       "4604  92b5d593-a8bf-49a0-9bc5-58b78fa5ae37    exposed 2020-07-08    12   \n",
       "7566  efba938d-d81d-4d64-a4c3-2cc7656dcb4f    control 2020-07-08    21   \n",
       "671   14db6b8d-4c4d-4543-a492-464861c1b1b8    control 2020-07-03    15   \n",
       "\n",
       "             device_make  platform_os                browser  yes  no  \\\n",
       "4604    Samsung SM-G610F            6  Chrome Mobile WebView    0   1   \n",
       "7566  Generic Smartphone            6          Chrome Mobile    1   0   \n",
       "671   Generic Smartphone            6          Chrome Mobile    1   0   \n",
       "\n",
       "     BIO_option day  \n",
       "4604         no  08  \n",
       "7566        yes  08  \n",
       "671         yes  03  "
      ]
     },
     "execution_count": 18,
     "metadata": {},
     "output_type": "execute_result"
    }
   ],
   "source": [
    "# extract day from 'date'\n",
    "df['date'] =  pd.to_datetime(df['date'], format='%Y-%m-%d')\n",
    "df['day'] = df.date.dt.strftime('%d')\n",
    "df.sample(3)"
   ]
  },
  {
   "cell_type": "code",
   "execution_count": 19,
   "metadata": {},
   "outputs": [
    {
     "data": {
      "text/html": [
       "<div>\n",
       "<style scoped>\n",
       "    .dataframe tbody tr th:only-of-type {\n",
       "        vertical-align: middle;\n",
       "    }\n",
       "\n",
       "    .dataframe tbody tr th {\n",
       "        vertical-align: top;\n",
       "    }\n",
       "\n",
       "    .dataframe thead th {\n",
       "        text-align: right;\n",
       "    }\n",
       "</style>\n",
       "<table border=\"1\" class=\"dataframe\">\n",
       "  <thead>\n",
       "    <tr style=\"text-align: right;\">\n",
       "      <th></th>\n",
       "      <th>auction_id</th>\n",
       "      <th>experiment</th>\n",
       "      <th>date</th>\n",
       "      <th>hour</th>\n",
       "      <th>device_make</th>\n",
       "      <th>platform_os</th>\n",
       "      <th>browser</th>\n",
       "      <th>yes</th>\n",
       "      <th>no</th>\n",
       "      <th>BIO_option</th>\n",
       "      <th>day</th>\n",
       "    </tr>\n",
       "  </thead>\n",
       "  <tbody>\n",
       "    <tr>\n",
       "      <th>6436</th>\n",
       "      <td>cc35027c-4113-4b3d-809d-659083a91d13</td>\n",
       "      <td>1</td>\n",
       "      <td>2020-07-03</td>\n",
       "      <td>9</td>\n",
       "      <td>Generic Smartphone</td>\n",
       "      <td>6</td>\n",
       "      <td>Chrome Mobile</td>\n",
       "      <td>0</td>\n",
       "      <td>1</td>\n",
       "      <td>0</td>\n",
       "      <td>03</td>\n",
       "    </tr>\n",
       "    <tr>\n",
       "      <th>6320</th>\n",
       "      <td>c8debff5-48be-4a6e-9a6b-eab3d676bdb8</td>\n",
       "      <td>0</td>\n",
       "      <td>2020-07-05</td>\n",
       "      <td>10</td>\n",
       "      <td>Samsung SM-G960F</td>\n",
       "      <td>6</td>\n",
       "      <td>Chrome Mobile WebView</td>\n",
       "      <td>0</td>\n",
       "      <td>1</td>\n",
       "      <td>0</td>\n",
       "      <td>05</td>\n",
       "    </tr>\n",
       "    <tr>\n",
       "      <th>1728</th>\n",
       "      <td>392c7d83-0487-4bdb-bea2-f7639ea74aa6</td>\n",
       "      <td>0</td>\n",
       "      <td>2020-07-07</td>\n",
       "      <td>6</td>\n",
       "      <td>Generic Smartphone</td>\n",
       "      <td>6</td>\n",
       "      <td>Chrome Mobile</td>\n",
       "      <td>0</td>\n",
       "      <td>1</td>\n",
       "      <td>0</td>\n",
       "      <td>07</td>\n",
       "    </tr>\n",
       "  </tbody>\n",
       "</table>\n",
       "</div>"
      ],
      "text/plain": [
       "                                auction_id  experiment       date  hour  \\\n",
       "6436  cc35027c-4113-4b3d-809d-659083a91d13           1 2020-07-03     9   \n",
       "6320  c8debff5-48be-4a6e-9a6b-eab3d676bdb8           0 2020-07-05    10   \n",
       "1728  392c7d83-0487-4bdb-bea2-f7639ea74aa6           0 2020-07-07     6   \n",
       "\n",
       "             device_make  platform_os                browser  yes  no  \\\n",
       "6436  Generic Smartphone            6          Chrome Mobile    0   1   \n",
       "6320    Samsung SM-G960F            6  Chrome Mobile WebView    0   1   \n",
       "1728  Generic Smartphone            6          Chrome Mobile    0   1   \n",
       "\n",
       "      BIO_option day  \n",
       "6436           0  03  \n",
       "6320           0  05  \n",
       "1728           0  07  "
      ]
     },
     "execution_count": 19,
     "metadata": {},
     "output_type": "execute_result"
    }
   ],
   "source": [
    "# encoding the 'experiment' and 'BIO_option' variables\n",
    "from sklearn.preprocessing import LabelEncoder\n",
    "\n",
    "le_exp = LabelEncoder().fit(df.experiment.unique())\n",
    "exp_classes = le_exp.classes_\n",
    "df['experiment'] = le_exp.transform(df.experiment.values)\n",
    "\n",
    "le_bio = LabelEncoder().fit(df.BIO_option.unique())\n",
    "bio_classes = le_bio.classes_\n",
    "df['BIO_option'] = le_bio.transform(df.BIO_option.values)\n",
    "\n",
    "df.sample(3)"
   ]
  },
  {
   "cell_type": "code",
   "execution_count": 20,
   "metadata": {},
   "outputs": [
    {
     "name": "stdout",
     "output_type": "stream",
     "text": [
      "control\n",
      "exposed\n",
      "\n",
      "no\n",
      "yes\n"
     ]
    }
   ],
   "source": [
    "# getting the decoded values\n",
    "print(exp_classes[0])\n",
    "print(exp_classes[1])\n",
    "print()\n",
    "print(bio_classes[0])\n",
    "print(bio_classes[1])"
   ]
  },
  {
   "cell_type": "code",
   "execution_count": 21,
   "metadata": {},
   "outputs": [
    {
     "data": {
      "text/html": [
       "<div>\n",
       "<style scoped>\n",
       "    .dataframe tbody tr th:only-of-type {\n",
       "        vertical-align: middle;\n",
       "    }\n",
       "\n",
       "    .dataframe tbody tr th {\n",
       "        vertical-align: top;\n",
       "    }\n",
       "\n",
       "    .dataframe thead th {\n",
       "        text-align: right;\n",
       "    }\n",
       "</style>\n",
       "<table border=\"1\" class=\"dataframe\">\n",
       "  <thead>\n",
       "    <tr style=\"text-align: right;\">\n",
       "      <th></th>\n",
       "      <th>experiment</th>\n",
       "      <th>hour</th>\n",
       "      <th>BIO_option</th>\n",
       "      <th>day</th>\n",
       "    </tr>\n",
       "  </thead>\n",
       "  <tbody>\n",
       "    <tr>\n",
       "      <th>2453</th>\n",
       "      <td>1</td>\n",
       "      <td>15</td>\n",
       "      <td>0</td>\n",
       "      <td>09</td>\n",
       "    </tr>\n",
       "    <tr>\n",
       "      <th>2416</th>\n",
       "      <td>0</td>\n",
       "      <td>4</td>\n",
       "      <td>0</td>\n",
       "      <td>09</td>\n",
       "    </tr>\n",
       "    <tr>\n",
       "      <th>4830</th>\n",
       "      <td>1</td>\n",
       "      <td>14</td>\n",
       "      <td>1</td>\n",
       "      <td>04</td>\n",
       "    </tr>\n",
       "  </tbody>\n",
       "</table>\n",
       "</div>"
      ],
      "text/plain": [
       "      experiment  hour  BIO_option day\n",
       "2453           1    15           0  09\n",
       "2416           0     4           0  09\n",
       "4830           1    14           1  04"
      ]
     },
     "execution_count": 21,
     "metadata": {},
     "output_type": "execute_result"
    }
   ],
   "source": [
    "# dropping unneeded columns\n",
    "df.drop(columns = ['auction_id', 'date', 'device_make', 'platform_os', 'browser', 'yes', 'no'], \n",
    "        inplace = True)\n",
    "df.sample(3)"
   ]
  },
  {
   "cell_type": "code",
   "execution_count": 22,
   "metadata": {},
   "outputs": [],
   "source": [
    "# splitting into training and validation sets\n",
    "from sklearn.model_selection import train_test_split as tts\n",
    "\n",
    "X = df.drop(columns = ['BIO_option']).values\n",
    "y = df.BIO_option.values\n",
    "\n",
    "X_train, X_val, y_train, y_val = tts(X, y, test_size = 0.1, random_state = 0, stratify = y)"
   ]
  },
  {
   "cell_type": "markdown",
   "metadata": {},
   "source": [
    "### 5.1 Logistic Regression"
   ]
  },
  {
   "cell_type": "code",
   "execution_count": 23,
   "metadata": {},
   "outputs": [
    {
     "name": "stdout",
     "output_type": "stream",
     "text": [
      "              precision    recall  f1-score   support\n",
      "\n",
      "           0       0.57      0.93      0.70        67\n",
      "           1       0.69      0.19      0.30        58\n",
      "\n",
      "    accuracy                           0.58       125\n",
      "   macro avg       0.63      0.56      0.50       125\n",
      "weighted avg       0.62      0.58      0.52       125\n",
      "\n"
     ]
    }
   ],
   "source": [
    "from sklearn.linear_model import LogisticRegression\n",
    "\n",
    "lr = LogisticRegression(random_state = 0)\n",
    "lr.fit(X_train, y_train)\n",
    "lr_pred = lr.predict(X_val)\n",
    "\n",
    "from sklearn.metrics import classification_report\n",
    "print(classification_report(y_val, lr_pred))"
   ]
  },
  {
   "cell_type": "code",
   "execution_count": 24,
   "metadata": {},
   "outputs": [
    {
     "name": "stderr",
     "output_type": "stream",
     "text": [
      "/home/karenngugi/anaconda3/lib/python3.7/site-packages/sklearn/linear_model/_sag.py:330: ConvergenceWarning: The max_iter was reached which means the coef_ did not converge\n",
      "  \"the coef_ did not converge\", ConvergenceWarning)\n"
     ]
    },
    {
     "data": {
      "text/plain": [
       "{'C': 1, 'max_iter': 100, 'penalty': 'l1', 'solver': 'saga'}"
      ]
     },
     "execution_count": 24,
     "metadata": {},
     "output_type": "execute_result"
    }
   ],
   "source": [
    "# using Grid Search to find optimal hyperparameters\n",
    "from sklearn.model_selection import GridSearchCV\n",
    "\n",
    "lr_params = {\n",
    "    'solver' : ['liblinear', 'lbfgs', 'newton-cg', 'sag', 'saga'],\n",
    "    'penalty' : ['l1', 'l2'],\n",
    "    'C' : [1, 2, 3, 4, 5, 6, 7, 8, 9, 10],\n",
    "    'max_iter' : [100, 150, 200, 250, 300]\n",
    "}\n",
    "search = GridSearchCV(lr, lr_params, n_jobs = -1, scoring = 'accuracy')\n",
    "\n",
    "search.fit(X_train, y_train)\n",
    "best_parameters = search.best_params_\n",
    "best_parameters"
   ]
  },
  {
   "cell_type": "code",
   "execution_count": 25,
   "metadata": {},
   "outputs": [
    {
     "name": "stdout",
     "output_type": "stream",
     "text": [
      "              precision    recall  f1-score   support\n",
      "\n",
      "           0       0.58      0.96      0.72        67\n",
      "           1       0.79      0.19      0.31        58\n",
      "\n",
      "    accuracy                           0.60       125\n",
      "   macro avg       0.68      0.57      0.51       125\n",
      "weighted avg       0.67      0.60      0.53       125\n",
      "\n"
     ]
    },
    {
     "name": "stderr",
     "output_type": "stream",
     "text": [
      "/home/karenngugi/anaconda3/lib/python3.7/site-packages/sklearn/linear_model/_sag.py:330: ConvergenceWarning: The max_iter was reached which means the coef_ did not converge\n",
      "  \"the coef_ did not converge\", ConvergenceWarning)\n"
     ]
    }
   ],
   "source": [
    "# applying the optimal parameters to our model\n",
    "lr2 = LogisticRegression(\n",
    "    solver = best_parameters['solver'],\n",
    "    max_iter = best_parameters['max_iter'],\n",
    "    C = best_parameters['C'],\n",
    "    penalty = best_parameters['penalty'],\n",
    "    random_state = 0\n",
    ")\n",
    "\n",
    "lr2.fit(X_train, y_train)\n",
    "lr2_pred = lr2.predict(X_val)\n",
    "print(classification_report(y_val, lr2_pred))"
   ]
  },
  {
   "cell_type": "markdown",
   "metadata": {},
   "source": [
    "### 5.2 Decision Tree Classification"
   ]
  },
  {
   "cell_type": "code",
   "execution_count": 26,
   "metadata": {},
   "outputs": [
    {
     "name": "stdout",
     "output_type": "stream",
     "text": [
      "              precision    recall  f1-score   support\n",
      "\n",
      "           0       0.59      0.78      0.67        67\n",
      "           1       0.59      0.38      0.46        58\n",
      "\n",
      "    accuracy                           0.59       125\n",
      "   macro avg       0.59      0.58      0.57       125\n",
      "weighted avg       0.59      0.59      0.57       125\n",
      "\n"
     ]
    }
   ],
   "source": [
    "from sklearn.tree import DecisionTreeClassifier\n",
    "\n",
    "dt = DecisionTreeClassifier(random_state = 0)\n",
    "dt.fit(X_train, y_train)\n",
    "dt_pred = dt.predict(X_val)\n",
    "\n",
    "print(classification_report(y_val, dt_pred))"
   ]
  },
  {
   "cell_type": "code",
   "execution_count": 27,
   "metadata": {},
   "outputs": [
    {
     "data": {
      "text/plain": [
       "{'criterion': 'gini',\n",
       " 'max_depth': 50,\n",
       " 'min_samples_leaf': 2,\n",
       " 'splitter': 'best'}"
      ]
     },
     "execution_count": 27,
     "metadata": {},
     "output_type": "execute_result"
    }
   ],
   "source": [
    "# using Grid Search to find optimal hyperparameters\n",
    "dt_params = {\n",
    "    'criterion' : ['gini', 'entropy'],\n",
    "    'splitter' : ['best', 'random'],\n",
    "    'max_depth' : [50, 100, 150, 200, 250, 300, 350, 400, 450, 500],\n",
    "    'min_samples_leaf' : [2, 4, 6, 8, 10, 12, 14, 16, 18, 20]\n",
    "}\n",
    "search = GridSearchCV(dt, dt_params, n_jobs = -1, scoring = 'accuracy')\n",
    "\n",
    "search.fit(X_train, y_train)\n",
    "best_parameters = search.best_params_\n",
    "best_parameters"
   ]
  },
  {
   "cell_type": "code",
   "execution_count": 28,
   "metadata": {},
   "outputs": [
    {
     "name": "stdout",
     "output_type": "stream",
     "text": [
      "              precision    recall  f1-score   support\n",
      "\n",
      "           0       0.57      0.81      0.67        67\n",
      "           1       0.57      0.29      0.39        58\n",
      "\n",
      "    accuracy                           0.57       125\n",
      "   macro avg       0.57      0.55      0.53       125\n",
      "weighted avg       0.57      0.57      0.54       125\n",
      "\n"
     ]
    }
   ],
   "source": [
    "# applying the optimal parameters to our model\n",
    "dt2 = DecisionTreeClassifier(\n",
    "    criterion = best_parameters['criterion'],\n",
    "    max_depth = best_parameters['max_depth'],\n",
    "    min_samples_leaf = best_parameters['min_samples_leaf'],\n",
    "    splitter = best_parameters['splitter'],\n",
    "    random_state = 0\n",
    ")\n",
    "dt2.fit(X_train, y_train)\n",
    "dt2_pred = dt2.predict(X_val)\n",
    "print(classification_report(y_val, dt2_pred))"
   ]
  },
  {
   "cell_type": "markdown",
   "metadata": {},
   "source": [
    "### 5.3 XG Boost Classification"
   ]
  },
  {
   "cell_type": "code",
   "execution_count": 29,
   "metadata": {},
   "outputs": [
    {
     "name": "stdout",
     "output_type": "stream",
     "text": [
      "              precision    recall  f1-score   support\n",
      "\n",
      "           0       0.60      0.69      0.64        67\n",
      "           1       0.56      0.47      0.51        58\n",
      "\n",
      "    accuracy                           0.58       125\n",
      "   macro avg       0.58      0.58      0.57       125\n",
      "weighted avg       0.58      0.58      0.58       125\n",
      "\n"
     ]
    }
   ],
   "source": [
    "from xgboost import XGBClassifier\n",
    "\n",
    "xgb = XGBClassifier(random_state = 0)\n",
    "xgb.fit(X_train, y_train)\n",
    "xgb_pred = xgb.predict(X_val)\n",
    "print(classification_report(y_val, xgb_pred))"
   ]
  },
  {
   "cell_type": "code",
   "execution_count": 30,
   "metadata": {},
   "outputs": [
    {
     "name": "stdout",
     "output_type": "stream",
     "text": [
      "[19:43:31] WARNING: /workspace/src/learner.cc:480: \n",
      "Parameters: { colsample_bylevel, colsample_bynode, colsample_bytree, gamma, interaction_constraints, max_delta_step, max_depth, min_child_weight, monotone_constraints, num_parallel_tree, subsample, tree_method } might not be used.\n",
      "\n",
      "  This may not be accurate due to some parameters are only used in language bindings but\n",
      "  passed down to XGBoost core.  Or some parameters are not used but slip through this\n",
      "  verification. Please open an issue if you find above cases.\n",
      "\n",
      "\n"
     ]
    },
    {
     "data": {
      "text/plain": [
       "{'booster': 'gblinear', 'learning_rate': 0.3, 'max_depth': 50}"
      ]
     },
     "execution_count": 30,
     "metadata": {},
     "output_type": "execute_result"
    }
   ],
   "source": [
    "# using Grid Search to find optimal hyperparameters\n",
    "xgb_params = {\n",
    "    'max_depth' : [50, 100, 150, 200, 250, 300, 350, 400, 450, 500],\n",
    "    'learning_rate' : [0.1, 0.2, 0.3, 0.4, 0.5, 0.6, 0.7, 0.8, 0.9],\n",
    "    'booster' : ['gbtree', 'gblinear', 'dart']\n",
    "}\n",
    "search = GridSearchCV(xgb, xgb_params, n_jobs = -1, scoring = 'accuracy')\n",
    "\n",
    "search.fit(X_train, y_train)\n",
    "best_parameters = search.best_params_\n",
    "best_parameters"
   ]
  },
  {
   "cell_type": "code",
   "execution_count": 31,
   "metadata": {},
   "outputs": [
    {
     "name": "stdout",
     "output_type": "stream",
     "text": [
      "[19:43:31] WARNING: /workspace/src/learner.cc:480: \n",
      "Parameters: { max_depth } might not be used.\n",
      "\n",
      "  This may not be accurate due to some parameters are only used in language bindings but\n",
      "  passed down to XGBoost core.  Or some parameters are not used but slip through this\n",
      "  verification. Please open an issue if you find above cases.\n",
      "\n",
      "\n",
      "              precision    recall  f1-score   support\n",
      "\n",
      "           0       0.57      0.96      0.72        67\n",
      "           1       0.77      0.17      0.28        58\n",
      "\n",
      "    accuracy                           0.59       125\n",
      "   macro avg       0.67      0.56      0.50       125\n",
      "weighted avg       0.66      0.59      0.51       125\n",
      "\n"
     ]
    }
   ],
   "source": [
    "# applying the optimal parameters to our model\n",
    "xgb2 = XGBClassifier(\n",
    "    max_depth = best_parameters['max_depth'],\n",
    "    booster = best_parameters['booster'],\n",
    "    learning_rate = best_parameters['learning_rate'],\n",
    "    random_state = 0\n",
    ")\n",
    "\n",
    "xgb2.fit(X_train, y_train)\n",
    "xgb2_pred = xgb2.predict(X_val)\n",
    "print(classification_report(y_val, xgb2_pred))"
   ]
  },
  {
   "cell_type": "code",
   "execution_count": 32,
   "metadata": {},
   "outputs": [
    {
     "name": "stdout",
     "output_type": "stream",
     "text": [
      "absl-py==0.9.0\n",
      "alabaster==0.7.12\n",
      "altair==4.1.0\n",
      "anaconda-client==1.7.2\n",
      "anaconda-navigator==1.9.12\n",
      "anaconda-project==0.8.3\n",
      "aniso8601==8.0.0\n",
      "appdirs==1.4.4\n",
      "asgiref==3.2.7\n",
      "asn1crypto==1.3.0\n",
      "astor==0.8.1\n",
      "astroid==2.3.3\n",
      "astropy==4.0.1.post1\n",
      "async-generator==1.10\n",
      "atomicwrites==1.3.0\n",
      "attrs==19.3.0\n",
      "Babel==2.8.0\n",
      "backcall==0.1.0\n",
      "backports.functools-lru-cache==1.6.1\n",
      "backports.os==0.1.1\n",
      "backports.shutil-get-terminal-size==1.0.0\n",
      "backports.tempfile==1.0\n",
      "backports.weakref==1.0.post1\n",
      "base58==2.0.0\n",
      "beautifulsoup4==4.9.0\n",
      "bitarray==1.2.1\n",
      "bkcharts==0.2\n",
      "bleach==3.1.4\n",
      "blinker==1.4\n",
      "bokeh==2.0.1\n",
      "boto==2.49.0\n",
      "boto3==1.12.39\n",
      "botocore==1.15.39\n",
      "Bottleneck==1.2.1\n",
      "bs4==0.0.1\n",
      "cachetools==4.1.0\n",
      "certifi==2020.4.5.1\n",
      "cffi==1.14.0\n",
      "chardet==3.0.4\n",
      "click==7.1.1\n",
      "cloudpickle==1.3.0\n",
      "clyent==1.2.2\n",
      "colorama==0.4.3\n",
      "colorlover==0.3.0\n",
      "conda==4.8.2\n",
      "conda-build==3.18.9\n",
      "conda-package-handling==1.6.0\n",
      "conda-verify==3.4.2\n",
      "configparser==5.0.0\n",
      "confuse==1.3.0\n",
      "contextlib2==0.6.0.post1\n",
      "coverage==5.0.4\n",
      "cryptography==2.9\n",
      "cssselect==1.1.0\n",
      "cufflinks==0.17.3\n",
      "cycler==0.10.0\n",
      "Cython==0.29.16\n",
      "cytoolz==0.10.1\n",
      "dask==2.14.0\n",
      "DateTools==1.1\n",
      "decorator==4.4.2\n",
      "defusedxml==0.6.0\n",
      "distributed==2.14.0\n",
      "Django==3.0.6\n",
      "docutils==0.15.2\n",
      "entrypoints==0.3\n",
      "enum-compat==0.0.3\n",
      "et-xmlfile==1.0.1\n",
      "factor-analyzer==0.3.2\n",
      "fake-useragent==0.1.11\n",
      "fastcache==1.1.0\n",
      "filelock==3.0.12\n",
      "fire==0.3.1\n",
      "Flask==1.1.2\n",
      "Flask-RESTful==0.3.8\n",
      "Flask-SQLAlchemy==2.4.3\n",
      "fsspec==0.7.2\n",
      "future==0.18.2\n",
      "fxcmpy==1.2.6\n",
      "gast==0.2.2\n",
      "gevent==1.4.0\n",
      "glob2==0.7\n",
      "gmpy2==2.0.8\n",
      "google-api-core==1.22.0\n",
      "google-api-python-client==1.10.0\n",
      "google-auth==1.20.1\n",
      "google-auth-httplib2==0.0.4\n",
      "google-auth-oauthlib==0.4.1\n",
      "google-pasta==0.2.0\n",
      "googleapis-common-protos==1.52.0\n",
      "greenlet==0.4.15\n",
      "grpcio==1.28.1\n",
      "h5py==2.10.0\n",
      "HeapDict==1.0.1\n",
      "html5lib==1.0.1\n",
      "htmlmin==0.1.12\n",
      "httplib2==0.18.1\n",
      "hyperopt==0.2.4\n",
      "hypothesis==5.8.0\n",
      "idna==2.8\n",
      "ImageHash==4.1.0\n",
      "imageio==2.8.0\n",
      "imagesize==1.2.0\n",
      "importlib-metadata==1.6.0\n",
      "inflection==0.4.0\n",
      "ipykernel==5.2.0\n",
      "ipython==7.13.0\n",
      "ipython-genutils==0.2.0\n",
      "ipython-sql==0.4.0\n",
      "ipywidgets==7.5.1\n",
      "isort==4.3.21\n",
      "itsdangerous==1.1.0\n",
      "jdcal==1.4.1\n",
      "jedi==0.16.0\n",
      "jeepney==0.4.3\n",
      "Jinja2==2.11.1\n",
      "jmespath==0.9.5\n",
      "joblib==0.14.1\n",
      "json5==0.9.4\n",
      "jsonschema==3.2.0\n",
      "jupyter==1.0.0\n",
      "jupyter-client==6.1.2\n",
      "jupyter-console==6.1.0\n",
      "jupyter-core==4.6.3\n",
      "jupyter-server==0.2.1\n",
      "jupyterlab==2.1.0\n",
      "jupyterlab-pygments==0.1.0\n",
      "jupyterlab-server==1.1.0\n",
      "Keras-Applications==1.0.8\n",
      "Keras-Preprocessing==1.1.0\n",
      "keyring==21.2.0\n",
      "kiwisolver==1.2.0\n",
      "lazy-object-proxy==1.4.3\n",
      "libarchive-c==2.9\n",
      "lief==0.10.1\n",
      "llvmlite==0.29.0\n",
      "locket==0.2.0\n",
      "lxml==4.5.0\n",
      "Markdown==3.2.1\n",
      "MarkupSafe==1.1.1\n",
      "matplotlib==3.2.1\n",
      "mccabe==0.6.1\n",
      "MechanicalSoup==0.12.0\n",
      "missingno==0.4.2\n",
      "mistune==0.8.4\n",
      "mkl-fft==1.0.14\n",
      "mkl-random==1.1.0\n",
      "mkl-service==2.3.0\n",
      "mlxtend==0.17.3\n",
      "mock==4.0.2\n",
      "more-itertools==8.2.0\n",
      "mpmath==1.1.0\n",
      "msgpack==1.0.0\n",
      "multipledispatch==0.6.0\n",
      "navigator-updater==0.2.1\n",
      "nbconvert==5.6.1\n",
      "nbformat==5.0.5\n",
      "networkx==2.4\n",
      "nltk==3.4.5\n",
      "nose==1.3.7\n",
      "notebook==6.0.3\n",
      "numba==0.45.1\n",
      "numexpr==2.7.1\n",
      "numpy==1.18.2\n",
      "numpydoc==0.9.2\n",
      "oauth2client==4.1.3\n",
      "oauthlib==3.1.0\n",
      "olefile==0.46\n",
      "openpyxl==3.0.3\n",
      "opt-einsum==3.2.1\n",
      "packaging==20.3\n",
      "pandas==1.1.0\n",
      "pandas-datareader==0.8.1\n",
      "pandas-profiling @ https://github.com/pandas-profiling/pandas-profiling/archive/master.zip\n",
      "pandocfilters==1.4.2\n",
      "parse==1.15.0\n",
      "parso==0.6.2\n",
      "partd==1.1.0\n",
      "path==13.1.0\n",
      "path.py==12.4.0\n",
      "pathlib2==2.3.5\n",
      "pathtools==0.1.2\n",
      "patsy==0.5.1\n",
      "pep8==1.7.1\n",
      "pexpect==4.8.0\n",
      "phik==0.10.0\n",
      "pickleshare==0.7.5\n",
      "Pillow==7.1.1\n",
      "pkginfo==1.5.0.1\n",
      "plotly==4.6.0\n",
      "pluggy==0.13.1\n",
      "ply==3.11\n",
      "prettytable==0.7.2\n",
      "prometheus-client==0.7.1\n",
      "prompt-toolkit==3.0.5\n",
      "protobuf==3.12.4\n",
      "psutil==5.7.0\n",
      "ptyprocess==0.6.0\n",
      "py==1.8.1\n",
      "pyasn1==0.4.8\n",
      "pyasn1-modules==0.2.8\n",
      "pycodestyle==2.5.0\n",
      "pycosat==0.6.3\n",
      "pycparser==2.20\n",
      "pycrypto==2.6.1\n",
      "pycurl==7.43.0.3\n",
      "pydeck==0.3.0b3\n",
      "PyDrive==1.3.1\n",
      "pyee==7.0.2\n",
      "pyflakes==2.1.1\n",
      "Pygments==2.6.1\n",
      "pylint==2.4.4\n",
      "pyodbc==4.0.30\n",
      "pyOpenSSL==19.1.0\n",
      "pyparsing==2.4.7\n",
      "pypi==2.1\n",
      "pyppeteer==0.2.2\n",
      "pyquery==1.4.1\n",
      "pyrsistent==0.16.0\n",
      "PySocks==1.7.1\n",
      "pytest==5.4.1\n",
      "pytest-arraydiff==0.3\n",
      "pytest-astropy==0.8.0\n",
      "pytest-astropy-header==0.1.2\n",
      "pytest-cov==2.8.1\n",
      "pytest-doctestplus==0.5.0\n",
      "pytest-filter-subpackage==0.1.1\n",
      "pytest-openfiles==0.4.0\n",
      "pytest-remotedata==0.3.2\n",
      "python-dateutil==2.8.1\n",
      "python-engineio==3.12.1\n",
      "python-socketio==4.5.1\n",
      "pytz==2019.3\n",
      "PyWavelets==1.1.1\n",
      "PyYAML==5.1.2\n",
      "pyzmq==19.0.0\n",
      "QtAwesome==0.7.0\n",
      "qtconsole==4.7.2\n",
      "QtPy==1.9.0\n",
      "Quandl==3.5.0\n",
      "rarfile==3.1\n",
      "requests==2.23.0\n",
      "requests-html==0.10.0\n",
      "requests-oauthlib==1.3.0\n",
      "researchpy==0.1.9\n",
      "retrying==1.3.3\n",
      "rope==0.16.0\n",
      "rsa==4.0\n",
      "ruamel-yaml==0.15.46\n",
      "ruamel.yaml.clib==0.2.0\n",
      "s3transfer==0.3.3\n",
      "scikit-image==0.16.2\n",
      "scikit-learn==0.22.2.post1\n",
      "scipy==1.4.1\n",
      "seaborn==0.10.0\n",
      "SecretStorage==3.1.2\n",
      "selenium==3.141.0\n",
      "Send2Trash==1.5.0\n",
      "simplegeneric==0.8.1\n",
      "singledispatch==3.4.0.3\n",
      "six==1.14.0\n",
      "sklearn==0.0\n",
      "snowballstemmer==2.0.0\n",
      "socketIO-client==0.7.2\n",
      "sortedcollections==1.1.2\n",
      "sortedcontainers==2.1.0\n",
      "soupsieve==2.0\n",
      "Sphinx==3.0.0\n",
      "sphinxcontrib-applehelp==1.0.2\n",
      "sphinxcontrib-devhelp==1.0.2\n",
      "sphinxcontrib-htmlhelp==1.0.3\n",
      "sphinxcontrib-jsmath==1.0.1\n",
      "sphinxcontrib-qthelp==1.0.3\n",
      "sphinxcontrib-serializinghtml==1.1.4\n",
      "sphinxcontrib-websupport==1.2.1\n",
      "spyder==3.3.6\n",
      "spyder-kernels==1.9.0\n",
      "SQLAlchemy==1.3.16\n",
      "sqlparse==0.3.1\n",
      "statsmodels==0.11.1\n",
      "streamlit==0.57.3\n",
      "sympy==1.5.1\n",
      "tables==3.6.1\n",
      "tangled-up-in-unicode==0.0.6\n",
      "tblib==1.6.0\n",
      "tensorboard==2.1.1\n",
      "tensorflow==2.1.0\n",
      "tensorflow-estimator==2.1.0\n",
      "termcolor==1.1.0\n",
      "terminado==0.8.2\n",
      "testpath==0.4.4\n",
      "textblob==0.15.3\n",
      "toml==0.10.0\n",
      "toolz==0.10.0\n",
      "tornado==6.0.4\n",
      "tqdm==4.45.0\n",
      "traitlets==4.3.3\n",
      "tweepy==3.8.0\n",
      "tweet-preprocessor==0.6.0\n",
      "twitter-scraper==0.4.2\n",
      "typed-ast==1.4.1\n",
      "typing-extensions==3.7.4.2\n",
      "tzlocal==2.0.0\n",
      "unicodecsv==0.14.1\n",
      "uritemplate==3.0.1\n",
      "urllib3==1.25.8\n",
      "validators==0.14.3\n",
      "visions==0.4.4\n",
      "voila==0.1.21\n",
      "w3lib==1.22.0\n",
      "watchdog==0.10.2\n",
      "wcwidth==0.1.9\n",
      "webencodings==0.5.1\n",
      "websocket-client==0.57.0\n",
      "websockets==8.1\n",
      "Werkzeug==1.0.1\n",
      "widgetsnbextension==3.5.1\n",
      "wrapt==1.12.1\n",
      "wurlitzer==2.0.0\n",
      "xgboost==1.1.1\n",
      "xlrd==1.2.0\n",
      "XlsxWriter==1.2.8\n",
      "xlwt==1.3.0\n",
      "xmltodict==0.12.0\n",
      "zict==2.0.0\n",
      "zipp==3.1.0\n"
     ]
    }
   ],
   "source": [
    "# get requirements\n",
    "!pip freeze requirements.txt"
   ]
  }
 ],
 "metadata": {
  "kernelspec": {
   "display_name": "Python 3",
   "language": "python",
   "name": "python3"
  },
  "language_info": {
   "codemirror_mode": {
    "name": "ipython",
    "version": 3
   },
   "file_extension": ".py",
   "mimetype": "text/x-python",
   "name": "python",
   "nbconvert_exporter": "python",
   "pygments_lexer": "ipython3",
   "version": "3.7.4"
  }
 },
 "nbformat": 4,
 "nbformat_minor": 4
}
