{
 "cells": [
  {
   "cell_type": "markdown",
   "metadata": {},
   "source": [
    "# 1. Introduction"
   ]
  },
  {
   "cell_type": "markdown",
   "metadata": {},
   "source": [
    "Task 3. 1 - Aggregate, per customer, the following information (treat missing & outliers by replacing by the mean or the mode of the corresponding variable) -(jupyter notebook):\n",
    "- Average TCP retransmission\n",
    "- Average RTT\n",
    "- Handset type\n",
    "- Average throughput\n",
    "\n",
    "Task 3.2 - Compute & list 10 of the top, bottom and most frequent - (jupyter notebook + slide ):\n",
    "- a. TCP values in the dataset.\n",
    "- b. RTT values in the dataset.\n",
    "- c. Throughput values in the dataset.\n",
    "\n",
    "Task 3.3 - Compute & report - (jupyter notebook + slide ):\n",
    "- d. The distribution of the average throughput per handset type and provide interpretation for your findings.\n",
    "- e. The average TCP retransmission view per handset type and provide interpretation for your findings.\n",
    "\n",
    "Task 3.4 - Using the experience metrics above, perform a k-means clustering (where k = 3) to segment users into groups of experiences and provide a brief description of each cluster. - (jupyter notebook + slide)"
   ]
  },
  {
   "cell_type": "markdown",
   "metadata": {},
   "source": [
    "# 2. Data Preparation"
   ]
  },
  {
   "cell_type": "code",
   "execution_count": 18,
   "metadata": {},
   "outputs": [],
   "source": [
    "# loading libraries and setting up\n",
    "import pandas as pd\n",
    "import numpy as np\n",
    "import matplotlib.pyplot as plt\n",
    "import seaborn as sns\n",
    "\n",
    "%matplotlib inline\n",
    "pd.set_option(\"display.max.columns\", None)"
   ]
  },
  {
   "cell_type": "code",
   "execution_count": 19,
   "metadata": {},
   "outputs": [
    {
     "data": {
      "text/html": [
       "<div>\n",
       "<style scoped>\n",
       "    .dataframe tbody tr th:only-of-type {\n",
       "        vertical-align: middle;\n",
       "    }\n",
       "\n",
       "    .dataframe tbody tr th {\n",
       "        vertical-align: top;\n",
       "    }\n",
       "\n",
       "    .dataframe thead th {\n",
       "        text-align: right;\n",
       "    }\n",
       "</style>\n",
       "<table border=\"1\" class=\"dataframe\">\n",
       "  <thead>\n",
       "    <tr style=\"text-align: right;\">\n",
       "      <th></th>\n",
       "      <th>Bearer Id</th>\n",
       "      <th>IMSI</th>\n",
       "      <th>MSISDN/Number</th>\n",
       "      <th>IMEI</th>\n",
       "      <th>Last Location Name</th>\n",
       "      <th>Avg RTT DL (ms)</th>\n",
       "      <th>Avg RTT UL (ms)</th>\n",
       "      <th>Avg Bearer TP DL (kbps)</th>\n",
       "      <th>Avg Bearer TP UL (kbps)</th>\n",
       "      <th>TCP DL Retrans. Vol (Bytes)</th>\n",
       "      <th>TCP UL Retrans. Vol (Bytes)</th>\n",
       "      <th>HTTP DL (Bytes)</th>\n",
       "      <th>HTTP UL (Bytes)</th>\n",
       "      <th>Activity Duration DL (ms)</th>\n",
       "      <th>Activity Duration UL (ms)</th>\n",
       "      <th>Dur. (ms).1</th>\n",
       "      <th>Handset Manufacturer</th>\n",
       "      <th>Handset Type</th>\n",
       "      <th>Social Media DL (Bytes)</th>\n",
       "      <th>Social Media UL (Bytes)</th>\n",
       "      <th>Google DL (Bytes)</th>\n",
       "      <th>Google UL (Bytes)</th>\n",
       "      <th>Email DL (Bytes)</th>\n",
       "      <th>Email UL (Bytes)</th>\n",
       "      <th>Youtube DL (Bytes)</th>\n",
       "      <th>Youtube UL (Bytes)</th>\n",
       "      <th>Netflix DL (Bytes)</th>\n",
       "      <th>Netflix UL (Bytes)</th>\n",
       "      <th>Gaming DL (Bytes)</th>\n",
       "      <th>Gaming UL (Bytes)</th>\n",
       "      <th>Other DL (Bytes)</th>\n",
       "      <th>Other UL (Bytes)</th>\n",
       "      <th>Total UL (Bytes)</th>\n",
       "      <th>Total DL (Bytes)</th>\n",
       "    </tr>\n",
       "  </thead>\n",
       "  <tbody>\n",
       "    <tr>\n",
       "      <th>0</th>\n",
       "      <td>13114483460844900352</td>\n",
       "      <td>2.082014e+14</td>\n",
       "      <td>3.366496e+10</td>\n",
       "      <td>3.552121e+13</td>\n",
       "      <td>9164566995485190</td>\n",
       "      <td>42.000000</td>\n",
       "      <td>5.000000</td>\n",
       "      <td>23.0</td>\n",
       "      <td>44.0</td>\n",
       "      <td>2.080991e+07</td>\n",
       "      <td>759658.664811</td>\n",
       "      <td>1.144710e+08</td>\n",
       "      <td>3.242301e+06</td>\n",
       "      <td>37624.0</td>\n",
       "      <td>38787.0</td>\n",
       "      <td>1.823653e+09</td>\n",
       "      <td>Samsung</td>\n",
       "      <td>Samsung Galaxy A5 Sm-A520F</td>\n",
       "      <td>1545765.0</td>\n",
       "      <td>24420.0</td>\n",
       "      <td>1634479.0</td>\n",
       "      <td>1271433.0</td>\n",
       "      <td>3563542.0</td>\n",
       "      <td>137762.0</td>\n",
       "      <td>15854611.0</td>\n",
       "      <td>2501332.0</td>\n",
       "      <td>8198936.0</td>\n",
       "      <td>9656251.0</td>\n",
       "      <td>278082303.0</td>\n",
       "      <td>14344150.0</td>\n",
       "      <td>171744450.0</td>\n",
       "      <td>8814393.0</td>\n",
       "      <td>36749741.0</td>\n",
       "      <td>308879636.0</td>\n",
       "    </tr>\n",
       "    <tr>\n",
       "      <th>1</th>\n",
       "      <td>13114483482878900224</td>\n",
       "      <td>2.082019e+14</td>\n",
       "      <td>3.368185e+10</td>\n",
       "      <td>3.579401e+13</td>\n",
       "      <td>L77566A</td>\n",
       "      <td>65.000000</td>\n",
       "      <td>5.000000</td>\n",
       "      <td>16.0</td>\n",
       "      <td>26.0</td>\n",
       "      <td>2.080991e+07</td>\n",
       "      <td>759658.664811</td>\n",
       "      <td>1.144710e+08</td>\n",
       "      <td>3.242301e+06</td>\n",
       "      <td>168.0</td>\n",
       "      <td>3560.0</td>\n",
       "      <td>1.365104e+09</td>\n",
       "      <td>Samsung</td>\n",
       "      <td>Samsung Galaxy J5 (Sm-J530)</td>\n",
       "      <td>1926113.0</td>\n",
       "      <td>7165.0</td>\n",
       "      <td>3493924.0</td>\n",
       "      <td>920172.0</td>\n",
       "      <td>629046.0</td>\n",
       "      <td>308339.0</td>\n",
       "      <td>20247395.0</td>\n",
       "      <td>19111729.0</td>\n",
       "      <td>18338413.0</td>\n",
       "      <td>17227132.0</td>\n",
       "      <td>608750074.0</td>\n",
       "      <td>1170709.0</td>\n",
       "      <td>526904238.0</td>\n",
       "      <td>15055145.0</td>\n",
       "      <td>53800391.0</td>\n",
       "      <td>653384965.0</td>\n",
       "    </tr>\n",
       "    <tr>\n",
       "      <th>2</th>\n",
       "      <td>13114483484080500736</td>\n",
       "      <td>2.082003e+14</td>\n",
       "      <td>3.376063e+10</td>\n",
       "      <td>3.528151e+13</td>\n",
       "      <td>D42335A</td>\n",
       "      <td>109.795706</td>\n",
       "      <td>17.662883</td>\n",
       "      <td>6.0</td>\n",
       "      <td>9.0</td>\n",
       "      <td>2.080991e+07</td>\n",
       "      <td>759658.664811</td>\n",
       "      <td>1.144710e+08</td>\n",
       "      <td>3.242301e+06</td>\n",
       "      <td>0.0</td>\n",
       "      <td>0.0</td>\n",
       "      <td>1.361763e+09</td>\n",
       "      <td>Samsung</td>\n",
       "      <td>Samsung Galaxy A8 (2018)</td>\n",
       "      <td>1684053.0</td>\n",
       "      <td>42224.0</td>\n",
       "      <td>8535055.0</td>\n",
       "      <td>1694064.0</td>\n",
       "      <td>2690151.0</td>\n",
       "      <td>672973.0</td>\n",
       "      <td>19725661.0</td>\n",
       "      <td>14699576.0</td>\n",
       "      <td>17587794.0</td>\n",
       "      <td>6163408.0</td>\n",
       "      <td>229584621.0</td>\n",
       "      <td>395630.0</td>\n",
       "      <td>410692588.0</td>\n",
       "      <td>4215763.0</td>\n",
       "      <td>27883638.0</td>\n",
       "      <td>279807335.0</td>\n",
       "    </tr>\n",
       "    <tr>\n",
       "      <th>3</th>\n",
       "      <td>13114483485442799616</td>\n",
       "      <td>2.082014e+14</td>\n",
       "      <td>3.375034e+10</td>\n",
       "      <td>3.535661e+13</td>\n",
       "      <td>T21824A</td>\n",
       "      <td>109.795706</td>\n",
       "      <td>17.662883</td>\n",
       "      <td>44.0</td>\n",
       "      <td>44.0</td>\n",
       "      <td>2.080991e+07</td>\n",
       "      <td>759658.664811</td>\n",
       "      <td>1.144710e+08</td>\n",
       "      <td>3.242301e+06</td>\n",
       "      <td>3330.0</td>\n",
       "      <td>37882.0</td>\n",
       "      <td>1.321510e+09</td>\n",
       "      <td>undefined</td>\n",
       "      <td>undefined</td>\n",
       "      <td>644121.0</td>\n",
       "      <td>13372.0</td>\n",
       "      <td>9023734.0</td>\n",
       "      <td>2788027.0</td>\n",
       "      <td>1439754.0</td>\n",
       "      <td>631229.0</td>\n",
       "      <td>21388122.0</td>\n",
       "      <td>15146643.0</td>\n",
       "      <td>13994646.0</td>\n",
       "      <td>1097942.0</td>\n",
       "      <td>799538153.0</td>\n",
       "      <td>10849722.0</td>\n",
       "      <td>749039933.0</td>\n",
       "      <td>12797283.0</td>\n",
       "      <td>43324218.0</td>\n",
       "      <td>846028530.0</td>\n",
       "    </tr>\n",
       "    <tr>\n",
       "      <th>4</th>\n",
       "      <td>13114483499480700928</td>\n",
       "      <td>2.082014e+14</td>\n",
       "      <td>3.369980e+10</td>\n",
       "      <td>3.540701e+13</td>\n",
       "      <td>D88865A</td>\n",
       "      <td>109.795706</td>\n",
       "      <td>17.662883</td>\n",
       "      <td>6.0</td>\n",
       "      <td>9.0</td>\n",
       "      <td>2.080991e+07</td>\n",
       "      <td>759658.664811</td>\n",
       "      <td>1.144710e+08</td>\n",
       "      <td>3.242301e+06</td>\n",
       "      <td>0.0</td>\n",
       "      <td>0.0</td>\n",
       "      <td>1.089009e+09</td>\n",
       "      <td>Samsung</td>\n",
       "      <td>Samsung Sm-G390F</td>\n",
       "      <td>862600.0</td>\n",
       "      <td>50188.0</td>\n",
       "      <td>6248284.0</td>\n",
       "      <td>1500559.0</td>\n",
       "      <td>1936496.0</td>\n",
       "      <td>173853.0</td>\n",
       "      <td>15259380.0</td>\n",
       "      <td>18962873.0</td>\n",
       "      <td>17124581.0</td>\n",
       "      <td>415218.0</td>\n",
       "      <td>527707248.0</td>\n",
       "      <td>3529801.0</td>\n",
       "      <td>550709500.0</td>\n",
       "      <td>13910322.0</td>\n",
       "      <td>38542814.0</td>\n",
       "      <td>569138589.0</td>\n",
       "    </tr>\n",
       "  </tbody>\n",
       "</table>\n",
       "</div>"
      ],
      "text/plain": [
       "              Bearer Id          IMSI  MSISDN/Number          IMEI  \\\n",
       "0  13114483460844900352  2.082014e+14   3.366496e+10  3.552121e+13   \n",
       "1  13114483482878900224  2.082019e+14   3.368185e+10  3.579401e+13   \n",
       "2  13114483484080500736  2.082003e+14   3.376063e+10  3.528151e+13   \n",
       "3  13114483485442799616  2.082014e+14   3.375034e+10  3.535661e+13   \n",
       "4  13114483499480700928  2.082014e+14   3.369980e+10  3.540701e+13   \n",
       "\n",
       "  Last Location Name  Avg RTT DL (ms)  Avg RTT UL (ms)  \\\n",
       "0   9164566995485190        42.000000         5.000000   \n",
       "1            L77566A        65.000000         5.000000   \n",
       "2            D42335A       109.795706        17.662883   \n",
       "3            T21824A       109.795706        17.662883   \n",
       "4            D88865A       109.795706        17.662883   \n",
       "\n",
       "   Avg Bearer TP DL (kbps)  Avg Bearer TP UL (kbps)  \\\n",
       "0                     23.0                     44.0   \n",
       "1                     16.0                     26.0   \n",
       "2                      6.0                      9.0   \n",
       "3                     44.0                     44.0   \n",
       "4                      6.0                      9.0   \n",
       "\n",
       "   TCP DL Retrans. Vol (Bytes)  TCP UL Retrans. Vol (Bytes)  HTTP DL (Bytes)  \\\n",
       "0                 2.080991e+07                759658.664811     1.144710e+08   \n",
       "1                 2.080991e+07                759658.664811     1.144710e+08   \n",
       "2                 2.080991e+07                759658.664811     1.144710e+08   \n",
       "3                 2.080991e+07                759658.664811     1.144710e+08   \n",
       "4                 2.080991e+07                759658.664811     1.144710e+08   \n",
       "\n",
       "   HTTP UL (Bytes)  Activity Duration DL (ms)  Activity Duration UL (ms)  \\\n",
       "0     3.242301e+06                    37624.0                    38787.0   \n",
       "1     3.242301e+06                      168.0                     3560.0   \n",
       "2     3.242301e+06                        0.0                        0.0   \n",
       "3     3.242301e+06                     3330.0                    37882.0   \n",
       "4     3.242301e+06                        0.0                        0.0   \n",
       "\n",
       "    Dur. (ms).1 Handset Manufacturer                 Handset Type  \\\n",
       "0  1.823653e+09              Samsung   Samsung Galaxy A5 Sm-A520F   \n",
       "1  1.365104e+09              Samsung  Samsung Galaxy J5 (Sm-J530)   \n",
       "2  1.361763e+09              Samsung     Samsung Galaxy A8 (2018)   \n",
       "3  1.321510e+09            undefined                    undefined   \n",
       "4  1.089009e+09              Samsung             Samsung Sm-G390F   \n",
       "\n",
       "   Social Media DL (Bytes)  Social Media UL (Bytes)  Google DL (Bytes)  \\\n",
       "0                1545765.0                  24420.0          1634479.0   \n",
       "1                1926113.0                   7165.0          3493924.0   \n",
       "2                1684053.0                  42224.0          8535055.0   \n",
       "3                 644121.0                  13372.0          9023734.0   \n",
       "4                 862600.0                  50188.0          6248284.0   \n",
       "\n",
       "   Google UL (Bytes)  Email DL (Bytes)  Email UL (Bytes)  Youtube DL (Bytes)  \\\n",
       "0          1271433.0         3563542.0          137762.0          15854611.0   \n",
       "1           920172.0          629046.0          308339.0          20247395.0   \n",
       "2          1694064.0         2690151.0          672973.0          19725661.0   \n",
       "3          2788027.0         1439754.0          631229.0          21388122.0   \n",
       "4          1500559.0         1936496.0          173853.0          15259380.0   \n",
       "\n",
       "   Youtube UL (Bytes)  Netflix DL (Bytes)  Netflix UL (Bytes)  \\\n",
       "0           2501332.0           8198936.0           9656251.0   \n",
       "1          19111729.0          18338413.0          17227132.0   \n",
       "2          14699576.0          17587794.0           6163408.0   \n",
       "3          15146643.0          13994646.0           1097942.0   \n",
       "4          18962873.0          17124581.0            415218.0   \n",
       "\n",
       "   Gaming DL (Bytes)  Gaming UL (Bytes)  Other DL (Bytes)  Other UL (Bytes)  \\\n",
       "0        278082303.0         14344150.0       171744450.0         8814393.0   \n",
       "1        608750074.0          1170709.0       526904238.0        15055145.0   \n",
       "2        229584621.0           395630.0       410692588.0         4215763.0   \n",
       "3        799538153.0         10849722.0       749039933.0        12797283.0   \n",
       "4        527707248.0          3529801.0       550709500.0        13910322.0   \n",
       "\n",
       "   Total UL (Bytes)  Total DL (Bytes)  \n",
       "0        36749741.0       308879636.0  \n",
       "1        53800391.0       653384965.0  \n",
       "2        27883638.0       279807335.0  \n",
       "3        43324218.0       846028530.0  \n",
       "4        38542814.0       569138589.0  "
      ]
     },
     "execution_count": 19,
     "metadata": {},
     "output_type": "execute_result"
    }
   ],
   "source": [
    "# loading our dataset from its saved pickle\n",
    "df = pd.read_pickle('week_2_challenge.pkl')\n",
    "df.head()"
   ]
  },
  {
   "cell_type": "markdown",
   "metadata": {},
   "source": [
    "# 3. Data Analysis"
   ]
  },
  {
   "cell_type": "markdown",
   "metadata": {},
   "source": [
    "**Task:**- Aggregate, per customer, the following information (treat missing & outliers by replacing by the mean or the mode of the corresponding variable) -(jupyter notebook):\n",
    "- Average TCP retransmission\n",
    "- Average RTT\n",
    "- Handset type\n",
    "- Average throughput"
   ]
  },
  {
   "cell_type": "code",
   "execution_count": 20,
   "metadata": {},
   "outputs": [
    {
     "data": {
      "text/html": [
       "<div>\n",
       "<style scoped>\n",
       "    .dataframe tbody tr th:only-of-type {\n",
       "        vertical-align: middle;\n",
       "    }\n",
       "\n",
       "    .dataframe tbody tr th {\n",
       "        vertical-align: top;\n",
       "    }\n",
       "\n",
       "    .dataframe thead th {\n",
       "        text-align: right;\n",
       "    }\n",
       "</style>\n",
       "<table border=\"1\" class=\"dataframe\">\n",
       "  <thead>\n",
       "    <tr style=\"text-align: right;\">\n",
       "      <th></th>\n",
       "      <th>MSISDN/Number</th>\n",
       "      <th>Handset Type</th>\n",
       "      <th>Avg RTT</th>\n",
       "      <th>Avg TP</th>\n",
       "      <th>Avg TCP</th>\n",
       "    </tr>\n",
       "  </thead>\n",
       "  <tbody>\n",
       "    <tr>\n",
       "      <th>64446</th>\n",
       "      <td>3.366760e+10</td>\n",
       "      <td>Apple iPhone 6S (A1688)</td>\n",
       "      <td>37.0</td>\n",
       "      <td>45.5</td>\n",
       "      <td>1.078479e+07</td>\n",
       "    </tr>\n",
       "    <tr>\n",
       "      <th>149659</th>\n",
       "      <td>3.365249e+10</td>\n",
       "      <td>Apple iPhone 6S (A1688)</td>\n",
       "      <td>20.0</td>\n",
       "      <td>61.0</td>\n",
       "      <td>1.078479e+07</td>\n",
       "    </tr>\n",
       "    <tr>\n",
       "      <th>50566</th>\n",
       "      <td>3.366189e+10</td>\n",
       "      <td>Apple iPhone Xr (A2105)</td>\n",
       "      <td>27.5</td>\n",
       "      <td>57.5</td>\n",
       "      <td>1.078479e+07</td>\n",
       "    </tr>\n",
       "    <tr>\n",
       "      <th>11176</th>\n",
       "      <td>3.361839e+10</td>\n",
       "      <td>Samsung Galaxy A8 (2018)</td>\n",
       "      <td>26.0</td>\n",
       "      <td>16237.0</td>\n",
       "      <td>8.632350e+04</td>\n",
       "    </tr>\n",
       "    <tr>\n",
       "      <th>46415</th>\n",
       "      <td>3.366630e+10</td>\n",
       "      <td>Huawei P8 Lite</td>\n",
       "      <td>22.5</td>\n",
       "      <td>1306.5</td>\n",
       "      <td>5.167568e+05</td>\n",
       "    </tr>\n",
       "  </tbody>\n",
       "</table>\n",
       "</div>"
      ],
      "text/plain": [
       "        MSISDN/Number              Handset Type  Avg RTT   Avg TP  \\\n",
       "64446    3.366760e+10   Apple iPhone 6S (A1688)     37.0     45.5   \n",
       "149659   3.365249e+10   Apple iPhone 6S (A1688)     20.0     61.0   \n",
       "50566    3.366189e+10   Apple iPhone Xr (A2105)     27.5     57.5   \n",
       "11176    3.361839e+10  Samsung Galaxy A8 (2018)     26.0  16237.0   \n",
       "46415    3.366630e+10            Huawei P8 Lite     22.5   1306.5   \n",
       "\n",
       "             Avg TCP  \n",
       "64446   1.078479e+07  \n",
       "149659  1.078479e+07  \n",
       "50566   1.078479e+07  \n",
       "11176   8.632350e+04  \n",
       "46415   5.167568e+05  "
      ]
     },
     "execution_count": 20,
     "metadata": {},
     "output_type": "execute_result"
    }
   ],
   "source": [
    "task_3_df = df[['MSISDN/Number', 'Handset Type', 'Avg RTT DL (ms)', 'Avg RTT UL (ms)', \n",
    "                'Avg Bearer TP DL (kbps)', 'Avg Bearer TP UL (kbps)', 'TCP DL Retrans. Vol (Bytes)',\n",
    "                'TCP UL Retrans. Vol (Bytes)']].copy()\n",
    "\n",
    "# calculate average Round Trip Time\n",
    "task_3_df['Avg RTT'] = (task_3_df['Avg RTT DL (ms)'] + task_3_df['Avg RTT UL (ms)']) / 2\n",
    "\n",
    "# calculate average Throughput\n",
    "task_3_df['Avg TP'] = (task_3_df['Avg Bearer TP DL (kbps)'] + task_3_df['Avg Bearer TP UL (kbps)']) / 2\n",
    "\n",
    "# calculate average TCP retransmission\n",
    "task_3_df['Avg TCP'] = (task_3_df['TCP DL Retrans. Vol (Bytes)'] + task_3_df['TCP UL Retrans. Vol (Bytes)']) / 2\n",
    "\n",
    "# removing the unnecessary columns\n",
    "task_3_df.drop(columns = ['Avg RTT DL (ms)', 'Avg RTT UL (ms)', 'Avg Bearer TP DL (kbps)', \n",
    "                          'Avg Bearer TP UL (kbps)', 'TCP DL Retrans. Vol (Bytes)',\n",
    "                          'TCP UL Retrans. Vol (Bytes)'], inplace = True)\n",
    "\n",
    "# previewing our dataset\n",
    "task_3_df.sample(5)"
   ]
  },
  {
   "cell_type": "code",
   "execution_count": 21,
   "metadata": {},
   "outputs": [
    {
     "data": {
      "text/plain": [
       "MSISDN/Number    0\n",
       "Handset Type     0\n",
       "Avg RTT          0\n",
       "Avg TP           0\n",
       "Avg TCP          0\n",
       "dtype: int64"
      ]
     },
     "execution_count": 21,
     "metadata": {},
     "output_type": "execute_result"
    }
   ],
   "source": [
    "# confirming there are no missing values\n",
    "task_3_df.isna().sum()"
   ]
  },
  {
   "cell_type": "code",
   "execution_count": 22,
   "metadata": {},
   "outputs": [
    {
     "data": {
      "text/plain": [
       "MSISDN/Number\n",
       "4.188282e+10    9.052459e+09\n",
       "3.366773e+10    4.177105e+09\n",
       "3.365908e+10    3.970930e+09\n",
       "3.366098e+10    3.687449e+09\n",
       "3.376128e+10    3.021989e+09\n",
       "                    ...     \n",
       "3.360783e+10    7.150000e+01\n",
       "3.362636e+10    6.700000e+01\n",
       "3.376206e+10    6.450000e+01\n",
       "3.361478e+10    6.400000e+01\n",
       "3.365013e+10    4.850000e+01\n",
       "Name: Avg TCP, Length: 106857, dtype: float64"
      ]
     },
     "execution_count": 22,
     "metadata": {},
     "output_type": "execute_result"
    }
   ],
   "source": [
    "# average TCP retransmission per user\n",
    "task_3_df.groupby('MSISDN/Number')['Avg TCP'].sum().sort_values(ascending = False)"
   ]
  },
  {
   "cell_type": "code",
   "execution_count": 23,
   "metadata": {},
   "outputs": [
    {
     "data": {
      "text/plain": [
       "MSISDN/Number\n",
       "4.188282e+10    164763.082362\n",
       "3.366232e+10     48462.000000\n",
       "3.366087e+10     32335.000000\n",
       "3.368369e+10     27424.000000\n",
       "3.369855e+10     23010.500000\n",
       "                    ...      \n",
       "3.365949e+10         2.500000\n",
       "3.369505e+10         2.000000\n",
       "3.366020e+10         1.000000\n",
       "3.366158e+10         0.000000\n",
       "3.365298e+10         0.000000\n",
       "Name: Avg RTT, Length: 106857, dtype: float64"
      ]
     },
     "execution_count": 23,
     "metadata": {},
     "output_type": "execute_result"
    }
   ],
   "source": [
    "# average RTT per user\n",
    "task_3_df.groupby('MSISDN/Number')['Avg RTT'].sum().sort_values(ascending = False)"
   ]
  },
  {
   "cell_type": "code",
   "execution_count": 24,
   "metadata": {},
   "outputs": [
    {
     "data": {
      "text/plain": [
       "MSISDN/Number\n",
       "4.188282e+10    9.039117e+06\n",
       "3.376233e+10    4.511110e+05\n",
       "3.366871e+10    4.202120e+05\n",
       "3.365955e+10    3.991710e+05\n",
       "3.366995e+10    3.454075e+05\n",
       "                    ...     \n",
       "3.369859e+10    0.000000e+00\n",
       "3.365947e+10    0.000000e+00\n",
       "3.365934e+10    0.000000e+00\n",
       "3.361064e+10    0.000000e+00\n",
       "3.377776e+10    0.000000e+00\n",
       "Name: Avg TP, Length: 106857, dtype: float64"
      ]
     },
     "execution_count": 24,
     "metadata": {},
     "output_type": "execute_result"
    }
   ],
   "source": [
    "# average TP per user\n",
    "task_3_df.groupby('MSISDN/Number')['Avg TP'].sum().sort_values(ascending = False)"
   ]
  },
  {
   "cell_type": "code",
   "execution_count": 25,
   "metadata": {},
   "outputs": [
    {
     "data": {
      "text/plain": [
       "MSISDN/Number  Handset Type                  \n",
       "4.188282e+10   Huawei B528S-23A                  597\n",
       "               undefined                          56\n",
       "               Samsung Galaxy S8 (Sm-G950F)       40\n",
       "               Samsung Galaxy S7 (Sm-G930X)       23\n",
       "               Apple iPhone 7 (A1778)             22\n",
       "                                                ... \n",
       "3.366742e+10   Huawei P10                          1\n",
       "               Samsung Galaxy A3 (Sm-A320)         1\n",
       "               undefined                           1\n",
       "               Samsung Galaxy A5 Sm-A520F          1\n",
       "3.360100e+10   Huawei P20 Lite Huawei Nova 3E      1\n",
       "Name: Handset Type, Length: 106964, dtype: int64"
      ]
     },
     "execution_count": 25,
     "metadata": {},
     "output_type": "execute_result"
    }
   ],
   "source": [
    "# handset type per user\n",
    "task_3_df.groupby('MSISDN/Number')['Handset Type'].value_counts().sort_values(ascending = False)"
   ]
  },
  {
   "cell_type": "markdown",
   "metadata": {},
   "source": [
    "**Task:** Compute & list 10 of the top, bottom and most frequent:\n",
    "- TCP values in the dataset.\n",
    "- RTT values in the dataset.\n",
    "- Throughput values in the dataset."
   ]
  },
  {
   "cell_type": "code",
   "execution_count": 26,
   "metadata": {
    "scrolled": false
   },
   "outputs": [
    {
     "name": "stdout",
     "output_type": "stream",
     "text": [
      "Top 10 average TCP values:\n",
      "[2.17205783e+09 2.15073872e+09 2.14721598e+09 2.14573248e+09\n",
      " 2.14406043e+09 2.13774586e+09 2.13432368e+09 2.13080802e+09\n",
      " 2.13008707e+09 2.12732982e+09]\n",
      "\n",
      "Bottom 10 average TCP values:\n",
      "[43.  48.5 53.  54.  56.5 64.  64.5 67.  67.  71.5]\n",
      "\n",
      "Most frequent TCP value:\n",
      "[85265]\n"
     ]
    }
   ],
   "source": [
    "# Avg TCP\n",
    "print(\"Top 10 average TCP values:\")\n",
    "print(task_3_df['Avg TCP'].sort_values(ascending = False).iloc[:10].values)\n",
    "print()\n",
    "\n",
    "print(\"Bottom 10 average TCP values:\")\n",
    "print(task_3_df['Avg TCP'].sort_values().iloc[:10].values)\n",
    "print()\n",
    "\n",
    "print(\"Most frequent TCP value:\")\n",
    "print(task_3_df['Avg TCP'].value_counts().iloc[:1].values)"
   ]
  },
  {
   "cell_type": "code",
   "execution_count": 27,
   "metadata": {},
   "outputs": [
    {
     "name": "stdout",
     "output_type": "stream",
     "text": [
      "Top 10 average RTT values:\n",
      "[48462.  32320.5 27906.  27424.  13639.  13150.  12961.  12857.5 12694.\n",
      " 12369. ]\n",
      "\n",
      "Bottom 10 average RTT values:\n",
      "[0.  0.  0.  0.  1.  2.  2.  2.5 3.  3. ]\n",
      "\n",
      "Most frequent RTT value:\n",
      "[27801]\n"
     ]
    }
   ],
   "source": [
    "# Avg RTT\n",
    "print(\"Top 10 average RTT values:\")\n",
    "print(task_3_df['Avg RTT'].sort_values(ascending = False).iloc[:10].values)\n",
    "print()\n",
    "\n",
    "print(\"Bottom 10 average RTT values:\")\n",
    "print(task_3_df['Avg RTT'].sort_values().iloc[:10].values)\n",
    "print()\n",
    "\n",
    "print(\"Most frequent RTT value:\")\n",
    "print(task_3_df['Avg RTT'].value_counts().iloc[:1].values)"
   ]
  },
  {
   "cell_type": "code",
   "execution_count": 28,
   "metadata": {},
   "outputs": [
    {
     "name": "stdout",
     "output_type": "stream",
     "text": [
      "Top 10 average TP values:\n",
      "[191131.  156622.  152149.5 150273.  141965.5 140572.  138576.  138102.5\n",
      " 137026.  134944. ]\n",
      "\n",
      "Bottom 10 average TP values:\n",
      "[0. 0. 0. 0. 0. 0. 0. 0. 0. 0.]\n",
      "\n",
      "Most frequent TP value:\n",
      "[3886]\n"
     ]
    }
   ],
   "source": [
    "# Avg TP\n",
    "print(\"Top 10 average TP values:\")\n",
    "print(task_3_df['Avg TP'].sort_values(ascending = False).iloc[:10].values)\n",
    "print()\n",
    "\n",
    "print(\"Bottom 10 average TP values:\")\n",
    "print(task_3_df['Avg TP'].sort_values().iloc[:10].values)\n",
    "print()\n",
    "\n",
    "print(\"Most frequent TP value:\")\n",
    "print(task_3_df['Avg TP'].value_counts().iloc[:1].values)"
   ]
  },
  {
   "cell_type": "markdown",
   "metadata": {},
   "source": [
    "**Task:** Compute & report:\n",
    "- The distribution of the average throughput per handset type and provide interpretation for your findings.\n",
    "- The average TCP retransmission view per handset type and provide interpretation for your findings."
   ]
  },
  {
   "cell_type": "code",
   "execution_count": 29,
   "metadata": {},
   "outputs": [
    {
     "data": {
      "image/png": "[encoded data removed]",
      "text/plain": [
       "<Figure size 1080x576 with 1 Axes>"
      ]
     },
     "metadata": {
      "needs_background": "light"
     },
     "output_type": "display_data"
    }
   ],
   "source": [
    "# get average throughput per top 15 handsets\n",
    "tcp_handsets = task_3_df.groupby('Handset Type')['Avg TP'].sum().sort_values(ascending = False).iloc[:15]\n",
    "\n",
    "colors = sns.color_palette('hsv', len(tcp_handsets))\n",
    "\n",
    "plt.figure(figsize = (15, 8))\n",
    "tcp_handsets.plot(kind = 'bar', rot = '20', color = colors)\n",
    "plt.xlabel(\"handset type\")\n",
    "plt.ylabel(\"average throughput\")\n",
    "plt.title(\"Average throughput per top 15 handsets\")\n",
    "plt.xticks(ha = 'right')\n",
    "plt.savefig(\"average tp per handset.png\")\n",
    "plt.show()"
   ]
  },
  {
   "cell_type": "code",
   "execution_count": 30,
   "metadata": {
    "scrolled": false
   },
   "outputs": [
    {
     "data": {
      "image/png": "[encoded data removed]",
      "text/plain": [
       "<Figure size 1080x576 with 1 Axes>"
      ]
     },
     "metadata": {
      "needs_background": "light"
     },
     "output_type": "display_data"
    }
   ],
   "source": [
    "# get average TCP retransmission rate per top 15 handsets\n",
    "tcp_handsets = task_3_df.groupby('Handset Type')['Avg TCP'].sum().sort_values(ascending = False).iloc[:15]\n",
    "\n",
    "colors = sns.color_palette('rainbow', len(tcp_handsets))\n",
    "\n",
    "plt.figure(figsize = (15, 8))\n",
    "tcp_handsets.plot(kind = 'bar', rot = '20', color = colors)\n",
    "plt.xlabel(\"handset type\")\n",
    "plt.ylabel(\"average TCP retrans\")\n",
    "plt.title(\"Average TCP retransmission rate per top 15 handsets\")\n",
    "plt.xticks(ha = 'right')\n",
    "plt.savefig(\"average tcp per handset.png\")\n",
    "plt.show()"
   ]
  },
  {
   "cell_type": "markdown",
   "metadata": {},
   "source": [
    "# 4. Data Modeling"
   ]
  },
  {
   "cell_type": "markdown",
   "metadata": {},
   "source": [
    "**Task:** Using the experience metrics above, perform a k-means clustering (where k = 3) to segment users into groups of experiences and provide a brief description of each cluster."
   ]
  },
  {
   "cell_type": "code",
   "execution_count": 31,
   "metadata": {},
   "outputs": [],
   "source": [
    "# standardizing our dataset first\n",
    "from sklearn.preprocessing import MinMaxScaler\n",
    "\n",
    "scaler = MinMaxScaler()\n",
    "\n",
    "cluster_df = task_3_df.copy()\n",
    "cluster_df.drop(columns = ['MSISDN/Number', 'Handset Type'], inplace = True)\n",
    "\n",
    "# fit scaler to data\n",
    "scaled_data = scaler.fit_transform(cluster_df)"
   ]
  },
  {
   "cell_type": "code",
   "execution_count": 32,
   "metadata": {},
   "outputs": [
    {
     "data": {
      "image/png": "[encoded data removed]",
      "text/plain": [
       "<Figure size 720x576 with 1 Axes>"
      ]
     },
     "metadata": {
      "needs_background": "light"
     },
     "output_type": "display_data"
    }
   ],
   "source": [
    "# using the Elbow Method to determine the ideal number of clusters for K-Means\n",
    "from sklearn.cluster import KMeans\n",
    "\n",
    "wcss = [] # stands for \"Within Cluster Sum of Squares\"\n",
    "for i in range(1, 11):\n",
    "    kmeans = KMeans(n_clusters = i, init = 'k-means++')\n",
    "    kmeans.fit(scaled_data)\n",
    "    wcss.append(kmeans.inertia_)\n",
    "    \n",
    "# visualizing the inertia (WCSS)\n",
    "plt.figure(figsize = (10, 8))\n",
    "plt.plot(range(1, 11), wcss, 'bx-')\n",
    "plt.xlabel(\"Number of clusters\")\n",
    "plt.ylabel(\"inertia\")\n",
    "plt.title(\"Elbow Method of the Ideal Number of Clusters for KMeans\")\n",
    "plt.grid(True)\n",
    "plt.savefig(\"elbow method.png\")\n",
    "plt.show()"
   ]
  },
  {
   "cell_type": "markdown",
   "metadata": {},
   "source": [
    "From the above elbow method plot, we see that the ideal cluster size to use is 5."
   ]
  },
  {
   "cell_type": "code",
   "execution_count": 33,
   "metadata": {},
   "outputs": [
    {
     "data": {
      "text/html": [
       "<div>\n",
       "<style scoped>\n",
       "    .dataframe tbody tr th:only-of-type {\n",
       "        vertical-align: middle;\n",
       "    }\n",
       "\n",
       "    .dataframe tbody tr th {\n",
       "        vertical-align: top;\n",
       "    }\n",
       "\n",
       "    .dataframe thead th {\n",
       "        text-align: right;\n",
       "    }\n",
       "</style>\n",
       "<table border=\"1\" class=\"dataframe\">\n",
       "  <thead>\n",
       "    <tr style=\"text-align: right;\">\n",
       "      <th></th>\n",
       "      <th>MSISDN/Number</th>\n",
       "      <th>Handset Type</th>\n",
       "      <th>Avg RTT</th>\n",
       "      <th>Avg TP</th>\n",
       "      <th>Avg TCP</th>\n",
       "      <th>clusters</th>\n",
       "    </tr>\n",
       "  </thead>\n",
       "  <tbody>\n",
       "    <tr>\n",
       "      <th>0</th>\n",
       "      <td>3.366496e+10</td>\n",
       "      <td>Samsung Galaxy A5 Sm-A520F</td>\n",
       "      <td>23.500000</td>\n",
       "      <td>33.5</td>\n",
       "      <td>1.078479e+07</td>\n",
       "      <td>0</td>\n",
       "    </tr>\n",
       "    <tr>\n",
       "      <th>1</th>\n",
       "      <td>3.368185e+10</td>\n",
       "      <td>Samsung Galaxy J5 (Sm-J530)</td>\n",
       "      <td>35.000000</td>\n",
       "      <td>21.0</td>\n",
       "      <td>1.078479e+07</td>\n",
       "      <td>0</td>\n",
       "    </tr>\n",
       "    <tr>\n",
       "      <th>2</th>\n",
       "      <td>3.376063e+10</td>\n",
       "      <td>Samsung Galaxy A8 (2018)</td>\n",
       "      <td>63.729294</td>\n",
       "      <td>7.5</td>\n",
       "      <td>1.078479e+07</td>\n",
       "      <td>0</td>\n",
       "    </tr>\n",
       "    <tr>\n",
       "      <th>3</th>\n",
       "      <td>3.375034e+10</td>\n",
       "      <td>undefined</td>\n",
       "      <td>63.729294</td>\n",
       "      <td>44.0</td>\n",
       "      <td>1.078479e+07</td>\n",
       "      <td>0</td>\n",
       "    </tr>\n",
       "    <tr>\n",
       "      <th>4</th>\n",
       "      <td>3.369980e+10</td>\n",
       "      <td>Samsung Sm-G390F</td>\n",
       "      <td>63.729294</td>\n",
       "      <td>7.5</td>\n",
       "      <td>1.078479e+07</td>\n",
       "      <td>0</td>\n",
       "    </tr>\n",
       "  </tbody>\n",
       "</table>\n",
       "</div>"
      ],
      "text/plain": [
       "   MSISDN/Number                 Handset Type    Avg RTT  Avg TP  \\\n",
       "0   3.366496e+10   Samsung Galaxy A5 Sm-A520F  23.500000    33.5   \n",
       "1   3.368185e+10  Samsung Galaxy J5 (Sm-J530)  35.000000    21.0   \n",
       "2   3.376063e+10     Samsung Galaxy A8 (2018)  63.729294     7.5   \n",
       "3   3.375034e+10                    undefined  63.729294    44.0   \n",
       "4   3.369980e+10             Samsung Sm-G390F  63.729294     7.5   \n",
       "\n",
       "        Avg TCP clusters  \n",
       "0  1.078479e+07        0  \n",
       "1  1.078479e+07        0  \n",
       "2  1.078479e+07        0  \n",
       "3  1.078479e+07        0  \n",
       "4  1.078479e+07        0  "
      ]
     },
     "execution_count": 33,
     "metadata": {},
     "output_type": "execute_result"
    }
   ],
   "source": [
    "# applying KMeans clustering with k = 5\n",
    "k5 = KMeans(5)\n",
    "\n",
    "# fitting to our scaled data\n",
    "k5.fit(scaled_data)\n",
    "\n",
    "# getting our clusters\n",
    "k5_clusters = k5.labels_\n",
    "\n",
    "# adding the clusters to our dataframe\n",
    "task_3_df['clusters'] = k5_clusters.astype('object')\n",
    "\n",
    "# previewing our dataframe\n",
    "task_3_df.head()"
   ]
  },
  {
   "cell_type": "code",
   "execution_count": 34,
   "metadata": {},
   "outputs": [
    {
     "data": {
      "text/plain": [
       "0    106719\n",
       "4     25853\n",
       "1     14191\n",
       "2      2990\n",
       "3       248\n",
       "Name: clusters, dtype: int64"
      ]
     },
     "execution_count": 34,
     "metadata": {},
     "output_type": "execute_result"
    }
   ],
   "source": [
    "# preview distribution of clusters\n",
    "task_3_df.clusters.value_counts()"
   ]
  },
  {
   "cell_type": "code",
   "execution_count": 35,
   "metadata": {},
   "outputs": [],
   "source": [
    "# save to CSV and in pickle format\n",
    "task_3_df.to_csv('user_experience_analysis.csv', index = True)\n",
    "task_3_df.to_pickle('user_experience_analysis.pkl')"
   ]
  }
 ],
 "metadata": {
  "kernelspec": {
   "display_name": "Python 3",
   "language": "python",
   "name": "python3"
  },
  "language_info": {
   "codemirror_mode": {
    "name": "ipython",
    "version": 3
   },
   "file_extension": ".py",
   "mimetype": "text/x-python",
   "name": "python",
   "nbconvert_exporter": "python",
   "pygments_lexer": "ipython3",
   "version": "3.7.4"
  }
 },
 "nbformat": 4,
 "nbformat_minor": 4
}
