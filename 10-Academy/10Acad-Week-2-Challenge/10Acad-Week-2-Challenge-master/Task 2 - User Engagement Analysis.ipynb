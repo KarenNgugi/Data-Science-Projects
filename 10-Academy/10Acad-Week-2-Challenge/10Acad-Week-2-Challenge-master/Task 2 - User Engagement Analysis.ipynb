{
 "cells": [
  {
   "cell_type": "markdown",
   "metadata": {},
   "source": [
    "# 1. Introduction - Task 2"
   ]
  },
  {
   "cell_type": "markdown",
   "metadata": {},
   "source": [
    "In the current dataset you’re expected to track the user’s engagement using the\n",
    "following engagement metrics:\n",
    "- sessions frequency\n",
    "- the duration of the session\n",
    "- the sessions total traffic (download and upload (bytes))\n",
    "\n",
    "\n",
    "Task 2.1 - Based on the above:\n",
    "- Aggregate the above metrics per customer id (MSISDN) and report the top 10 customers per engagement metric - (jupyter notebook + slide for top 10)\n",
    "- Normalize each engagement metric and run a k-means (k=3) to classify customers in three groups of engagement. - (jupyter notebook)\n",
    "- Compute the minimum, maximum, average & total non- normalized metrics for each cluster. Interpret your results visually with accompanying text. - (jupyter notebook + slide)\n",
    "- Aggregate user total traffic per application and derive the top 10 most engaged users per application - (jupyter notebook + slide)\n",
    "- Plot the top 3 most used applications. - (jupyter notebook + slide)\n",
    "- Using *k*-means clustering algorithm, group users in *k* engagement clusters based on the engagement metrics:\n",
    "    * What is the optimized value of *k*? - (slide)\n",
    "    * Interpret your findings. - (slide)"
   ]
  },
  {
   "cell_type": "markdown",
   "metadata": {},
   "source": [
    "# 2. Data Preparation"
   ]
  },
  {
   "cell_type": "code",
   "execution_count": 1,
   "metadata": {},
   "outputs": [],
   "source": [
    "# loading libraries and setting up\n",
    "import pandas as pd\n",
    "import numpy as np\n",
    "import matplotlib.pyplot as plt\n",
    "import seaborn as sns\n",
    "\n",
    "%matplotlib inline\n",
    "pd.set_option(\"display.max.columns\", None)"
   ]
  },
  {
   "cell_type": "code",
   "execution_count": 2,
   "metadata": {},
   "outputs": [
    {
     "data": {
      "text/html": [
       "<div>\n",
       "<style scoped>\n",
       "    .dataframe tbody tr th:only-of-type {\n",
       "        vertical-align: middle;\n",
       "    }\n",
       "\n",
       "    .dataframe tbody tr th {\n",
       "        vertical-align: top;\n",
       "    }\n",
       "\n",
       "    .dataframe thead th {\n",
       "        text-align: right;\n",
       "    }\n",
       "</style>\n",
       "<table border=\"1\" class=\"dataframe\">\n",
       "  <thead>\n",
       "    <tr style=\"text-align: right;\">\n",
       "      <th></th>\n",
       "      <th>Bearer Id</th>\n",
       "      <th>IMSI</th>\n",
       "      <th>MSISDN/Number</th>\n",
       "      <th>IMEI</th>\n",
       "      <th>Last Location Name</th>\n",
       "      <th>Avg RTT DL (ms)</th>\n",
       "      <th>Avg RTT UL (ms)</th>\n",
       "      <th>Avg Bearer TP DL (kbps)</th>\n",
       "      <th>Avg Bearer TP UL (kbps)</th>\n",
       "      <th>TCP DL Retrans. Vol (Bytes)</th>\n",
       "      <th>TCP UL Retrans. Vol (Bytes)</th>\n",
       "      <th>HTTP DL (Bytes)</th>\n",
       "      <th>HTTP UL (Bytes)</th>\n",
       "      <th>Activity Duration DL (ms)</th>\n",
       "      <th>Activity Duration UL (ms)</th>\n",
       "      <th>Dur. (ms).1</th>\n",
       "      <th>Handset Manufacturer</th>\n",
       "      <th>Handset Type</th>\n",
       "      <th>Social Media DL (Bytes)</th>\n",
       "      <th>Social Media UL (Bytes)</th>\n",
       "      <th>Google DL (Bytes)</th>\n",
       "      <th>Google UL (Bytes)</th>\n",
       "      <th>Email DL (Bytes)</th>\n",
       "      <th>Email UL (Bytes)</th>\n",
       "      <th>Youtube DL (Bytes)</th>\n",
       "      <th>Youtube UL (Bytes)</th>\n",
       "      <th>Netflix DL (Bytes)</th>\n",
       "      <th>Netflix UL (Bytes)</th>\n",
       "      <th>Gaming DL (Bytes)</th>\n",
       "      <th>Gaming UL (Bytes)</th>\n",
       "      <th>Other DL (Bytes)</th>\n",
       "      <th>Other UL (Bytes)</th>\n",
       "      <th>Total UL (Bytes)</th>\n",
       "      <th>Total DL (Bytes)</th>\n",
       "    </tr>\n",
       "  </thead>\n",
       "  <tbody>\n",
       "    <tr>\n",
       "      <th>0</th>\n",
       "      <td>13114483460844900352</td>\n",
       "      <td>2.082014e+14</td>\n",
       "      <td>3.366496e+10</td>\n",
       "      <td>3.552121e+13</td>\n",
       "      <td>9164566995485190</td>\n",
       "      <td>42.000000</td>\n",
       "      <td>5.000000</td>\n",
       "      <td>23.0</td>\n",
       "      <td>44.0</td>\n",
       "      <td>2.080991e+07</td>\n",
       "      <td>759658.664811</td>\n",
       "      <td>1.144710e+08</td>\n",
       "      <td>3.242301e+06</td>\n",
       "      <td>37624.0</td>\n",
       "      <td>38787.0</td>\n",
       "      <td>1.823653e+09</td>\n",
       "      <td>Samsung</td>\n",
       "      <td>Samsung Galaxy A5 Sm-A520F</td>\n",
       "      <td>1545765.0</td>\n",
       "      <td>24420.0</td>\n",
       "      <td>1634479.0</td>\n",
       "      <td>1271433.0</td>\n",
       "      <td>3563542.0</td>\n",
       "      <td>137762.0</td>\n",
       "      <td>15854611.0</td>\n",
       "      <td>2501332.0</td>\n",
       "      <td>8198936.0</td>\n",
       "      <td>9656251.0</td>\n",
       "      <td>278082303.0</td>\n",
       "      <td>14344150.0</td>\n",
       "      <td>171744450.0</td>\n",
       "      <td>8814393.0</td>\n",
       "      <td>36749741.0</td>\n",
       "      <td>308879636.0</td>\n",
       "    </tr>\n",
       "    <tr>\n",
       "      <th>1</th>\n",
       "      <td>13114483482878900224</td>\n",
       "      <td>2.082019e+14</td>\n",
       "      <td>3.368185e+10</td>\n",
       "      <td>3.579401e+13</td>\n",
       "      <td>L77566A</td>\n",
       "      <td>65.000000</td>\n",
       "      <td>5.000000</td>\n",
       "      <td>16.0</td>\n",
       "      <td>26.0</td>\n",
       "      <td>2.080991e+07</td>\n",
       "      <td>759658.664811</td>\n",
       "      <td>1.144710e+08</td>\n",
       "      <td>3.242301e+06</td>\n",
       "      <td>168.0</td>\n",
       "      <td>3560.0</td>\n",
       "      <td>1.365104e+09</td>\n",
       "      <td>Samsung</td>\n",
       "      <td>Samsung Galaxy J5 (Sm-J530)</td>\n",
       "      <td>1926113.0</td>\n",
       "      <td>7165.0</td>\n",
       "      <td>3493924.0</td>\n",
       "      <td>920172.0</td>\n",
       "      <td>629046.0</td>\n",
       "      <td>308339.0</td>\n",
       "      <td>20247395.0</td>\n",
       "      <td>19111729.0</td>\n",
       "      <td>18338413.0</td>\n",
       "      <td>17227132.0</td>\n",
       "      <td>608750074.0</td>\n",
       "      <td>1170709.0</td>\n",
       "      <td>526904238.0</td>\n",
       "      <td>15055145.0</td>\n",
       "      <td>53800391.0</td>\n",
       "      <td>653384965.0</td>\n",
       "    </tr>\n",
       "    <tr>\n",
       "      <th>2</th>\n",
       "      <td>13114483484080500736</td>\n",
       "      <td>2.082003e+14</td>\n",
       "      <td>3.376063e+10</td>\n",
       "      <td>3.528151e+13</td>\n",
       "      <td>D42335A</td>\n",
       "      <td>109.795706</td>\n",
       "      <td>17.662883</td>\n",
       "      <td>6.0</td>\n",
       "      <td>9.0</td>\n",
       "      <td>2.080991e+07</td>\n",
       "      <td>759658.664811</td>\n",
       "      <td>1.144710e+08</td>\n",
       "      <td>3.242301e+06</td>\n",
       "      <td>0.0</td>\n",
       "      <td>0.0</td>\n",
       "      <td>1.361763e+09</td>\n",
       "      <td>Samsung</td>\n",
       "      <td>Samsung Galaxy A8 (2018)</td>\n",
       "      <td>1684053.0</td>\n",
       "      <td>42224.0</td>\n",
       "      <td>8535055.0</td>\n",
       "      <td>1694064.0</td>\n",
       "      <td>2690151.0</td>\n",
       "      <td>672973.0</td>\n",
       "      <td>19725661.0</td>\n",
       "      <td>14699576.0</td>\n",
       "      <td>17587794.0</td>\n",
       "      <td>6163408.0</td>\n",
       "      <td>229584621.0</td>\n",
       "      <td>395630.0</td>\n",
       "      <td>410692588.0</td>\n",
       "      <td>4215763.0</td>\n",
       "      <td>27883638.0</td>\n",
       "      <td>279807335.0</td>\n",
       "    </tr>\n",
       "    <tr>\n",
       "      <th>3</th>\n",
       "      <td>13114483485442799616</td>\n",
       "      <td>2.082014e+14</td>\n",
       "      <td>3.375034e+10</td>\n",
       "      <td>3.535661e+13</td>\n",
       "      <td>T21824A</td>\n",
       "      <td>109.795706</td>\n",
       "      <td>17.662883</td>\n",
       "      <td>44.0</td>\n",
       "      <td>44.0</td>\n",
       "      <td>2.080991e+07</td>\n",
       "      <td>759658.664811</td>\n",
       "      <td>1.144710e+08</td>\n",
       "      <td>3.242301e+06</td>\n",
       "      <td>3330.0</td>\n",
       "      <td>37882.0</td>\n",
       "      <td>1.321510e+09</td>\n",
       "      <td>undefined</td>\n",
       "      <td>undefined</td>\n",
       "      <td>644121.0</td>\n",
       "      <td>13372.0</td>\n",
       "      <td>9023734.0</td>\n",
       "      <td>2788027.0</td>\n",
       "      <td>1439754.0</td>\n",
       "      <td>631229.0</td>\n",
       "      <td>21388122.0</td>\n",
       "      <td>15146643.0</td>\n",
       "      <td>13994646.0</td>\n",
       "      <td>1097942.0</td>\n",
       "      <td>799538153.0</td>\n",
       "      <td>10849722.0</td>\n",
       "      <td>749039933.0</td>\n",
       "      <td>12797283.0</td>\n",
       "      <td>43324218.0</td>\n",
       "      <td>846028530.0</td>\n",
       "    </tr>\n",
       "    <tr>\n",
       "      <th>4</th>\n",
       "      <td>13114483499480700928</td>\n",
       "      <td>2.082014e+14</td>\n",
       "      <td>3.369980e+10</td>\n",
       "      <td>3.540701e+13</td>\n",
       "      <td>D88865A</td>\n",
       "      <td>109.795706</td>\n",
       "      <td>17.662883</td>\n",
       "      <td>6.0</td>\n",
       "      <td>9.0</td>\n",
       "      <td>2.080991e+07</td>\n",
       "      <td>759658.664811</td>\n",
       "      <td>1.144710e+08</td>\n",
       "      <td>3.242301e+06</td>\n",
       "      <td>0.0</td>\n",
       "      <td>0.0</td>\n",
       "      <td>1.089009e+09</td>\n",
       "      <td>Samsung</td>\n",
       "      <td>Samsung Sm-G390F</td>\n",
       "      <td>862600.0</td>\n",
       "      <td>50188.0</td>\n",
       "      <td>6248284.0</td>\n",
       "      <td>1500559.0</td>\n",
       "      <td>1936496.0</td>\n",
       "      <td>173853.0</td>\n",
       "      <td>15259380.0</td>\n",
       "      <td>18962873.0</td>\n",
       "      <td>17124581.0</td>\n",
       "      <td>415218.0</td>\n",
       "      <td>527707248.0</td>\n",
       "      <td>3529801.0</td>\n",
       "      <td>550709500.0</td>\n",
       "      <td>13910322.0</td>\n",
       "      <td>38542814.0</td>\n",
       "      <td>569138589.0</td>\n",
       "    </tr>\n",
       "  </tbody>\n",
       "</table>\n",
       "</div>"
      ],
      "text/plain": [
       "              Bearer Id          IMSI  MSISDN/Number          IMEI  \\\n",
       "0  13114483460844900352  2.082014e+14   3.366496e+10  3.552121e+13   \n",
       "1  13114483482878900224  2.082019e+14   3.368185e+10  3.579401e+13   \n",
       "2  13114483484080500736  2.082003e+14   3.376063e+10  3.528151e+13   \n",
       "3  13114483485442799616  2.082014e+14   3.375034e+10  3.535661e+13   \n",
       "4  13114483499480700928  2.082014e+14   3.369980e+10  3.540701e+13   \n",
       "\n",
       "  Last Location Name  Avg RTT DL (ms)  Avg RTT UL (ms)  \\\n",
       "0   9164566995485190        42.000000         5.000000   \n",
       "1            L77566A        65.000000         5.000000   \n",
       "2            D42335A       109.795706        17.662883   \n",
       "3            T21824A       109.795706        17.662883   \n",
       "4            D88865A       109.795706        17.662883   \n",
       "\n",
       "   Avg Bearer TP DL (kbps)  Avg Bearer TP UL (kbps)  \\\n",
       "0                     23.0                     44.0   \n",
       "1                     16.0                     26.0   \n",
       "2                      6.0                      9.0   \n",
       "3                     44.0                     44.0   \n",
       "4                      6.0                      9.0   \n",
       "\n",
       "   TCP DL Retrans. Vol (Bytes)  TCP UL Retrans. Vol (Bytes)  HTTP DL (Bytes)  \\\n",
       "0                 2.080991e+07                759658.664811     1.144710e+08   \n",
       "1                 2.080991e+07                759658.664811     1.144710e+08   \n",
       "2                 2.080991e+07                759658.664811     1.144710e+08   \n",
       "3                 2.080991e+07                759658.664811     1.144710e+08   \n",
       "4                 2.080991e+07                759658.664811     1.144710e+08   \n",
       "\n",
       "   HTTP UL (Bytes)  Activity Duration DL (ms)  Activity Duration UL (ms)  \\\n",
       "0     3.242301e+06                    37624.0                    38787.0   \n",
       "1     3.242301e+06                      168.0                     3560.0   \n",
       "2     3.242301e+06                        0.0                        0.0   \n",
       "3     3.242301e+06                     3330.0                    37882.0   \n",
       "4     3.242301e+06                        0.0                        0.0   \n",
       "\n",
       "    Dur. (ms).1 Handset Manufacturer                 Handset Type  \\\n",
       "0  1.823653e+09              Samsung   Samsung Galaxy A5 Sm-A520F   \n",
       "1  1.365104e+09              Samsung  Samsung Galaxy J5 (Sm-J530)   \n",
       "2  1.361763e+09              Samsung     Samsung Galaxy A8 (2018)   \n",
       "3  1.321510e+09            undefined                    undefined   \n",
       "4  1.089009e+09              Samsung             Samsung Sm-G390F   \n",
       "\n",
       "   Social Media DL (Bytes)  Social Media UL (Bytes)  Google DL (Bytes)  \\\n",
       "0                1545765.0                  24420.0          1634479.0   \n",
       "1                1926113.0                   7165.0          3493924.0   \n",
       "2                1684053.0                  42224.0          8535055.0   \n",
       "3                 644121.0                  13372.0          9023734.0   \n",
       "4                 862600.0                  50188.0          6248284.0   \n",
       "\n",
       "   Google UL (Bytes)  Email DL (Bytes)  Email UL (Bytes)  Youtube DL (Bytes)  \\\n",
       "0          1271433.0         3563542.0          137762.0          15854611.0   \n",
       "1           920172.0          629046.0          308339.0          20247395.0   \n",
       "2          1694064.0         2690151.0          672973.0          19725661.0   \n",
       "3          2788027.0         1439754.0          631229.0          21388122.0   \n",
       "4          1500559.0         1936496.0          173853.0          15259380.0   \n",
       "\n",
       "   Youtube UL (Bytes)  Netflix DL (Bytes)  Netflix UL (Bytes)  \\\n",
       "0           2501332.0           8198936.0           9656251.0   \n",
       "1          19111729.0          18338413.0          17227132.0   \n",
       "2          14699576.0          17587794.0           6163408.0   \n",
       "3          15146643.0          13994646.0           1097942.0   \n",
       "4          18962873.0          17124581.0            415218.0   \n",
       "\n",
       "   Gaming DL (Bytes)  Gaming UL (Bytes)  Other DL (Bytes)  Other UL (Bytes)  \\\n",
       "0        278082303.0         14344150.0       171744450.0         8814393.0   \n",
       "1        608750074.0          1170709.0       526904238.0        15055145.0   \n",
       "2        229584621.0           395630.0       410692588.0         4215763.0   \n",
       "3        799538153.0         10849722.0       749039933.0        12797283.0   \n",
       "4        527707248.0          3529801.0       550709500.0        13910322.0   \n",
       "\n",
       "   Total UL (Bytes)  Total DL (Bytes)  \n",
       "0        36749741.0       308879636.0  \n",
       "1        53800391.0       653384965.0  \n",
       "2        27883638.0       279807335.0  \n",
       "3        43324218.0       846028530.0  \n",
       "4        38542814.0       569138589.0  "
      ]
     },
     "execution_count": 2,
     "metadata": {},
     "output_type": "execute_result"
    }
   ],
   "source": [
    "# loading our dataset from its saved pickle\n",
    "df = pd.read_pickle('week_2_challenge.pkl')\n",
    "df.head()"
   ]
  },
  {
   "cell_type": "markdown",
   "metadata": {},
   "source": [
    "# 3. Data Analysis "
   ]
  },
  {
   "cell_type": "markdown",
   "metadata": {},
   "source": [
    "**Task:** Aggregate the following metrics per customer id (MSISDN) and report the top 10 customers per engagement metric:\n",
    "- sessions frequency\n",
    "- the duration of the session\n",
    "- the sessions total traffic (download and upload (bytes))"
   ]
  },
  {
   "cell_type": "code",
   "execution_count": 3,
   "metadata": {},
   "outputs": [
    {
     "data": {
      "text/html": [
       "<div>\n",
       "<style scoped>\n",
       "    .dataframe tbody tr th:only-of-type {\n",
       "        vertical-align: middle;\n",
       "    }\n",
       "\n",
       "    .dataframe tbody tr th {\n",
       "        vertical-align: top;\n",
       "    }\n",
       "\n",
       "    .dataframe thead th {\n",
       "        text-align: right;\n",
       "    }\n",
       "</style>\n",
       "<table border=\"1\" class=\"dataframe\">\n",
       "  <thead>\n",
       "    <tr style=\"text-align: right;\">\n",
       "      <th></th>\n",
       "      <th>Bearer Id</th>\n",
       "      <th>MSISDN/Number</th>\n",
       "      <th>Dur. (ms).1</th>\n",
       "      <th>Total UL (Bytes)</th>\n",
       "      <th>Total DL (Bytes)</th>\n",
       "      <th>Total Data (Bytes)</th>\n",
       "    </tr>\n",
       "  </thead>\n",
       "  <tbody>\n",
       "    <tr>\n",
       "      <th>53210</th>\n",
       "      <td>7349883251331520512</td>\n",
       "      <td>3.364136e+10</td>\n",
       "      <td>183421364.0</td>\n",
       "      <td>48090485.0</td>\n",
       "      <td>722400060.0</td>\n",
       "      <td>770490545.0</td>\n",
       "    </tr>\n",
       "    <tr>\n",
       "      <th>125148</th>\n",
       "      <td>13114483550727399424</td>\n",
       "      <td>3.366761e+10</td>\n",
       "      <td>519456806.0</td>\n",
       "      <td>46828564.0</td>\n",
       "      <td>630918208.0</td>\n",
       "      <td>677746772.0</td>\n",
       "    </tr>\n",
       "    <tr>\n",
       "      <th>118253</th>\n",
       "      <td>7349883261122379776</td>\n",
       "      <td>3.365838e+10</td>\n",
       "      <td>88124314.0</td>\n",
       "      <td>50531021.0</td>\n",
       "      <td>211582762.0</td>\n",
       "      <td>262113783.0</td>\n",
       "    </tr>\n",
       "    <tr>\n",
       "      <th>75887</th>\n",
       "      <td>13114483563569899520</td>\n",
       "      <td>3.365053e+10</td>\n",
       "      <td>115081687.0</td>\n",
       "      <td>60615408.0</td>\n",
       "      <td>200164368.0</td>\n",
       "      <td>260779776.0</td>\n",
       "    </tr>\n",
       "    <tr>\n",
       "      <th>139447</th>\n",
       "      <td>13042425978778499072</td>\n",
       "      <td>3.376080e+10</td>\n",
       "      <td>86204057.0</td>\n",
       "      <td>35806900.0</td>\n",
       "      <td>382656882.0</td>\n",
       "      <td>418463782.0</td>\n",
       "    </tr>\n",
       "  </tbody>\n",
       "</table>\n",
       "</div>"
      ],
      "text/plain": [
       "                   Bearer Id  MSISDN/Number  Dur. (ms).1  Total UL (Bytes)  \\\n",
       "53210    7349883251331520512   3.364136e+10  183421364.0        48090485.0   \n",
       "125148  13114483550727399424   3.366761e+10  519456806.0        46828564.0   \n",
       "118253   7349883261122379776   3.365838e+10   88124314.0        50531021.0   \n",
       "75887   13114483563569899520   3.365053e+10  115081687.0        60615408.0   \n",
       "139447  13042425978778499072   3.376080e+10   86204057.0        35806900.0   \n",
       "\n",
       "        Total DL (Bytes)  Total Data (Bytes)  \n",
       "53210        722400060.0         770490545.0  \n",
       "125148       630918208.0         677746772.0  \n",
       "118253       211582762.0         262113783.0  \n",
       "75887        200164368.0         260779776.0  \n",
       "139447       382656882.0         418463782.0  "
      ]
     },
     "execution_count": 3,
     "metadata": {},
     "output_type": "execute_result"
    }
   ],
   "source": [
    "task_2_df = df[['Bearer Id', 'MSISDN/Number', 'Dur. (ms).1','Total UL (Bytes)', 'Total DL (Bytes)']].copy()\n",
    "task_2_df['Total Data (Bytes)'] = task_2_df['Total UL (Bytes)'] + task_2_df['Total DL (Bytes)']\n",
    "task_2_df.sample(5)"
   ]
  },
  {
   "cell_type": "code",
   "execution_count": 4,
   "metadata": {},
   "outputs": [
    {
     "data": {
      "text/plain": [
       "MSISDN/Number\n",
       "4.188282e+10    1066\n",
       "3.362632e+10      18\n",
       "3.361489e+10      17\n",
       "3.362578e+10      17\n",
       "3.365973e+10      16\n",
       "3.376054e+10      15\n",
       "3.367588e+10      15\n",
       "3.366716e+10      13\n",
       "3.360313e+10      12\n",
       "3.362708e+10      12\n",
       "Name: Bearer Id, dtype: int64"
      ]
     },
     "execution_count": 4,
     "metadata": {},
     "output_type": "execute_result"
    }
   ],
   "source": [
    "# sessions per user\n",
    "user_sessions = pd.DataFrame(task_2_df.groupby('MSISDN/Number')['Bearer Id'].count())\n",
    "\n",
    "# get top 10\n",
    "user_sessions['Bearer Id'].sort_values(ascending = False).iloc[:10]"
   ]
  },
  {
   "cell_type": "code",
   "execution_count": 5,
   "metadata": {},
   "outputs": [
    {
     "data": {
      "text/plain": [
       "MSISDN/Number\n",
       "4.188282e+10    7.255155e+10\n",
       "3.362578e+10    1.855376e+10\n",
       "3.361489e+10    9.966906e+09\n",
       "3.376054e+10    9.279442e+09\n",
       "3.362632e+10    8.791937e+09\n",
       "3.366716e+10    8.744922e+09\n",
       "3.366284e+10    6.614274e+09\n",
       "3.366469e+10    6.288736e+09\n",
       "3.360313e+10    6.287767e+09\n",
       "3.366746e+10    5.649885e+09\n",
       "Name: Dur. (ms).1, dtype: float64"
      ]
     },
     "execution_count": 5,
     "metadata": {},
     "output_type": "execute_result"
    }
   ],
   "source": [
    "# session duration per user\n",
    "user_duration = pd.DataFrame(task_2_df.groupby('MSISDN/Number')['Dur. (ms).1'].sum())\n",
    "\n",
    "# get top 10\n",
    "user_duration['Dur. (ms).1'].sort_values(ascending = False).iloc[:10]"
   ]
  },
  {
   "cell_type": "code",
   "execution_count": 6,
   "metadata": {
    "scrolled": true
   },
   "outputs": [
    {
     "data": {
      "text/plain": [
       "MSISDN/Number\n",
       "4.188282e+10    5.317447e+11\n",
       "3.361489e+10    8.846226e+09\n",
       "3.376054e+10    8.514774e+09\n",
       "3.362578e+10    8.499621e+09\n",
       "3.362632e+10    7.971167e+09\n",
       "3.367588e+10    7.891111e+09\n",
       "3.365973e+10    7.705863e+09\n",
       "3.366646e+10    7.308501e+09\n",
       "3.376041e+10    7.132371e+09\n",
       "3.366471e+10    6.872018e+09\n",
       "Name: Total Data (Bytes), dtype: float64"
      ]
     },
     "execution_count": 6,
     "metadata": {},
     "output_type": "execute_result"
    }
   ],
   "source": [
    "# total_data per user\n",
    "user_data = pd.DataFrame(task_2_df.groupby('MSISDN/Number')['Total Data (Bytes)'].sum())\n",
    "\n",
    "# get top 10\n",
    "user_data['Total Data (Bytes)'].sort_values(ascending = False).iloc[:10]"
   ]
  },
  {
   "cell_type": "code",
   "execution_count": 7,
   "metadata": {},
   "outputs": [
    {
     "data": {
      "text/html": [
       "<div>\n",
       "<style scoped>\n",
       "    .dataframe tbody tr th:only-of-type {\n",
       "        vertical-align: middle;\n",
       "    }\n",
       "\n",
       "    .dataframe tbody tr th {\n",
       "        vertical-align: top;\n",
       "    }\n",
       "\n",
       "    .dataframe thead th {\n",
       "        text-align: right;\n",
       "    }\n",
       "</style>\n",
       "<table border=\"1\" class=\"dataframe\">\n",
       "  <thead>\n",
       "    <tr style=\"text-align: right;\">\n",
       "      <th></th>\n",
       "      <th>Bearer Id</th>\n",
       "      <th>Dur. (ms).1</th>\n",
       "      <th>Total Data (Bytes)</th>\n",
       "    </tr>\n",
       "    <tr>\n",
       "      <th>MSISDN/Number</th>\n",
       "      <th></th>\n",
       "      <th></th>\n",
       "      <th></th>\n",
       "    </tr>\n",
       "  </thead>\n",
       "  <tbody>\n",
       "    <tr>\n",
       "      <th>3.360100e+10</th>\n",
       "      <td>1</td>\n",
       "      <td>116720140.0</td>\n",
       "      <td>8.786906e+08</td>\n",
       "    </tr>\n",
       "    <tr>\n",
       "      <th>3.360100e+10</th>\n",
       "      <td>1</td>\n",
       "      <td>181230963.0</td>\n",
       "      <td>1.568596e+08</td>\n",
       "    </tr>\n",
       "    <tr>\n",
       "      <th>3.360100e+10</th>\n",
       "      <td>1</td>\n",
       "      <td>134969374.0</td>\n",
       "      <td>5.959665e+08</td>\n",
       "    </tr>\n",
       "    <tr>\n",
       "      <th>3.360101e+10</th>\n",
       "      <td>1</td>\n",
       "      <td>49878024.0</td>\n",
       "      <td>4.223207e+08</td>\n",
       "    </tr>\n",
       "    <tr>\n",
       "      <th>3.360101e+10</th>\n",
       "      <td>2</td>\n",
       "      <td>37104453.0</td>\n",
       "      <td>1.457411e+09</td>\n",
       "    </tr>\n",
       "  </tbody>\n",
       "</table>\n",
       "</div>"
      ],
      "text/plain": [
       "               Bearer Id  Dur. (ms).1  Total Data (Bytes)\n",
       "MSISDN/Number                                            \n",
       "3.360100e+10           1  116720140.0        8.786906e+08\n",
       "3.360100e+10           1  181230963.0        1.568596e+08\n",
       "3.360100e+10           1  134969374.0        5.959665e+08\n",
       "3.360101e+10           1   49878024.0        4.223207e+08\n",
       "3.360101e+10           2   37104453.0        1.457411e+09"
      ]
     },
     "execution_count": 7,
     "metadata": {},
     "output_type": "execute_result"
    }
   ],
   "source": [
    "# concatenate all of them\n",
    "user_metrics = pd.merge(user_sessions, user_duration, left_index = True, right_index = True)\n",
    "user_metrics = pd.merge(user_metrics, user_data, left_index = True, right_index = True)\n",
    "user_metrics.head()"
   ]
  },
  {
   "cell_type": "code",
   "execution_count": null,
   "metadata": {},
   "outputs": [],
   "source": []
  },
  {
   "cell_type": "markdown",
   "metadata": {},
   "source": [
    "**Task:** Compute the minimum, maximum, average & total non- normalized metrics for each cluster."
   ]
  },
  {
   "cell_type": "code",
   "execution_count": 8,
   "metadata": {},
   "outputs": [
    {
     "data": {
      "text/html": [
       "<div>\n",
       "<style scoped>\n",
       "    .dataframe tbody tr th:only-of-type {\n",
       "        vertical-align: middle;\n",
       "    }\n",
       "\n",
       "    .dataframe tbody tr th {\n",
       "        vertical-align: top;\n",
       "    }\n",
       "\n",
       "    .dataframe thead th {\n",
       "        text-align: right;\n",
       "    }\n",
       "</style>\n",
       "<table border=\"1\" class=\"dataframe\">\n",
       "  <thead>\n",
       "    <tr style=\"text-align: right;\">\n",
       "      <th></th>\n",
       "      <th>Bearer Id</th>\n",
       "      <th>Dur. (ms).1</th>\n",
       "      <th>Total Data (Bytes)</th>\n",
       "    </tr>\n",
       "  </thead>\n",
       "  <tbody>\n",
       "    <tr>\n",
       "      <th>min</th>\n",
       "      <td>1.000000</td>\n",
       "      <td>7.142988e+06</td>\n",
       "      <td>3.324901e+07</td>\n",
       "    </tr>\n",
       "    <tr>\n",
       "      <th>max</th>\n",
       "      <td>1066.000000</td>\n",
       "      <td>7.255155e+10</td>\n",
       "      <td>5.317447e+11</td>\n",
       "    </tr>\n",
       "    <tr>\n",
       "      <th>mean</th>\n",
       "      <td>1.403755</td>\n",
       "      <td>1.468455e+08</td>\n",
       "      <td>6.959319e+08</td>\n",
       "    </tr>\n",
       "    <tr>\n",
       "      <th>count</th>\n",
       "      <td>106857.000000</td>\n",
       "      <td>1.068570e+05</td>\n",
       "      <td>1.068570e+05</td>\n",
       "    </tr>\n",
       "  </tbody>\n",
       "</table>\n",
       "</div>"
      ],
      "text/plain": [
       "           Bearer Id   Dur. (ms).1  Total Data (Bytes)\n",
       "min         1.000000  7.142988e+06        3.324901e+07\n",
       "max      1066.000000  7.255155e+10        5.317447e+11\n",
       "mean        1.403755  1.468455e+08        6.959319e+08\n",
       "count  106857.000000  1.068570e+05        1.068570e+05"
      ]
     },
     "execution_count": 8,
     "metadata": {},
     "output_type": "execute_result"
    }
   ],
   "source": [
    "# get the descriptive statistics\n",
    "user_metrics.describe().loc[['min', 'max', 'mean', 'count']]"
   ]
  },
  {
   "cell_type": "code",
   "execution_count": null,
   "metadata": {},
   "outputs": [],
   "source": []
  },
  {
   "cell_type": "markdown",
   "metadata": {},
   "source": [
    "**Task:** Aggregate user total traffic per application and derive the top 10 most engaged users per application."
   ]
  },
  {
   "cell_type": "code",
   "execution_count": 9,
   "metadata": {},
   "outputs": [
    {
     "data": {
      "text/html": [
       "<div>\n",
       "<style scoped>\n",
       "    .dataframe tbody tr th:only-of-type {\n",
       "        vertical-align: middle;\n",
       "    }\n",
       "\n",
       "    .dataframe tbody tr th {\n",
       "        vertical-align: top;\n",
       "    }\n",
       "\n",
       "    .dataframe thead th {\n",
       "        text-align: right;\n",
       "    }\n",
       "</style>\n",
       "<table border=\"1\" class=\"dataframe\">\n",
       "  <thead>\n",
       "    <tr style=\"text-align: right;\">\n",
       "      <th></th>\n",
       "      <th>MSISDN/Number</th>\n",
       "      <th>Social Media DL (Bytes)</th>\n",
       "      <th>Social Media UL (Bytes)</th>\n",
       "      <th>Google DL (Bytes)</th>\n",
       "      <th>Google UL (Bytes)</th>\n",
       "      <th>Email DL (Bytes)</th>\n",
       "      <th>Email UL (Bytes)</th>\n",
       "      <th>Youtube DL (Bytes)</th>\n",
       "      <th>Youtube UL (Bytes)</th>\n",
       "      <th>Netflix DL (Bytes)</th>\n",
       "      <th>Netflix UL (Bytes)</th>\n",
       "      <th>Gaming DL (Bytes)</th>\n",
       "      <th>Gaming UL (Bytes)</th>\n",
       "      <th>Other DL (Bytes)</th>\n",
       "      <th>Other UL (Bytes)</th>\n",
       "    </tr>\n",
       "  </thead>\n",
       "  <tbody>\n",
       "    <tr>\n",
       "      <th>0</th>\n",
       "      <td>3.366496e+10</td>\n",
       "      <td>1545765.0</td>\n",
       "      <td>24420.0</td>\n",
       "      <td>1634479.0</td>\n",
       "      <td>1271433.0</td>\n",
       "      <td>3563542.0</td>\n",
       "      <td>137762.0</td>\n",
       "      <td>15854611.0</td>\n",
       "      <td>2501332.0</td>\n",
       "      <td>8198936.0</td>\n",
       "      <td>9656251.0</td>\n",
       "      <td>278082303.0</td>\n",
       "      <td>14344150.0</td>\n",
       "      <td>171744450.0</td>\n",
       "      <td>8814393.0</td>\n",
       "    </tr>\n",
       "    <tr>\n",
       "      <th>1</th>\n",
       "      <td>3.368185e+10</td>\n",
       "      <td>1926113.0</td>\n",
       "      <td>7165.0</td>\n",
       "      <td>3493924.0</td>\n",
       "      <td>920172.0</td>\n",
       "      <td>629046.0</td>\n",
       "      <td>308339.0</td>\n",
       "      <td>20247395.0</td>\n",
       "      <td>19111729.0</td>\n",
       "      <td>18338413.0</td>\n",
       "      <td>17227132.0</td>\n",
       "      <td>608750074.0</td>\n",
       "      <td>1170709.0</td>\n",
       "      <td>526904238.0</td>\n",
       "      <td>15055145.0</td>\n",
       "    </tr>\n",
       "    <tr>\n",
       "      <th>2</th>\n",
       "      <td>3.376063e+10</td>\n",
       "      <td>1684053.0</td>\n",
       "      <td>42224.0</td>\n",
       "      <td>8535055.0</td>\n",
       "      <td>1694064.0</td>\n",
       "      <td>2690151.0</td>\n",
       "      <td>672973.0</td>\n",
       "      <td>19725661.0</td>\n",
       "      <td>14699576.0</td>\n",
       "      <td>17587794.0</td>\n",
       "      <td>6163408.0</td>\n",
       "      <td>229584621.0</td>\n",
       "      <td>395630.0</td>\n",
       "      <td>410692588.0</td>\n",
       "      <td>4215763.0</td>\n",
       "    </tr>\n",
       "    <tr>\n",
       "      <th>3</th>\n",
       "      <td>3.375034e+10</td>\n",
       "      <td>644121.0</td>\n",
       "      <td>13372.0</td>\n",
       "      <td>9023734.0</td>\n",
       "      <td>2788027.0</td>\n",
       "      <td>1439754.0</td>\n",
       "      <td>631229.0</td>\n",
       "      <td>21388122.0</td>\n",
       "      <td>15146643.0</td>\n",
       "      <td>13994646.0</td>\n",
       "      <td>1097942.0</td>\n",
       "      <td>799538153.0</td>\n",
       "      <td>10849722.0</td>\n",
       "      <td>749039933.0</td>\n",
       "      <td>12797283.0</td>\n",
       "    </tr>\n",
       "    <tr>\n",
       "      <th>4</th>\n",
       "      <td>3.369980e+10</td>\n",
       "      <td>862600.0</td>\n",
       "      <td>50188.0</td>\n",
       "      <td>6248284.0</td>\n",
       "      <td>1500559.0</td>\n",
       "      <td>1936496.0</td>\n",
       "      <td>173853.0</td>\n",
       "      <td>15259380.0</td>\n",
       "      <td>18962873.0</td>\n",
       "      <td>17124581.0</td>\n",
       "      <td>415218.0</td>\n",
       "      <td>527707248.0</td>\n",
       "      <td>3529801.0</td>\n",
       "      <td>550709500.0</td>\n",
       "      <td>13910322.0</td>\n",
       "    </tr>\n",
       "  </tbody>\n",
       "</table>\n",
       "</div>"
      ],
      "text/plain": [
       "   MSISDN/Number  Social Media DL (Bytes)  Social Media UL (Bytes)  \\\n",
       "0   3.366496e+10                1545765.0                  24420.0   \n",
       "1   3.368185e+10                1926113.0                   7165.0   \n",
       "2   3.376063e+10                1684053.0                  42224.0   \n",
       "3   3.375034e+10                 644121.0                  13372.0   \n",
       "4   3.369980e+10                 862600.0                  50188.0   \n",
       "\n",
       "   Google DL (Bytes)  Google UL (Bytes)  Email DL (Bytes)  Email UL (Bytes)  \\\n",
       "0          1634479.0          1271433.0         3563542.0          137762.0   \n",
       "1          3493924.0           920172.0          629046.0          308339.0   \n",
       "2          8535055.0          1694064.0         2690151.0          672973.0   \n",
       "3          9023734.0          2788027.0         1439754.0          631229.0   \n",
       "4          6248284.0          1500559.0         1936496.0          173853.0   \n",
       "\n",
       "   Youtube DL (Bytes)  Youtube UL (Bytes)  Netflix DL (Bytes)  \\\n",
       "0          15854611.0           2501332.0           8198936.0   \n",
       "1          20247395.0          19111729.0          18338413.0   \n",
       "2          19725661.0          14699576.0          17587794.0   \n",
       "3          21388122.0          15146643.0          13994646.0   \n",
       "4          15259380.0          18962873.0          17124581.0   \n",
       "\n",
       "   Netflix UL (Bytes)  Gaming DL (Bytes)  Gaming UL (Bytes)  Other DL (Bytes)  \\\n",
       "0           9656251.0        278082303.0         14344150.0       171744450.0   \n",
       "1          17227132.0        608750074.0          1170709.0       526904238.0   \n",
       "2           6163408.0        229584621.0           395630.0       410692588.0   \n",
       "3           1097942.0        799538153.0         10849722.0       749039933.0   \n",
       "4            415218.0        527707248.0          3529801.0       550709500.0   \n",
       "\n",
       "   Other UL (Bytes)  \n",
       "0         8814393.0  \n",
       "1        15055145.0  \n",
       "2         4215763.0  \n",
       "3        12797283.0  \n",
       "4        13910322.0  "
      ]
     },
     "execution_count": 9,
     "metadata": {},
     "output_type": "execute_result"
    }
   ],
   "source": [
    "first_app = df.columns.get_loc('Social Media DL (Bytes)')\n",
    "last_app = df.columns.get_loc('Other UL (Bytes)')\n",
    "\n",
    "# getting the application columns \n",
    "app_columns = []\n",
    "for i in range(first_app, last_app + 1):\n",
    "    app_columns.append(df.columns[i])\n",
    "\n",
    "# insert MSISDN at top of list\n",
    "app_columns.insert(0, 'MSISDN/Number')\n",
    "\n",
    "# create dataframe with this\n",
    "app_data = df[app_columns].copy()\n",
    "app_data.head()"
   ]
  },
  {
   "cell_type": "code",
   "execution_count": 10,
   "metadata": {},
   "outputs": [
    {
     "data": {
      "text/html": [
       "<div>\n",
       "<style scoped>\n",
       "    .dataframe tbody tr th:only-of-type {\n",
       "        vertical-align: middle;\n",
       "    }\n",
       "\n",
       "    .dataframe tbody tr th {\n",
       "        vertical-align: top;\n",
       "    }\n",
       "\n",
       "    .dataframe thead th {\n",
       "        text-align: right;\n",
       "    }\n",
       "</style>\n",
       "<table border=\"1\" class=\"dataframe\">\n",
       "  <thead>\n",
       "    <tr style=\"text-align: right;\">\n",
       "      <th></th>\n",
       "      <th>MSISDN/Number</th>\n",
       "      <th>Social Media</th>\n",
       "      <th>Google</th>\n",
       "      <th>Email</th>\n",
       "      <th>Youtube</th>\n",
       "      <th>Netflix</th>\n",
       "      <th>Gaming</th>\n",
       "      <th>Other</th>\n",
       "    </tr>\n",
       "  </thead>\n",
       "  <tbody>\n",
       "    <tr>\n",
       "      <th>0</th>\n",
       "      <td>3.366496e+10</td>\n",
       "      <td>1570185.0</td>\n",
       "      <td>2905912.0</td>\n",
       "      <td>3701304.0</td>\n",
       "      <td>18355943.0</td>\n",
       "      <td>17855187.0</td>\n",
       "      <td>292426453.0</td>\n",
       "      <td>180558843.0</td>\n",
       "    </tr>\n",
       "    <tr>\n",
       "      <th>1</th>\n",
       "      <td>3.368185e+10</td>\n",
       "      <td>1933278.0</td>\n",
       "      <td>4414096.0</td>\n",
       "      <td>937385.0</td>\n",
       "      <td>39359124.0</td>\n",
       "      <td>35565545.0</td>\n",
       "      <td>609920783.0</td>\n",
       "      <td>541959383.0</td>\n",
       "    </tr>\n",
       "    <tr>\n",
       "      <th>2</th>\n",
       "      <td>3.376063e+10</td>\n",
       "      <td>1726277.0</td>\n",
       "      <td>10229119.0</td>\n",
       "      <td>3363124.0</td>\n",
       "      <td>34425237.0</td>\n",
       "      <td>23751202.0</td>\n",
       "      <td>229980251.0</td>\n",
       "      <td>414908351.0</td>\n",
       "    </tr>\n",
       "    <tr>\n",
       "      <th>3</th>\n",
       "      <td>3.375034e+10</td>\n",
       "      <td>657493.0</td>\n",
       "      <td>11811761.0</td>\n",
       "      <td>2070983.0</td>\n",
       "      <td>36534765.0</td>\n",
       "      <td>15092588.0</td>\n",
       "      <td>810387875.0</td>\n",
       "      <td>761837216.0</td>\n",
       "    </tr>\n",
       "    <tr>\n",
       "      <th>4</th>\n",
       "      <td>3.369980e+10</td>\n",
       "      <td>912788.0</td>\n",
       "      <td>7748843.0</td>\n",
       "      <td>2110349.0</td>\n",
       "      <td>34222253.0</td>\n",
       "      <td>17539799.0</td>\n",
       "      <td>531237049.0</td>\n",
       "      <td>564619822.0</td>\n",
       "    </tr>\n",
       "  </tbody>\n",
       "</table>\n",
       "</div>"
      ],
      "text/plain": [
       "   MSISDN/Number  Social Media      Google      Email     Youtube     Netflix  \\\n",
       "0   3.366496e+10     1570185.0   2905912.0  3701304.0  18355943.0  17855187.0   \n",
       "1   3.368185e+10     1933278.0   4414096.0   937385.0  39359124.0  35565545.0   \n",
       "2   3.376063e+10     1726277.0  10229119.0  3363124.0  34425237.0  23751202.0   \n",
       "3   3.375034e+10      657493.0  11811761.0  2070983.0  36534765.0  15092588.0   \n",
       "4   3.369980e+10      912788.0   7748843.0  2110349.0  34222253.0  17539799.0   \n",
       "\n",
       "        Gaming        Other  \n",
       "0  292426453.0  180558843.0  \n",
       "1  609920783.0  541959383.0  \n",
       "2  229980251.0  414908351.0  \n",
       "3  810387875.0  761837216.0  \n",
       "4  531237049.0  564619822.0  "
      ]
     },
     "execution_count": 10,
     "metadata": {},
     "output_type": "execute_result"
    }
   ],
   "source": [
    "# get total data per application\n",
    "app_data['Social Media'] = app_data['Social Media DL (Bytes)'] + app_data['Social Media UL (Bytes)']\n",
    "app_data['Google'] = app_data['Google DL (Bytes)'] + app_data['Google UL (Bytes)']\n",
    "app_data['Email'] = app_data['Email DL (Bytes)'] + app_data['Email UL (Bytes)']\n",
    "app_data['Youtube'] = app_data['Youtube DL (Bytes)'] + app_data['Youtube UL (Bytes)']\n",
    "app_data['Netflix'] = app_data['Netflix DL (Bytes)'] + app_data['Netflix UL (Bytes)']\n",
    "app_data['Gaming'] = app_data['Gaming DL (Bytes)'] + app_data['Gaming UL (Bytes)']\n",
    "app_data['Other'] = app_data['Other DL (Bytes)'] + app_data['Other UL (Bytes)']\n",
    "\n",
    "# dropping the unnecessary columns:\n",
    "app_columns.remove('MSISDN/Number')\n",
    "app_data = app_data.drop(columns = app_columns)\n",
    "\n",
    "# previewing our modified dataset\n",
    "app_data.head()"
   ]
  },
  {
   "cell_type": "code",
   "execution_count": 11,
   "metadata": {},
   "outputs": [
    {
     "data": {
      "text/plain": [
       "MSISDN/Number\n",
       "4.188282e+10    1.973817e+09\n",
       "3.362632e+10    4.337478e+07\n",
       "3.376054e+10    3.978319e+07\n",
       "3.365973e+10    3.541236e+07\n",
       "3.361489e+10    2.829454e+07\n",
       "3.362578e+10    2.713550e+07\n",
       "3.366716e+10    2.424785e+07\n",
       "3.378632e+10    2.397492e+07\n",
       "3.366907e+10    2.380083e+07\n",
       "3.360313e+10    2.307782e+07\n",
       "Name: Social Media, dtype: float64"
      ]
     },
     "execution_count": 11,
     "metadata": {},
     "output_type": "execute_result"
    }
   ],
   "source": [
    "# get top 10 Social Media users\n",
    "app_data.groupby('MSISDN/Number')['Social Media'].sum().sort_values(ascending = False).iloc[:10]"
   ]
  },
  {
   "cell_type": "code",
   "execution_count": 12,
   "metadata": {},
   "outputs": [
    {
     "data": {
      "text/plain": [
       "MSISDN/Number\n",
       "4.188282e+10    8.248577e+09\n",
       "3.362632e+10    1.521919e+08\n",
       "3.362578e+10    1.423079e+08\n",
       "3.361489e+10    1.279738e+08\n",
       "3.376054e+10    1.232231e+08\n",
       "3.365973e+10    1.165163e+08\n",
       "3.378632e+10    1.102545e+08\n",
       "3.367588e+10    1.098605e+08\n",
       "3.366716e+10    1.050327e+08\n",
       "3.376127e+10    9.708999e+07\n",
       "Name: Google, dtype: float64"
      ]
     },
     "execution_count": 12,
     "metadata": {},
     "output_type": "execute_result"
    }
   ],
   "source": [
    "# get top 10 Google users\n",
    "app_data.groupby('MSISDN/Number')['Google'].sum().sort_values(ascending = False).iloc[:10]"
   ]
  },
  {
   "cell_type": "code",
   "execution_count": 13,
   "metadata": {},
   "outputs": [
    {
     "data": {
      "text/plain": [
       "MSISDN/Number\n",
       "4.188282e+10    2.399880e+09\n",
       "3.362632e+10    4.241878e+07\n",
       "3.361489e+10    4.078863e+07\n",
       "3.362578e+10    4.063397e+07\n",
       "3.378632e+10    3.631012e+07\n",
       "3.365973e+10    3.599979e+07\n",
       "3.376054e+10    3.369377e+07\n",
       "3.367588e+10    3.151442e+07\n",
       "3.366546e+10    3.041788e+07\n",
       "3.366716e+10    3.033580e+07\n",
       "Name: Email, dtype: float64"
      ]
     },
     "execution_count": 13,
     "metadata": {},
     "output_type": "execute_result"
    }
   ],
   "source": [
    "# get top 10 Email users\n",
    "app_data.groupby('MSISDN/Number')['Email'].sum().sort_values(ascending = False).iloc[:10]"
   ]
  },
  {
   "cell_type": "code",
   "execution_count": 14,
   "metadata": {},
   "outputs": [
    {
     "data": {
      "text/plain": [
       "MSISDN/Number\n",
       "4.188282e+10    2.434073e+10\n",
       "3.362578e+10    4.529588e+08\n",
       "3.376054e+10    3.962892e+08\n",
       "3.361489e+10    3.943702e+08\n",
       "3.362632e+10    3.744830e+08\n",
       "3.367588e+10    3.174106e+08\n",
       "3.366716e+10    3.152313e+08\n",
       "3.362708e+10    3.087908e+08\n",
       "3.376041e+10    3.031691e+08\n",
       "3.369879e+10    3.026620e+08\n",
       "Name: Youtube, dtype: float64"
      ]
     },
     "execution_count": 14,
     "metadata": {},
     "output_type": "execute_result"
    }
   ],
   "source": [
    "# get top 10 Youtube users\n",
    "app_data.groupby('MSISDN/Number')['Youtube'].sum().sort_values(ascending = False).iloc[:10]"
   ]
  },
  {
   "cell_type": "code",
   "execution_count": 15,
   "metadata": {},
   "outputs": [
    {
     "data": {
      "text/plain": [
       "MSISDN/Number\n",
       "4.188282e+10    2.425357e+10\n",
       "3.365973e+10    3.995191e+08\n",
       "3.361489e+10    3.614010e+08\n",
       "3.362578e+10    3.569806e+08\n",
       "3.376054e+10    3.346433e+08\n",
       "3.362632e+10    3.287257e+08\n",
       "3.376041e+10    3.183475e+08\n",
       "3.366716e+10    3.139395e+08\n",
       "3.367588e+10    3.090932e+08\n",
       "3.378632e+10    3.059398e+08\n",
       "Name: Netflix, dtype: float64"
      ]
     },
     "execution_count": 15,
     "metadata": {},
     "output_type": "execute_result"
    }
   ],
   "source": [
    "# get top 10 Netflix users\n",
    "app_data.groupby('MSISDN/Number')['Netflix'].sum().sort_values(ascending = False).iloc[:10]"
   ]
  },
  {
   "cell_type": "code",
   "execution_count": 16,
   "metadata": {},
   "outputs": [
    {
     "data": {
      "text/plain": [
       "MSISDN/Number\n",
       "4.188282e+10    4.614780e+11\n",
       "3.361489e+10    7.749432e+09\n",
       "3.376054e+10    7.461045e+09\n",
       "3.362578e+10    7.326673e+09\n",
       "3.367588e+10    6.970568e+09\n",
       "3.362632e+10    6.887572e+09\n",
       "3.365973e+10    6.725559e+09\n",
       "3.366646e+10    6.646303e+09\n",
       "3.376041e+10    6.268620e+09\n",
       "3.366471e+10    6.103856e+09\n",
       "Name: Gaming, dtype: float64"
      ]
     },
     "execution_count": 16,
     "metadata": {},
     "output_type": "execute_result"
    }
   ],
   "source": [
    "# get top 10 Gaming users\n",
    "app_data.groupby('MSISDN/Number')['Gaming'].sum().sort_values(ascending = False).iloc[:10]"
   ]
  },
  {
   "cell_type": "code",
   "execution_count": 17,
   "metadata": {},
   "outputs": [
    {
     "data": {
      "text/plain": [
       "MSISDN/Number\n",
       "4.188282e+10    4.509784e+11\n",
       "3.362632e+10    8.167878e+09\n",
       "3.361489e+10    7.639264e+09\n",
       "3.367588e+10    6.798515e+09\n",
       "3.362578e+10    6.354583e+09\n",
       "3.360313e+10    6.326671e+09\n",
       "3.365973e+10    6.317415e+09\n",
       "3.362695e+10    5.305448e+09\n",
       "3.362708e+10    5.117791e+09\n",
       "3.376127e+10    5.077779e+09\n",
       "Name: Other, dtype: float64"
      ]
     },
     "execution_count": 17,
     "metadata": {},
     "output_type": "execute_result"
    }
   ],
   "source": [
    "# get top 10 Other users\n",
    "app_data.groupby('MSISDN/Number')['Other'].sum().sort_values(ascending = False).iloc[:10]"
   ]
  },
  {
   "cell_type": "code",
   "execution_count": 18,
   "metadata": {},
   "outputs": [
    {
     "data": {
      "text/plain": [
       "Index(['MSISDN/Number', 'Social Media', 'Google', 'Email', 'Youtube',\n",
       "       'Netflix', 'Gaming', 'Other'],\n",
       "      dtype='object')"
      ]
     },
     "execution_count": 18,
     "metadata": {},
     "output_type": "execute_result"
    }
   ],
   "source": [
    "app_data.columns"
   ]
  },
  {
   "cell_type": "markdown",
   "metadata": {},
   "source": [
    "**Task:** Plot the top 3 most used applications."
   ]
  },
  {
   "cell_type": "code",
   "execution_count": 19,
   "metadata": {},
   "outputs": [
    {
     "data": {
      "image/png": "[encoded data removed]",
      "text/plain": [
       "<Figure size 576x432 with 1 Axes>"
      ]
     },
     "metadata": {
      "needs_background": "light"
     },
     "output_type": "display_data"
    }
   ],
   "source": [
    "top_3_apps = app_data.sum().sort_values(ascending = False).iloc[1:4]\n",
    "colors = sns.color_palette('twilight', len(top_3_apps))\n",
    "\n",
    "plt.figure(figsize = (8, 6))\n",
    "top_3_apps.plot(kind = 'bar', rot = 0, color = colors)\n",
    "plt.title(\"Top 3 Applications\")\n",
    "plt.savefig('top 3 apps.png')\n",
    "plt.show()"
   ]
  },
  {
   "cell_type": "markdown",
   "metadata": {},
   "source": [
    "# 4. Data Modeling"
   ]
  },
  {
   "cell_type": "code",
   "execution_count": 20,
   "metadata": {},
   "outputs": [
    {
     "data": {
      "text/plain": [
       "array([[0.        , 0.00151048, 0.00159004],\n",
       "       [0.        , 0.00239974, 0.00023248],\n",
       "       [0.        , 0.00176204, 0.00105831],\n",
       "       ...,\n",
       "       [0.        , 0.011996  , 0.00037403],\n",
       "       [0.        , 0.00338947, 0.00105892],\n",
       "       [0.        , 0.01189204, 0.00019918]])"
      ]
     },
     "execution_count": 20,
     "metadata": {},
     "output_type": "execute_result"
    }
   ],
   "source": [
    "from sklearn.preprocessing import MinMaxScaler\n",
    "\n",
    "scaler = MinMaxScaler()\n",
    "scaled_user_metrics = scaler.fit_transform(user_metrics)\n",
    "scaled_user_metrics"
   ]
  },
  {
   "cell_type": "code",
   "execution_count": 21,
   "metadata": {},
   "outputs": [
    {
     "data": {
      "text/plain": [
       "array([1, 1, 1, ..., 0, 1, 0], dtype=int32)"
      ]
     },
     "execution_count": 21,
     "metadata": {},
     "output_type": "execute_result"
    }
   ],
   "source": [
    "# applying KMeans clustering with k = 3\n",
    "from sklearn.cluster import KMeans\n",
    "\n",
    "kmeans = KMeans(3)\n",
    "\n",
    "# fitting to our scaled data\n",
    "kmeans.fit(scaled_user_metrics)\n",
    "\n",
    "# getting our clusters\n",
    "k3_clusters = kmeans.labels_\n",
    "k3_clusters"
   ]
  },
  {
   "cell_type": "code",
   "execution_count": null,
   "metadata": {},
   "outputs": [],
   "source": []
  },
  {
   "cell_type": "code",
   "execution_count": 22,
   "metadata": {},
   "outputs": [
    {
     "data": {
      "image/png": "[encoded data removed]",
      "text/plain": [
       "<Figure size 720x576 with 1 Axes>"
      ]
     },
     "metadata": {
      "needs_background": "light"
     },
     "output_type": "display_data"
    }
   ],
   "source": [
    "# using the Elbow Method to determine the ideal number of clusters for K-Means\n",
    "\n",
    "wcss = [] # stands for \"Within Cluster Sum of Squares\"\n",
    "for i in range(1, 11):\n",
    "    kmeans = KMeans(n_clusters = i, init = 'k-means++')\n",
    "    kmeans.fit(scaled_user_metrics)\n",
    "    wcss.append(kmeans.inertia_)\n",
    "    \n",
    "# visualizing the inertia (WCSS)\n",
    "plt.figure(figsize = (10, 8))\n",
    "plt.plot(range(1, 11), wcss, 'bx-')\n",
    "plt.xlabel(\"Number of clusters\")\n",
    "plt.ylabel(\"inertia\")\n",
    "plt.title(\"Elbow Method of the Ideal Number of Clusters for KMeans\")\n",
    "plt.grid(True)\n",
    "plt.savefig(\"elbow method.png\")\n",
    "plt.show()"
   ]
  },
  {
   "cell_type": "markdown",
   "metadata": {},
   "source": [
    "From the above diagram, we see that the most ideal number of clusters to use is 5 because, from there, the decrease in inertia becomes insignificant."
   ]
  },
  {
   "cell_type": "code",
   "execution_count": 23,
   "metadata": {},
   "outputs": [
    {
     "data": {
      "text/html": [
       "<div>\n",
       "<style scoped>\n",
       "    .dataframe tbody tr th:only-of-type {\n",
       "        vertical-align: middle;\n",
       "    }\n",
       "\n",
       "    .dataframe tbody tr th {\n",
       "        vertical-align: top;\n",
       "    }\n",
       "\n",
       "    .dataframe thead th {\n",
       "        text-align: right;\n",
       "    }\n",
       "</style>\n",
       "<table border=\"1\" class=\"dataframe\">\n",
       "  <thead>\n",
       "    <tr style=\"text-align: right;\">\n",
       "      <th></th>\n",
       "      <th>Bearer Id</th>\n",
       "      <th>Dur. (ms).1</th>\n",
       "      <th>Total Data (Bytes)</th>\n",
       "      <th>clusters</th>\n",
       "    </tr>\n",
       "    <tr>\n",
       "      <th>MSISDN/Number</th>\n",
       "      <th></th>\n",
       "      <th></th>\n",
       "      <th></th>\n",
       "      <th></th>\n",
       "    </tr>\n",
       "  </thead>\n",
       "  <tbody>\n",
       "    <tr>\n",
       "      <th>3.360100e+10</th>\n",
       "      <td>1</td>\n",
       "      <td>116720140.0</td>\n",
       "      <td>8.786906e+08</td>\n",
       "      <td>2</td>\n",
       "    </tr>\n",
       "    <tr>\n",
       "      <th>3.360100e+10</th>\n",
       "      <td>1</td>\n",
       "      <td>181230963.0</td>\n",
       "      <td>1.568596e+08</td>\n",
       "      <td>2</td>\n",
       "    </tr>\n",
       "    <tr>\n",
       "      <th>3.360100e+10</th>\n",
       "      <td>1</td>\n",
       "      <td>134969374.0</td>\n",
       "      <td>5.959665e+08</td>\n",
       "      <td>2</td>\n",
       "    </tr>\n",
       "    <tr>\n",
       "      <th>3.360101e+10</th>\n",
       "      <td>1</td>\n",
       "      <td>49878024.0</td>\n",
       "      <td>4.223207e+08</td>\n",
       "      <td>2</td>\n",
       "    </tr>\n",
       "    <tr>\n",
       "      <th>3.360101e+10</th>\n",
       "      <td>2</td>\n",
       "      <td>37104453.0</td>\n",
       "      <td>1.457411e+09</td>\n",
       "      <td>2</td>\n",
       "    </tr>\n",
       "  </tbody>\n",
       "</table>\n",
       "</div>"
      ],
      "text/plain": [
       "               Bearer Id  Dur. (ms).1  Total Data (Bytes) clusters\n",
       "MSISDN/Number                                                     \n",
       "3.360100e+10           1  116720140.0        8.786906e+08        2\n",
       "3.360100e+10           1  181230963.0        1.568596e+08        2\n",
       "3.360100e+10           1  134969374.0        5.959665e+08        2\n",
       "3.360101e+10           1   49878024.0        4.223207e+08        2\n",
       "3.360101e+10           2   37104453.0        1.457411e+09        2"
      ]
     },
     "execution_count": 23,
     "metadata": {},
     "output_type": "execute_result"
    }
   ],
   "source": [
    "# applying KMeans clustering with k = 5\n",
    "k5 = KMeans(5)\n",
    "\n",
    "# fitting to our scaled data\n",
    "k5.fit(scaled_user_metrics)\n",
    "\n",
    "# getting our clusters\n",
    "k5_clusters = k5.labels_\n",
    "\n",
    "# adding the clusters to our dataframe\n",
    "user_metrics['clusters'] = k5_clusters.astype('object')\n",
    "\n",
    "# previewing our dataframe\n",
    "user_metrics.head()"
   ]
  },
  {
   "cell_type": "code",
   "execution_count": 24,
   "metadata": {},
   "outputs": [
    {
     "data": {
      "text/plain": [
       "2    91419\n",
       "0    14784\n",
       "3      628\n",
       "4       25\n",
       "1        1\n",
       "Name: clusters, dtype: int64"
      ]
     },
     "execution_count": 24,
     "metadata": {},
     "output_type": "execute_result"
    }
   ],
   "source": [
    "# previewing the distribution of clusters\n",
    "user_metrics.clusters.value_counts()"
   ]
  },
  {
   "cell_type": "code",
   "execution_count": 25,
   "metadata": {},
   "outputs": [],
   "source": [
    "# saving our data in CSV and pickle format\n",
    "user_metrics.to_csv('user_engagement_analysis.csv', index = False)\n",
    "user_metrics.to_pickle('user_engagement_analysis.pkl')"
   ]
  },
  {
   "cell_type": "markdown",
   "metadata": {},
   "source": [
    "# 5. Summary & Recommendations"
   ]
  }
 ],
 "metadata": {
  "kernelspec": {
   "display_name": "Python 3",
   "language": "python",
   "name": "python3"
  },
  "language_info": {
   "codemirror_mode": {
    "name": "ipython",
    "version": 3
   },
   "file_extension": ".py",
   "mimetype": "text/x-python",
   "name": "python",
   "nbconvert_exporter": "python",
   "pygments_lexer": "ipython3",
   "version": "3.7.4"
  }
 },
 "nbformat": 4,
 "nbformat_minor": 4
}
