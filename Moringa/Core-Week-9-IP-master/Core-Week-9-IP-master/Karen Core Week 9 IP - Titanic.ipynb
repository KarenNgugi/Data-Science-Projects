{
 "cells": [
  {
   "cell_type": "markdown",
   "metadata": {},
   "source": [
    "# 1. Introduction\n",
    "### Overview\n",
    "This week's project requires us to implement a K-nearest neighbor (KNN) classifier on the Titanic dataset. Once we conduct the experiments, we will calculate the resulting metrics.\n",
    "\n",
    "### 1.1 Research Question\n",
    "We are expected to use KNN to predict whether a passenger aboard the Titanic survived or not.\n",
    "\n",
    "### 1.2 Metric for Success\n",
    "Our model would be considered a success if it is able to compute an accuracy score of at least 80%. \n",
    "\n",
    "### 1.3 Context\n",
    "The RMS Titanic was a British ship that crashed into an iceberg and led to the untimely demise of hundreds of passengers on its maiden voyage in April 1912.\n",
    "\n",
    "### 1.4 Experimental Design\n",
    "1. Prepare dataset(s) and clean them\n",
    "2. Carry out exhaustive EDA\n",
    "3. Carry out modelling using KNN\n",
    "4. Optimize the KNN model\n",
    "5. Challenge the Solution\n",
    "6. Document everything.\n",
    "\n",
    "### 1.5 Appropriateness of Data\n",
    "I found the data to be very appropriate for the task. However, in some cases, it would have been better if the variables were a bit more clear. For example, on the 'Parch' variable, I did not understand whether it meant that the passenger had a parent or a child with them or both. The same can be said for the 'SibSp' variable. "
   ]
  },
  {
   "cell_type": "markdown",
   "metadata": {},
   "source": [
    "# 2. Data Preparation & Cleaning"
   ]
  },
  {
   "cell_type": "code",
   "execution_count": 1,
   "metadata": {},
   "outputs": [],
   "source": [
    "# importing basic Python libraries\n",
    "import pandas as pd\n",
    "import numpy as np\n",
    "import matplotlib.pyplot as plt\n",
    "import seaborn as sns"
   ]
  },
  {
   "cell_type": "code",
   "execution_count": 2,
   "metadata": {
    "scrolled": true
   },
   "outputs": [
    {
     "data": {
      "text/html": [
       "<div>\n",
       "<style scoped>\n",
       "    .dataframe tbody tr th:only-of-type {\n",
       "        vertical-align: middle;\n",
       "    }\n",
       "\n",
       "    .dataframe tbody tr th {\n",
       "        vertical-align: top;\n",
       "    }\n",
       "\n",
       "    .dataframe thead th {\n",
       "        text-align: right;\n",
       "    }\n",
       "</style>\n",
       "<table border=\"1\" class=\"dataframe\">\n",
       "  <thead>\n",
       "    <tr style=\"text-align: right;\">\n",
       "      <th></th>\n",
       "      <th>Survived</th>\n",
       "      <th>Pclass</th>\n",
       "      <th>Name</th>\n",
       "      <th>Sex</th>\n",
       "      <th>Age</th>\n",
       "      <th>SibSp</th>\n",
       "      <th>Parch</th>\n",
       "      <th>Ticket</th>\n",
       "      <th>Fare</th>\n",
       "      <th>Cabin</th>\n",
       "      <th>Embarked</th>\n",
       "    </tr>\n",
       "    <tr>\n",
       "      <th>PassengerId</th>\n",
       "      <th></th>\n",
       "      <th></th>\n",
       "      <th></th>\n",
       "      <th></th>\n",
       "      <th></th>\n",
       "      <th></th>\n",
       "      <th></th>\n",
       "      <th></th>\n",
       "      <th></th>\n",
       "      <th></th>\n",
       "      <th></th>\n",
       "    </tr>\n",
       "  </thead>\n",
       "  <tbody>\n",
       "    <tr>\n",
       "      <th>1</th>\n",
       "      <td>0</td>\n",
       "      <td>3</td>\n",
       "      <td>Braund, Mr. Owen Harris</td>\n",
       "      <td>male</td>\n",
       "      <td>22.0</td>\n",
       "      <td>1</td>\n",
       "      <td>0</td>\n",
       "      <td>A/5 21171</td>\n",
       "      <td>7.2500</td>\n",
       "      <td>NaN</td>\n",
       "      <td>S</td>\n",
       "    </tr>\n",
       "    <tr>\n",
       "      <th>2</th>\n",
       "      <td>1</td>\n",
       "      <td>1</td>\n",
       "      <td>Cumings, Mrs. John Bradley (Florence Briggs Th...</td>\n",
       "      <td>female</td>\n",
       "      <td>38.0</td>\n",
       "      <td>1</td>\n",
       "      <td>0</td>\n",
       "      <td>PC 17599</td>\n",
       "      <td>71.2833</td>\n",
       "      <td>C85</td>\n",
       "      <td>C</td>\n",
       "    </tr>\n",
       "    <tr>\n",
       "      <th>3</th>\n",
       "      <td>1</td>\n",
       "      <td>3</td>\n",
       "      <td>Heikkinen, Miss. Laina</td>\n",
       "      <td>female</td>\n",
       "      <td>26.0</td>\n",
       "      <td>0</td>\n",
       "      <td>0</td>\n",
       "      <td>STON/O2. 3101282</td>\n",
       "      <td>7.9250</td>\n",
       "      <td>NaN</td>\n",
       "      <td>S</td>\n",
       "    </tr>\n",
       "    <tr>\n",
       "      <th>4</th>\n",
       "      <td>1</td>\n",
       "      <td>1</td>\n",
       "      <td>Futrelle, Mrs. Jacques Heath (Lily May Peel)</td>\n",
       "      <td>female</td>\n",
       "      <td>35.0</td>\n",
       "      <td>1</td>\n",
       "      <td>0</td>\n",
       "      <td>113803</td>\n",
       "      <td>53.1000</td>\n",
       "      <td>C123</td>\n",
       "      <td>S</td>\n",
       "    </tr>\n",
       "    <tr>\n",
       "      <th>5</th>\n",
       "      <td>0</td>\n",
       "      <td>3</td>\n",
       "      <td>Allen, Mr. William Henry</td>\n",
       "      <td>male</td>\n",
       "      <td>35.0</td>\n",
       "      <td>0</td>\n",
       "      <td>0</td>\n",
       "      <td>373450</td>\n",
       "      <td>8.0500</td>\n",
       "      <td>NaN</td>\n",
       "      <td>S</td>\n",
       "    </tr>\n",
       "  </tbody>\n",
       "</table>\n",
       "</div>"
      ],
      "text/plain": [
       "             Survived  Pclass  \\\n",
       "PassengerId                     \n",
       "1                   0       3   \n",
       "2                   1       1   \n",
       "3                   1       3   \n",
       "4                   1       1   \n",
       "5                   0       3   \n",
       "\n",
       "                                                          Name     Sex   Age  \\\n",
       "PassengerId                                                                    \n",
       "1                                      Braund, Mr. Owen Harris    male  22.0   \n",
       "2            Cumings, Mrs. John Bradley (Florence Briggs Th...  female  38.0   \n",
       "3                                       Heikkinen, Miss. Laina  female  26.0   \n",
       "4                 Futrelle, Mrs. Jacques Heath (Lily May Peel)  female  35.0   \n",
       "5                                     Allen, Mr. William Henry    male  35.0   \n",
       "\n",
       "             SibSp  Parch            Ticket     Fare Cabin Embarked  \n",
       "PassengerId                                                          \n",
       "1                1      0         A/5 21171   7.2500   NaN        S  \n",
       "2                1      0          PC 17599  71.2833   C85        C  \n",
       "3                0      0  STON/O2. 3101282   7.9250   NaN        S  \n",
       "4                1      0            113803  53.1000  C123        S  \n",
       "5                0      0            373450   8.0500   NaN        S  "
      ]
     },
     "execution_count": 2,
     "metadata": {},
     "output_type": "execute_result"
    }
   ],
   "source": [
    "# loading & previewing train dataset\n",
    "train = pd.read_csv('train.csv', index_col = 'PassengerId')\n",
    "train.head()"
   ]
  },
  {
   "cell_type": "code",
   "execution_count": 3,
   "metadata": {},
   "outputs": [
    {
     "data": {
      "text/html": [
       "<div>\n",
       "<style scoped>\n",
       "    .dataframe tbody tr th:only-of-type {\n",
       "        vertical-align: middle;\n",
       "    }\n",
       "\n",
       "    .dataframe tbody tr th {\n",
       "        vertical-align: top;\n",
       "    }\n",
       "\n",
       "    .dataframe thead th {\n",
       "        text-align: right;\n",
       "    }\n",
       "</style>\n",
       "<table border=\"1\" class=\"dataframe\">\n",
       "  <thead>\n",
       "    <tr style=\"text-align: right;\">\n",
       "      <th></th>\n",
       "      <th>Pclass</th>\n",
       "      <th>Name</th>\n",
       "      <th>Sex</th>\n",
       "      <th>Age</th>\n",
       "      <th>SibSp</th>\n",
       "      <th>Parch</th>\n",
       "      <th>Ticket</th>\n",
       "      <th>Fare</th>\n",
       "      <th>Cabin</th>\n",
       "      <th>Embarked</th>\n",
       "    </tr>\n",
       "    <tr>\n",
       "      <th>PassengerId</th>\n",
       "      <th></th>\n",
       "      <th></th>\n",
       "      <th></th>\n",
       "      <th></th>\n",
       "      <th></th>\n",
       "      <th></th>\n",
       "      <th></th>\n",
       "      <th></th>\n",
       "      <th></th>\n",
       "      <th></th>\n",
       "    </tr>\n",
       "  </thead>\n",
       "  <tbody>\n",
       "    <tr>\n",
       "      <th>892</th>\n",
       "      <td>3</td>\n",
       "      <td>Kelly, Mr. James</td>\n",
       "      <td>male</td>\n",
       "      <td>34.5</td>\n",
       "      <td>0</td>\n",
       "      <td>0</td>\n",
       "      <td>330911</td>\n",
       "      <td>7.8292</td>\n",
       "      <td>NaN</td>\n",
       "      <td>Q</td>\n",
       "    </tr>\n",
       "    <tr>\n",
       "      <th>893</th>\n",
       "      <td>3</td>\n",
       "      <td>Wilkes, Mrs. James (Ellen Needs)</td>\n",
       "      <td>female</td>\n",
       "      <td>47.0</td>\n",
       "      <td>1</td>\n",
       "      <td>0</td>\n",
       "      <td>363272</td>\n",
       "      <td>7.0000</td>\n",
       "      <td>NaN</td>\n",
       "      <td>S</td>\n",
       "    </tr>\n",
       "    <tr>\n",
       "      <th>894</th>\n",
       "      <td>2</td>\n",
       "      <td>Myles, Mr. Thomas Francis</td>\n",
       "      <td>male</td>\n",
       "      <td>62.0</td>\n",
       "      <td>0</td>\n",
       "      <td>0</td>\n",
       "      <td>240276</td>\n",
       "      <td>9.6875</td>\n",
       "      <td>NaN</td>\n",
       "      <td>Q</td>\n",
       "    </tr>\n",
       "    <tr>\n",
       "      <th>895</th>\n",
       "      <td>3</td>\n",
       "      <td>Wirz, Mr. Albert</td>\n",
       "      <td>male</td>\n",
       "      <td>27.0</td>\n",
       "      <td>0</td>\n",
       "      <td>0</td>\n",
       "      <td>315154</td>\n",
       "      <td>8.6625</td>\n",
       "      <td>NaN</td>\n",
       "      <td>S</td>\n",
       "    </tr>\n",
       "    <tr>\n",
       "      <th>896</th>\n",
       "      <td>3</td>\n",
       "      <td>Hirvonen, Mrs. Alexander (Helga E Lindqvist)</td>\n",
       "      <td>female</td>\n",
       "      <td>22.0</td>\n",
       "      <td>1</td>\n",
       "      <td>1</td>\n",
       "      <td>3101298</td>\n",
       "      <td>12.2875</td>\n",
       "      <td>NaN</td>\n",
       "      <td>S</td>\n",
       "    </tr>\n",
       "  </tbody>\n",
       "</table>\n",
       "</div>"
      ],
      "text/plain": [
       "             Pclass                                          Name     Sex  \\\n",
       "PassengerId                                                                 \n",
       "892               3                              Kelly, Mr. James    male   \n",
       "893               3              Wilkes, Mrs. James (Ellen Needs)  female   \n",
       "894               2                     Myles, Mr. Thomas Francis    male   \n",
       "895               3                              Wirz, Mr. Albert    male   \n",
       "896               3  Hirvonen, Mrs. Alexander (Helga E Lindqvist)  female   \n",
       "\n",
       "              Age  SibSp  Parch   Ticket     Fare Cabin Embarked  \n",
       "PassengerId                                                       \n",
       "892          34.5      0      0   330911   7.8292   NaN        Q  \n",
       "893          47.0      1      0   363272   7.0000   NaN        S  \n",
       "894          62.0      0      0   240276   9.6875   NaN        Q  \n",
       "895          27.0      0      0   315154   8.6625   NaN        S  \n",
       "896          22.0      1      1  3101298  12.2875   NaN        S  "
      ]
     },
     "execution_count": 3,
     "metadata": {},
     "output_type": "execute_result"
    }
   ],
   "source": [
    "# loading & previewing test dataset\n",
    "test = pd.read_csv('test.csv', index_col = 'PassengerId')\n",
    "test.head()"
   ]
  },
  {
   "cell_type": "code",
   "execution_count": 4,
   "metadata": {},
   "outputs": [],
   "source": [
    "# dropping Name, Ticket, and Cabin since I consider them useless when it comes\n",
    "# to determining whether or not someone will survive\n",
    "train.drop(columns = ['Name', 'Ticket', 'Cabin'], axis = 1, inplace = True)\n",
    "test.drop(columns = ['Name', 'Ticket', 'Cabin'], axis = 1, inplace = True)"
   ]
  },
  {
   "cell_type": "code",
   "execution_count": 5,
   "metadata": {},
   "outputs": [
    {
     "name": "stdout",
     "output_type": "stream",
     "text": [
      "The 'train' dataset has 891 rows and 8 columns.\n",
      "The 'test' dataset has 418 rows and 7 columns.\n"
     ]
    }
   ],
   "source": [
    "print(\"The 'train' dataset has\", train.shape[0], \n",
    "      \"rows and\", train.shape[1], \"columns.\")\n",
    "print(\"The 'test' dataset has\", test.shape[0],\n",
    "      \"rows and\", test.shape[1], \"columns.\")"
   ]
  },
  {
   "cell_type": "code",
   "execution_count": 6,
   "metadata": {},
   "outputs": [
    {
     "name": "stdout",
     "output_type": "stream",
     "text": [
      "New 'train' dataset shape: (780, 8)\n",
      "New 'test' dataset shape: (380, 7)\n"
     ]
    }
   ],
   "source": [
    "# dropping duplicates, if any\n",
    "train = train.drop_duplicates()\n",
    "test = test.drop_duplicates()\n",
    "print(\"New 'train' dataset shape:\", train.shape)\n",
    "print(\"New 'test' dataset shape:\", test.shape)"
   ]
  },
  {
   "cell_type": "code",
   "execution_count": 7,
   "metadata": {},
   "outputs": [
    {
     "name": "stdout",
     "output_type": "stream",
     "text": [
      "<class 'pandas.core.frame.DataFrame'>\n",
      "Int64Index: 780 entries, 1 to 891\n",
      "Data columns (total 8 columns):\n",
      "Survived    780 non-null int64\n",
      "Pclass      780 non-null int64\n",
      "Sex         780 non-null object\n",
      "Age         676 non-null float64\n",
      "SibSp       780 non-null int64\n",
      "Parch       780 non-null int64\n",
      "Fare        780 non-null float64\n",
      "Embarked    778 non-null object\n",
      "dtypes: float64(2), int64(4), object(2)\n",
      "memory usage: 54.8+ KB\n",
      "\n",
      "\n",
      "<class 'pandas.core.frame.DataFrame'>\n",
      "Int64Index: 380 entries, 892 to 1309\n",
      "Data columns (total 7 columns):\n",
      "Pclass      380 non-null int64\n",
      "Sex         380 non-null object\n",
      "Age         322 non-null float64\n",
      "SibSp       380 non-null int64\n",
      "Parch       380 non-null int64\n",
      "Fare        379 non-null float64\n",
      "Embarked    380 non-null object\n",
      "dtypes: float64(2), int64(3), object(2)\n",
      "memory usage: 23.8+ KB\n"
     ]
    }
   ],
   "source": [
    "# checking basic info\n",
    "train.info()\n",
    "print(\"\\n\")\n",
    "test.info()"
   ]
  },
  {
   "cell_type": "code",
   "execution_count": 8,
   "metadata": {},
   "outputs": [
    {
     "name": "stdout",
     "output_type": "stream",
     "text": [
      "Survived      0\n",
      "Pclass        0\n",
      "Sex           0\n",
      "Age         104\n",
      "SibSp         0\n",
      "Parch         0\n",
      "Fare          0\n",
      "Embarked      2\n",
      "dtype: int64\n",
      "\n",
      "\n",
      "Pclass       0\n",
      "Sex          0\n",
      "Age         58\n",
      "SibSp        0\n",
      "Parch        0\n",
      "Fare         1\n",
      "Embarked     0\n",
      "dtype: int64\n"
     ]
    }
   ],
   "source": [
    "# checking for null values\n",
    "print(train.isna().sum())\n",
    "print(\"\\n\")\n",
    "print(test.isna().sum())"
   ]
  },
  {
   "cell_type": "markdown",
   "metadata": {},
   "source": [
    "The 'train' dataset is missing 2 values in its Embarked column while the 'test' dataset is missing one value in its Fare column. Both of these can be fixed by dropping their respecive records."
   ]
  },
  {
   "cell_type": "code",
   "execution_count": 9,
   "metadata": {},
   "outputs": [
    {
     "name": "stdout",
     "output_type": "stream",
     "text": [
      "Missing values in train's Embarked column: False\n",
      "Missing values in test's Fare column: False\n"
     ]
    }
   ],
   "source": [
    "train = train.dropna(subset = ['Embarked'])\n",
    "test = test.dropna(subset = ['Fare'])\n",
    "print(\"Missing values in train's Embarked column:\", train.Embarked.isna().any())\n",
    "print(\"Missing values in test's Fare column:\", test.Fare.isna().any())"
   ]
  },
  {
   "cell_type": "markdown",
   "metadata": {},
   "source": [
    "As for the missing values in the Age column (104 for 'train' and 58 for 'test). We will look at their box plots to see how many outliers they each have. If there are many outliers, we will impute with the mean, otherwise we will replace the missing values with the column's median."
   ]
  },
  {
   "cell_type": "code",
   "execution_count": 10,
   "metadata": {},
   "outputs": [
    {
     "data": {
      "image/png": "[encoded data removed]",
      "text/plain": [
       "<Figure size 432x288 with 1 Axes>"
      ]
     },
     "metadata": {
      "needs_background": "light"
     },
     "output_type": "display_data"
    },
    {
     "data": {
      "image/png": "[encoded data removed]",
      "text/plain": [
       "<Figure size 432x288 with 1 Axes>"
      ]
     },
     "metadata": {
      "needs_background": "light"
     },
     "output_type": "display_data"
    }
   ],
   "source": [
    "ds = [train, test]\n",
    "train.name = 'Train'\n",
    "test.name = 'Test'\n",
    "\n",
    "for data in ds:\n",
    "    data.Age.plot(kind = \"box\")\n",
    "    plt.title(\"Box plot of Age in {} dataset\".format(data.name))\n",
    "    plt.show()"
   ]
  },
  {
   "cell_type": "markdown",
   "metadata": {},
   "source": [
    "Both data sets do not have many outliers so we will replace the missing values with the mean."
   ]
  },
  {
   "cell_type": "code",
   "execution_count": 11,
   "metadata": {},
   "outputs": [
    {
     "name": "stdout",
     "output_type": "stream",
     "text": [
      "Missing values in Train dataset:\n",
      "Survived    False\n",
      "Pclass      False\n",
      "Sex         False\n",
      "Age         False\n",
      "SibSp       False\n",
      "Parch       False\n",
      "Fare        False\n",
      "Embarked    False\n",
      "dtype: bool\n",
      "\n",
      "Missing values in Test dataset:\n",
      "Pclass      False\n",
      "Sex         False\n",
      "Age         False\n",
      "SibSp       False\n",
      "Parch       False\n",
      "Fare        False\n",
      "Embarked    False\n",
      "dtype: bool\n"
     ]
    }
   ],
   "source": [
    "train = train.fillna(train.Age.mean())\n",
    "test = test.fillna(test.Age.mean())\n",
    "print(\"Missing values in Train dataset:\")\n",
    "print(train.isna().any())\n",
    "print(\"\\nMissing values in Test dataset:\")\n",
    "print(test.isna().any())"
   ]
  },
  {
   "cell_type": "markdown",
   "metadata": {},
   "source": [
    "Our datasets now have been cleaned of all missing values."
   ]
  },
  {
   "cell_type": "markdown",
   "metadata": {},
   "source": [
    "I have noticed something odd about the Age columns in both datasets. They are of data type float which does not make sense and also have values such as 0.42. We will convert these columns to int so that the datasets will make logical sense and provide realistic predictions."
   ]
  },
  {
   "cell_type": "code",
   "execution_count": 12,
   "metadata": {},
   "outputs": [
    {
     "name": "stdout",
     "output_type": "stream",
     "text": [
      "Train Age data type: int64\n",
      "Test Age data type: int64\n"
     ]
    }
   ],
   "source": [
    "train = train.astype({'Age' : 'int'})\n",
    "test = test.astype({'Age' : 'int'})\n",
    "\n",
    "# confirming that the data types have been changed\n",
    "print(\"Train Age data type:\", train.Age.dtype)\n",
    "print(\"Test Age data type:\", test.Age.dtype)"
   ]
  },
  {
   "cell_type": "code",
   "execution_count": 13,
   "metadata": {},
   "outputs": [
    {
     "name": "stdout",
     "output_type": "stream",
     "text": [
      "New 'train' dataset shape: (772, 8)\n",
      "New 'test' dataset shape: (377, 7)\n"
     ]
    }
   ],
   "source": [
    "# dropping extra duplicates, if any were created\n",
    "train = train.drop_duplicates()\n",
    "test = test.drop_duplicates()\n",
    "print(\"New 'train' dataset shape:\", train.shape)\n",
    "print(\"New 'test' dataset shape:\", test.shape)"
   ]
  },
  {
   "cell_type": "markdown",
   "metadata": {},
   "source": [
    "We now need to encode our categorical variables before we save our datasets so that it will be easy carrying out modeling in case some functions such as regression require non-categorical data."
   ]
  },
  {
   "cell_type": "code",
   "execution_count": 14,
   "metadata": {},
   "outputs": [
    {
     "data": {
      "text/plain": [
       "'female'"
      ]
     },
     "execution_count": 14,
     "metadata": {},
     "output_type": "execute_result"
    }
   ],
   "source": [
    "from sklearn.preprocessing import LabelEncoder \n",
    "encoder = LabelEncoder()\n",
    "\n",
    "# columns to encode\n",
    "to_encode = ['Sex', 'Embarked']\n",
    "\n",
    "# dictionary to store each unique variable class\n",
    "class_dict = {}\n",
    "\n",
    "for item in to_encode:\n",
    "    encoder = LabelEncoder().fit(train[item].unique())\n",
    "    classed = encoder.classes_\n",
    "    class_dict[item] = classed\n",
    "    # encoding in 'train' dataset\n",
    "    train[item] = encoder.transform(train[item].values)\n",
    "    # encoding in 'test' dataset since it has the same unique values as the 'train' dataset\n",
    "    test[item] = encoder.transform(test[item].values)\n",
    "\n",
    "# to decode, use the following structure\n",
    "class_dict['Sex'][0]"
   ]
  },
  {
   "cell_type": "code",
   "execution_count": 15,
   "metadata": {},
   "outputs": [],
   "source": [
    "# saving our cleaned datasets\n",
    "train.to_csv('train_cleaned.csv', index = False)\n",
    "test.to_csv('test_cleaned.csv', index = False)\n",
    "\n",
    "# train = pd.read_csv('train_cleaned.csv')\n",
    "# test = pd.read_csv('test_cleaned.csv')"
   ]
  },
  {
   "cell_type": "code",
   "execution_count": 16,
   "metadata": {},
   "outputs": [
    {
     "data": {
      "text/plain": [
       "(1149, 8)"
      ]
     },
     "execution_count": 16,
     "metadata": {},
     "output_type": "execute_result"
    }
   ],
   "source": [
    "# combining both train and test datasets\n",
    "dataset = pd.concat([train, test], sort = False)\n",
    "dataset.shape"
   ]
  },
  {
   "cell_type": "code",
   "execution_count": 17,
   "metadata": {},
   "outputs": [
    {
     "name": "stdout",
     "output_type": "stream",
     "text": [
      "<class 'pandas.core.frame.DataFrame'>\n",
      "Int64Index: 1149 entries, 1 to 1309\n",
      "Data columns (total 8 columns):\n",
      "Survived    772 non-null float64\n",
      "Pclass      1149 non-null int64\n",
      "Sex         1149 non-null int64\n",
      "Age         1149 non-null int64\n",
      "SibSp       1149 non-null int64\n",
      "Parch       1149 non-null int64\n",
      "Fare        1149 non-null float64\n",
      "Embarked    1149 non-null int64\n",
      "dtypes: float64(2), int64(6)\n",
      "memory usage: 80.8 KB\n"
     ]
    }
   ],
   "source": [
    "# previewing basic info\n",
    "dataset.info()"
   ]
  },
  {
   "cell_type": "code",
   "execution_count": 18,
   "metadata": {},
   "outputs": [
    {
     "data": {
      "text/plain": [
       "CategoricalDtype(categories=[0.0, 1.0], ordered=False)"
      ]
     },
     "execution_count": 18,
     "metadata": {},
     "output_type": "execute_result"
    }
   ],
   "source": [
    "# change Survived from float to category\n",
    "dataset = dataset.astype({'Survived' : 'category'})\n",
    "dataset.Survived.dtypes"
   ]
  },
  {
   "cell_type": "code",
   "execution_count": 19,
   "metadata": {},
   "outputs": [
    {
     "name": "stdout",
     "output_type": "stream",
     "text": [
      "New dataset shape: (1149, 8)\n"
     ]
    }
   ],
   "source": [
    "# dropping duplicates, if any are present\n",
    "dataset = dataset.drop_duplicates()\n",
    "print(\"New dataset shape:\", dataset.shape)"
   ]
  },
  {
   "cell_type": "markdown",
   "metadata": {},
   "source": [
    "No new duplicates were created so none were dropped."
   ]
  },
  {
   "cell_type": "code",
   "execution_count": 20,
   "metadata": {},
   "outputs": [],
   "source": [
    "# saving new dataset\n",
    "dataset.to_csv('new_dataset.csv', index = False)\n",
    "# dataset = pd.read_csv('new_dataset.csv')"
   ]
  },
  {
   "cell_type": "markdown",
   "metadata": {},
   "source": [
    "# 3. Exploratory Data Analysis"
   ]
  },
  {
   "cell_type": "markdown",
   "metadata": {},
   "source": [
    "### 3.1. Univariate Analysis"
   ]
  },
  {
   "cell_type": "code",
   "execution_count": 21,
   "metadata": {},
   "outputs": [
    {
     "data": {
      "text/html": [
       "<div>\n",
       "<style scoped>\n",
       "    .dataframe tbody tr th:only-of-type {\n",
       "        vertical-align: middle;\n",
       "    }\n",
       "\n",
       "    .dataframe tbody tr th {\n",
       "        vertical-align: top;\n",
       "    }\n",
       "\n",
       "    .dataframe thead th {\n",
       "        text-align: right;\n",
       "    }\n",
       "</style>\n",
       "<table border=\"1\" class=\"dataframe\">\n",
       "  <thead>\n",
       "    <tr style=\"text-align: right;\">\n",
       "      <th></th>\n",
       "      <th>Pclass</th>\n",
       "      <th>Sex</th>\n",
       "      <th>Age</th>\n",
       "      <th>SibSp</th>\n",
       "      <th>Parch</th>\n",
       "      <th>Fare</th>\n",
       "      <th>Embarked</th>\n",
       "    </tr>\n",
       "  </thead>\n",
       "  <tbody>\n",
       "    <tr>\n",
       "      <th>count</th>\n",
       "      <td>1149.000000</td>\n",
       "      <td>1149.000000</td>\n",
       "      <td>1149.000000</td>\n",
       "      <td>1149.000000</td>\n",
       "      <td>1149.000000</td>\n",
       "      <td>1149.000000</td>\n",
       "      <td>1149.000000</td>\n",
       "    </tr>\n",
       "    <tr>\n",
       "      <th>mean</th>\n",
       "      <td>2.235857</td>\n",
       "      <td>0.623151</td>\n",
       "      <td>29.821584</td>\n",
       "      <td>0.516971</td>\n",
       "      <td>0.426458</td>\n",
       "      <td>36.014596</td>\n",
       "      <td>1.484769</td>\n",
       "    </tr>\n",
       "    <tr>\n",
       "      <th>std</th>\n",
       "      <td>0.852892</td>\n",
       "      <td>0.484808</td>\n",
       "      <td>13.560113</td>\n",
       "      <td>0.971241</td>\n",
       "      <td>0.905383</td>\n",
       "      <td>54.372283</td>\n",
       "      <td>0.829016</td>\n",
       "    </tr>\n",
       "    <tr>\n",
       "      <th>min</th>\n",
       "      <td>1.000000</td>\n",
       "      <td>0.000000</td>\n",
       "      <td>0.000000</td>\n",
       "      <td>0.000000</td>\n",
       "      <td>0.000000</td>\n",
       "      <td>0.000000</td>\n",
       "      <td>0.000000</td>\n",
       "    </tr>\n",
       "    <tr>\n",
       "      <th>25%</th>\n",
       "      <td>1.000000</td>\n",
       "      <td>0.000000</td>\n",
       "      <td>22.000000</td>\n",
       "      <td>0.000000</td>\n",
       "      <td>0.000000</td>\n",
       "      <td>8.050000</td>\n",
       "      <td>1.000000</td>\n",
       "    </tr>\n",
       "    <tr>\n",
       "      <th>50%</th>\n",
       "      <td>3.000000</td>\n",
       "      <td>1.000000</td>\n",
       "      <td>29.000000</td>\n",
       "      <td>0.000000</td>\n",
       "      <td>0.000000</td>\n",
       "      <td>15.850000</td>\n",
       "      <td>2.000000</td>\n",
       "    </tr>\n",
       "    <tr>\n",
       "      <th>75%</th>\n",
       "      <td>3.000000</td>\n",
       "      <td>1.000000</td>\n",
       "      <td>36.000000</td>\n",
       "      <td>1.000000</td>\n",
       "      <td>1.000000</td>\n",
       "      <td>34.375000</td>\n",
       "      <td>2.000000</td>\n",
       "    </tr>\n",
       "    <tr>\n",
       "      <th>max</th>\n",
       "      <td>3.000000</td>\n",
       "      <td>1.000000</td>\n",
       "      <td>80.000000</td>\n",
       "      <td>8.000000</td>\n",
       "      <td>9.000000</td>\n",
       "      <td>512.329200</td>\n",
       "      <td>2.000000</td>\n",
       "    </tr>\n",
       "  </tbody>\n",
       "</table>\n",
       "</div>"
      ],
      "text/plain": [
       "            Pclass          Sex          Age        SibSp        Parch  \\\n",
       "count  1149.000000  1149.000000  1149.000000  1149.000000  1149.000000   \n",
       "mean      2.235857     0.623151    29.821584     0.516971     0.426458   \n",
       "std       0.852892     0.484808    13.560113     0.971241     0.905383   \n",
       "min       1.000000     0.000000     0.000000     0.000000     0.000000   \n",
       "25%       1.000000     0.000000    22.000000     0.000000     0.000000   \n",
       "50%       3.000000     1.000000    29.000000     0.000000     0.000000   \n",
       "75%       3.000000     1.000000    36.000000     1.000000     1.000000   \n",
       "max       3.000000     1.000000    80.000000     8.000000     9.000000   \n",
       "\n",
       "              Fare     Embarked  \n",
       "count  1149.000000  1149.000000  \n",
       "mean     36.014596     1.484769  \n",
       "std      54.372283     0.829016  \n",
       "min       0.000000     0.000000  \n",
       "25%       8.050000     1.000000  \n",
       "50%      15.850000     2.000000  \n",
       "75%      34.375000     2.000000  \n",
       "max     512.329200     2.000000  "
      ]
     },
     "execution_count": 21,
     "metadata": {},
     "output_type": "execute_result"
    }
   ],
   "source": [
    "dataset.describe()"
   ]
  },
  {
   "cell_type": "code",
   "execution_count": 22,
   "metadata": {},
   "outputs": [
    {
     "data": {
      "text/html": [
       "<div>\n",
       "<style scoped>\n",
       "    .dataframe tbody tr th:only-of-type {\n",
       "        vertical-align: middle;\n",
       "    }\n",
       "\n",
       "    .dataframe tbody tr th {\n",
       "        vertical-align: top;\n",
       "    }\n",
       "\n",
       "    .dataframe thead th {\n",
       "        text-align: right;\n",
       "    }\n",
       "</style>\n",
       "<table border=\"1\" class=\"dataframe\">\n",
       "  <thead>\n",
       "    <tr style=\"text-align: right;\">\n",
       "      <th></th>\n",
       "      <th>Survived</th>\n",
       "      <th>Pclass</th>\n",
       "      <th>Sex</th>\n",
       "      <th>Age</th>\n",
       "      <th>SibSp</th>\n",
       "      <th>Parch</th>\n",
       "      <th>Fare</th>\n",
       "      <th>Embarked</th>\n",
       "    </tr>\n",
       "    <tr>\n",
       "      <th>PassengerId</th>\n",
       "      <th></th>\n",
       "      <th></th>\n",
       "      <th></th>\n",
       "      <th></th>\n",
       "      <th></th>\n",
       "      <th></th>\n",
       "      <th></th>\n",
       "      <th></th>\n",
       "    </tr>\n",
       "  </thead>\n",
       "  <tbody>\n",
       "    <tr>\n",
       "      <th>180</th>\n",
       "      <td>0.0</td>\n",
       "      <td>3</td>\n",
       "      <td>1</td>\n",
       "      <td>36</td>\n",
       "      <td>0</td>\n",
       "      <td>0</td>\n",
       "      <td>0.0</td>\n",
       "      <td>2</td>\n",
       "    </tr>\n",
       "    <tr>\n",
       "      <th>264</th>\n",
       "      <td>0.0</td>\n",
       "      <td>1</td>\n",
       "      <td>1</td>\n",
       "      <td>40</td>\n",
       "      <td>0</td>\n",
       "      <td>0</td>\n",
       "      <td>0.0</td>\n",
       "      <td>2</td>\n",
       "    </tr>\n",
       "    <tr>\n",
       "      <th>272</th>\n",
       "      <td>1.0</td>\n",
       "      <td>3</td>\n",
       "      <td>1</td>\n",
       "      <td>25</td>\n",
       "      <td>0</td>\n",
       "      <td>0</td>\n",
       "      <td>0.0</td>\n",
       "      <td>2</td>\n",
       "    </tr>\n",
       "    <tr>\n",
       "      <th>278</th>\n",
       "      <td>0.0</td>\n",
       "      <td>2</td>\n",
       "      <td>1</td>\n",
       "      <td>29</td>\n",
       "      <td>0</td>\n",
       "      <td>0</td>\n",
       "      <td>0.0</td>\n",
       "      <td>2</td>\n",
       "    </tr>\n",
       "    <tr>\n",
       "      <th>303</th>\n",
       "      <td>0.0</td>\n",
       "      <td>3</td>\n",
       "      <td>1</td>\n",
       "      <td>19</td>\n",
       "      <td>0</td>\n",
       "      <td>0</td>\n",
       "      <td>0.0</td>\n",
       "      <td>2</td>\n",
       "    </tr>\n",
       "    <tr>\n",
       "      <th>598</th>\n",
       "      <td>0.0</td>\n",
       "      <td>3</td>\n",
       "      <td>1</td>\n",
       "      <td>49</td>\n",
       "      <td>0</td>\n",
       "      <td>0</td>\n",
       "      <td>0.0</td>\n",
       "      <td>2</td>\n",
       "    </tr>\n",
       "    <tr>\n",
       "      <th>634</th>\n",
       "      <td>0.0</td>\n",
       "      <td>1</td>\n",
       "      <td>1</td>\n",
       "      <td>29</td>\n",
       "      <td>0</td>\n",
       "      <td>0</td>\n",
       "      <td>0.0</td>\n",
       "      <td>2</td>\n",
       "    </tr>\n",
       "    <tr>\n",
       "      <th>807</th>\n",
       "      <td>0.0</td>\n",
       "      <td>1</td>\n",
       "      <td>1</td>\n",
       "      <td>39</td>\n",
       "      <td>0</td>\n",
       "      <td>0</td>\n",
       "      <td>0.0</td>\n",
       "      <td>2</td>\n",
       "    </tr>\n",
       "    <tr>\n",
       "      <th>823</th>\n",
       "      <td>0.0</td>\n",
       "      <td>1</td>\n",
       "      <td>1</td>\n",
       "      <td>38</td>\n",
       "      <td>0</td>\n",
       "      <td>0</td>\n",
       "      <td>0.0</td>\n",
       "      <td>2</td>\n",
       "    </tr>\n",
       "    <tr>\n",
       "      <th>1158</th>\n",
       "      <td>NaN</td>\n",
       "      <td>1</td>\n",
       "      <td>1</td>\n",
       "      <td>30</td>\n",
       "      <td>0</td>\n",
       "      <td>0</td>\n",
       "      <td>0.0</td>\n",
       "      <td>2</td>\n",
       "    </tr>\n",
       "    <tr>\n",
       "      <th>1264</th>\n",
       "      <td>NaN</td>\n",
       "      <td>1</td>\n",
       "      <td>1</td>\n",
       "      <td>49</td>\n",
       "      <td>0</td>\n",
       "      <td>0</td>\n",
       "      <td>0.0</td>\n",
       "      <td>2</td>\n",
       "    </tr>\n",
       "  </tbody>\n",
       "</table>\n",
       "</div>"
      ],
      "text/plain": [
       "            Survived  Pclass  Sex  Age  SibSp  Parch  Fare  Embarked\n",
       "PassengerId                                                         \n",
       "180              0.0       3    1   36      0      0   0.0         2\n",
       "264              0.0       1    1   40      0      0   0.0         2\n",
       "272              1.0       3    1   25      0      0   0.0         2\n",
       "278              0.0       2    1   29      0      0   0.0         2\n",
       "303              0.0       3    1   19      0      0   0.0         2\n",
       "598              0.0       3    1   49      0      0   0.0         2\n",
       "634              0.0       1    1   29      0      0   0.0         2\n",
       "807              0.0       1    1   39      0      0   0.0         2\n",
       "823              0.0       1    1   38      0      0   0.0         2\n",
       "1158             NaN       1    1   30      0      0   0.0         2\n",
       "1264             NaN       1    1   49      0      0   0.0         2"
      ]
     },
     "execution_count": 22,
     "metadata": {},
     "output_type": "execute_result"
    }
   ],
   "source": [
    "# Fare has a minimum value of 0 which is odd. Let's look at it\n",
    "dataset.loc[dataset.Fare == 0.000]"
   ]
  },
  {
   "cell_type": "code",
   "execution_count": 23,
   "metadata": {},
   "outputs": [
    {
     "name": "stdout",
     "output_type": "stream",
     "text": [
      "Sex: male\n",
      "Embarked: S\n"
     ]
    }
   ],
   "source": [
    "# decoding the encoded values\n",
    "print(\"Sex:\", class_dict['Sex'][1])\n",
    "print(\"Embarked:\", class_dict['Embarked'][2])"
   ]
  },
  {
   "cell_type": "markdown",
   "metadata": {},
   "source": [
    "We can see that the ones with a Fare of 0 are all males ranging from age 19 to 49, and they all embarked at location S. They all don't have parents, children, or siblings with them. Of these 11 from both the train and the test datasets combined, only 1 survived in the train dataset while the survival status of two of them is unknown. We can confidently say that the chances of survival are extremely low for those passengers in the test dataset who paid 0 and embarked at S."
   ]
  },
  {
   "cell_type": "code",
   "execution_count": 24,
   "metadata": {},
   "outputs": [
    {
     "data": {
      "text/plain": [
       "array([[<matplotlib.axes._subplots.AxesSubplot object at 0x7f6568148828>,\n",
       "        <matplotlib.axes._subplots.AxesSubplot object at 0x7f6568225c88>,\n",
       "        <matplotlib.axes._subplots.AxesSubplot object at 0x7f6568a0d588>],\n",
       "       [<matplotlib.axes._subplots.AxesSubplot object at 0x7f656812e588>,\n",
       "        <matplotlib.axes._subplots.AxesSubplot object at 0x7f6567166438>,\n",
       "        <matplotlib.axes._subplots.AxesSubplot object at 0x7f656710b6a0>],\n",
       "       [<matplotlib.axes._subplots.AxesSubplot object at 0x7f65671328d0>,\n",
       "        <matplotlib.axes._subplots.AxesSubplot object at 0x7f65670ddb70>,\n",
       "        <matplotlib.axes._subplots.AxesSubplot object at 0x7f65670ddba8>]],\n",
       "      dtype=object)"
      ]
     },
     "execution_count": 24,
     "metadata": {},
     "output_type": "execute_result"
    },
    {
     "data": {
      "image/png": "[encoded data removed]",
      "text/plain": [
       "<Figure size 1152x1008 with 9 Axes>"
      ]
     },
     "metadata": {
      "needs_background": "light"
     },
     "output_type": "display_data"
    }
   ],
   "source": [
    "dataset.hist(figsize = [16, 14])"
   ]
  },
  {
   "cell_type": "markdown",
   "metadata": {},
   "source": [
    "There is a lot of information to be gleaned from these diagrams.\n",
    "- there is an age range from 0 to 80 with most of the passengers being between 22-32 years of age \n",
    "- most of them embarked at location S (code 2)\n",
    "- most of them paid fare of between 0 to around 50\n",
    "- the most common value for the Parch variable is 0 followed by 1\n",
    "- most of the passengers were in 3rd class, and those in 1st class only slightly outnumber those in 2nd\n",
    "- there were more men than women\n",
    "- the most common value for the SibSp variable is 0 followed by 1"
   ]
  },
  {
   "cell_type": "code",
   "execution_count": 25,
   "metadata": {},
   "outputs": [
    {
     "data": {
      "text/plain": [
       "<matplotlib.axes._subplots.AxesSubplot at 0x7f65681a1f28>"
      ]
     },
     "execution_count": 25,
     "metadata": {},
     "output_type": "execute_result"
    },
    {
     "data": {
      "image/png": "[encoded data removed]",
      "text/plain": [
       "<Figure size 576x432 with 1 Axes>"
      ]
     },
     "metadata": {
      "needs_background": "light"
     },
     "output_type": "display_data"
    }
   ],
   "source": [
    "# viewing the countplot of those who survived vs those who didn't\n",
    "dataset.Survived.value_counts().plot(kind = 'bar', rot = 0, figsize = [8, 6])"
   ]
  },
  {
   "cell_type": "markdown",
   "metadata": {},
   "source": [
    "We see that majority of the passengers did not survive. However, those who survived are more than half of those who didn't."
   ]
  },
  {
   "cell_type": "code",
   "execution_count": 26,
   "metadata": {},
   "outputs": [
    {
     "data": {
      "text/plain": [
       "1    716\n",
       "0    433\n",
       "Name: Sex, dtype: int64"
      ]
     },
     "execution_count": 26,
     "metadata": {},
     "output_type": "execute_result"
    }
   ],
   "source": [
    "# gender distribution\n",
    "dataset.Sex.value_counts()"
   ]
  },
  {
   "cell_type": "markdown",
   "metadata": {},
   "source": [
    "716 of the passengers were males while 433 were females."
   ]
  },
  {
   "cell_type": "code",
   "execution_count": 27,
   "metadata": {},
   "outputs": [
    {
     "data": {
      "text/plain": [
       "3    585\n",
       "1    314\n",
       "2    250\n",
       "Name: Pclass, dtype: int64"
      ]
     },
     "execution_count": 27,
     "metadata": {},
     "output_type": "execute_result"
    }
   ],
   "source": [
    "# distribution of passengers across classes\n",
    "dataset.Pclass.value_counts()"
   ]
  },
  {
   "cell_type": "markdown",
   "metadata": {},
   "source": [
    "Majority of the passengers were in 3rd class (585) followed by those in 1st class (314) followed by 2nd class (250)."
   ]
  },
  {
   "cell_type": "code",
   "execution_count": 28,
   "metadata": {},
   "outputs": [
    {
     "data": {
      "text/plain": [
       "2    808\n",
       "0    251\n",
       "1     90\n",
       "Name: Embarked, dtype: int64"
      ]
     },
     "execution_count": 28,
     "metadata": {},
     "output_type": "execute_result"
    }
   ],
   "source": [
    "# distribution across point of embarkment\n",
    "dataset.Embarked.value_counts()"
   ]
  },
  {
   "cell_type": "code",
   "execution_count": 29,
   "metadata": {},
   "outputs": [
    {
     "name": "stdout",
     "output_type": "stream",
     "text": [
      "2: S\n",
      "0: C\n",
      "1: Q\n"
     ]
    }
   ],
   "source": [
    "print(\"2:\", class_dict['Embarked'][2])\n",
    "print(\"0:\", class_dict['Embarked'][0])\n",
    "print(\"1:\", class_dict['Embarked'][1])"
   ]
  },
  {
   "cell_type": "markdown",
   "metadata": {},
   "source": [
    "808 embarked at point S, 251 embarked at point C and 90 embarked at point Q."
   ]
  },
  {
   "cell_type": "code",
   "execution_count": 30,
   "metadata": {},
   "outputs": [
    {
     "data": {
      "text/plain": [
       "0    851\n",
       "1    166\n",
       "2    108\n",
       "3      8\n",
       "5      6\n",
       "4      6\n",
       "9      2\n",
       "6      2\n",
       "Name: Parch, dtype: int64"
      ]
     },
     "execution_count": 30,
     "metadata": {},
     "output_type": "execute_result"
    }
   ],
   "source": [
    "# parent-child distribution\n",
    "dataset.Parch.value_counts()"
   ]
  },
  {
   "cell_type": "markdown",
   "metadata": {},
   "source": [
    "- 851 didn't have any parent or child with them\n",
    "- 166 had 1 parent or child with them\n",
    "- 108 had 2 parents or children with them\n",
    "- 8 had 3 parents or children with them\n",
    "- 6 had 4 parents or children with them\n",
    "- 6 had 5 parents or children with them\n",
    "- 2 had 9 parents or children with them"
   ]
  },
  {
   "cell_type": "code",
   "execution_count": 31,
   "metadata": {},
   "outputs": [
    {
     "data": {
      "text/plain": [
       "0    749\n",
       "1    310\n",
       "2     40\n",
       "4     22\n",
       "3     18\n",
       "5      6\n",
       "8      4\n",
       "Name: SibSp, dtype: int64"
      ]
     },
     "execution_count": 31,
     "metadata": {},
     "output_type": "execute_result"
    }
   ],
   "source": [
    "# siblings/spouses distribution\n",
    "dataset.SibSp.value_counts()"
   ]
  },
  {
   "cell_type": "markdown",
   "metadata": {},
   "source": [
    "- 749 didn't have any siblings or spouses with them\n",
    "- 310 had 1 sibling or spouse with them\n",
    "- 40 had 2 siblings or spouses with them\n",
    "- 18 had 3 siblings or spouses with them\n",
    "- 22 had 4 siblings or spouses with them\n",
    "- 6 had 5 siblings or spouses with them\n",
    "- 4 had 8 siblings or spouses with them"
   ]
  },
  {
   "cell_type": "code",
   "execution_count": 32,
   "metadata": {},
   "outputs": [
    {
     "data": {
      "text/plain": [
       "<matplotlib.axes._subplots.AxesSubplot at 0x7f6566f88c88>"
      ]
     },
     "execution_count": 32,
     "metadata": {},
     "output_type": "execute_result"
    },
    {
     "data": {
      "image/png": "[encoded data removed]",
      "text/plain": [
       "<Figure size 720x576 with 1 Axes>"
      ]
     },
     "metadata": {
      "needs_background": "light"
     },
     "output_type": "display_data"
    }
   ],
   "source": [
    "# distribution of age\n",
    "fig, ax = plt.subplots(figsize = (10, 8))\n",
    "sns.distplot(dataset.Age, ax = ax)"
   ]
  },
  {
   "cell_type": "markdown",
   "metadata": {},
   "source": [
    "The distribution appears to be normal and leptokurtic."
   ]
  },
  {
   "cell_type": "code",
   "execution_count": 33,
   "metadata": {},
   "outputs": [
    {
     "data": {
      "text/plain": [
       "<matplotlib.axes._subplots.AxesSubplot at 0x7f6566f17898>"
      ]
     },
     "execution_count": 33,
     "metadata": {},
     "output_type": "execute_result"
    },
    {
     "data": {
      "image/png": "[encoded data removed]",
      "text/plain": [
       "<Figure size 720x576 with 1 Axes>"
      ]
     },
     "metadata": {
      "needs_background": "light"
     },
     "output_type": "display_data"
    }
   ],
   "source": [
    "# fare distribution\n",
    "fig, ax = plt.subplots(figsize = (10, 8))\n",
    "sns.distplot(dataset.Fare, ax = ax)"
   ]
  },
  {
   "cell_type": "markdown",
   "metadata": {},
   "source": [
    "The distribution for the Fares is positively skewed with majority of the values occuring between 0 and 280 while peaking at between 0 to 50. This shows that there are a lot of outliers in this column. We will not remove them because they could prove to be insightful."
   ]
  },
  {
   "cell_type": "markdown",
   "metadata": {},
   "source": [
    "### 3.2. Bivariate Analysis"
   ]
  },
  {
   "cell_type": "code",
   "execution_count": 34,
   "metadata": {},
   "outputs": [
    {
     "name": "stdout",
     "output_type": "stream",
     "text": [
      "Survived  Sex\n",
      "0.0       1      378\n",
      "          0       76\n",
      "1.0       0      213\n",
      "          1      105\n",
      "Name: Sex, dtype: int64\n"
     ]
    },
    {
     "data": {
      "text/plain": [
       "<matplotlib.axes._subplots.AxesSubplot at 0x7f6566e66ef0>"
      ]
     },
     "execution_count": 34,
     "metadata": {},
     "output_type": "execute_result"
    },
    {
     "data": {
      "image/png": "[encoded data removed]",
      "text/plain": [
       "<Figure size 720x576 with 1 Axes>"
      ]
     },
     "metadata": {
      "needs_background": "light"
     },
     "output_type": "display_data"
    }
   ],
   "source": [
    "# survival status by gender\n",
    "print(dataset.groupby('Survived').Sex.value_counts())\n",
    "pd.crosstab(dataset.Sex, dataset.Survived).plot(kind = 'bar', rot = 0, figsize = [10, 8])"
   ]
  },
  {
   "cell_type": "markdown",
   "metadata": {},
   "source": [
    "Of those who survived, majority are females (213) compared to males (105). Of those who didn't survive, males outnumber females 378 to 76."
   ]
  },
  {
   "cell_type": "code",
   "execution_count": 35,
   "metadata": {},
   "outputs": [
    {
     "name": "stdout",
     "output_type": "stream",
     "text": [
      "Survived  Pclass\n",
      "0.0       3         296\n",
      "          2          81\n",
      "          1          77\n",
      "1.0       1         133\n",
      "          3         103\n",
      "          2          82\n",
      "Name: Pclass, dtype: int64\n"
     ]
    },
    {
     "data": {
      "text/plain": [
       "<matplotlib.axes._subplots.AxesSubplot at 0x7f6566d88b00>"
      ]
     },
     "execution_count": 35,
     "metadata": {},
     "output_type": "execute_result"
    },
    {
     "data": {
      "image/png": "[encoded data removed]",
      "text/plain": [
       "<Figure size 720x576 with 1 Axes>"
      ]
     },
     "metadata": {
      "needs_background": "light"
     },
     "output_type": "display_data"
    }
   ],
   "source": [
    "# survival status by class\n",
    "print(dataset.groupby('Survived').Pclass.value_counts())\n",
    "\n",
    "fig, ax = plt.subplots(figsize = (10, 8))\n",
    "sns.countplot('Pclass', hue = 'Survived', data = dataset, ax = ax)"
   ]
  },
  {
   "cell_type": "markdown",
   "metadata": {},
   "source": [
    "Of those who didn't surive, 296 were in 3rd class, 81 were in 2nd class and 77 were in 1st class. Of those who did survive, 133 were in 1st class, 103 were in 3rd class and 82 were in 2nd class. It's clear that being in 1st class increased your chances of survival while it was a somewhat unpredictable gamble whether you survived or not if you were in 3rd class."
   ]
  },
  {
   "cell_type": "code",
   "execution_count": 36,
   "metadata": {},
   "outputs": [
    {
     "name": "stdout",
     "output_type": "stream",
     "text": [
      "Survived  Parch\n",
      "0.0       0        357\n",
      "          1         51\n",
      "          2         35\n",
      "          4          4\n",
      "          5          4\n",
      "          3          2\n",
      "          6          1\n",
      "1.0       0        211\n",
      "          1         63\n",
      "          2         40\n",
      "          3          3\n",
      "          5          1\n",
      "Name: Parch, dtype: int64\n"
     ]
    },
    {
     "data": {
      "text/plain": [
       "<matplotlib.axes._subplots.AxesSubplot at 0x7f6566d4ae48>"
      ]
     },
     "execution_count": 36,
     "metadata": {},
     "output_type": "execute_result"
    },
    {
     "data": {
      "image/png": "[encoded data removed]",
      "text/plain": [
       "<Figure size 720x576 with 1 Axes>"
      ]
     },
     "metadata": {
      "needs_background": "light"
     },
     "output_type": "display_data"
    }
   ],
   "source": [
    "# survival status by parent-child\n",
    "print(dataset.groupby('Survived').Parch.value_counts())\n",
    "\n",
    "fig, ax = plt.subplots(figsize = (10, 8))\n",
    "sns.countplot('Parch', hue = 'Survived', data = dataset, ax = ax)"
   ]
  },
  {
   "cell_type": "markdown",
   "metadata": {},
   "source": [
    "Of those who did not survive:\n",
    "- 357 didn't have any parent or child with them\n",
    "- 51 had 1 parent or child with them\n",
    "- 35 had 2 parents or children with them\n",
    "- 2 had 3 parents or children with them\n",
    "- 4 had 4 parents or children with them\n",
    "- 4 had 5 parents or children with them\n",
    "- 1 had 6 parents or children with them\n",
    "\n",
    "Of those who did survive:\n",
    "- 211 didn't have any parent or child with them\n",
    "- 63 had 1 parent or child with them\n",
    "- 40 had 2 parents or children with them\n",
    "- 3 had 3 parents or children with them\n",
    "- 1 had 5 parents or children with them\n",
    "\n",
    "An interesting thing to note here is that those who had 1, 2, or 3 parents or children with them outlasted those who didn't. For the rest, it did not seem to impact them greatly."
   ]
  },
  {
   "cell_type": "code",
   "execution_count": 37,
   "metadata": {},
   "outputs": [
    {
     "name": "stdout",
     "output_type": "stream",
     "text": [
      "Survived  SibSp\n",
      "0.0       0        313\n",
      "          1         94\n",
      "          2         15\n",
      "          4         15\n",
      "          3         10\n",
      "          5          5\n",
      "          8          2\n",
      "1.0       0        192\n",
      "          1        107\n",
      "          2         12\n",
      "          3          4\n",
      "          4          3\n",
      "Name: SibSp, dtype: int64\n"
     ]
    },
    {
     "data": {
      "text/plain": [
       "<matplotlib.axes._subplots.AxesSubplot at 0x7f6566c80b38>"
      ]
     },
     "execution_count": 37,
     "metadata": {},
     "output_type": "execute_result"
    },
    {
     "data": {
      "image/png": "[encoded data removed]",
      "text/plain": [
       "<Figure size 720x576 with 1 Axes>"
      ]
     },
     "metadata": {
      "needs_background": "light"
     },
     "output_type": "display_data"
    }
   ],
   "source": [
    "# survival status by siblings/spouses\n",
    "print(dataset.groupby('Survived').SibSp.value_counts())\n",
    "\n",
    "fig, ax = plt.subplots(figsize = (10, 8))\n",
    "sns.countplot('SibSp', hue = 'Survived', data = dataset, ax = ax)"
   ]
  },
  {
   "cell_type": "markdown",
   "metadata": {},
   "source": [
    "Of those who did not survive:\n",
    "- 313 didn't have any siblings or spouses with them\n",
    "- 94 had 1 sibling or spouse with them\n",
    "- 15 had 2 siblings or spouses with them\n",
    "- 10 had 3 siblings or spouses with them\n",
    "- 15 had 4 siblings or spouses with them\n",
    "- 5 had 5 siblings or spouses with them\n",
    "- 2 had 8 siblings or spouses with them\n",
    "\n",
    "Of those who did survive:\n",
    "- 192 didn't have any siblings or spouses with them\n",
    "- 107 had 1 sibling or spouse with them\n",
    "- 12 had 2 siblings or spouses with them\n",
    "- 4 had 3 siblings or spouses with them\n",
    "- 3 had 4 siblings or spouses with them\n",
    "\n",
    "An interesting thing to note here is that those who survived and had 1 sibling or spouse with them outnumberes those who had the same number of siblings or spouses but did not survive. We could assume it is because they looked out for each other and it was easier to do so compared to when they had more than 1 sibling or spouse. "
   ]
  },
  {
   "cell_type": "code",
   "execution_count": 38,
   "metadata": {},
   "outputs": [
    {
     "name": "stdout",
     "output_type": "stream",
     "text": [
      "Survived  Embarked\n",
      "0.0       2           351\n",
      "          0            65\n",
      "          1            38\n",
      "1.0       2           209\n",
      "          0            90\n",
      "          1            19\n",
      "Name: Embarked, dtype: int64\n"
     ]
    },
    {
     "data": {
      "text/plain": [
       "<matplotlib.axes._subplots.AxesSubplot at 0x7f6566c15710>"
      ]
     },
     "execution_count": 38,
     "metadata": {},
     "output_type": "execute_result"
    },
    {
     "data": {
      "image/png": "[encoded data removed]",
      "text/plain": [
       "<Figure size 720x576 with 1 Axes>"
      ]
     },
     "metadata": {
      "needs_background": "light"
     },
     "output_type": "display_data"
    }
   ],
   "source": [
    "# survival by point of embarkment\n",
    "print(dataset.groupby('Survived').Embarked.value_counts())\n",
    "pd.crosstab(dataset.Embarked, dataset.Survived).plot(kind = 'bar', rot = 0, figsize = [10, 8])"
   ]
  },
  {
   "cell_type": "markdown",
   "metadata": {},
   "source": [
    "Of those who didn't survive, 351 embarked at point S, 65 embarked at point C, and 38 embarked at point Q. \n",
    "Of those who survived, 209 embarked at point S, 90 embarked at point C, and 19 embarked at point Q.\n",
    "\n",
    "It looks as if embarking at point C increases your chance of survival."
   ]
  },
  {
   "cell_type": "code",
   "execution_count": 39,
   "metadata": {},
   "outputs": [
    {
     "data": {
      "text/plain": [
       "<matplotlib.axes._subplots.AxesSubplot at 0x7f6566be20f0>"
      ]
     },
     "execution_count": 39,
     "metadata": {},
     "output_type": "execute_result"
    },
    {
     "data": {
      "image/png": "[encoded data removed]",
      "text/plain": [
       "<Figure size 720x576 with 1 Axes>"
      ]
     },
     "metadata": {
      "needs_background": "light"
     },
     "output_type": "display_data"
    }
   ],
   "source": [
    "# class per gender\n",
    "fig, ax = plt.subplots(figsize = (10, 8))\n",
    "sns.countplot('Pclass', hue = 'Sex', data = dataset, ax = ax)"
   ]
  },
  {
   "cell_type": "markdown",
   "metadata": {},
   "source": [
    "In all classes, there were more males than females."
   ]
  },
  {
   "cell_type": "code",
   "execution_count": 40,
   "metadata": {},
   "outputs": [
    {
     "data": {
      "text/plain": [
       "<matplotlib.axes._subplots.AxesSubplot at 0x7f6566bab4e0>"
      ]
     },
     "execution_count": 40,
     "metadata": {},
     "output_type": "execute_result"
    },
    {
     "data": {
      "image/png": "[encoded data removed]",
      "text/plain": [
       "<Figure size 720x576 with 1 Axes>"
      ]
     },
     "metadata": {
      "needs_background": "light"
     },
     "output_type": "display_data"
    }
   ],
   "source": [
    "# class per point of embarkment\n",
    "fig, ax = plt.subplots(figsize = (10, 8))\n",
    "sns.countplot('Pclass', hue = 'Embarked', data = dataset, ax = ax)"
   ]
  },
  {
   "cell_type": "markdown",
   "metadata": {},
   "source": [
    "In all classes, those who embarked at point S make up the majority, followed by those who embarked at C then finally by those who embarked at Q. What's interesting is that in 3rd class, the number of those who embarked at C and those who embarked at Q are almost the same. Indeed, majority of those who embarked at Q are in 3rd class."
   ]
  },
  {
   "cell_type": "code",
   "execution_count": 41,
   "metadata": {},
   "outputs": [],
   "source": [
    "# splitting age into categories to make it easier to analyze\n",
    "conditions = [\n",
    "    ((dataset.Age >= 0) & (dataset.Age <= 10)),\n",
    "    ((dataset.Age >= 11) & (dataset.Age <= 20)),\n",
    "    ((dataset.Age >= 21) & (dataset.Age <= 30)),\n",
    "    ((dataset.Age >= 31) & (dataset.Age <= 40)),\n",
    "    ((dataset.Age >= 41) & (dataset.Age <= 50)),\n",
    "    ((dataset.Age >= 51) & (dataset.Age <= 60)),\n",
    "    ((dataset.Age >= 61) & (dataset.Age <= 70)),\n",
    "    ((dataset.Age >= 71) & (dataset.Age <= 80))\n",
    "]\n",
    "choices = ['1', '2', '3', '4', '5', '6', '7', '8']\n",
    "\n",
    "dataset['Age_range'] = np.select(conditions, choices)"
   ]
  },
  {
   "cell_type": "code",
   "execution_count": 42,
   "metadata": {},
   "outputs": [
    {
     "data": {
      "text/plain": [
       "array([<matplotlib.axes._subplots.AxesSubplot object at 0x7f65665e9198>],\n",
       "      dtype=object)"
      ]
     },
     "execution_count": 42,
     "metadata": {},
     "output_type": "execute_result"
    },
    {
     "data": {
      "image/png": "[encoded data removed]",
      "text/plain": [
       "<Figure size 864x720 with 1 Axes>"
      ]
     },
     "metadata": {},
     "output_type": "display_data"
    }
   ],
   "source": [
    "# plotting the age ranges in a pie chart\n",
    "dataset.Age_range.value_counts().plot(kind = 'pie', autopct = '%0.1f%%', figsize = [12, 10], \n",
    "                                      subplots = True)"
   ]
  },
  {
   "cell_type": "markdown",
   "metadata": {},
   "source": [
    "We see that age range 3 (20-30 year olds) make up the majority of the passengers while 70-80 year olds are the minority."
   ]
  },
  {
   "cell_type": "code",
   "execution_count": 43,
   "metadata": {},
   "outputs": [
    {
     "data": {
      "text/plain": [
       "<matplotlib.axes._subplots.AxesSubplot at 0x7f65665d0940>"
      ]
     },
     "execution_count": 43,
     "metadata": {},
     "output_type": "execute_result"
    },
    {
     "data": {
      "image/png": "[encoded data removed]",
      "text/plain": [
       "<Figure size 720x576 with 1 Axes>"
      ]
     },
     "metadata": {
      "needs_background": "light"
     },
     "output_type": "display_data"
    }
   ],
   "source": [
    "# age distribution per gender\n",
    "fig, ax = plt.subplots(figsize = (10, 8))\n",
    "sns.countplot('Age_range', hue = 'Sex', data = dataset, ax = ax)"
   ]
  },
  {
   "cell_type": "markdown",
   "metadata": {},
   "source": [
    "From this diagram, we can see that males outnumber females in all age ranges. This makes sense since this dataset has more males than females. As expected, age range 20-30 outnumber the other age ranges."
   ]
  },
  {
   "cell_type": "code",
   "execution_count": 44,
   "metadata": {},
   "outputs": [
    {
     "data": {
      "text/plain": [
       "<matplotlib.axes._subplots.AxesSubplot at 0x7f6566541da0>"
      ]
     },
     "execution_count": 44,
     "metadata": {},
     "output_type": "execute_result"
    },
    {
     "data": {
      "image/png": "[encoded data removed]",
      "text/plain": [
       "<Figure size 720x576 with 1 Axes>"
      ]
     },
     "metadata": {
      "needs_background": "light"
     },
     "output_type": "display_data"
    }
   ],
   "source": [
    "# age distribution per class\n",
    "fig, ax = plt.subplots(figsize = (10, 8))\n",
    "sns.countplot('Age_range', hue = 'Pclass', data = dataset, ax = ax)"
   ]
  },
  {
   "cell_type": "markdown",
   "metadata": {},
   "source": [
    "As expected, majority are in 3rd class. However, from 40 to 80 years of age, we see that the passengers in 1st class outnumber those in 3rd class. This could be due to the assumption that older people tend to have more money than younger people which makes sense considering they have had a much longer time to save up for the cruise."
   ]
  },
  {
   "cell_type": "code",
   "execution_count": 45,
   "metadata": {},
   "outputs": [
    {
     "data": {
      "text/plain": [
       "<matplotlib.axes._subplots.AxesSubplot at 0x7f65664c5940>"
      ]
     },
     "execution_count": 45,
     "metadata": {},
     "output_type": "execute_result"
    },
    {
     "data": {
      "image/png": "[encoded data removed]",
      "text/plain": [
       "<Figure size 720x576 with 1 Axes>"
      ]
     },
     "metadata": {
      "needs_background": "light"
     },
     "output_type": "display_data"
    }
   ],
   "source": [
    "# age distribution per point of embarkment\n",
    "fig, ax = plt.subplots(figsize = (10, 8))\n",
    "sns.countplot('Age_range', hue = 'Embarked', data = dataset, ax = ax)"
   ]
  },
  {
   "cell_type": "code",
   "execution_count": 46,
   "metadata": {},
   "outputs": [
    {
     "data": {
      "text/plain": [
       "<matplotlib.axes._subplots.AxesSubplot at 0x7f65663f47f0>"
      ]
     },
     "execution_count": 46,
     "metadata": {},
     "output_type": "execute_result"
    },
    {
     "data": {
      "image/png": "[encoded data removed]",
      "text/plain": [
       "<Figure size 720x576 with 1 Axes>"
      ]
     },
     "metadata": {
      "needs_background": "light"
     },
     "output_type": "display_data"
    }
   ],
   "source": [
    "# survival status per age\n",
    "fig, ax = plt.subplots(figsize = (10, 8))\n",
    "sns.countplot('Age_range', hue = 'Survived', data = dataset, ax = ax)"
   ]
  },
  {
   "cell_type": "markdown",
   "metadata": {},
   "source": [
    "One thing that stands out about this diagram is that, of all the age ranges, age range 0 to 10 is the only one where the number of passengers who survived exceeds the number of those who did not. This is reasonable as children were prioritized over adults during the evacuation. However, I'm surprised that the same did not hold true for the elderly."
   ]
  },
  {
   "cell_type": "code",
   "execution_count": 47,
   "metadata": {},
   "outputs": [
    {
     "name": "stdout",
     "output_type": "stream",
     "text": [
      "Max fare: 512.33\n"
     ]
    },
    {
     "data": {
      "text/plain": [
       "<matplotlib.axes._subplots.AxesSubplot at 0x7f6566d041d0>"
      ]
     },
     "execution_count": 47,
     "metadata": {},
     "output_type": "execute_result"
    },
    {
     "data": {
      "image/png": "[encoded data removed]",
      "text/plain": [
       "<Figure size 576x432 with 1 Axes>"
      ]
     },
     "metadata": {
      "needs_background": "light"
     },
     "output_type": "display_data"
    }
   ],
   "source": [
    "# to create categories for our Fare column, let's look at its distribution again\n",
    "print(\"Max fare:\", round(dataset.Fare.max(), 2))\n",
    "dataset.Fare.plot(kind = 'hist', figsize = [8, 6])"
   ]
  },
  {
   "cell_type": "code",
   "execution_count": 48,
   "metadata": {},
   "outputs": [],
   "source": [
    "conditions = [\n",
    "    ((dataset.Fare >= 0) & (dataset.Fare <= 50)),\n",
    "    ((dataset.Fare >= 51) & (dataset.Fare <= 100)),\n",
    "    ((dataset.Fare >= 101) & (dataset.Fare <= 200)),\n",
    "    ((dataset.Fare >= 201) & (dataset.Fare <= 300)),\n",
    "    ((dataset.Fare >= 301) & (dataset.Fare <= 515))\n",
    "]\n",
    "choices = ['1', '2', '3', '4', '5']\n",
    "\n",
    "dataset['Fare_range'] = np.select(conditions, choices)"
   ]
  },
  {
   "cell_type": "code",
   "execution_count": 49,
   "metadata": {},
   "outputs": [
    {
     "data": {
      "text/plain": [
       "<matplotlib.axes._subplots.AxesSubplot at 0x7f6566307208>"
      ]
     },
     "execution_count": 49,
     "metadata": {},
     "output_type": "execute_result"
    },
    {
     "data": {
      "image/png": "[encoded data removed]",
      "text/plain": [
       "<Figure size 720x576 with 1 Axes>"
      ]
     },
     "metadata": {
      "needs_background": "light"
     },
     "output_type": "display_data"
    }
   ],
   "source": [
    "# plotting the fare ranges in a bar chart\n",
    "dataset.Fare_range.value_counts().plot(kind = 'bar', figsize = [10, 8], rot = 0)"
   ]
  },
  {
   "cell_type": "markdown",
   "metadata": {},
   "source": [
    "As expected, the most occuring fare is between 0 to 50."
   ]
  },
  {
   "cell_type": "code",
   "execution_count": 50,
   "metadata": {},
   "outputs": [
    {
     "data": {
      "text/plain": [
       "<matplotlib.axes._subplots.AxesSubplot at 0x7f65662d3208>"
      ]
     },
     "execution_count": 50,
     "metadata": {},
     "output_type": "execute_result"
    },
    {
     "data": {
      "image/png": "[encoded data removed]",
      "text/plain": [
       "<Figure size 720x576 with 1 Axes>"
      ]
     },
     "metadata": {
      "needs_background": "light"
     },
     "output_type": "display_data"
    }
   ],
   "source": [
    "# survival status per fare\n",
    "fig, ax = plt.subplots(figsize = (10, 8))\n",
    "sns.countplot('Fare_range', hue = 'Survived', data = dataset, ax = ax)"
   ]
  },
  {
   "cell_type": "markdown",
   "metadata": {},
   "source": [
    "Those who paid 0-50 made up the majority of those who did not survive. In contrast, the rest had better chances of survival compared to these ones."
   ]
  },
  {
   "cell_type": "code",
   "execution_count": 51,
   "metadata": {},
   "outputs": [
    {
     "data": {
      "text/plain": [
       "<matplotlib.axes._subplots.AxesSubplot at 0x7f65661f29e8>"
      ]
     },
     "execution_count": 51,
     "metadata": {},
     "output_type": "execute_result"
    },
    {
     "data": {
      "image/png": "[encoded data removed]",
      "text/plain": [
       "<Figure size 720x576 with 1 Axes>"
      ]
     },
     "metadata": {
      "needs_background": "light"
     },
     "output_type": "display_data"
    }
   ],
   "source": [
    "# fare distribution per gender\n",
    "fig, ax = plt.subplots(figsize = (10, 8))\n",
    "sns.countplot('Fare_range', hue = 'Sex', data = dataset, ax = ax)"
   ]
  },
  {
   "cell_type": "markdown",
   "metadata": {},
   "source": [
    "Males are the ones that paid more than females but this is probably because our dataset contains more males than females. However, we see that when it comes to fare range 2 (51-100), males and females seem to have paid the same amount."
   ]
  },
  {
   "cell_type": "code",
   "execution_count": 52,
   "metadata": {},
   "outputs": [
    {
     "data": {
      "text/plain": [
       "<matplotlib.axes._subplots.AxesSubplot at 0x7f65661e1518>"
      ]
     },
     "execution_count": 52,
     "metadata": {},
     "output_type": "execute_result"
    },
    {
     "data": {
      "image/png": "[encoded data removed]",
      "text/plain": [
       "<Figure size 864x720 with 1 Axes>"
      ]
     },
     "metadata": {
      "needs_background": "light"
     },
     "output_type": "display_data"
    }
   ],
   "source": [
    "# fare distribution across age\n",
    "fig, ax = plt.subplots(figsize = (12, 10))\n",
    "sns.countplot('Fare_range', hue = 'Age_range', data = dataset, ax = ax)"
   ]
  },
  {
   "cell_type": "markdown",
   "metadata": {},
   "source": [
    "Most age groups are in fare range 1 (0-50). An interesting detail I've noticed is that for fare range 3 (101-200), it's the 30-40 year olds who are mostly the ones paying this fare and not the 20-30 year olds like with the other fare ranges. The same can be said for fare range 5 (301-515)."
   ]
  },
  {
   "cell_type": "code",
   "execution_count": 53,
   "metadata": {},
   "outputs": [
    {
     "data": {
      "text/plain": [
       "<matplotlib.axes._subplots.AxesSubplot at 0x7f65660ff320>"
      ]
     },
     "execution_count": 53,
     "metadata": {},
     "output_type": "execute_result"
    },
    {
     "data": {
      "image/png": "[encoded data removed]",
      "text/plain": [
       "<Figure size 720x576 with 1 Axes>"
      ]
     },
     "metadata": {
      "needs_background": "light"
     },
     "output_type": "display_data"
    }
   ],
   "source": [
    "# relationship between fare and point of embarkment\n",
    "fig, ax = plt.subplots(figsize = (10, 8))\n",
    "sns.countplot('Embarked', hue = 'Fare_range', data = dataset, ax = ax)"
   ]
  },
  {
   "cell_type": "markdown",
   "metadata": {},
   "source": [
    "As expected, point S has the most records of fares with majority of them being in fare range 1 (0-50)."
   ]
  },
  {
   "cell_type": "code",
   "execution_count": 54,
   "metadata": {},
   "outputs": [
    {
     "data": {
      "text/plain": [
       "<matplotlib.axes._subplots.AxesSubplot at 0x7f656605c828>"
      ]
     },
     "execution_count": 54,
     "metadata": {},
     "output_type": "execute_result"
    },
    {
     "data": {
      "image/png": "[encoded data removed]",
      "text/plain": [
       "<Figure size 720x576 with 1 Axes>"
      ]
     },
     "metadata": {
      "needs_background": "light"
     },
     "output_type": "display_data"
    }
   ],
   "source": [
    "# fare distribution per class\n",
    "fig, ax = plt.subplots(figsize = (10, 8))\n",
    "sns.countplot('Pclass', hue = 'Fare_range', data = dataset, ax = ax)"
   ]
  },
  {
   "cell_type": "markdown",
   "metadata": {},
   "source": [
    "It makes logical sense that 1st class would have a more diverse set of fares than 2nd or 3rd class since it's more costly to be in 1st class than the other classes."
   ]
  },
  {
   "cell_type": "code",
   "execution_count": 55,
   "metadata": {},
   "outputs": [
    {
     "data": {
      "text/plain": [
       "<matplotlib.axes._subplots.AxesSubplot at 0x7f6565f66208>"
      ]
     },
     "execution_count": 55,
     "metadata": {},
     "output_type": "execute_result"
    },
    {
     "data": {
      "image/png": "[encoded data removed]",
      "text/plain": [
       "<Figure size 720x576 with 1 Axes>"
      ]
     },
     "metadata": {
      "needs_background": "light"
     },
     "output_type": "display_data"
    }
   ],
   "source": [
    "# fare per parent-child\n",
    "fig, ax = plt.subplots(figsize = (10, 8))\n",
    "sns.countplot('Fare_range', hue = 'Parch', data = dataset, ax = ax)"
   ]
  },
  {
   "cell_type": "code",
   "execution_count": 56,
   "metadata": {},
   "outputs": [
    {
     "data": {
      "text/plain": [
       "<matplotlib.axes._subplots.AxesSubplot at 0x7f6565ef8940>"
      ]
     },
     "execution_count": 56,
     "metadata": {},
     "output_type": "execute_result"
    },
    {
     "data": {
      "image/png": "[encoded data removed]",
      "text/plain": [
       "<Figure size 720x576 with 1 Axes>"
      ]
     },
     "metadata": {
      "needs_background": "light"
     },
     "output_type": "display_data"
    }
   ],
   "source": [
    "# fare per siblings/spouses\n",
    "fig, ax = plt.subplots(figsize = (10, 8))\n",
    "sns.countplot('Fare_range', hue = 'SibSp', data = dataset, ax = ax)"
   ]
  },
  {
   "cell_type": "markdown",
   "metadata": {},
   "source": [
    "For both the parent-childand sibling-spouse variables, we don't see anything unusual."
   ]
  },
  {
   "cell_type": "code",
   "execution_count": 57,
   "metadata": {},
   "outputs": [
    {
     "data": {
      "text/plain": [
       "<matplotlib.axes._subplots.AxesSubplot at 0x7f6565e157b8>"
      ]
     },
     "execution_count": 57,
     "metadata": {},
     "output_type": "execute_result"
    },
    {
     "data": {
      "image/png": "[encoded data removed]",
      "text/plain": [
       "<Figure size 1080x720 with 2 Axes>"
      ]
     },
     "metadata": {
      "needs_background": "light"
     },
     "output_type": "display_data"
    }
   ],
   "source": [
    "# checking for multicollinearity\n",
    "corr = dataset.corr()\n",
    "vif = pd.DataFrame(np.linalg.inv(corr.values), index = corr.index, columns = corr.columns)\n",
    "\n",
    "# using a heatmap to display the results\n",
    "plt.figure(figsize = (15, 10))\n",
    "sns.heatmap(vif, annot = True)"
   ]
  },
  {
   "cell_type": "markdown",
   "metadata": {},
   "source": [
    "All our variables have Variance Inflation Factor (VIF) scores which are nowhere near 5, which would have made them really problematic. So we see that there is no need of dropping any columns."
   ]
  },
  {
   "cell_type": "markdown",
   "metadata": {},
   "source": [
    "# 4. Modeling - K Nearest Neighbor (KNN)"
   ]
  },
  {
   "cell_type": "markdown",
   "metadata": {},
   "source": [
    "For modelling, we will use our 'train' dataset since the 'test' one does not have any values for Survived."
   ]
  },
  {
   "cell_type": "code",
   "execution_count": 58,
   "metadata": {},
   "outputs": [
    {
     "name": "stdout",
     "output_type": "stream",
     "text": [
      "(772, 7)\n",
      "(772,)\n"
     ]
    }
   ],
   "source": [
    "# splitting our data into attributes and label\n",
    "X = train.drop(columns = ['Survived']).values\n",
    "y = train['Survived'].values\n",
    "print(X.shape)\n",
    "print(y.shape)"
   ]
  },
  {
   "cell_type": "markdown",
   "metadata": {},
   "source": [
    "### 4.1 KNN without splitting"
   ]
  },
  {
   "cell_type": "code",
   "execution_count": 59,
   "metadata": {},
   "outputs": [
    {
     "name": "stdout",
     "output_type": "stream",
     "text": [
      "Accuracy score: 0.7914507772020726\n",
      "[[389  65]\n",
      " [ 96 222]]\n",
      "              precision    recall  f1-score   support\n",
      "\n",
      "           0       0.80      0.86      0.83       454\n",
      "           1       0.77      0.70      0.73       318\n",
      "\n",
      "    accuracy                           0.79       772\n",
      "   macro avg       0.79      0.78      0.78       772\n",
      "weighted avg       0.79      0.79      0.79       772\n",
      "\n"
     ]
    }
   ],
   "source": [
    "from sklearn.neighbors import KNeighborsClassifier\n",
    "\n",
    "# fitting the classifier\n",
    "classifier = KNeighborsClassifier(n_neighbors = 5)\n",
    "classifier.fit(X, y)\n",
    "\n",
    "# making predictions\n",
    "y_pred = classifier.predict(X)\n",
    "\n",
    "# evaluating the classifier\n",
    "from sklearn.metrics import accuracy_score, classification_report, confusion_matrix\n",
    "print(\"Accuracy score:\",accuracy_score(y, y_pred))\n",
    "\n",
    "print(confusion_matrix(y, y_pred))\n",
    "print(classification_report(y, y_pred))"
   ]
  },
  {
   "cell_type": "markdown",
   "metadata": {},
   "source": [
    "We see that the accuracy of our model without splitting the data into train and test sets is 79%."
   ]
  },
  {
   "cell_type": "markdown",
   "metadata": {},
   "source": [
    "### 4.2 KNN with train-test splits"
   ]
  },
  {
   "cell_type": "markdown",
   "metadata": {},
   "source": [
    "We will use a loop to loop through a list of possible test cases to determine which one provides the best accuracy."
   ]
  },
  {
   "cell_type": "code",
   "execution_count": 60,
   "metadata": {},
   "outputs": [
    {
     "name": "stdout",
     "output_type": "stream",
     "text": [
      "Test size 0.1 has Accuracy score: 0.7948717948717948\n",
      "Test size 0.2 has Accuracy score: 0.7870967741935484\n",
      "Test size 0.3 has Accuracy score: 0.771551724137931\n",
      "Test size 0.4 has Accuracy score: 0.7961165048543689\n",
      "Test size 0.5 has Accuracy score: 0.7979274611398963\n"
     ]
    }
   ],
   "source": [
    "my_tests = [0.1, 0.2, 0.3, 0.4, 0.5]\n",
    "\n",
    "from sklearn.model_selection import train_test_split as tts\n",
    "from sklearn.preprocessing import StandardScaler\n",
    "\n",
    "for test in my_tests:\n",
    "    X_train, X_test, y_train, y_test = tts(X, y, test_size = test, random_state = 12)\n",
    "    \n",
    "    # scaling the training data\n",
    "    scaler = StandardScaler()\n",
    "    scaler.fit(X_train)\n",
    "    \n",
    "    X_train = scaler.transform(X_train)\n",
    "    X_test = scaler.transform(X_test)\n",
    "    \n",
    "    # fitting to classifier\n",
    "    classifier = KNeighborsClassifier(n_neighbors = 5)\n",
    "    classifier.fit(X_train, y_train)\n",
    "    \n",
    "    # making predictions\n",
    "    y_pred = classifier.predict(X_test)\n",
    "\n",
    "    # evaluating the algorithm\n",
    "    print(\"Test size {} has Accuracy score:\".format(test),accuracy_score(y_test, y_pred))"
   ]
  },
  {
   "cell_type": "markdown",
   "metadata": {},
   "source": [
    "From this we can conclude the following:\n",
    "- test size 0.1 (train size 0.9) has about 79.4% accuracy\n",
    "- test size 0.2 (train size 0.8) has about 78.7% accuracy\n",
    "- test size 0.3 (train size 0.7) has about 77.1% accuracy\n",
    "- test size 0.4 (train size 0.6) has about 79.6% accuracy\n",
    "- test size 0.5 (train size 0.5) has about 79.7% accuracy\n",
    "\n",
    "It does not seem logical to use a 50-50 train-test split so we will use the next best one, which is the 60-40 split. We can see that it is indeed more accurate than carrying out the predictions without splitting the dataset into training and testing sets. "
   ]
  },
  {
   "cell_type": "markdown",
   "metadata": {},
   "source": [
    "### 4.3 KNN Hyperparameter Tuning"
   ]
  },
  {
   "cell_type": "markdown",
   "metadata": {},
   "source": [
    "##### 4.3.1 90-10 split"
   ]
  },
  {
   "cell_type": "code",
   "execution_count": 61,
   "metadata": {},
   "outputs": [
    {
     "name": "stdout",
     "output_type": "stream",
     "text": [
      "A k value of 6 for this train-test split resulted in an accuracy of 74.0\n"
     ]
    }
   ],
   "source": [
    "# dictionary to store accuracy scores\n",
    "acc_results = {}\n",
    "\n",
    "# selecting 90-10 train-test split\n",
    "X_train, X_test, y_train, y_test = tts(X, y, test_size = 0.1, random_state = 12)\n",
    "\n",
    "neighbor_range = np.arange(1, 51)\n",
    "\n",
    "for nei in neighbor_range: \n",
    "    classifier = KNeighborsClassifier(n_neighbors = nei)\n",
    "    classifier.fit(X_train, y_train)\n",
    "    y_pred = classifier.predict(X_test)\n",
    "    accuracy = round(accuracy_score(y_test, y_pred), 2)\n",
    "    acc_results[nei] = accuracy\n",
    "\n",
    "# getting the most accurate k value\n",
    "key_list = list(acc_results.keys())\n",
    "value_list = list(acc_results.values())\n",
    "max_acc = pd.Series(acc_results).max()\n",
    "max_k = key_list[value_list.index(pd.Series(acc_results).max())]\n",
    "print(\"A k value of {} for this train-test split resulted in an accuracy of {}\".format(max_k,\n",
    "                                                                                       (max_acc * 100)))"
   ]
  },
  {
   "cell_type": "code",
   "execution_count": 62,
   "metadata": {},
   "outputs": [
    {
     "name": "stdout",
     "output_type": "stream",
     "text": [
      "Best parameters: {'weights': 'distance', 'n_neighbors': 34, 'metric': 'manhattan'}\n"
     ]
    }
   ],
   "source": [
    "# optimizing by normalizing\n",
    "from sklearn.preprocessing import Normalizer\n",
    "normal = Normalizer()\n",
    "X_train = normal.fit_transform(X_train)\n",
    "X_test = normal.transform(X_test)\n",
    "\n",
    "from sklearn.model_selection import KFold, RandomizedSearchCV\n",
    "\n",
    "knn = KNeighborsClassifier()\n",
    "\n",
    "params = {'n_neighbors' : neighbor_range,\n",
    "         'weights' : ['uniform', 'distance'],\n",
    "         'metric' : ['manhattan', 'euclidean', 'minkowski']}\n",
    "\n",
    "kfolds = KFold(n_splits = 20)\n",
    "rscv = RandomizedSearchCV(knn, params, random_state = 12)\n",
    "rscv.fit(X_train, y_train)\n",
    "print(\"Best parameters:\", rscv.best_params_)"
   ]
  },
  {
   "cell_type": "code",
   "execution_count": 63,
   "metadata": {},
   "outputs": [
    {
     "name": "stdout",
     "output_type": "stream",
     "text": [
      "Accuracy score: 0.7051282051282052\n",
      "[[35 12]\n",
      " [11 20]]\n",
      "              precision    recall  f1-score   support\n",
      "\n",
      "           0       0.76      0.74      0.75        47\n",
      "           1       0.62      0.65      0.63        31\n",
      "\n",
      "    accuracy                           0.71        78\n",
      "   macro avg       0.69      0.69      0.69        78\n",
      "weighted avg       0.71      0.71      0.71        78\n",
      "\n"
     ]
    }
   ],
   "source": [
    "# now implementing using the recommended best parameters\n",
    "classifier = KNeighborsClassifier(n_neighbors = 34, weights = 'distance', metric = 'manhattan')\n",
    "classifier.fit(X_train, y_train)\n",
    "\n",
    "# making predictions\n",
    "y_pred = classifier.predict(X_test)\n",
    "\n",
    "# evaluating the algorithm\n",
    "print(\"Accuracy score:\", accuracy_score(y_test, y_pred))\n",
    "\n",
    "print(confusion_matrix(y_test, y_pred))\n",
    "print(classification_report(y_test, y_pred))"
   ]
  },
  {
   "cell_type": "markdown",
   "metadata": {},
   "source": [
    "Before playing around with the parameters, the accuracy score for the 90-10 split was 79.4%. \n",
    "\n",
    "Playing around with the best value of k resulted in an accuracy score of 74% for k = 6. \n",
    "\n",
    "A randomized search returned best parameters 'distance' for weights, 34 for n_neighbors, and 'manhattan' for metrics and resulted in an accuracy score of 70.5%.\n",
    "\n",
    "We see that hyperparameter tuning has actually brought down the accuracy score."
   ]
  },
  {
   "cell_type": "markdown",
   "metadata": {},
   "source": [
    "##### 4.3.2 80-20 split"
   ]
  },
  {
   "cell_type": "code",
   "execution_count": 64,
   "metadata": {},
   "outputs": [
    {
     "name": "stdout",
     "output_type": "stream",
     "text": [
      "A k value of 13 for this train-test split resulted in an accuracy of 72.0\n"
     ]
    }
   ],
   "source": [
    "# dictionary to store accuracy scores\n",
    "acc_results = {}\n",
    "\n",
    "# selecting 80-20 train-test split\n",
    "X_train, X_test, y_train, y_test = tts(X, y, test_size = 0.2, random_state = 12)\n",
    "\n",
    "for nei in neighbor_range: \n",
    "    classifier = KNeighborsClassifier(n_neighbors = nei)\n",
    "    classifier.fit(X_train, y_train)\n",
    "    y_pred = classifier.predict(X_test)\n",
    "    accuracy = round(accuracy_score(y_test, y_pred), 2)\n",
    "    acc_results[nei] = accuracy\n",
    "\n",
    "# getting the most accurate k value\n",
    "key_list = list(acc_results.keys())\n",
    "value_list = list(acc_results.values())\n",
    "max_acc = pd.Series(acc_results).max()\n",
    "max_k = key_list[value_list.index(pd.Series(acc_results).max())]\n",
    "print(\"A k value of {} for this train-test split resulted in an accuracy of {}\".format(max_k, \n",
    "                                                                                       (max_acc * 100)))"
   ]
  },
  {
   "cell_type": "code",
   "execution_count": 65,
   "metadata": {},
   "outputs": [
    {
     "name": "stdout",
     "output_type": "stream",
     "text": [
      "Best parameters: {'weights': 'distance', 'n_neighbors': 39, 'metric': 'manhattan'}\n"
     ]
    }
   ],
   "source": [
    "# optimizing by normalizing\n",
    "normal = Normalizer()\n",
    "X_train = normal.fit_transform(X_train)\n",
    "X_test = normal.transform(X_test)\n",
    "\n",
    "neighbor_range = np.arange(1, 51)\n",
    "knn = KNeighborsClassifier()\n",
    "\n",
    "params = {'n_neighbors' : neighbor_range,\n",
    "         'weights' : ['uniform', 'distance'],\n",
    "         'metric' : ['manhattan', 'euclidean', 'minkowski']}\n",
    "\n",
    "kfolds = KFold(n_splits = 20)\n",
    "rscv = RandomizedSearchCV(knn, params, random_state = 12)\n",
    "rscv.fit(X_train, y_train)\n",
    "print(\"Best parameters:\", rscv.best_params_)"
   ]
  },
  {
   "cell_type": "code",
   "execution_count": 66,
   "metadata": {},
   "outputs": [
    {
     "name": "stdout",
     "output_type": "stream",
     "text": [
      "Accuracy score: 0.6580645161290323\n",
      "[[66 30]\n",
      " [23 36]]\n",
      "              precision    recall  f1-score   support\n",
      "\n",
      "           0       0.74      0.69      0.71        96\n",
      "           1       0.55      0.61      0.58        59\n",
      "\n",
      "    accuracy                           0.66       155\n",
      "   macro avg       0.64      0.65      0.64       155\n",
      "weighted avg       0.67      0.66      0.66       155\n",
      "\n"
     ]
    }
   ],
   "source": [
    "# now implementing using the recommended best parameters\n",
    "classifier = KNeighborsClassifier(n_neighbors = 39, weights = 'distance', metric = 'manhattan')\n",
    "classifier.fit(X_train, y_train)\n",
    "\n",
    "# making predictions\n",
    "y_pred = classifier.predict(X_test)\n",
    "\n",
    "# evaluating the algorithm\n",
    "print(\"Accuracy score:\", accuracy_score(y_test, y_pred))\n",
    "\n",
    "print(confusion_matrix(y_test, y_pred))\n",
    "print(classification_report(y_test, y_pred))"
   ]
  },
  {
   "cell_type": "markdown",
   "metadata": {},
   "source": [
    "Before playing around with the parameters, the accuracy score for the 80-20 split was 78.7%. \n",
    "\n",
    "Playing around with the best value of k resulted in an accuracy score of 72% for k = 13. \n",
    "\n",
    "A randomized search returned best parameters 'distance' for weights, 39 for n_neighbors, and 'manhattan' for metrics and resulted in an accuracy score of 65.8%.\n",
    "\n",
    "We see that hyperparameter tuning has actually brought down the accuracy score."
   ]
  },
  {
   "cell_type": "markdown",
   "metadata": {},
   "source": [
    "##### 4.3.3 70-30 split"
   ]
  },
  {
   "cell_type": "code",
   "execution_count": 67,
   "metadata": {},
   "outputs": [
    {
     "name": "stdout",
     "output_type": "stream",
     "text": [
      "A k value of 20 for this train-test split resulted in an accuracy of 72.0\n"
     ]
    }
   ],
   "source": [
    "# dictionary to store accuracy scores\n",
    "acc_results = {}\n",
    "\n",
    "# selecting 70-30 train-test split\n",
    "X_train, X_test, y_train, y_test = tts(X, y, test_size = 0.3, random_state = 12)\n",
    "\n",
    "for nei in neighbor_range: \n",
    "    classifier = KNeighborsClassifier(n_neighbors = nei)\n",
    "    classifier.fit(X_train, y_train)\n",
    "    y_pred = classifier.predict(X_test)\n",
    "    accuracy = round(accuracy_score(y_test, y_pred), 2)\n",
    "    acc_results[nei] = accuracy\n",
    "\n",
    "# getting the most accurate k value\n",
    "key_list = list(acc_results.keys())\n",
    "value_list = list(acc_results.values())\n",
    "max_acc = pd.Series(acc_results).max()\n",
    "max_k = key_list[value_list.index(pd.Series(acc_results).max())]\n",
    "print(\"A k value of {} for this train-test split resulted in an accuracy of {}\".format(max_k, \n",
    "                                                                                       (max_acc * 100)))"
   ]
  },
  {
   "cell_type": "code",
   "execution_count": 68,
   "metadata": {},
   "outputs": [
    {
     "name": "stdout",
     "output_type": "stream",
     "text": [
      "Best parameters: {'weights': 'distance', 'n_neighbors': 34, 'metric': 'manhattan'}\n"
     ]
    }
   ],
   "source": [
    "# optimizing by normalizing\n",
    "normal = Normalizer()\n",
    "X_train = normal.fit_transform(X_train)\n",
    "X_test = normal.transform(X_test)\n",
    "\n",
    "neighbor_range = np.arange(1, 51)\n",
    "knn = KNeighborsClassifier()\n",
    "\n",
    "params = {'n_neighbors' : neighbor_range,\n",
    "         'weights' : ['uniform', 'distance'],\n",
    "         'metric' : ['manhattan', 'euclidean', 'minkowski']}\n",
    "\n",
    "kfolds = KFold(n_splits = 20)\n",
    "rscv = RandomizedSearchCV(knn, params, random_state = 12)\n",
    "rscv.fit(X_train, y_train)\n",
    "print(\"Best parameters:\", rscv.best_params_)"
   ]
  },
  {
   "cell_type": "code",
   "execution_count": 69,
   "metadata": {},
   "outputs": [
    {
     "name": "stdout",
     "output_type": "stream",
     "text": [
      "Accuracy score: 0.6896551724137931\n",
      "[[101  42]\n",
      " [ 30  59]]\n",
      "              precision    recall  f1-score   support\n",
      "\n",
      "           0       0.77      0.71      0.74       143\n",
      "           1       0.58      0.66      0.62        89\n",
      "\n",
      "    accuracy                           0.69       232\n",
      "   macro avg       0.68      0.68      0.68       232\n",
      "weighted avg       0.70      0.69      0.69       232\n",
      "\n"
     ]
    }
   ],
   "source": [
    "# now implementing using the recommended best parameters\n",
    "classifier = KNeighborsClassifier(n_neighbors = 34, weights = 'distance', metric = 'manhattan')\n",
    "classifier.fit(X_train, y_train)\n",
    "\n",
    "# making predictions\n",
    "y_pred = classifier.predict(X_test)\n",
    "\n",
    "# evaluating the algorithm\n",
    "print(\"Accuracy score:\", accuracy_score(y_test, y_pred))\n",
    "\n",
    "print(confusion_matrix(y_test, y_pred))\n",
    "print(classification_report(y_test, y_pred))"
   ]
  },
  {
   "cell_type": "markdown",
   "metadata": {},
   "source": [
    "Before playing around with the parameters, the accuracy score for the 70-30 split was 77.1%. \n",
    "\n",
    "Playing around with the best value of k resulted in an accuracy score of 72% for k = 20. \n",
    "\n",
    "A randomized search returned best parameters 'distance' for weights, 34 for n_neighbors, and 'manhattan' for metrics and resulted in an accuracy score of 68.9%.\n",
    "\n",
    "We see that hyperparameter tuning has actually brought down the accuracy score."
   ]
  },
  {
   "cell_type": "markdown",
   "metadata": {},
   "source": [
    "##### 4.3.4 60-40 split"
   ]
  },
  {
   "cell_type": "code",
   "execution_count": 70,
   "metadata": {},
   "outputs": [
    {
     "name": "stdout",
     "output_type": "stream",
     "text": [
      "A k value of 18 for this train-test split resulted in an accuracy of 72.0\n"
     ]
    }
   ],
   "source": [
    "# dictionary to store accuracy scores\n",
    "acc_results = {}\n",
    "\n",
    "# selecting 60-40 train-test split\n",
    "X_train, X_test, y_train, y_test = tts(X, y, test_size = 0.4, random_state = 12)\n",
    "\n",
    "for nei in neighbor_range: \n",
    "    classifier = KNeighborsClassifier(n_neighbors = nei)\n",
    "    classifier.fit(X_train, y_train)\n",
    "    y_pred = classifier.predict(X_test)\n",
    "    accuracy = round(accuracy_score(y_test, y_pred), 2)\n",
    "    acc_results[nei] = accuracy\n",
    "\n",
    "# getting the most accurate k value\n",
    "key_list = list(acc_results.keys())\n",
    "value_list = list(acc_results.values())\n",
    "max_acc = pd.Series(acc_results).max()\n",
    "max_k = key_list[value_list.index(pd.Series(acc_results).max())]\n",
    "print(\"A k value of {} for this train-test split resulted in an accuracy of {}\".format(max_k, \n",
    "                                                                                       (max_acc * 100)))"
   ]
  },
  {
   "cell_type": "code",
   "execution_count": 71,
   "metadata": {},
   "outputs": [
    {
     "name": "stdout",
     "output_type": "stream",
     "text": [
      "Best parameters: {'weights': 'distance', 'n_neighbors': 34, 'metric': 'manhattan'}\n"
     ]
    }
   ],
   "source": [
    "# optimizing by normalizing\n",
    "normal = Normalizer()\n",
    "X_train = normal.fit_transform(X_train)\n",
    "X_test = normal.transform(X_test)\n",
    "\n",
    "neighbor_range = np.arange(1, 51)\n",
    "knn = KNeighborsClassifier()\n",
    "\n",
    "params = {'n_neighbors' : neighbor_range,\n",
    "         'weights' : ['uniform', 'distance'],\n",
    "         'metric' : ['manhattan', 'euclidean', 'minkowski']}\n",
    "\n",
    "kfolds = KFold(n_splits = 20)\n",
    "rscv = RandomizedSearchCV(knn, params, random_state = 12)\n",
    "rscv.fit(X_train, y_train)\n",
    "print(\"Best parameters:\", rscv.best_params_)"
   ]
  },
  {
   "cell_type": "code",
   "execution_count": 72,
   "metadata": {},
   "outputs": [
    {
     "name": "stdout",
     "output_type": "stream",
     "text": [
      "Accuracy score: 0.7055016181229773\n",
      "[[137  55]\n",
      " [ 36  81]]\n",
      "              precision    recall  f1-score   support\n",
      "\n",
      "           0       0.79      0.71      0.75       192\n",
      "           1       0.60      0.69      0.64       117\n",
      "\n",
      "    accuracy                           0.71       309\n",
      "   macro avg       0.69      0.70      0.70       309\n",
      "weighted avg       0.72      0.71      0.71       309\n",
      "\n"
     ]
    }
   ],
   "source": [
    "# now implementing using the recommended best parameters\n",
    "classifier = KNeighborsClassifier(n_neighbors = 34, weights = 'distance', metric = 'manhattan')\n",
    "classifier.fit(X_train, y_train)\n",
    "\n",
    "# making predictions\n",
    "y_pred = classifier.predict(X_test)\n",
    "\n",
    "# evaluating the algorithm\n",
    "print(\"Accuracy score:\", accuracy_score(y_test, y_pred))\n",
    "\n",
    "print(confusion_matrix(y_test, y_pred))\n",
    "print(classification_report(y_test, y_pred))"
   ]
  },
  {
   "cell_type": "markdown",
   "metadata": {},
   "source": [
    "Before playing around with the parameters, the accuracy score for the 60-40 split was 79.6%. \n",
    "\n",
    "Playing around with the best value of k resulted in an accuracy score of 72% for k = 18. \n",
    "\n",
    "A randomized search returned best parameters 'distance' for weights, 34 for n_neighbors, and 'manhattan' for metrics and resulted in an accuracy score of 70.5%.\n",
    "\n",
    "We see that hyperparameter tuning has actually brought down the accuracy score."
   ]
  },
  {
   "cell_type": "markdown",
   "metadata": {},
   "source": [
    "# 5. Conclusion & Challenging the Solution"
   ]
  },
  {
   "cell_type": "markdown",
   "metadata": {},
   "source": [
    "To conclude, we see that the accuracy score is highest for the 60-40 split without any hyperparameter tuning (79.6%). With hyperparameter tuning, the accuracy score went down, which means that either there is something wrong with the model or we did not use the correct model for this. We will challenge our solution by applying gradient boosting."
   ]
  },
  {
   "cell_type": "code",
   "execution_count": 73,
   "metadata": {},
   "outputs": [
    {
     "name": "stdout",
     "output_type": "stream",
     "text": [
      "Learning rate: 0.05\n",
      "Accuracy score (training): 0.847\n",
      "Accuracy score (validation): 0.793\n",
      "*******************************************\n",
      "Learning rate: 0.075\n",
      "Accuracy score (training): 0.862\n",
      "Accuracy score (validation): 0.796\n",
      "*******************************************\n",
      "Learning rate: 0.1\n",
      "Accuracy score (training): 0.881\n",
      "Accuracy score (validation): 0.806\n",
      "*******************************************\n",
      "Learning rate: 0.25\n",
      "Accuracy score (training): 0.937\n",
      "Accuracy score (validation): 0.799\n",
      "*******************************************\n",
      "Learning rate: 0.5\n",
      "Accuracy score (training): 0.972\n",
      "Accuracy score (validation): 0.741\n",
      "*******************************************\n",
      "Learning rate: 0.75\n",
      "Accuracy score (training): 0.978\n",
      "Accuracy score (validation): 0.744\n",
      "*******************************************\n",
      "Learning rate: 1\n",
      "Accuracy score (training): 0.985\n",
      "Accuracy score (validation): 0.709\n",
      "*******************************************\n"
     ]
    }
   ],
   "source": [
    "# use Gradient boosting\n",
    "from sklearn.ensemble import GradientBoostingClassifier\n",
    "\n",
    "# selecting 60-40 train-test split\n",
    "X_train, X_test, y_train, y_test = tts(X, y, test_size = 0.4, random_state = 12)\n",
    "\n",
    "# setting different learning rates, so that we can compare the performance of \n",
    "# the classifier's performance at different learning rates\n",
    "lr_list = [0.05, 0.075, 0.1, 0.25, 0.5, 0.75, 1]\n",
    "\n",
    "for learning_rate in lr_list:\n",
    "    gbc = GradientBoostingClassifier(n_estimators = 200, max_depth = 2,\n",
    "                                     learning_rate = learning_rate,\n",
    "                                     random_state = 12)\n",
    "    gbc.fit(X_train, y_train)\n",
    "\n",
    "    print(\"Learning rate:\", learning_rate)\n",
    "    print(\"Accuracy score (training): {0:.3f}\".format(gbc.score(X_train,\n",
    "                                                                   y_train)))\n",
    "    print(\"Accuracy score (validation): {0:.3f}\".format(gbc.score(X_test,\n",
    "                                                                     y_test)))\n",
    "    print(\"*******************************************\")"
   ]
  },
  {
   "cell_type": "markdown",
   "metadata": {},
   "source": [
    "We can see that a learning rate of 0.1 gives us the best performance when it comes to validating, and good performance when it comes to training so we will use it as our parameter."
   ]
  },
  {
   "cell_type": "code",
   "execution_count": 74,
   "metadata": {
    "scrolled": true
   },
   "outputs": [
    {
     "name": "stdout",
     "output_type": "stream",
     "text": [
      "Confusion Matrix:\n",
      "[[161  31]\n",
      " [ 29  88]]\n",
      "Classification Report\n",
      "              precision    recall  f1-score   support\n",
      "\n",
      "           0       0.85      0.84      0.84       192\n",
      "           1       0.74      0.75      0.75       117\n",
      "\n",
      "    accuracy                           0.81       309\n",
      "   macro avg       0.79      0.80      0.79       309\n",
      "weighted avg       0.81      0.81      0.81       309\n",
      "\n"
     ]
    }
   ],
   "source": [
    "# now to use our selected learning rate to model\n",
    "grad = GradientBoostingClassifier(n_estimators = 200, max_depth = 2, \n",
    "                                  learning_rate = 0.1, random_state = 0)\n",
    "\n",
    "# fitting to training data\n",
    "grad.fit(X_train, y_train)\n",
    "\n",
    "# making predictions\n",
    "grad_y_pred = grad.predict(X_test)\n",
    "\n",
    "# evaluating the algorithm\n",
    "print(\"Confusion Matrix:\")\n",
    "print(confusion_matrix(y_test, grad_y_pred))\n",
    "print(\"Classification Report\")\n",
    "print(classification_report(y_test, grad_y_pred))"
   ]
  },
  {
   "cell_type": "markdown",
   "metadata": {},
   "source": [
    "Accuracy has gone up to 81% by using gradient boosting, which is a slight improvement but passes the metric for success."
   ]
  }
 ],
 "metadata": {
  "kernelspec": {
   "display_name": "Python 3",
   "language": "python",
   "name": "python3"
  },
  "language_info": {
   "codemirror_mode": {
    "name": "ipython",
    "version": 3
   },
   "file_extension": ".py",
   "mimetype": "text/x-python",
   "name": "python",
   "nbconvert_exporter": "python",
   "pygments_lexer": "ipython3",
   "version": "3.7.3"
  }
 },
 "nbformat": 4,
 "nbformat_minor": 2
}
