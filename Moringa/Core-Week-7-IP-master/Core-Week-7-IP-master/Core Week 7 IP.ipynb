{
 "cells": [
  {
   "cell_type": "markdown",
   "metadata": {},
   "source": [
    "# 1. Introduction\n",
    "\n",
    "### Overview\n",
    "Within your deliverable you are expected to:\n",
    "* Define the question, the metric for success, the context, experimental design taken.\n",
    "* Read and explore the given dataset.\n",
    "* Define the appropriateness of the available data to answer the given question.\n",
    "* Find and deal with outliers, anomalies, and missing data within the dataset.\n",
    "* Perform univariate, bivariate and multivariate analysis recording your observations.\n",
    "* Performing regression analysis.\n",
    "    * Incorporate categorical independent variables into your models.\n",
    "    * Check for multicollinearity\n",
    "* Provide a recommendation based on your analysis. \n",
    "    * Create residual plots for your models, and assess heteroskedasticity using Barlett's test.\n",
    "* Challenge your solution by providing insights on how you can make improvements in model improvement.\n",
    "\n",
    "While performing your regression analysis, you will be required to perform modeling using the given regression techniques then evaluate their performance. You will be then required to provide your observations and recommendation on the suitability of each of the tested models on their appropriateness of solving the given problem. \n",
    "    1. Multiple Linear Regression\n",
    "    2. Quantile Regression\n",
    "    3. Ridge Regression\n",
    "    4. Lasso Regression\n",
    "    5. Elastic Net Regression"
   ]
  },
  {
   "cell_type": "markdown",
   "metadata": {},
   "source": [
    "### 1.1 Research Question\n",
    "Study the factors that affect housing prices, and then create a model that would allow the company to accurately predict the sale of prices given certain predictor/target variables."
   ]
  },
  {
   "cell_type": "markdown",
   "metadata": {},
   "source": [
    "### 1.2 Metric for Success\n",
    "The model will be considered a success when it is able to effectively and optimally predict the target variable with 75% to 85% accuracy. The reason I choose this range is because a score below 75% indicates underfitting while a score above 85% indicates overfitting."
   ]
  },
  {
   "cell_type": "markdown",
   "metadata": {},
   "source": [
    "### 1.3 Context\n",
    "As a Data Scientist, you work for Hass Consulting Company which is a real estate leader with over 25 years of experience. You have been tasked to study the factors that affect housing prices using the given information on real estate properties that was collected over the past few months. Later onwards, create a model that would allow the company to accurately predict the sale of prices upon being provided with the predictor variables. "
   ]
  },
  {
   "cell_type": "markdown",
   "metadata": {},
   "source": [
    "### 1.4 Experimental Design\n",
    "\n",
    "Below is the expected flow of my work:\n",
    "    - Data Cleaning and Preparation\n",
    "        - Load libraries and dataset\n",
    "        - Deal with missing values\n",
    "        - Deal with duplicated records\n",
    "    - Perform EDA\n",
    "        - Univariate Analysis\n",
    "        - Bivariate Analysis\n",
    "    - Split dataset into testing and training data\n",
    "    - Carry out regression while providing brief descriptions of how each regression model differs from the               other regression models and what their limitations are\n",
    "        - Multiple Linear Regression\n",
    "        - Quantile Regression\n",
    "        - Lasso Regression\n",
    "        - Ridge Regression\n",
    "        - Elastic Net Regression\n",
    "    - Make predictions using the different regression models\n",
    "    - Assess the accuracy of the different regression models\n",
    "    - Make conclusions & challenge the solution"
   ]
  },
  {
   "cell_type": "markdown",
   "metadata": {},
   "source": [
    "### 1.5 Appropriateness of the Data\n",
    "\n",
    "The dataset to use for this project can be found by following this link: [http://bit.ly/IndependentProjectWeek7Dataset\n",
    "\n",
    "Below is the dataset glossary:\n",
    "\n",
    "* Id \n",
    "* price  - Price of the house\n",
    "* bedrooms - Number of Bedrooms\n",
    "* bathrooms - Number of Bathrooms\n",
    "* sqft_living - Square feet area of living area\n",
    "* sqft_lot  - Square feet area of parking Layout\n",
    "* floors - Number of Floors\n",
    "* waterfront - Whether waterfront is there or not\n",
    "* view - Number of Views\n",
    "* grade - Grades\n",
    "* sqft_above\n",
    "* sqft_basement - Square feet area off basement\n",
    "* yr_built - Year the house is built\n",
    "* yr_renovated - Year the house is renovated\n",
    "* zipcode - zipcode os the house\n",
    "* lat : Latitude of the house\n",
    "* lon : Longitude of the house\n",
    "* sqft_living15\n",
    "* sqft_lot15\n",
    "\n",
    "\n",
    "Some of the variable definitions from the LMS were not complete or were confusing so I looked their definitions up from here: http://rstudio-pubs-static.s3.amazonaws.com/293732_458d9cac35634c78b852db5cd29d9e5e.html\n",
    "\n",
    "* id - Unique ID for each home sold\n",
    "* bathrooms - Number of bathrooms, where .5 accounts for a room with a toilet but no shower\n",
    "* condition - An index from 1 to 5 on the condition of the apartment,\n",
    "* grade - An index from 1 to 13, where 1-3 falls short of building construction and design, 7 has an average level of construction and design, and 11-13 have a high quality level of construction and design.\n",
    "* sqft_above - The square footage of the interior housing space that is above ground level\n",
    "* sqft_basement - The square footage of the interior housing space that is below ground level\n",
    "* sqft_living15 - The square footage of interior housing living space for the nearest 15 neighbors\n",
    "* sqft_lot15 - The square footage of the land lots of the nearest 15 neighbors"
   ]
  },
  {
   "cell_type": "markdown",
   "metadata": {},
   "source": [
    "# 2. Data Preparation & Cleaning"
   ]
  },
  {
   "cell_type": "markdown",
   "metadata": {},
   "source": [
    "### 2.1 Loading Python libraries and the dataset"
   ]
  },
  {
   "cell_type": "code",
   "execution_count": 1,
   "metadata": {},
   "outputs": [],
   "source": [
    "# import the necessary libraries\n",
    "import pandas as pd\n",
    "import numpy as np\n",
    "import matplotlib.pyplot as plt\n",
    "import seaborn as sb"
   ]
  },
  {
   "cell_type": "code",
   "execution_count": 2,
   "metadata": {},
   "outputs": [
    {
     "data": {
      "text/html": [
       "<div>\n",
       "<style scoped>\n",
       "    .dataframe tbody tr th:only-of-type {\n",
       "        vertical-align: middle;\n",
       "    }\n",
       "\n",
       "    .dataframe tbody tr th {\n",
       "        vertical-align: top;\n",
       "    }\n",
       "\n",
       "    .dataframe thead th {\n",
       "        text-align: right;\n",
       "    }\n",
       "</style>\n",
       "<table border=\"1\" class=\"dataframe\">\n",
       "  <thead>\n",
       "    <tr style=\"text-align: right;\">\n",
       "      <th></th>\n",
       "      <th>id</th>\n",
       "      <th>price</th>\n",
       "      <th>bedrooms</th>\n",
       "      <th>bathrooms</th>\n",
       "      <th>sqft_living</th>\n",
       "      <th>sqft_lot</th>\n",
       "      <th>floors</th>\n",
       "      <th>waterfront</th>\n",
       "      <th>view</th>\n",
       "      <th>condition</th>\n",
       "      <th>grade</th>\n",
       "      <th>sqft_above</th>\n",
       "      <th>sqft_basement</th>\n",
       "      <th>yr_built</th>\n",
       "      <th>yr_renovated</th>\n",
       "      <th>zipcode</th>\n",
       "      <th>lat</th>\n",
       "      <th>long</th>\n",
       "      <th>sqft_living15</th>\n",
       "      <th>sqft_lot15</th>\n",
       "    </tr>\n",
       "  </thead>\n",
       "  <tbody>\n",
       "    <tr>\n",
       "      <th>0</th>\n",
       "      <td>7129300520</td>\n",
       "      <td>221900.0</td>\n",
       "      <td>3</td>\n",
       "      <td>1.00</td>\n",
       "      <td>1180</td>\n",
       "      <td>5650</td>\n",
       "      <td>1.0</td>\n",
       "      <td>0</td>\n",
       "      <td>0</td>\n",
       "      <td>3</td>\n",
       "      <td>7</td>\n",
       "      <td>1180</td>\n",
       "      <td>0</td>\n",
       "      <td>1955</td>\n",
       "      <td>0</td>\n",
       "      <td>98178</td>\n",
       "      <td>47.5112</td>\n",
       "      <td>-122.257</td>\n",
       "      <td>1340</td>\n",
       "      <td>5650</td>\n",
       "    </tr>\n",
       "    <tr>\n",
       "      <th>1</th>\n",
       "      <td>6414100192</td>\n",
       "      <td>538000.0</td>\n",
       "      <td>3</td>\n",
       "      <td>2.25</td>\n",
       "      <td>2570</td>\n",
       "      <td>7242</td>\n",
       "      <td>2.0</td>\n",
       "      <td>0</td>\n",
       "      <td>0</td>\n",
       "      <td>3</td>\n",
       "      <td>7</td>\n",
       "      <td>2170</td>\n",
       "      <td>400</td>\n",
       "      <td>1951</td>\n",
       "      <td>1991</td>\n",
       "      <td>98125</td>\n",
       "      <td>47.7210</td>\n",
       "      <td>-122.319</td>\n",
       "      <td>1690</td>\n",
       "      <td>7639</td>\n",
       "    </tr>\n",
       "    <tr>\n",
       "      <th>2</th>\n",
       "      <td>5631500400</td>\n",
       "      <td>180000.0</td>\n",
       "      <td>2</td>\n",
       "      <td>1.00</td>\n",
       "      <td>770</td>\n",
       "      <td>10000</td>\n",
       "      <td>1.0</td>\n",
       "      <td>0</td>\n",
       "      <td>0</td>\n",
       "      <td>3</td>\n",
       "      <td>6</td>\n",
       "      <td>770</td>\n",
       "      <td>0</td>\n",
       "      <td>1933</td>\n",
       "      <td>0</td>\n",
       "      <td>98028</td>\n",
       "      <td>47.7379</td>\n",
       "      <td>-122.233</td>\n",
       "      <td>2720</td>\n",
       "      <td>8062</td>\n",
       "    </tr>\n",
       "    <tr>\n",
       "      <th>3</th>\n",
       "      <td>2487200875</td>\n",
       "      <td>604000.0</td>\n",
       "      <td>4</td>\n",
       "      <td>3.00</td>\n",
       "      <td>1960</td>\n",
       "      <td>5000</td>\n",
       "      <td>1.0</td>\n",
       "      <td>0</td>\n",
       "      <td>0</td>\n",
       "      <td>5</td>\n",
       "      <td>7</td>\n",
       "      <td>1050</td>\n",
       "      <td>910</td>\n",
       "      <td>1965</td>\n",
       "      <td>0</td>\n",
       "      <td>98136</td>\n",
       "      <td>47.5208</td>\n",
       "      <td>-122.393</td>\n",
       "      <td>1360</td>\n",
       "      <td>5000</td>\n",
       "    </tr>\n",
       "    <tr>\n",
       "      <th>4</th>\n",
       "      <td>1954400510</td>\n",
       "      <td>510000.0</td>\n",
       "      <td>3</td>\n",
       "      <td>2.00</td>\n",
       "      <td>1680</td>\n",
       "      <td>8080</td>\n",
       "      <td>1.0</td>\n",
       "      <td>0</td>\n",
       "      <td>0</td>\n",
       "      <td>3</td>\n",
       "      <td>8</td>\n",
       "      <td>1680</td>\n",
       "      <td>0</td>\n",
       "      <td>1987</td>\n",
       "      <td>0</td>\n",
       "      <td>98074</td>\n",
       "      <td>47.6168</td>\n",
       "      <td>-122.045</td>\n",
       "      <td>1800</td>\n",
       "      <td>7503</td>\n",
       "    </tr>\n",
       "  </tbody>\n",
       "</table>\n",
       "</div>"
      ],
      "text/plain": [
       "           id     price  bedrooms  bathrooms  sqft_living  sqft_lot  floors  \\\n",
       "0  7129300520  221900.0         3       1.00         1180      5650     1.0   \n",
       "1  6414100192  538000.0         3       2.25         2570      7242     2.0   \n",
       "2  5631500400  180000.0         2       1.00          770     10000     1.0   \n",
       "3  2487200875  604000.0         4       3.00         1960      5000     1.0   \n",
       "4  1954400510  510000.0         3       2.00         1680      8080     1.0   \n",
       "\n",
       "   waterfront  view  condition  grade  sqft_above  sqft_basement  yr_built  \\\n",
       "0           0     0          3      7        1180              0      1955   \n",
       "1           0     0          3      7        2170            400      1951   \n",
       "2           0     0          3      6         770              0      1933   \n",
       "3           0     0          5      7        1050            910      1965   \n",
       "4           0     0          3      8        1680              0      1987   \n",
       "\n",
       "   yr_renovated  zipcode      lat     long  sqft_living15  sqft_lot15  \n",
       "0             0    98178  47.5112 -122.257           1340        5650  \n",
       "1          1991    98125  47.7210 -122.319           1690        7639  \n",
       "2             0    98028  47.7379 -122.233           2720        8062  \n",
       "3             0    98136  47.5208 -122.393           1360        5000  \n",
       "4             0    98074  47.6168 -122.045           1800        7503  "
      ]
     },
     "execution_count": 2,
     "metadata": {},
     "output_type": "execute_result"
    }
   ],
   "source": [
    "house = pd.read_csv('house_data.csv')\n",
    "house.head()"
   ]
  },
  {
   "cell_type": "markdown",
   "metadata": {},
   "source": [
    "### 2.2 Cleaning & Preparing the Dataset"
   ]
  },
  {
   "cell_type": "code",
   "execution_count": 3,
   "metadata": {},
   "outputs": [
    {
     "name": "stdout",
     "output_type": "stream",
     "text": [
      "<class 'pandas.core.frame.DataFrame'>\n",
      "RangeIndex: 21613 entries, 0 to 21612\n",
      "Data columns (total 20 columns):\n",
      "id               21613 non-null int64\n",
      "price            21613 non-null float64\n",
      "bedrooms         21613 non-null int64\n",
      "bathrooms        21613 non-null float64\n",
      "sqft_living      21613 non-null int64\n",
      "sqft_lot         21613 non-null int64\n",
      "floors           21613 non-null float64\n",
      "waterfront       21613 non-null int64\n",
      "view             21613 non-null int64\n",
      "condition        21613 non-null int64\n",
      "grade            21613 non-null int64\n",
      "sqft_above       21613 non-null int64\n",
      "sqft_basement    21613 non-null int64\n",
      "yr_built         21613 non-null int64\n",
      "yr_renovated     21613 non-null int64\n",
      "zipcode          21613 non-null int64\n",
      "lat              21613 non-null float64\n",
      "long             21613 non-null float64\n",
      "sqft_living15    21613 non-null int64\n",
      "sqft_lot15       21613 non-null int64\n",
      "dtypes: float64(5), int64(15)\n",
      "memory usage: 3.3 MB\n"
     ]
    }
   ],
   "source": [
    "# check basic info\n",
    "house.info()"
   ]
  },
  {
   "cell_type": "markdown",
   "metadata": {},
   "source": [
    "##### 2.2.1 Dealing with Missing Values and Duplicated Records"
   ]
  },
  {
   "cell_type": "code",
   "execution_count": 4,
   "metadata": {},
   "outputs": [
    {
     "data": {
      "text/plain": [
       "id               False\n",
       "price            False\n",
       "bedrooms         False\n",
       "bathrooms        False\n",
       "sqft_living      False\n",
       "sqft_lot         False\n",
       "floors           False\n",
       "waterfront       False\n",
       "view             False\n",
       "condition        False\n",
       "grade            False\n",
       "sqft_above       False\n",
       "sqft_basement    False\n",
       "yr_built         False\n",
       "yr_renovated     False\n",
       "zipcode          False\n",
       "lat              False\n",
       "long             False\n",
       "sqft_living15    False\n",
       "sqft_lot15       False\n",
       "dtype: bool"
      ]
     },
     "execution_count": 4,
     "metadata": {},
     "output_type": "execute_result"
    }
   ],
   "source": [
    "# check for missing values\n",
    "house.isna().any()"
   ]
  },
  {
   "cell_type": "markdown",
   "metadata": {},
   "source": [
    "There are no missing values so there is no need to drop any."
   ]
  },
  {
   "cell_type": "markdown",
   "metadata": {},
   "source": [
    " "
   ]
  },
  {
   "cell_type": "code",
   "execution_count": 5,
   "metadata": {},
   "outputs": [
    {
     "data": {
      "text/html": [
       "<div>\n",
       "<style scoped>\n",
       "    .dataframe tbody tr th:only-of-type {\n",
       "        vertical-align: middle;\n",
       "    }\n",
       "\n",
       "    .dataframe tbody tr th {\n",
       "        vertical-align: top;\n",
       "    }\n",
       "\n",
       "    .dataframe thead th {\n",
       "        text-align: right;\n",
       "    }\n",
       "</style>\n",
       "<table border=\"1\" class=\"dataframe\">\n",
       "  <thead>\n",
       "    <tr style=\"text-align: right;\">\n",
       "      <th></th>\n",
       "      <th>id</th>\n",
       "      <th>price</th>\n",
       "      <th>bedrooms</th>\n",
       "      <th>bathrooms</th>\n",
       "      <th>sqft_living</th>\n",
       "      <th>sqft_lot</th>\n",
       "      <th>floors</th>\n",
       "      <th>waterfront</th>\n",
       "      <th>view</th>\n",
       "      <th>condition</th>\n",
       "      <th>grade</th>\n",
       "      <th>sqft_above</th>\n",
       "      <th>sqft_basement</th>\n",
       "      <th>yr_built</th>\n",
       "      <th>yr_renovated</th>\n",
       "      <th>zipcode</th>\n",
       "      <th>lat</th>\n",
       "      <th>long</th>\n",
       "      <th>sqft_living15</th>\n",
       "      <th>sqft_lot15</th>\n",
       "    </tr>\n",
       "  </thead>\n",
       "  <tbody>\n",
       "  </tbody>\n",
       "</table>\n",
       "</div>"
      ],
      "text/plain": [
       "Empty DataFrame\n",
       "Columns: [id, price, bedrooms, bathrooms, sqft_living, sqft_lot, floors, waterfront, view, condition, grade, sqft_above, sqft_basement, yr_built, yr_renovated, zipcode, lat, long, sqft_living15, sqft_lot15]\n",
       "Index: []"
      ]
     },
     "execution_count": 5,
     "metadata": {},
     "output_type": "execute_result"
    }
   ],
   "source": [
    "# drop duplicates if they're present\n",
    "house = house.drop_duplicates()\n",
    "house[house.duplicated()]"
   ]
  },
  {
   "cell_type": "markdown",
   "metadata": {},
   "source": [
    "There were no duplicated values so there was no need of dropping any observations from the dataset."
   ]
  },
  {
   "cell_type": "markdown",
   "metadata": {},
   "source": [
    " "
   ]
  },
  {
   "cell_type": "markdown",
   "metadata": {},
   "source": [
    "##### 2.2.2 Working with the Columns"
   ]
  },
  {
   "cell_type": "code",
   "execution_count": 6,
   "metadata": {},
   "outputs": [
    {
     "data": {
      "text/html": [
       "<div>\n",
       "<style scoped>\n",
       "    .dataframe tbody tr th:only-of-type {\n",
       "        vertical-align: middle;\n",
       "    }\n",
       "\n",
       "    .dataframe tbody tr th {\n",
       "        vertical-align: top;\n",
       "    }\n",
       "\n",
       "    .dataframe thead th {\n",
       "        text-align: right;\n",
       "    }\n",
       "</style>\n",
       "<table border=\"1\" class=\"dataframe\">\n",
       "  <thead>\n",
       "    <tr style=\"text-align: right;\">\n",
       "      <th></th>\n",
       "      <th>price</th>\n",
       "      <th>bedrooms</th>\n",
       "      <th>bathrooms</th>\n",
       "      <th>sqft_living</th>\n",
       "      <th>sqft_lot</th>\n",
       "      <th>floors</th>\n",
       "      <th>waterfront</th>\n",
       "      <th>view</th>\n",
       "      <th>condition</th>\n",
       "      <th>grade</th>\n",
       "      <th>sqft_above</th>\n",
       "      <th>sqft_basement</th>\n",
       "      <th>yr_built</th>\n",
       "      <th>yr_renovated</th>\n",
       "      <th>zipcode</th>\n",
       "    </tr>\n",
       "  </thead>\n",
       "  <tbody>\n",
       "    <tr>\n",
       "      <th>0</th>\n",
       "      <td>221900.0</td>\n",
       "      <td>3</td>\n",
       "      <td>1.00</td>\n",
       "      <td>1180</td>\n",
       "      <td>5650</td>\n",
       "      <td>1.0</td>\n",
       "      <td>0</td>\n",
       "      <td>0</td>\n",
       "      <td>3</td>\n",
       "      <td>7</td>\n",
       "      <td>1180</td>\n",
       "      <td>0</td>\n",
       "      <td>1955</td>\n",
       "      <td>0</td>\n",
       "      <td>98178</td>\n",
       "    </tr>\n",
       "    <tr>\n",
       "      <th>1</th>\n",
       "      <td>538000.0</td>\n",
       "      <td>3</td>\n",
       "      <td>2.25</td>\n",
       "      <td>2570</td>\n",
       "      <td>7242</td>\n",
       "      <td>2.0</td>\n",
       "      <td>0</td>\n",
       "      <td>0</td>\n",
       "      <td>3</td>\n",
       "      <td>7</td>\n",
       "      <td>2170</td>\n",
       "      <td>400</td>\n",
       "      <td>1951</td>\n",
       "      <td>1991</td>\n",
       "      <td>98125</td>\n",
       "    </tr>\n",
       "  </tbody>\n",
       "</table>\n",
       "</div>"
      ],
      "text/plain": [
       "      price  bedrooms  bathrooms  sqft_living  sqft_lot  floors  waterfront  \\\n",
       "0  221900.0         3       1.00         1180      5650     1.0           0   \n",
       "1  538000.0         3       2.25         2570      7242     2.0           0   \n",
       "\n",
       "   view  condition  grade  sqft_above  sqft_basement  yr_built  yr_renovated  \\\n",
       "0     0          3      7        1180              0      1955             0   \n",
       "1     0          3      7        2170            400      1951          1991   \n",
       "\n",
       "   zipcode  \n",
       "0    98178  \n",
       "1    98125  "
      ]
     },
     "execution_count": 6,
     "metadata": {},
     "output_type": "execute_result"
    }
   ],
   "source": [
    "# after examining the dataset, I have decided to drop the 'id' column and the last 4 columns as\n",
    "# I consider them to be unnecessary\n",
    "house = house.drop(columns = ['id', 'lat', 'long', 'sqft_living15', 'sqft_lot15'])\n",
    "house.head(2)"
   ]
  },
  {
   "cell_type": "code",
   "execution_count": 7,
   "metadata": {},
   "outputs": [
    {
     "name": "stdout",
     "output_type": "stream",
     "text": [
      "Bathrooms type: int64\n",
      "Floors type: int64\n"
     ]
    }
   ],
   "source": [
    "# some things do not make sense to me, like having a bathroom of, say, 4.25, or \n",
    "# a floor of 3.5\n",
    "# so we'll convert the 'bathrooms' and 'floors' variables from float to int\n",
    "\n",
    "house['bathrooms'] = house['bathrooms'].astype('int64')\n",
    "house['floors'] = house['floors'].astype('int64')\n",
    "print(\"Bathrooms type:\", house.bathrooms.dtype)\n",
    "print(\"Floors type:\", house.floors.dtype)"
   ]
  },
  {
   "cell_type": "markdown",
   "metadata": {},
   "source": [
    "We can see that both variables' data types have been successfully converted from float to int."
   ]
  },
  {
   "cell_type": "markdown",
   "metadata": {},
   "source": [
    " "
   ]
  },
  {
   "cell_type": "markdown",
   "metadata": {},
   "source": [
    "Now, we move to data manipulation. We will change the numerical values in the 'grade' column into letters to denote the grade level.\n",
    "\n",
    "According to the description of that column, it is \"an index from 1 to 13, where 1-3 falls short of building construction and design, 7 has an average level of construction and design,and 11-13 have a high quality level of construction and design\".\n",
    "\n",
    "This column's values will have the following grades:\n",
    "* Values 1-3 will be in grade 'E'\n",
    "* Values 4-6 will be in grade 'D'\n",
    "* Value 7 will be in grade 'C'\n",
    "* Values 8-10 will be in grade 'B'\n",
    "* Values 11-13 will be in grade 'A'"
   ]
  },
  {
   "cell_type": "code",
   "execution_count": 8,
   "metadata": {},
   "outputs": [
    {
     "data": {
      "text/plain": [
       "0    C\n",
       "1    C\n",
       "2    D\n",
       "3    C\n",
       "4    B\n",
       "5    A\n",
       "6    C\n",
       "7    C\n",
       "8    C\n",
       "9    C\n",
       "Name: grade, dtype: object"
      ]
     },
     "execution_count": 8,
     "metadata": {},
     "output_type": "execute_result"
    }
   ],
   "source": [
    "house['grade'].mask((house['grade'] == 1), 'E', inplace = True)\n",
    "house['grade'].mask((house['grade'] == 2), 'E', inplace = True)\n",
    "house['grade'].mask((house['grade'] == 3), 'E', inplace = True)\n",
    "house['grade'].mask((house['grade'] == 4), 'D', inplace = True)\n",
    "house['grade'].mask((house['grade'] == 5), 'D', inplace = True)\n",
    "house['grade'].mask((house['grade'] == 6), 'D', inplace = True)\n",
    "house['grade'].mask((house['grade'] == 7), 'C', inplace = True)\n",
    "house['grade'].mask((house['grade'] == 8), 'B', inplace = True)\n",
    "house['grade'].mask((house['grade'] == 9), 'B', inplace = True)\n",
    "house['grade'].mask((house['grade'] == 10), 'B', inplace = True)\n",
    "house['grade'].mask((house['grade'] == 11), 'A', inplace = True)\n",
    "house['grade'].mask((house['grade'] == 12), 'A', inplace = True)\n",
    "house['grade'].mask((house['grade'] == 13), 'A', inplace = True)\n",
    "house.grade.head(10)"
   ]
  },
  {
   "cell_type": "markdown",
   "metadata": {},
   "source": [
    "###### <font color='red'>Add to 'Challenging the Solution'</font>\n",
    "Find a way to use a function with this instead of changing each value one by one."
   ]
  },
  {
   "cell_type": "markdown",
   "metadata": {},
   "source": [
    " "
   ]
  },
  {
   "cell_type": "markdown",
   "metadata": {},
   "source": [
    "Now we move the 'zipcode' column to be our first column and then sort all the observations in the dataset according to the zip code in increasing order."
   ]
  },
  {
   "cell_type": "code",
   "execution_count": 9,
   "metadata": {},
   "outputs": [
    {
     "data": {
      "text/plain": [
       "Index(['price', 'bedrooms', 'bathrooms', 'sqft_living', 'sqft_lot', 'floors',\n",
       "       'waterfront', 'view', 'condition', 'grade', 'sqft_above',\n",
       "       'sqft_basement', 'yr_built', 'yr_renovated', 'zipcode'],\n",
       "      dtype='object')"
      ]
     },
     "execution_count": 9,
     "metadata": {},
     "output_type": "execute_result"
    }
   ],
   "source": [
    "house.columns"
   ]
  },
  {
   "cell_type": "code",
   "execution_count": 10,
   "metadata": {},
   "outputs": [
    {
     "data": {
      "text/html": [
       "<div>\n",
       "<style scoped>\n",
       "    .dataframe tbody tr th:only-of-type {\n",
       "        vertical-align: middle;\n",
       "    }\n",
       "\n",
       "    .dataframe tbody tr th {\n",
       "        vertical-align: top;\n",
       "    }\n",
       "\n",
       "    .dataframe thead th {\n",
       "        text-align: right;\n",
       "    }\n",
       "</style>\n",
       "<table border=\"1\" class=\"dataframe\">\n",
       "  <thead>\n",
       "    <tr style=\"text-align: right;\">\n",
       "      <th></th>\n",
       "      <th>zipcode</th>\n",
       "      <th>price</th>\n",
       "      <th>bedrooms</th>\n",
       "      <th>bathrooms</th>\n",
       "      <th>sqft_living</th>\n",
       "      <th>sqft_lot</th>\n",
       "      <th>floors</th>\n",
       "      <th>waterfront</th>\n",
       "      <th>view</th>\n",
       "      <th>condition</th>\n",
       "      <th>grade</th>\n",
       "      <th>sqft_above</th>\n",
       "      <th>sqft_basement</th>\n",
       "      <th>yr_built</th>\n",
       "      <th>yr_renovated</th>\n",
       "    </tr>\n",
       "  </thead>\n",
       "  <tbody>\n",
       "    <tr>\n",
       "      <th>0</th>\n",
       "      <td>98178</td>\n",
       "      <td>221900.0</td>\n",
       "      <td>3</td>\n",
       "      <td>1</td>\n",
       "      <td>1180</td>\n",
       "      <td>5650</td>\n",
       "      <td>1</td>\n",
       "      <td>0</td>\n",
       "      <td>0</td>\n",
       "      <td>3</td>\n",
       "      <td>C</td>\n",
       "      <td>1180</td>\n",
       "      <td>0</td>\n",
       "      <td>1955</td>\n",
       "      <td>0</td>\n",
       "    </tr>\n",
       "    <tr>\n",
       "      <th>1</th>\n",
       "      <td>98125</td>\n",
       "      <td>538000.0</td>\n",
       "      <td>3</td>\n",
       "      <td>2</td>\n",
       "      <td>2570</td>\n",
       "      <td>7242</td>\n",
       "      <td>2</td>\n",
       "      <td>0</td>\n",
       "      <td>0</td>\n",
       "      <td>3</td>\n",
       "      <td>C</td>\n",
       "      <td>2170</td>\n",
       "      <td>400</td>\n",
       "      <td>1951</td>\n",
       "      <td>1991</td>\n",
       "    </tr>\n",
       "    <tr>\n",
       "      <th>2</th>\n",
       "      <td>98028</td>\n",
       "      <td>180000.0</td>\n",
       "      <td>2</td>\n",
       "      <td>1</td>\n",
       "      <td>770</td>\n",
       "      <td>10000</td>\n",
       "      <td>1</td>\n",
       "      <td>0</td>\n",
       "      <td>0</td>\n",
       "      <td>3</td>\n",
       "      <td>D</td>\n",
       "      <td>770</td>\n",
       "      <td>0</td>\n",
       "      <td>1933</td>\n",
       "      <td>0</td>\n",
       "    </tr>\n",
       "    <tr>\n",
       "      <th>3</th>\n",
       "      <td>98136</td>\n",
       "      <td>604000.0</td>\n",
       "      <td>4</td>\n",
       "      <td>3</td>\n",
       "      <td>1960</td>\n",
       "      <td>5000</td>\n",
       "      <td>1</td>\n",
       "      <td>0</td>\n",
       "      <td>0</td>\n",
       "      <td>5</td>\n",
       "      <td>C</td>\n",
       "      <td>1050</td>\n",
       "      <td>910</td>\n",
       "      <td>1965</td>\n",
       "      <td>0</td>\n",
       "    </tr>\n",
       "    <tr>\n",
       "      <th>4</th>\n",
       "      <td>98074</td>\n",
       "      <td>510000.0</td>\n",
       "      <td>3</td>\n",
       "      <td>2</td>\n",
       "      <td>1680</td>\n",
       "      <td>8080</td>\n",
       "      <td>1</td>\n",
       "      <td>0</td>\n",
       "      <td>0</td>\n",
       "      <td>3</td>\n",
       "      <td>B</td>\n",
       "      <td>1680</td>\n",
       "      <td>0</td>\n",
       "      <td>1987</td>\n",
       "      <td>0</td>\n",
       "    </tr>\n",
       "  </tbody>\n",
       "</table>\n",
       "</div>"
      ],
      "text/plain": [
       "   zipcode     price  bedrooms  bathrooms  sqft_living  sqft_lot  floors  \\\n",
       "0    98178  221900.0         3          1         1180      5650       1   \n",
       "1    98125  538000.0         3          2         2570      7242       2   \n",
       "2    98028  180000.0         2          1          770     10000       1   \n",
       "3    98136  604000.0         4          3         1960      5000       1   \n",
       "4    98074  510000.0         3          2         1680      8080       1   \n",
       "\n",
       "   waterfront  view  condition grade  sqft_above  sqft_basement  yr_built  \\\n",
       "0           0     0          3     C        1180              0      1955   \n",
       "1           0     0          3     C        2170            400      1951   \n",
       "2           0     0          3     D         770              0      1933   \n",
       "3           0     0          5     C        1050            910      1965   \n",
       "4           0     0          3     B        1680              0      1987   \n",
       "\n",
       "   yr_renovated  \n",
       "0             0  \n",
       "1          1991  \n",
       "2             0  \n",
       "3             0  \n",
       "4             0  "
      ]
     },
     "execution_count": 10,
     "metadata": {},
     "output_type": "execute_result"
    }
   ],
   "source": [
    "# first to move the 'zipcode' column from last index to first index\n",
    "house = house[['zipcode', 'price', 'bedrooms', 'bathrooms', 'sqft_living', 'sqft_lot', 'floors',\n",
    "       'waterfront', 'view', 'condition', 'grade', 'sqft_above', 'sqft_basement', 'yr_built', \n",
    "               'yr_renovated']]\n",
    "house.head()"
   ]
  },
  {
   "cell_type": "code",
   "execution_count": 11,
   "metadata": {
    "scrolled": true
   },
   "outputs": [
    {
     "data": {
      "text/html": [
       "<div>\n",
       "<style scoped>\n",
       "    .dataframe tbody tr th:only-of-type {\n",
       "        vertical-align: middle;\n",
       "    }\n",
       "\n",
       "    .dataframe tbody tr th {\n",
       "        vertical-align: top;\n",
       "    }\n",
       "\n",
       "    .dataframe thead th {\n",
       "        text-align: right;\n",
       "    }\n",
       "</style>\n",
       "<table border=\"1\" class=\"dataframe\">\n",
       "  <thead>\n",
       "    <tr style=\"text-align: right;\">\n",
       "      <th></th>\n",
       "      <th>zipcode</th>\n",
       "      <th>price</th>\n",
       "      <th>bedrooms</th>\n",
       "      <th>bathrooms</th>\n",
       "      <th>sqft_living</th>\n",
       "      <th>sqft_lot</th>\n",
       "      <th>floors</th>\n",
       "      <th>waterfront</th>\n",
       "      <th>view</th>\n",
       "      <th>condition</th>\n",
       "      <th>grade</th>\n",
       "      <th>sqft_above</th>\n",
       "      <th>sqft_basement</th>\n",
       "      <th>yr_built</th>\n",
       "      <th>yr_renovated</th>\n",
       "    </tr>\n",
       "  </thead>\n",
       "  <tbody>\n",
       "    <tr>\n",
       "      <th>12085</th>\n",
       "      <td>98001</td>\n",
       "      <td>210000.0</td>\n",
       "      <td>4</td>\n",
       "      <td>2</td>\n",
       "      <td>1500</td>\n",
       "      <td>5393</td>\n",
       "      <td>2</td>\n",
       "      <td>0</td>\n",
       "      <td>0</td>\n",
       "      <td>3</td>\n",
       "      <td>C</td>\n",
       "      <td>1500</td>\n",
       "      <td>0</td>\n",
       "      <td>1999</td>\n",
       "      <td>0</td>\n",
       "    </tr>\n",
       "    <tr>\n",
       "      <th>9337</th>\n",
       "      <td>98001</td>\n",
       "      <td>182500.0</td>\n",
       "      <td>3</td>\n",
       "      <td>2</td>\n",
       "      <td>1830</td>\n",
       "      <td>4744</td>\n",
       "      <td>2</td>\n",
       "      <td>0</td>\n",
       "      <td>0</td>\n",
       "      <td>3</td>\n",
       "      <td>C</td>\n",
       "      <td>1830</td>\n",
       "      <td>0</td>\n",
       "      <td>1997</td>\n",
       "      <td>0</td>\n",
       "    </tr>\n",
       "    <tr>\n",
       "      <th>4966</th>\n",
       "      <td>98001</td>\n",
       "      <td>482000.0</td>\n",
       "      <td>4</td>\n",
       "      <td>2</td>\n",
       "      <td>2846</td>\n",
       "      <td>85377</td>\n",
       "      <td>1</td>\n",
       "      <td>0</td>\n",
       "      <td>0</td>\n",
       "      <td>3</td>\n",
       "      <td>B</td>\n",
       "      <td>1976</td>\n",
       "      <td>870</td>\n",
       "      <td>2000</td>\n",
       "      <td>0</td>\n",
       "    </tr>\n",
       "    <tr>\n",
       "      <th>6748</th>\n",
       "      <td>98001</td>\n",
       "      <td>175000.0</td>\n",
       "      <td>3</td>\n",
       "      <td>1</td>\n",
       "      <td>1230</td>\n",
       "      <td>13056</td>\n",
       "      <td>1</td>\n",
       "      <td>0</td>\n",
       "      <td>0</td>\n",
       "      <td>4</td>\n",
       "      <td>C</td>\n",
       "      <td>1230</td>\n",
       "      <td>0</td>\n",
       "      <td>1962</td>\n",
       "      <td>0</td>\n",
       "    </tr>\n",
       "    <tr>\n",
       "      <th>16318</th>\n",
       "      <td>98001</td>\n",
       "      <td>274950.0</td>\n",
       "      <td>3</td>\n",
       "      <td>1</td>\n",
       "      <td>1840</td>\n",
       "      <td>16679</td>\n",
       "      <td>1</td>\n",
       "      <td>0</td>\n",
       "      <td>0</td>\n",
       "      <td>3</td>\n",
       "      <td>B</td>\n",
       "      <td>1840</td>\n",
       "      <td>0</td>\n",
       "      <td>1989</td>\n",
       "      <td>0</td>\n",
       "    </tr>\n",
       "  </tbody>\n",
       "</table>\n",
       "</div>"
      ],
      "text/plain": [
       "       zipcode     price  bedrooms  bathrooms  sqft_living  sqft_lot  floors  \\\n",
       "12085    98001  210000.0         4          2         1500      5393       2   \n",
       "9337     98001  182500.0         3          2         1830      4744       2   \n",
       "4966     98001  482000.0         4          2         2846     85377       1   \n",
       "6748     98001  175000.0         3          1         1230     13056       1   \n",
       "16318    98001  274950.0         3          1         1840     16679       1   \n",
       "\n",
       "       waterfront  view  condition grade  sqft_above  sqft_basement  yr_built  \\\n",
       "12085           0     0          3     C        1500              0      1999   \n",
       "9337            0     0          3     C        1830              0      1997   \n",
       "4966            0     0          3     B        1976            870      2000   \n",
       "6748            0     0          4     C        1230              0      1962   \n",
       "16318           0     0          3     B        1840              0      1989   \n",
       "\n",
       "       yr_renovated  \n",
       "12085             0  \n",
       "9337              0  \n",
       "4966              0  \n",
       "6748              0  \n",
       "16318             0  "
      ]
     },
     "execution_count": 11,
     "metadata": {},
     "output_type": "execute_result"
    }
   ],
   "source": [
    "# now to sort in ascending (increasing) order of the zip codes\n",
    "house = house.sort_values('zipcode')\n",
    "house.head()"
   ]
  },
  {
   "cell_type": "code",
   "execution_count": 12,
   "metadata": {},
   "outputs": [
    {
     "data": {
      "text/html": [
       "<div>\n",
       "<style scoped>\n",
       "    .dataframe tbody tr th:only-of-type {\n",
       "        vertical-align: middle;\n",
       "    }\n",
       "\n",
       "    .dataframe tbody tr th {\n",
       "        vertical-align: top;\n",
       "    }\n",
       "\n",
       "    .dataframe thead th {\n",
       "        text-align: right;\n",
       "    }\n",
       "</style>\n",
       "<table border=\"1\" class=\"dataframe\">\n",
       "  <thead>\n",
       "    <tr style=\"text-align: right;\">\n",
       "      <th></th>\n",
       "      <th>zipcode</th>\n",
       "      <th>price</th>\n",
       "      <th>bedrooms</th>\n",
       "      <th>bathrooms</th>\n",
       "      <th>sqft_living</th>\n",
       "      <th>sqft_lot</th>\n",
       "      <th>floors</th>\n",
       "      <th>waterfront</th>\n",
       "      <th>view</th>\n",
       "      <th>condition</th>\n",
       "      <th>grade</th>\n",
       "      <th>sqft_above</th>\n",
       "      <th>sqft_basement</th>\n",
       "      <th>yr_built</th>\n",
       "      <th>yr_renovated</th>\n",
       "    </tr>\n",
       "  </thead>\n",
       "  <tbody>\n",
       "    <tr>\n",
       "      <th>21534</th>\n",
       "      <td>98105</td>\n",
       "      <td>599000.0</td>\n",
       "      <td>3</td>\n",
       "      <td>1</td>\n",
       "      <td>1650</td>\n",
       "      <td>1180</td>\n",
       "      <td>3</td>\n",
       "      <td>0</td>\n",
       "      <td>0</td>\n",
       "      <td>3</td>\n",
       "      <td>B</td>\n",
       "      <td>1650</td>\n",
       "      <td>0</td>\n",
       "      <td>2014</td>\n",
       "      <td>0</td>\n",
       "    </tr>\n",
       "    <tr>\n",
       "      <th>21474</th>\n",
       "      <td>98106</td>\n",
       "      <td>359800.0</td>\n",
       "      <td>5</td>\n",
       "      <td>2</td>\n",
       "      <td>2170</td>\n",
       "      <td>2752</td>\n",
       "      <td>2</td>\n",
       "      <td>0</td>\n",
       "      <td>0</td>\n",
       "      <td>3</td>\n",
       "      <td>B</td>\n",
       "      <td>2170</td>\n",
       "      <td>0</td>\n",
       "      <td>2014</td>\n",
       "      <td>0</td>\n",
       "    </tr>\n",
       "    <tr>\n",
       "      <th>4352</th>\n",
       "      <td>98106</td>\n",
       "      <td>259950.0</td>\n",
       "      <td>2</td>\n",
       "      <td>2</td>\n",
       "      <td>1070</td>\n",
       "      <td>649</td>\n",
       "      <td>2</td>\n",
       "      <td>0</td>\n",
       "      <td>0</td>\n",
       "      <td>3</td>\n",
       "      <td>B</td>\n",
       "      <td>720</td>\n",
       "      <td>350</td>\n",
       "      <td>2008</td>\n",
       "      <td>0</td>\n",
       "    </tr>\n",
       "    <tr>\n",
       "      <th>19636</th>\n",
       "      <td>98116</td>\n",
       "      <td>529500.0</td>\n",
       "      <td>3</td>\n",
       "      <td>2</td>\n",
       "      <td>1410</td>\n",
       "      <td>905</td>\n",
       "      <td>3</td>\n",
       "      <td>0</td>\n",
       "      <td>0</td>\n",
       "      <td>3</td>\n",
       "      <td>B</td>\n",
       "      <td>1410</td>\n",
       "      <td>0</td>\n",
       "      <td>2014</td>\n",
       "      <td>0</td>\n",
       "    </tr>\n",
       "    <tr>\n",
       "      <th>16380</th>\n",
       "      <td>98119</td>\n",
       "      <td>629950.0</td>\n",
       "      <td>3</td>\n",
       "      <td>2</td>\n",
       "      <td>1680</td>\n",
       "      <td>1683</td>\n",
       "      <td>2</td>\n",
       "      <td>0</td>\n",
       "      <td>0</td>\n",
       "      <td>3</td>\n",
       "      <td>B</td>\n",
       "      <td>1120</td>\n",
       "      <td>560</td>\n",
       "      <td>2014</td>\n",
       "      <td>0</td>\n",
       "    </tr>\n",
       "  </tbody>\n",
       "</table>\n",
       "</div>"
      ],
      "text/plain": [
       "       zipcode     price  bedrooms  bathrooms  sqft_living  sqft_lot  floors  \\\n",
       "21534    98105  599000.0         3          1         1650      1180       3   \n",
       "21474    98106  359800.0         5          2         2170      2752       2   \n",
       "4352     98106  259950.0         2          2         1070       649       2   \n",
       "19636    98116  529500.0         3          2         1410       905       3   \n",
       "16380    98119  629950.0         3          2         1680      1683       2   \n",
       "\n",
       "       waterfront  view  condition grade  sqft_above  sqft_basement  yr_built  \\\n",
       "21534           0     0          3     B        1650              0      2014   \n",
       "21474           0     0          3     B        2170              0      2014   \n",
       "4352            0     0          3     B         720            350      2008   \n",
       "19636           0     0          3     B        1410              0      2014   \n",
       "16380           0     0          3     B        1120            560      2014   \n",
       "\n",
       "       yr_renovated  \n",
       "21534             0  \n",
       "21474             0  \n",
       "4352              0  \n",
       "19636             0  \n",
       "16380             0  "
      ]
     },
     "execution_count": 12,
     "metadata": {},
     "output_type": "execute_result"
    }
   ],
   "source": [
    "# checking for duplicates again\n",
    "house[house.duplicated()]"
   ]
  },
  {
   "cell_type": "markdown",
   "metadata": {},
   "source": [
    "We see now that we have more duplicated values, probably from truncating the 'bathrooms' and 'floors' values when we converted them from floats to integers. We will remove them."
   ]
  },
  {
   "cell_type": "code",
   "execution_count": 13,
   "metadata": {},
   "outputs": [
    {
     "data": {
      "text/html": [
       "<div>\n",
       "<style scoped>\n",
       "    .dataframe tbody tr th:only-of-type {\n",
       "        vertical-align: middle;\n",
       "    }\n",
       "\n",
       "    .dataframe tbody tr th {\n",
       "        vertical-align: top;\n",
       "    }\n",
       "\n",
       "    .dataframe thead th {\n",
       "        text-align: right;\n",
       "    }\n",
       "</style>\n",
       "<table border=\"1\" class=\"dataframe\">\n",
       "  <thead>\n",
       "    <tr style=\"text-align: right;\">\n",
       "      <th></th>\n",
       "      <th>zipcode</th>\n",
       "      <th>price</th>\n",
       "      <th>bedrooms</th>\n",
       "      <th>bathrooms</th>\n",
       "      <th>sqft_living</th>\n",
       "      <th>sqft_lot</th>\n",
       "      <th>floors</th>\n",
       "      <th>waterfront</th>\n",
       "      <th>view</th>\n",
       "      <th>condition</th>\n",
       "      <th>grade</th>\n",
       "      <th>sqft_above</th>\n",
       "      <th>sqft_basement</th>\n",
       "      <th>yr_built</th>\n",
       "      <th>yr_renovated</th>\n",
       "    </tr>\n",
       "  </thead>\n",
       "  <tbody>\n",
       "  </tbody>\n",
       "</table>\n",
       "</div>"
      ],
      "text/plain": [
       "Empty DataFrame\n",
       "Columns: [zipcode, price, bedrooms, bathrooms, sqft_living, sqft_lot, floors, waterfront, view, condition, grade, sqft_above, sqft_basement, yr_built, yr_renovated]\n",
       "Index: []"
      ]
     },
     "execution_count": 13,
     "metadata": {},
     "output_type": "execute_result"
    }
   ],
   "source": [
    "house = house.drop_duplicates()\n",
    "house[house.duplicated()]"
   ]
  },
  {
   "cell_type": "markdown",
   "metadata": {},
   "source": [
    "The new duplicated values have been removed from our dataset."
   ]
  },
  {
   "cell_type": "markdown",
   "metadata": {},
   "source": [
    "   "
   ]
  },
  {
   "cell_type": "markdown",
   "metadata": {},
   "source": [
    "##### 2.2.3 Finding & Dealing with Outliers"
   ]
  },
  {
   "cell_type": "markdown",
   "metadata": {},
   "source": [
    "I have decided that if there are outliers present, it wouldn't be wise to remove them since they reflect the real world in that there will always be extreme values everywhere. So nothing will be done to them."
   ]
  },
  {
   "cell_type": "markdown",
   "metadata": {},
   "source": [
    "##### 2.2.4 Finishing Up"
   ]
  },
  {
   "cell_type": "code",
   "execution_count": 14,
   "metadata": {},
   "outputs": [
    {
     "data": {
      "text/plain": [
       "(21605, 15)"
      ]
     },
     "execution_count": 14,
     "metadata": {},
     "output_type": "execute_result"
    }
   ],
   "source": [
    "# check our data shape\n",
    "house.shape"
   ]
  },
  {
   "cell_type": "markdown",
   "metadata": {},
   "source": [
    "We have 21,605 rows and 15 columns. We have lost just 8 records, which is nothing to worry about."
   ]
  },
  {
   "cell_type": "markdown",
   "metadata": {},
   "source": [
    " "
   ]
  },
  {
   "cell_type": "markdown",
   "metadata": {},
   "source": [
    "Our dataset is now cleaned and sorted, and we are ready to work with it. We'll then save the new dataset so that we can reload it in case of any irreversible changes made to it."
   ]
  },
  {
   "cell_type": "code",
   "execution_count": null,
   "metadata": {},
   "outputs": [],
   "source": [
    "# save the dataset at its current state to be used as a checkpoint in case of \n",
    "# irreversible errors\n",
    "house.to_csv('clean_house.csv', index = False)\n",
    "\n",
    "# to load the new dataset from its last-saved checkpoint, just uncomment the below codes\n",
    "#house = pd.read_csv('clean_house.csv')\n",
    "#house.head()"
   ]
  },
  {
   "cell_type": "markdown",
   "metadata": {},
   "source": [
    "# 3. Exploratory Data Analysis"
   ]
  },
  {
   "cell_type": "markdown",
   "metadata": {},
   "source": [
    "We need to carry out Exploratory Data Analysis (EDA), not just to get more information about our variables and to explore the relationships they have with one another, but also to determine which regression model would be ideal."
   ]
  },
  {
   "cell_type": "code",
   "execution_count": 15,
   "metadata": {},
   "outputs": [
    {
     "data": {
      "text/html": [
       "<div>\n",
       "<style scoped>\n",
       "    .dataframe tbody tr th:only-of-type {\n",
       "        vertical-align: middle;\n",
       "    }\n",
       "\n",
       "    .dataframe tbody tr th {\n",
       "        vertical-align: top;\n",
       "    }\n",
       "\n",
       "    .dataframe thead th {\n",
       "        text-align: right;\n",
       "    }\n",
       "</style>\n",
       "<table border=\"1\" class=\"dataframe\">\n",
       "  <thead>\n",
       "    <tr style=\"text-align: right;\">\n",
       "      <th></th>\n",
       "      <th>zipcode</th>\n",
       "      <th>price</th>\n",
       "      <th>bedrooms</th>\n",
       "      <th>bathrooms</th>\n",
       "      <th>sqft_living</th>\n",
       "      <th>sqft_lot</th>\n",
       "      <th>floors</th>\n",
       "      <th>waterfront</th>\n",
       "      <th>view</th>\n",
       "      <th>condition</th>\n",
       "      <th>grade</th>\n",
       "      <th>sqft_above</th>\n",
       "      <th>sqft_basement</th>\n",
       "      <th>yr_built</th>\n",
       "      <th>yr_renovated</th>\n",
       "    </tr>\n",
       "  </thead>\n",
       "  <tbody>\n",
       "    <tr>\n",
       "      <th>count</th>\n",
       "      <td>21605.000000</td>\n",
       "      <td>2.160500e+04</td>\n",
       "      <td>21605.000000</td>\n",
       "      <td>21605.000000</td>\n",
       "      <td>21605.000000</td>\n",
       "      <td>2.160500e+04</td>\n",
       "      <td>21605.000000</td>\n",
       "      <td>21605.000000</td>\n",
       "      <td>21605.000000</td>\n",
       "      <td>21605.000000</td>\n",
       "      <td>21605</td>\n",
       "      <td>21605.000000</td>\n",
       "      <td>21605.000000</td>\n",
       "      <td>21605.000000</td>\n",
       "      <td>21605.000000</td>\n",
       "    </tr>\n",
       "    <tr>\n",
       "      <th>unique</th>\n",
       "      <td>NaN</td>\n",
       "      <td>NaN</td>\n",
       "      <td>NaN</td>\n",
       "      <td>NaN</td>\n",
       "      <td>NaN</td>\n",
       "      <td>NaN</td>\n",
       "      <td>NaN</td>\n",
       "      <td>NaN</td>\n",
       "      <td>NaN</td>\n",
       "      <td>NaN</td>\n",
       "      <td>5</td>\n",
       "      <td>NaN</td>\n",
       "      <td>NaN</td>\n",
       "      <td>NaN</td>\n",
       "      <td>NaN</td>\n",
       "    </tr>\n",
       "    <tr>\n",
       "      <th>top</th>\n",
       "      <td>NaN</td>\n",
       "      <td>NaN</td>\n",
       "      <td>NaN</td>\n",
       "      <td>NaN</td>\n",
       "      <td>NaN</td>\n",
       "      <td>NaN</td>\n",
       "      <td>NaN</td>\n",
       "      <td>NaN</td>\n",
       "      <td>NaN</td>\n",
       "      <td>NaN</td>\n",
       "      <td>B</td>\n",
       "      <td>NaN</td>\n",
       "      <td>NaN</td>\n",
       "      <td>NaN</td>\n",
       "      <td>NaN</td>\n",
       "    </tr>\n",
       "    <tr>\n",
       "      <th>freq</th>\n",
       "      <td>NaN</td>\n",
       "      <td>NaN</td>\n",
       "      <td>NaN</td>\n",
       "      <td>NaN</td>\n",
       "      <td>NaN</td>\n",
       "      <td>NaN</td>\n",
       "      <td>NaN</td>\n",
       "      <td>NaN</td>\n",
       "      <td>NaN</td>\n",
       "      <td>NaN</td>\n",
       "      <td>9809</td>\n",
       "      <td>NaN</td>\n",
       "      <td>NaN</td>\n",
       "      <td>NaN</td>\n",
       "      <td>NaN</td>\n",
       "    </tr>\n",
       "    <tr>\n",
       "      <th>mean</th>\n",
       "      <td>98077.938162</td>\n",
       "      <td>5.401939e+05</td>\n",
       "      <td>3.370886</td>\n",
       "      <td>1.749734</td>\n",
       "      <td>2079.993196</td>\n",
       "      <td>1.511145e+04</td>\n",
       "      <td>1.445915</td>\n",
       "      <td>0.007545</td>\n",
       "      <td>0.234251</td>\n",
       "      <td>3.409535</td>\n",
       "      <td>NaN</td>\n",
       "      <td>1788.434529</td>\n",
       "      <td>291.558667</td>\n",
       "      <td>1970.993937</td>\n",
       "      <td>84.341865</td>\n",
       "    </tr>\n",
       "    <tr>\n",
       "      <th>std</th>\n",
       "      <td>53.509211</td>\n",
       "      <td>3.674224e+05</td>\n",
       "      <td>0.930094</td>\n",
       "      <td>0.734962</td>\n",
       "      <td>918.560683</td>\n",
       "      <td>4.142750e+04</td>\n",
       "      <td>0.551716</td>\n",
       "      <td>0.086533</td>\n",
       "      <td>0.766217</td>\n",
       "      <td>0.650809</td>\n",
       "      <td>NaN</td>\n",
       "      <td>828.181562</td>\n",
       "      <td>442.630633</td>\n",
       "      <td>29.369131</td>\n",
       "      <td>401.543673</td>\n",
       "    </tr>\n",
       "    <tr>\n",
       "      <th>min</th>\n",
       "      <td>98001.000000</td>\n",
       "      <td>7.500000e+04</td>\n",
       "      <td>0.000000</td>\n",
       "      <td>0.000000</td>\n",
       "      <td>290.000000</td>\n",
       "      <td>5.200000e+02</td>\n",
       "      <td>1.000000</td>\n",
       "      <td>0.000000</td>\n",
       "      <td>0.000000</td>\n",
       "      <td>1.000000</td>\n",
       "      <td>NaN</td>\n",
       "      <td>290.000000</td>\n",
       "      <td>0.000000</td>\n",
       "      <td>1900.000000</td>\n",
       "      <td>0.000000</td>\n",
       "    </tr>\n",
       "    <tr>\n",
       "      <th>25%</th>\n",
       "      <td>98033.000000</td>\n",
       "      <td>3.215000e+05</td>\n",
       "      <td>3.000000</td>\n",
       "      <td>1.000000</td>\n",
       "      <td>1427.000000</td>\n",
       "      <td>5.040000e+03</td>\n",
       "      <td>1.000000</td>\n",
       "      <td>0.000000</td>\n",
       "      <td>0.000000</td>\n",
       "      <td>3.000000</td>\n",
       "      <td>NaN</td>\n",
       "      <td>1190.000000</td>\n",
       "      <td>0.000000</td>\n",
       "      <td>1951.000000</td>\n",
       "      <td>0.000000</td>\n",
       "    </tr>\n",
       "    <tr>\n",
       "      <th>50%</th>\n",
       "      <td>98065.000000</td>\n",
       "      <td>4.500000e+05</td>\n",
       "      <td>3.000000</td>\n",
       "      <td>2.000000</td>\n",
       "      <td>1910.000000</td>\n",
       "      <td>7.620000e+03</td>\n",
       "      <td>1.000000</td>\n",
       "      <td>0.000000</td>\n",
       "      <td>0.000000</td>\n",
       "      <td>3.000000</td>\n",
       "      <td>NaN</td>\n",
       "      <td>1560.000000</td>\n",
       "      <td>0.000000</td>\n",
       "      <td>1975.000000</td>\n",
       "      <td>0.000000</td>\n",
       "    </tr>\n",
       "    <tr>\n",
       "      <th>75%</th>\n",
       "      <td>98118.000000</td>\n",
       "      <td>6.450000e+05</td>\n",
       "      <td>4.000000</td>\n",
       "      <td>2.000000</td>\n",
       "      <td>2550.000000</td>\n",
       "      <td>1.069500e+04</td>\n",
       "      <td>2.000000</td>\n",
       "      <td>0.000000</td>\n",
       "      <td>0.000000</td>\n",
       "      <td>4.000000</td>\n",
       "      <td>NaN</td>\n",
       "      <td>2210.000000</td>\n",
       "      <td>560.000000</td>\n",
       "      <td>1997.000000</td>\n",
       "      <td>0.000000</td>\n",
       "    </tr>\n",
       "    <tr>\n",
       "      <th>max</th>\n",
       "      <td>98199.000000</td>\n",
       "      <td>7.700000e+06</td>\n",
       "      <td>33.000000</td>\n",
       "      <td>8.000000</td>\n",
       "      <td>13540.000000</td>\n",
       "      <td>1.651359e+06</td>\n",
       "      <td>3.000000</td>\n",
       "      <td>1.000000</td>\n",
       "      <td>4.000000</td>\n",
       "      <td>5.000000</td>\n",
       "      <td>NaN</td>\n",
       "      <td>9410.000000</td>\n",
       "      <td>4820.000000</td>\n",
       "      <td>2015.000000</td>\n",
       "      <td>2015.000000</td>\n",
       "    </tr>\n",
       "  </tbody>\n",
       "</table>\n",
       "</div>"
      ],
      "text/plain": [
       "             zipcode         price      bedrooms     bathrooms   sqft_living  \\\n",
       "count   21605.000000  2.160500e+04  21605.000000  21605.000000  21605.000000   \n",
       "unique           NaN           NaN           NaN           NaN           NaN   \n",
       "top              NaN           NaN           NaN           NaN           NaN   \n",
       "freq             NaN           NaN           NaN           NaN           NaN   \n",
       "mean    98077.938162  5.401939e+05      3.370886      1.749734   2079.993196   \n",
       "std        53.509211  3.674224e+05      0.930094      0.734962    918.560683   \n",
       "min     98001.000000  7.500000e+04      0.000000      0.000000    290.000000   \n",
       "25%     98033.000000  3.215000e+05      3.000000      1.000000   1427.000000   \n",
       "50%     98065.000000  4.500000e+05      3.000000      2.000000   1910.000000   \n",
       "75%     98118.000000  6.450000e+05      4.000000      2.000000   2550.000000   \n",
       "max     98199.000000  7.700000e+06     33.000000      8.000000  13540.000000   \n",
       "\n",
       "            sqft_lot        floors    waterfront          view     condition  \\\n",
       "count   2.160500e+04  21605.000000  21605.000000  21605.000000  21605.000000   \n",
       "unique           NaN           NaN           NaN           NaN           NaN   \n",
       "top              NaN           NaN           NaN           NaN           NaN   \n",
       "freq             NaN           NaN           NaN           NaN           NaN   \n",
       "mean    1.511145e+04      1.445915      0.007545      0.234251      3.409535   \n",
       "std     4.142750e+04      0.551716      0.086533      0.766217      0.650809   \n",
       "min     5.200000e+02      1.000000      0.000000      0.000000      1.000000   \n",
       "25%     5.040000e+03      1.000000      0.000000      0.000000      3.000000   \n",
       "50%     7.620000e+03      1.000000      0.000000      0.000000      3.000000   \n",
       "75%     1.069500e+04      2.000000      0.000000      0.000000      4.000000   \n",
       "max     1.651359e+06      3.000000      1.000000      4.000000      5.000000   \n",
       "\n",
       "        grade    sqft_above  sqft_basement      yr_built  yr_renovated  \n",
       "count   21605  21605.000000   21605.000000  21605.000000  21605.000000  \n",
       "unique      5           NaN            NaN           NaN           NaN  \n",
       "top         B           NaN            NaN           NaN           NaN  \n",
       "freq     9809           NaN            NaN           NaN           NaN  \n",
       "mean      NaN   1788.434529     291.558667   1970.993937     84.341865  \n",
       "std       NaN    828.181562     442.630633     29.369131    401.543673  \n",
       "min       NaN    290.000000       0.000000   1900.000000      0.000000  \n",
       "25%       NaN   1190.000000       0.000000   1951.000000      0.000000  \n",
       "50%       NaN   1560.000000       0.000000   1975.000000      0.000000  \n",
       "75%       NaN   2210.000000     560.000000   1997.000000      0.000000  \n",
       "max       NaN   9410.000000    4820.000000   2015.000000   2015.000000  "
      ]
     },
     "execution_count": 15,
     "metadata": {},
     "output_type": "execute_result"
    }
   ],
   "source": [
    "# getting the summary statistics\n",
    "house.describe(include = 'all')"
   ]
  },
  {
   "cell_type": "markdown",
   "metadata": {},
   "source": [
    "### 3.1 Univariate Analysis"
   ]
  },
  {
   "cell_type": "code",
   "execution_count": 16,
   "metadata": {},
   "outputs": [
    {
     "data": {
      "text/plain": [
       "array([[<matplotlib.axes._subplots.AxesSubplot object at 0x7fb2db46c438>,\n",
       "        <matplotlib.axes._subplots.AxesSubplot object at 0x7fb2db18feb8>,\n",
       "        <matplotlib.axes._subplots.AxesSubplot object at 0x7fb2db142160>,\n",
       "        <matplotlib.axes._subplots.AxesSubplot object at 0x7fb2db0ec4a8>],\n",
       "       [<matplotlib.axes._subplots.AxesSubplot object at 0x7fb2db111a20>,\n",
       "        <matplotlib.axes._subplots.AxesSubplot object at 0x7fb2db0b7f98>,\n",
       "        <matplotlib.axes._subplots.AxesSubplot object at 0x7fb2db067550>,\n",
       "        <matplotlib.axes._subplots.AxesSubplot object at 0x7fb2db08db00>],\n",
       "       [<matplotlib.axes._subplots.AxesSubplot object at 0x7fb2db08db38>,\n",
       "        <matplotlib.axes._subplots.AxesSubplot object at 0x7fb2dafe45f8>,\n",
       "        <matplotlib.axes._subplots.AxesSubplot object at 0x7fb2db00bb70>,\n",
       "        <matplotlib.axes._subplots.AxesSubplot object at 0x7fb2dafbd128>],\n",
       "       [<matplotlib.axes._subplots.AxesSubplot object at 0x7fb2dafe06a0>,\n",
       "        <matplotlib.axes._subplots.AxesSubplot object at 0x7fb2daf88c18>,\n",
       "        <matplotlib.axes._subplots.AxesSubplot object at 0x7fb2daf371d0>,\n",
       "        <matplotlib.axes._subplots.AxesSubplot object at 0x7fb2daf5d748>]],\n",
       "      dtype=object)"
      ]
     },
     "execution_count": 16,
     "metadata": {},
     "output_type": "execute_result"
    },
    {
     "data": {
      "image/png": "[encoded data removed]",
      "text/plain": [
       "<Figure size 1080x864 with 16 Axes>"
      ]
     },
     "metadata": {
      "needs_background": "light"
     },
     "output_type": "display_data"
    }
   ],
   "source": [
    "# selecting only the numerical data in our dataset\n",
    "numerics_df = house.select_dtypes(include = ['int64', 'float64'])\n",
    "\n",
    "numerics_df.hist(figsize = (15, 12))"
   ]
  },
  {
   "cell_type": "markdown",
   "metadata": {},
   "source": [
    " "
   ]
  },
  {
   "cell_type": "code",
   "execution_count": 17,
   "metadata": {},
   "outputs": [
    {
     "data": {
      "text/plain": [
       "<matplotlib.axes._subplots.AxesSubplot at 0x7fb2da89db70>"
      ]
     },
     "execution_count": 17,
     "metadata": {},
     "output_type": "execute_result"
    },
    {
     "data": {
      "image/png": "[encoded data removed]",
      "text/plain": [
       "<Figure size 432x288 with 1 Axes>"
      ]
     },
     "metadata": {
      "needs_background": "light"
     },
     "output_type": "display_data"
    }
   ],
   "source": [
    "# let's look at the distribution of our dependent variable, price\n",
    "sb.distplot(house.price)"
   ]
  },
  {
   "cell_type": "markdown",
   "metadata": {},
   "source": [
    "We see that this is positively skewed (i.e., most of the observations are to the left of the middle of the graph) and distribution does not look normal although it resembles it. This could be due to the presence of outliers, which we will look into in a bit. The shape of the distribution also appears to be leptokurtic, which makes sense given that leptokurtic distributions appear thinner and taller than normal distributions due to the presence of outliers."
   ]
  },
  {
   "cell_type": "code",
   "execution_count": 18,
   "metadata": {},
   "outputs": [
    {
     "data": {
      "text/plain": [
       "34.51124263192206"
      ]
     },
     "execution_count": 18,
     "metadata": {},
     "output_type": "execute_result"
    }
   ],
   "source": [
    "# checking the kurtosis of 'prices'\n",
    "house.price.kurt()"
   ]
  },
  {
   "cell_type": "markdown",
   "metadata": {},
   "source": [
    "We got a kurtosis value of approximately 34.5 which proves that the distribution is leptokurtic since its kurtosis is greater than 3."
   ]
  },
  {
   "cell_type": "markdown",
   "metadata": {},
   "source": [
    " "
   ]
  },
  {
   "cell_type": "markdown",
   "metadata": {},
   "source": [
    "Now let's look at the outliers in that column."
   ]
  },
  {
   "cell_type": "code",
   "execution_count": 19,
   "metadata": {},
   "outputs": [
    {
     "data": {
      "image/png": "[encoded data removed]",
      "text/plain": [
       "<Figure size 432x288 with 1 Axes>"
      ]
     },
     "metadata": {
      "needs_background": "light"
     },
     "output_type": "display_data"
    }
   ],
   "source": [
    "sb.boxplot(house.price)\n",
    "sb.set(rc = {'figure.figsize' : (15, 12)})"
   ]
  },
  {
   "cell_type": "markdown",
   "metadata": {},
   "source": [
    "As we can see, there are a lot of outliers in the 'price' column. This explains its positively-skewed, leptokurtic distribution."
   ]
  },
  {
   "cell_type": "markdown",
   "metadata": {},
   "source": [
    " "
   ]
  },
  {
   "cell_type": "markdown",
   "metadata": {},
   "source": [
    " "
   ]
  },
  {
   "cell_type": "code",
   "execution_count": 24,
   "metadata": {},
   "outputs": [
    {
     "data": {
      "text/plain": [
       "array([<matplotlib.axes._subplots.AxesSubplot object at 0x7fb2dac028d0>],\n",
       "      dtype=object)"
      ]
     },
     "execution_count": 24,
     "metadata": {},
     "output_type": "execute_result"
    },
    {
     "data": {
      "image/png": "[encoded data removed]",
      "text/plain": [
       "<Figure size 864x720 with 1 Axes>"
      ]
     },
     "metadata": {},
     "output_type": "display_data"
    }
   ],
   "source": [
    "# distribution of the different grades\n",
    "house.grade.value_counts().plot(kind = 'pie', autopct = '%0.1f%%', figsize = [12, 10],\n",
    "                                       subplots = True)"
   ]
  },
  {
   "cell_type": "markdown",
   "metadata": {},
   "source": [
    "We can see from the pie chart here that majority of the houses in the dataset are of Grade B (8-10), followed by those in Grade C (7)."
   ]
  },
  {
   "cell_type": "markdown",
   "metadata": {},
   "source": [
    " "
   ]
  },
  {
   "cell_type": "code",
   "execution_count": 31,
   "metadata": {},
   "outputs": [
    {
     "data": {
      "text/plain": [
       "116"
      ]
     },
     "execution_count": 31,
     "metadata": {},
     "output_type": "execute_result"
    }
   ],
   "source": [
    "# number of years\n",
    "house.yr_built.nunique()"
   ]
  },
  {
   "cell_type": "markdown",
   "metadata": {},
   "source": [
    "There are 116 unique years in this dataset so we will not explore them in detail."
   ]
  },
  {
   "cell_type": "markdown",
   "metadata": {},
   "source": [
    " "
   ]
  },
  {
   "cell_type": "code",
   "execution_count": 26,
   "metadata": {},
   "outputs": [
    {
     "data": {
      "text/plain": [
       "<matplotlib.axes._subplots.AxesSubplot at 0x7fb2daafa6a0>"
      ]
     },
     "execution_count": 26,
     "metadata": {},
     "output_type": "execute_result"
    },
    {
     "data": {
      "image/png": "[encoded data removed]",
      "text/plain": [
       "<Figure size 1080x864 with 1 Axes>"
      ]
     },
     "metadata": {},
     "output_type": "display_data"
    }
   ],
   "source": [
    "# investigating our 'zipcode' variable\n",
    "house.zipcode.value_counts().plot(kind = 'barh')"
   ]
  },
  {
   "cell_type": "markdown",
   "metadata": {},
   "source": [
    " "
   ]
  },
  {
   "cell_type": "markdown",
   "metadata": {},
   "source": [
    "### 3.2 Bivariate Analysis"
   ]
  },
  {
   "cell_type": "code",
   "execution_count": 23,
   "metadata": {},
   "outputs": [
    {
     "data": {
      "text/plain": [
       "Text(0.5, 1.0, 'Price per Number of Bedrooms')"
      ]
     },
     "execution_count": 23,
     "metadata": {},
     "output_type": "execute_result"
    },
    {
     "data": {
      "image/png": "[encoded data removed]",
      "text/plain": [
       "<Figure size 1080x864 with 1 Axes>"
      ]
     },
     "metadata": {},
     "output_type": "display_data"
    }
   ],
   "source": [
    "# investigating the effect of number of bedrooms on the price of the house\n",
    "plt.scatter(house.bedrooms, house.price.values)\n",
    "plt.xlabel(\"Number of Bedrooms\")\n",
    "plt.ylabel(\"Price\")\n",
    "plt.title(\"Price per Number of Bedrooms\")"
   ]
  },
  {
   "cell_type": "markdown",
   "metadata": {},
   "source": [
    "We can see here that there is a somewhat positve-looking relationship between the number of bedrooms and the price of the house which suggests that, to some extent, the price of the house depends on the number of bedrooms. What I find strange is the outlier where the number of bedrooms is around 34, but its price is below 1,000,000."
   ]
  },
  {
   "cell_type": "markdown",
   "metadata": {},
   "source": [
    " "
   ]
  },
  {
   "cell_type": "code",
   "execution_count": 27,
   "metadata": {},
   "outputs": [
    {
     "data": {
      "text/plain": [
       "Text(0.5, 1.0, 'Price per Number of Bathrooms')"
      ]
     },
     "execution_count": 27,
     "metadata": {},
     "output_type": "execute_result"
    },
    {
     "data": {
      "image/png": "[encoded data removed]",
      "text/plain": [
       "<Figure size 1080x864 with 1 Axes>"
      ]
     },
     "metadata": {},
     "output_type": "display_data"
    }
   ],
   "source": [
    "# investigating whether there is a relationship between the number of bathrooms and the price\n",
    "plt.scatter(house.bathrooms, house.price.values)\n",
    "plt.xlabel(\"Number of Bathrooms\")\n",
    "plt.ylabel(\"Price\")\n",
    "plt.title(\"Price per Number of Bathrooms\")"
   ]
  },
  {
   "cell_type": "markdown",
   "metadata": {},
   "source": [
    "As with the bedrooms, there is a somewhat positive relationship between price and the number of bathrooms. However, here the relationship appears to be a lot stronger than the one between price and the number of bedrooms."
   ]
  },
  {
   "cell_type": "markdown",
   "metadata": {},
   "source": [
    " "
   ]
  },
  {
   "cell_type": "code",
   "execution_count": 25,
   "metadata": {},
   "outputs": [
    {
     "data": {
      "text/plain": [
       "[Text(0, 0.5, 'Condition Level'), Text(0.5, 1.0, 'Conditions per Grade')]"
      ]
     },
     "execution_count": 25,
     "metadata": {},
     "output_type": "execute_result"
    },
    {
     "data": {
      "image/png": "[encoded data removed]",
      "text/plain": [
       "<Figure size 1080x864 with 1 Axes>"
      ]
     },
     "metadata": {},
     "output_type": "display_data"
    }
   ],
   "source": [
    "# investigating the relationship between grade and condition\n",
    "grade_cond = sb.countplot('condition', hue = 'grade', data = house)\n",
    "grade_cond.set(title = \"Conditions per Grade\",\n",
    "        ylabel = \"Condition Level\")"
   ]
  },
  {
   "cell_type": "markdown",
   "metadata": {},
   "source": [
    "Most of the houses fall in either Condition 3 or Condition 4, and Condition 3 has mostly Grade B houses followed by Grade C houses whereas Condition 4 has mostly Grade C houses followed by Grade B houses. Through this, we get a sense of the condition and quality of majority of the houses. They're not too good but they're not too bad either."
   ]
  },
  {
   "cell_type": "markdown",
   "metadata": {},
   "source": [
    " "
   ]
  },
  {
   "cell_type": "markdown",
   "metadata": {},
   "source": [
    "Now that we are done with EDA, it's now time to move on to creating the regression models."
   ]
  },
  {
   "cell_type": "markdown",
   "metadata": {},
   "source": [
    "# 3. Modeling"
   ]
  },
  {
   "cell_type": "markdown",
   "metadata": {},
   "source": [
    "### 3.1 Multiple Linear Regression"
   ]
  },
  {
   "cell_type": "markdown",
   "metadata": {},
   "source": [
    "##### 3.1.1 Understanding when to use this"
   ]
  },
  {
   "cell_type": "markdown",
   "metadata": {},
   "source": [
    "Multiple Linear Regression is a type of Linear Regression that has more than one independent variable. Therefore, Multiple Linear Regression has the same assumptions as Linear Regression which are:\n",
    "* There should be a linear relationship between the independent variables and the dependent variable\n",
    "* There should be little to no auto-correlation\n",
    "* There should be little to no multicollinearity\n",
    "* There should not be any outliers\n",
    "* There should be no heteroscedasticity\n",
    "* The sample observations should be independent of each other."
   ]
  },
  {
   "cell_type": "markdown",
   "metadata": {},
   "source": [
    "##### 3.1.2 Checking for multicollinearity"
   ]
  },
  {
   "cell_type": "markdown",
   "metadata": {},
   "source": [
    "We will start with looking at the correlation between the variables."
   ]
  },
  {
   "cell_type": "code",
   "execution_count": 32,
   "metadata": {},
   "outputs": [
    {
     "data": {
      "text/html": [
       "<div>\n",
       "<style scoped>\n",
       "    .dataframe tbody tr th:only-of-type {\n",
       "        vertical-align: middle;\n",
       "    }\n",
       "\n",
       "    .dataframe tbody tr th {\n",
       "        vertical-align: top;\n",
       "    }\n",
       "\n",
       "    .dataframe thead th {\n",
       "        text-align: right;\n",
       "    }\n",
       "</style>\n",
       "<table border=\"1\" class=\"dataframe\">\n",
       "  <thead>\n",
       "    <tr style=\"text-align: right;\">\n",
       "      <th></th>\n",
       "      <th>zipcode</th>\n",
       "      <th>price</th>\n",
       "      <th>bedrooms</th>\n",
       "      <th>bathrooms</th>\n",
       "      <th>sqft_living</th>\n",
       "      <th>sqft_lot</th>\n",
       "      <th>floors</th>\n",
       "      <th>waterfront</th>\n",
       "      <th>view</th>\n",
       "      <th>condition</th>\n",
       "      <th>sqft_above</th>\n",
       "      <th>sqft_basement</th>\n",
       "      <th>yr_built</th>\n",
       "      <th>yr_renovated</th>\n",
       "    </tr>\n",
       "  </thead>\n",
       "  <tbody>\n",
       "    <tr>\n",
       "      <th>zipcode</th>\n",
       "      <td>1.000000</td>\n",
       "      <td>-0.053147</td>\n",
       "      <td>-0.152718</td>\n",
       "      <td>-0.159784</td>\n",
       "      <td>-0.199379</td>\n",
       "      <td>-0.129572</td>\n",
       "      <td>-0.096935</td>\n",
       "      <td>0.030291</td>\n",
       "      <td>0.084886</td>\n",
       "      <td>0.003051</td>\n",
       "      <td>-0.261123</td>\n",
       "      <td>0.074816</td>\n",
       "      <td>-0.347105</td>\n",
       "      <td>0.064421</td>\n",
       "    </tr>\n",
       "    <tr>\n",
       "      <th>price</th>\n",
       "      <td>-0.053147</td>\n",
       "      <td>1.000000</td>\n",
       "      <td>0.308388</td>\n",
       "      <td>0.510148</td>\n",
       "      <td>0.702067</td>\n",
       "      <td>0.089647</td>\n",
       "      <td>0.237354</td>\n",
       "      <td>0.266334</td>\n",
       "      <td>0.397466</td>\n",
       "      <td>0.036374</td>\n",
       "      <td>0.605595</td>\n",
       "      <td>0.323855</td>\n",
       "      <td>0.054046</td>\n",
       "      <td>0.126498</td>\n",
       "    </tr>\n",
       "    <tr>\n",
       "      <th>bedrooms</th>\n",
       "      <td>-0.152718</td>\n",
       "      <td>0.308388</td>\n",
       "      <td>1.000000</td>\n",
       "      <td>0.467586</td>\n",
       "      <td>0.576666</td>\n",
       "      <td>0.031686</td>\n",
       "      <td>0.155861</td>\n",
       "      <td>-0.006588</td>\n",
       "      <td>0.079432</td>\n",
       "      <td>0.028400</td>\n",
       "      <td>0.477561</td>\n",
       "      <td>0.303178</td>\n",
       "      <td>0.154381</td>\n",
       "      <td>0.018689</td>\n",
       "    </tr>\n",
       "    <tr>\n",
       "      <th>bathrooms</th>\n",
       "      <td>-0.159784</td>\n",
       "      <td>0.510148</td>\n",
       "      <td>0.467586</td>\n",
       "      <td>1.000000</td>\n",
       "      <td>0.697985</td>\n",
       "      <td>0.085322</td>\n",
       "      <td>0.485155</td>\n",
       "      <td>0.058802</td>\n",
       "      <td>0.177510</td>\n",
       "      <td>-0.125962</td>\n",
       "      <td>0.640051</td>\n",
       "      <td>0.250917</td>\n",
       "      <td>0.433705</td>\n",
       "      <td>0.060704</td>\n",
       "    </tr>\n",
       "    <tr>\n",
       "      <th>sqft_living</th>\n",
       "      <td>-0.199379</td>\n",
       "      <td>0.702067</td>\n",
       "      <td>0.576666</td>\n",
       "      <td>0.697985</td>\n",
       "      <td>1.000000</td>\n",
       "      <td>0.172799</td>\n",
       "      <td>0.353722</td>\n",
       "      <td>0.103815</td>\n",
       "      <td>0.284621</td>\n",
       "      <td>-0.058850</td>\n",
       "      <td>0.876597</td>\n",
       "      <td>0.435078</td>\n",
       "      <td>0.318358</td>\n",
       "      <td>0.055292</td>\n",
       "    </tr>\n",
       "    <tr>\n",
       "      <th>sqft_lot</th>\n",
       "      <td>-0.129572</td>\n",
       "      <td>0.089647</td>\n",
       "      <td>0.031686</td>\n",
       "      <td>0.085322</td>\n",
       "      <td>0.172799</td>\n",
       "      <td>1.000000</td>\n",
       "      <td>-0.008790</td>\n",
       "      <td>0.021595</td>\n",
       "      <td>0.074731</td>\n",
       "      <td>-0.009016</td>\n",
       "      <td>0.183504</td>\n",
       "      <td>0.015254</td>\n",
       "      <td>0.053227</td>\n",
       "      <td>0.007662</td>\n",
       "    </tr>\n",
       "    <tr>\n",
       "      <th>floors</th>\n",
       "      <td>-0.096935</td>\n",
       "      <td>0.237354</td>\n",
       "      <td>0.155861</td>\n",
       "      <td>0.485155</td>\n",
       "      <td>0.353722</td>\n",
       "      <td>-0.008790</td>\n",
       "      <td>1.000000</td>\n",
       "      <td>0.019697</td>\n",
       "      <td>0.024661</td>\n",
       "      <td>-0.293078</td>\n",
       "      <td>0.518320</td>\n",
       "      <td>-0.235746</td>\n",
       "      <td>0.578476</td>\n",
       "      <td>-0.007898</td>\n",
       "    </tr>\n",
       "    <tr>\n",
       "      <th>waterfront</th>\n",
       "      <td>0.030291</td>\n",
       "      <td>0.266334</td>\n",
       "      <td>-0.006588</td>\n",
       "      <td>0.058802</td>\n",
       "      <td>0.103815</td>\n",
       "      <td>0.021595</td>\n",
       "      <td>0.019697</td>\n",
       "      <td>1.000000</td>\n",
       "      <td>0.401991</td>\n",
       "      <td>0.016640</td>\n",
       "      <td>0.072076</td>\n",
       "      <td>0.080583</td>\n",
       "      <td>-0.026137</td>\n",
       "      <td>0.092947</td>\n",
       "    </tr>\n",
       "    <tr>\n",
       "      <th>view</th>\n",
       "      <td>0.084886</td>\n",
       "      <td>0.397466</td>\n",
       "      <td>0.079432</td>\n",
       "      <td>0.177510</td>\n",
       "      <td>0.284621</td>\n",
       "      <td>0.074731</td>\n",
       "      <td>0.024661</td>\n",
       "      <td>0.401991</td>\n",
       "      <td>1.000000</td>\n",
       "      <td>0.045794</td>\n",
       "      <td>0.167640</td>\n",
       "      <td>0.276993</td>\n",
       "      <td>-0.053142</td>\n",
       "      <td>0.103195</td>\n",
       "    </tr>\n",
       "    <tr>\n",
       "      <th>condition</th>\n",
       "      <td>0.003051</td>\n",
       "      <td>0.036374</td>\n",
       "      <td>0.028400</td>\n",
       "      <td>-0.125962</td>\n",
       "      <td>-0.058850</td>\n",
       "      <td>-0.009016</td>\n",
       "      <td>-0.293078</td>\n",
       "      <td>0.016640</td>\n",
       "      <td>0.045794</td>\n",
       "      <td>1.000000</td>\n",
       "      <td>-0.158295</td>\n",
       "      <td>0.174050</td>\n",
       "      <td>-0.361241</td>\n",
       "      <td>-0.060896</td>\n",
       "    </tr>\n",
       "    <tr>\n",
       "      <th>sqft_above</th>\n",
       "      <td>-0.261123</td>\n",
       "      <td>0.605595</td>\n",
       "      <td>0.477561</td>\n",
       "      <td>0.640051</td>\n",
       "      <td>0.876597</td>\n",
       "      <td>0.183504</td>\n",
       "      <td>0.518320</td>\n",
       "      <td>0.072076</td>\n",
       "      <td>0.167640</td>\n",
       "      <td>-0.158295</td>\n",
       "      <td>1.000000</td>\n",
       "      <td>-0.051903</td>\n",
       "      <td>0.424190</td>\n",
       "      <td>0.023213</td>\n",
       "    </tr>\n",
       "    <tr>\n",
       "      <th>sqft_basement</th>\n",
       "      <td>0.074816</td>\n",
       "      <td>0.323855</td>\n",
       "      <td>0.303178</td>\n",
       "      <td>0.250917</td>\n",
       "      <td>0.435078</td>\n",
       "      <td>0.015254</td>\n",
       "      <td>-0.235746</td>\n",
       "      <td>0.080583</td>\n",
       "      <td>0.276993</td>\n",
       "      <td>0.174050</td>\n",
       "      <td>-0.051903</td>\n",
       "      <td>1.000000</td>\n",
       "      <td>-0.133013</td>\n",
       "      <td>0.071311</td>\n",
       "    </tr>\n",
       "    <tr>\n",
       "      <th>yr_built</th>\n",
       "      <td>-0.347105</td>\n",
       "      <td>0.054046</td>\n",
       "      <td>0.154381</td>\n",
       "      <td>0.433705</td>\n",
       "      <td>0.318358</td>\n",
       "      <td>0.053227</td>\n",
       "      <td>0.578476</td>\n",
       "      <td>-0.026137</td>\n",
       "      <td>-0.053142</td>\n",
       "      <td>-0.361241</td>\n",
       "      <td>0.424190</td>\n",
       "      <td>-0.133013</td>\n",
       "      <td>1.000000</td>\n",
       "      <td>-0.224713</td>\n",
       "    </tr>\n",
       "    <tr>\n",
       "      <th>yr_renovated</th>\n",
       "      <td>0.064421</td>\n",
       "      <td>0.126498</td>\n",
       "      <td>0.018689</td>\n",
       "      <td>0.060704</td>\n",
       "      <td>0.055292</td>\n",
       "      <td>0.007662</td>\n",
       "      <td>-0.007898</td>\n",
       "      <td>0.092947</td>\n",
       "      <td>0.103195</td>\n",
       "      <td>-0.060896</td>\n",
       "      <td>0.023213</td>\n",
       "      <td>0.071311</td>\n",
       "      <td>-0.224713</td>\n",
       "      <td>1.000000</td>\n",
       "    </tr>\n",
       "  </tbody>\n",
       "</table>\n",
       "</div>"
      ],
      "text/plain": [
       "                zipcode     price  bedrooms  bathrooms  sqft_living  sqft_lot  \\\n",
       "zipcode        1.000000 -0.053147 -0.152718  -0.159784    -0.199379 -0.129572   \n",
       "price         -0.053147  1.000000  0.308388   0.510148     0.702067  0.089647   \n",
       "bedrooms      -0.152718  0.308388  1.000000   0.467586     0.576666  0.031686   \n",
       "bathrooms     -0.159784  0.510148  0.467586   1.000000     0.697985  0.085322   \n",
       "sqft_living   -0.199379  0.702067  0.576666   0.697985     1.000000  0.172799   \n",
       "sqft_lot      -0.129572  0.089647  0.031686   0.085322     0.172799  1.000000   \n",
       "floors        -0.096935  0.237354  0.155861   0.485155     0.353722 -0.008790   \n",
       "waterfront     0.030291  0.266334 -0.006588   0.058802     0.103815  0.021595   \n",
       "view           0.084886  0.397466  0.079432   0.177510     0.284621  0.074731   \n",
       "condition      0.003051  0.036374  0.028400  -0.125962    -0.058850 -0.009016   \n",
       "sqft_above    -0.261123  0.605595  0.477561   0.640051     0.876597  0.183504   \n",
       "sqft_basement  0.074816  0.323855  0.303178   0.250917     0.435078  0.015254   \n",
       "yr_built      -0.347105  0.054046  0.154381   0.433705     0.318358  0.053227   \n",
       "yr_renovated   0.064421  0.126498  0.018689   0.060704     0.055292  0.007662   \n",
       "\n",
       "                 floors  waterfront      view  condition  sqft_above  \\\n",
       "zipcode       -0.096935    0.030291  0.084886   0.003051   -0.261123   \n",
       "price          0.237354    0.266334  0.397466   0.036374    0.605595   \n",
       "bedrooms       0.155861   -0.006588  0.079432   0.028400    0.477561   \n",
       "bathrooms      0.485155    0.058802  0.177510  -0.125962    0.640051   \n",
       "sqft_living    0.353722    0.103815  0.284621  -0.058850    0.876597   \n",
       "sqft_lot      -0.008790    0.021595  0.074731  -0.009016    0.183504   \n",
       "floors         1.000000    0.019697  0.024661  -0.293078    0.518320   \n",
       "waterfront     0.019697    1.000000  0.401991   0.016640    0.072076   \n",
       "view           0.024661    0.401991  1.000000   0.045794    0.167640   \n",
       "condition     -0.293078    0.016640  0.045794   1.000000   -0.158295   \n",
       "sqft_above     0.518320    0.072076  0.167640  -0.158295    1.000000   \n",
       "sqft_basement -0.235746    0.080583  0.276993   0.174050   -0.051903   \n",
       "yr_built       0.578476   -0.026137 -0.053142  -0.361241    0.424190   \n",
       "yr_renovated  -0.007898    0.092947  0.103195  -0.060896    0.023213   \n",
       "\n",
       "               sqft_basement  yr_built  yr_renovated  \n",
       "zipcode             0.074816 -0.347105      0.064421  \n",
       "price               0.323855  0.054046      0.126498  \n",
       "bedrooms            0.303178  0.154381      0.018689  \n",
       "bathrooms           0.250917  0.433705      0.060704  \n",
       "sqft_living         0.435078  0.318358      0.055292  \n",
       "sqft_lot            0.015254  0.053227      0.007662  \n",
       "floors             -0.235746  0.578476     -0.007898  \n",
       "waterfront          0.080583 -0.026137      0.092947  \n",
       "view                0.276993 -0.053142      0.103195  \n",
       "condition           0.174050 -0.361241     -0.060896  \n",
       "sqft_above         -0.051903  0.424190      0.023213  \n",
       "sqft_basement       1.000000 -0.133013      0.071311  \n",
       "yr_built           -0.133013  1.000000     -0.224713  \n",
       "yr_renovated        0.071311 -0.224713      1.000000  "
      ]
     },
     "execution_count": 32,
     "metadata": {},
     "output_type": "execute_result"
    }
   ],
   "source": [
    "corr = house.corr()\n",
    "corr"
   ]
  },
  {
   "cell_type": "markdown",
   "metadata": {},
   "source": [
    "From what I can see, there are a number of high correlations. For example, 'sqft_living' seems to be highly correlated with 'sqft_above' (0.876), and 'price' seems to be highly correlated with 'sqft_living' (0.702), 'sqft_above' (0.605), and 'bathrooms' (0.51). This is surprising because I expected the number of bedrooms to be one of the major factors influencing the price of the house. However, the number of bedrooms is fairly correlated to 'sqft_living' (0.576), suggesting multicolliearity, which we will look into using Variance Inflation Factor (VIF)."
   ]
  },
  {
   "cell_type": "code",
   "execution_count": 33,
   "metadata": {},
   "outputs": [
    {
     "data": {
      "text/plain": [
       "<matplotlib.axes._subplots.AxesSubplot at 0x7fb2da5d4668>"
      ]
     },
     "execution_count": 33,
     "metadata": {},
     "output_type": "execute_result"
    },
    {
     "data": {
      "image/png": "[encoded data removed]",
      "text/plain": [
       "<Figure size 1080x720 with 2 Axes>"
      ]
     },
     "metadata": {},
     "output_type": "display_data"
    }
   ],
   "source": [
    "vif = pd.DataFrame(np.linalg.inv(corr.values), index = corr.index, columns = corr.columns)\n",
    "\n",
    "# using a heatmap to display the results\n",
    "plt.figure(figsize = (15, 10))\n",
    "sb.heatmap(vif, annot = True)"
   ]
  },
  {
   "cell_type": "markdown",
   "metadata": {},
   "source": [
    "A VIF score of around 5 indicates that that particular variable has relatively high multicollinearity with one or more variables in the dataset, and that variable needs to be removed to carry out regression that assumes there is little to no multicollinearity. Since this is one of the assumptions of linear regression, of which we will do multiple linear regression, we should create a dataset with little to no multicollinearity."
   ]
  },
  {
   "cell_type": "code",
   "execution_count": 34,
   "metadata": {},
   "outputs": [
    {
     "data": {
      "text/plain": [
       "<matplotlib.axes._subplots.AxesSubplot at 0x7fb2d7f8c0b8>"
      ]
     },
     "execution_count": 34,
     "metadata": {},
     "output_type": "execute_result"
    },
    {
     "data": {
      "image/png": "[encoded data removed]",
      "text/plain": [
       "<Figure size 1080x720 with 2 Axes>"
      ]
     },
     "metadata": {},
     "output_type": "display_data"
    }
   ],
   "source": [
    "# we will drop 'sqft_living' and 'sqft_basement' so that we can keep 'sqft_above'\n",
    "house2 = house.drop(columns = ['sqft_living', 'sqft_basement'])\n",
    "corr2 = house2.corr()\n",
    "vif2 = pd.DataFrame(np.linalg.inv(corr2.values), index = corr2.index, columns = corr2.columns)\n",
    "\n",
    "# using a heatmap to display the results\n",
    "plt.figure(figsize = (15, 10))\n",
    "sb.heatmap(vif2, annot = True)"
   ]
  },
  {
   "cell_type": "markdown",
   "metadata": {},
   "source": [
    "This one is now so much better suited for a linear regression model. Note how dropping those two variables lowered (improved) the VIF score of the other variables, like 'price' went from a VIF score of 2.5 to 2.2, showing that the dropped variables were highly correlated with it. We will use this particular dataset when doing multiple linear regression."
   ]
  },
  {
   "cell_type": "markdown",
   "metadata": {},
   "source": [
    "##### 3.1.3 Feature Engineering"
   ]
  },
  {
   "cell_type": "markdown",
   "metadata": {},
   "source": [
    "We need to encode the 'grade' column so that there will not be any issues while training the model that might arise due to the presence of a categorical variable in the dataset."
   ]
  },
  {
   "cell_type": "code",
   "execution_count": 35,
   "metadata": {},
   "outputs": [],
   "source": [
    "from sklearn.preprocessing import LabelEncoder\n",
    "\n",
    "le_ = LabelEncoder().fit(house2['grade'].unique())\n",
    "class_ = le_.classes_\n",
    "house2['grade'] = le_.transform(house2['grade'].values)"
   ]
  },
  {
   "cell_type": "code",
   "execution_count": 36,
   "metadata": {},
   "outputs": [
    {
     "data": {
      "text/html": [
       "<div>\n",
       "<style scoped>\n",
       "    .dataframe tbody tr th:only-of-type {\n",
       "        vertical-align: middle;\n",
       "    }\n",
       "\n",
       "    .dataframe tbody tr th {\n",
       "        vertical-align: top;\n",
       "    }\n",
       "\n",
       "    .dataframe thead th {\n",
       "        text-align: right;\n",
       "    }\n",
       "</style>\n",
       "<table border=\"1\" class=\"dataframe\">\n",
       "  <thead>\n",
       "    <tr style=\"text-align: right;\">\n",
       "      <th></th>\n",
       "      <th>zipcode</th>\n",
       "      <th>price</th>\n",
       "      <th>bedrooms</th>\n",
       "      <th>bathrooms</th>\n",
       "      <th>sqft_lot</th>\n",
       "      <th>floors</th>\n",
       "      <th>waterfront</th>\n",
       "      <th>view</th>\n",
       "      <th>condition</th>\n",
       "      <th>grade</th>\n",
       "      <th>sqft_above</th>\n",
       "      <th>yr_built</th>\n",
       "      <th>yr_renovated</th>\n",
       "    </tr>\n",
       "  </thead>\n",
       "  <tbody>\n",
       "    <tr>\n",
       "      <th>12085</th>\n",
       "      <td>98001</td>\n",
       "      <td>210000.0</td>\n",
       "      <td>4</td>\n",
       "      <td>2</td>\n",
       "      <td>5393</td>\n",
       "      <td>2</td>\n",
       "      <td>0</td>\n",
       "      <td>0</td>\n",
       "      <td>3</td>\n",
       "      <td>2</td>\n",
       "      <td>1500</td>\n",
       "      <td>1999</td>\n",
       "      <td>0</td>\n",
       "    </tr>\n",
       "    <tr>\n",
       "      <th>9337</th>\n",
       "      <td>98001</td>\n",
       "      <td>182500.0</td>\n",
       "      <td>3</td>\n",
       "      <td>2</td>\n",
       "      <td>4744</td>\n",
       "      <td>2</td>\n",
       "      <td>0</td>\n",
       "      <td>0</td>\n",
       "      <td>3</td>\n",
       "      <td>2</td>\n",
       "      <td>1830</td>\n",
       "      <td>1997</td>\n",
       "      <td>0</td>\n",
       "    </tr>\n",
       "    <tr>\n",
       "      <th>4966</th>\n",
       "      <td>98001</td>\n",
       "      <td>482000.0</td>\n",
       "      <td>4</td>\n",
       "      <td>2</td>\n",
       "      <td>85377</td>\n",
       "      <td>1</td>\n",
       "      <td>0</td>\n",
       "      <td>0</td>\n",
       "      <td>3</td>\n",
       "      <td>1</td>\n",
       "      <td>1976</td>\n",
       "      <td>2000</td>\n",
       "      <td>0</td>\n",
       "    </tr>\n",
       "    <tr>\n",
       "      <th>6748</th>\n",
       "      <td>98001</td>\n",
       "      <td>175000.0</td>\n",
       "      <td>3</td>\n",
       "      <td>1</td>\n",
       "      <td>13056</td>\n",
       "      <td>1</td>\n",
       "      <td>0</td>\n",
       "      <td>0</td>\n",
       "      <td>4</td>\n",
       "      <td>2</td>\n",
       "      <td>1230</td>\n",
       "      <td>1962</td>\n",
       "      <td>0</td>\n",
       "    </tr>\n",
       "    <tr>\n",
       "      <th>16318</th>\n",
       "      <td>98001</td>\n",
       "      <td>274950.0</td>\n",
       "      <td>3</td>\n",
       "      <td>1</td>\n",
       "      <td>16679</td>\n",
       "      <td>1</td>\n",
       "      <td>0</td>\n",
       "      <td>0</td>\n",
       "      <td>3</td>\n",
       "      <td>1</td>\n",
       "      <td>1840</td>\n",
       "      <td>1989</td>\n",
       "      <td>0</td>\n",
       "    </tr>\n",
       "  </tbody>\n",
       "</table>\n",
       "</div>"
      ],
      "text/plain": [
       "       zipcode     price  bedrooms  bathrooms  sqft_lot  floors  waterfront  \\\n",
       "12085    98001  210000.0         4          2      5393       2           0   \n",
       "9337     98001  182500.0         3          2      4744       2           0   \n",
       "4966     98001  482000.0         4          2     85377       1           0   \n",
       "6748     98001  175000.0         3          1     13056       1           0   \n",
       "16318    98001  274950.0         3          1     16679       1           0   \n",
       "\n",
       "       view  condition  grade  sqft_above  yr_built  yr_renovated  \n",
       "12085     0          3      2        1500      1999             0  \n",
       "9337      0          3      2        1830      1997             0  \n",
       "4966      0          3      1        1976      2000             0  \n",
       "6748      0          4      2        1230      1962             0  \n",
       "16318     0          3      1        1840      1989             0  "
      ]
     },
     "execution_count": 36,
     "metadata": {},
     "output_type": "execute_result"
    }
   ],
   "source": [
    "# previewing our modified dataset\n",
    "house2.head()"
   ]
  },
  {
   "cell_type": "code",
   "execution_count": 37,
   "metadata": {},
   "outputs": [
    {
     "name": "stdout",
     "output_type": "stream",
     "text": [
      "C\n",
      "E\n"
     ]
    }
   ],
   "source": [
    "# to look up which grade each value represents\n",
    "print(class_[2])\n",
    "print(class_[4])"
   ]
  },
  {
   "cell_type": "markdown",
   "metadata": {},
   "source": [
    "##### 3.1.4 Training the Model"
   ]
  },
  {
   "cell_type": "code",
   "execution_count": 38,
   "metadata": {},
   "outputs": [
    {
     "name": "stdout",
     "output_type": "stream",
     "text": [
      "(21605, 12)\n",
      "(21605,)\n",
      "(17284, 12) (4321, 12)\n",
      "(17284,) (4321,)\n"
     ]
    }
   ],
   "source": [
    "# split our new dataset into train & test sets\n",
    "\n",
    "X2 = house2.drop(columns = ['price'])\n",
    "y2 = house2['price']\n",
    "print(X2.shape)\n",
    "print(y2.shape)\n",
    "\n",
    "from sklearn.model_selection import train_test_split\n",
    "X_train2, X_test2, y_train2, y_test2 = train_test_split(X2, y2, test_size = 0.2, random_state = 100)\n",
    "\n",
    "print(X_train2.shape, X_test2.shape)\n",
    "print(y_train2.shape, y_test2.shape)"
   ]
  },
  {
   "cell_type": "code",
   "execution_count": 39,
   "metadata": {},
   "outputs": [
    {
     "data": {
      "text/plain": [
       "LinearRegression(copy_X=True, fit_intercept=True, n_jobs=None, normalize=False)"
      ]
     },
     "execution_count": 39,
     "metadata": {},
     "output_type": "execute_result"
    }
   ],
   "source": [
    "# now training our model\n",
    "from sklearn.linear_model import LinearRegression\n",
    "\n",
    "reg = LinearRegression()\n",
    "reg.fit(X_train2, y_train2)"
   ]
  },
  {
   "cell_type": "code",
   "execution_count": 40,
   "metadata": {},
   "outputs": [
    {
     "data": {
      "text/html": [
       "<div>\n",
       "<style scoped>\n",
       "    .dataframe tbody tr th:only-of-type {\n",
       "        vertical-align: middle;\n",
       "    }\n",
       "\n",
       "    .dataframe tbody tr th {\n",
       "        vertical-align: top;\n",
       "    }\n",
       "\n",
       "    .dataframe thead th {\n",
       "        text-align: right;\n",
       "    }\n",
       "</style>\n",
       "<table border=\"1\" class=\"dataframe\">\n",
       "  <thead>\n",
       "    <tr style=\"text-align: right;\">\n",
       "      <th></th>\n",
       "      <th>Coefficient</th>\n",
       "    </tr>\n",
       "  </thead>\n",
       "  <tbody>\n",
       "    <tr>\n",
       "      <th>zipcode</th>\n",
       "      <td>143.364638</td>\n",
       "    </tr>\n",
       "    <tr>\n",
       "      <th>bedrooms</th>\n",
       "      <td>-21210.316223</td>\n",
       "    </tr>\n",
       "    <tr>\n",
       "      <th>bathrooms</th>\n",
       "      <td>111187.575868</td>\n",
       "    </tr>\n",
       "    <tr>\n",
       "      <th>sqft_lot</th>\n",
       "      <td>-0.229194</td>\n",
       "    </tr>\n",
       "    <tr>\n",
       "      <th>floors</th>\n",
       "      <td>-28368.100257</td>\n",
       "    </tr>\n",
       "    <tr>\n",
       "      <th>waterfront</th>\n",
       "      <td>553399.938904</td>\n",
       "    </tr>\n",
       "    <tr>\n",
       "      <th>view</th>\n",
       "      <td>80069.957058</td>\n",
       "    </tr>\n",
       "    <tr>\n",
       "      <th>condition</th>\n",
       "      <td>30045.234495</td>\n",
       "    </tr>\n",
       "    <tr>\n",
       "      <th>grade</th>\n",
       "      <td>-141047.032375</td>\n",
       "    </tr>\n",
       "    <tr>\n",
       "      <th>sqft_above</th>\n",
       "      <td>190.469725</td>\n",
       "    </tr>\n",
       "    <tr>\n",
       "      <th>yr_built</th>\n",
       "      <td>-3520.166773</td>\n",
       "    </tr>\n",
       "    <tr>\n",
       "      <th>yr_renovated</th>\n",
       "      <td>7.169292</td>\n",
       "    </tr>\n",
       "  </tbody>\n",
       "</table>\n",
       "</div>"
      ],
      "text/plain": [
       "                Coefficient\n",
       "zipcode          143.364638\n",
       "bedrooms      -21210.316223\n",
       "bathrooms     111187.575868\n",
       "sqft_lot          -0.229194\n",
       "floors        -28368.100257\n",
       "waterfront    553399.938904\n",
       "view           80069.957058\n",
       "condition      30045.234495\n",
       "grade        -141047.032375\n",
       "sqft_above       190.469725\n",
       "yr_built       -3520.166773\n",
       "yr_renovated       7.169292"
      ]
     },
     "execution_count": 40,
     "metadata": {},
     "output_type": "execute_result"
    }
   ],
   "source": [
    "# previewing our model's coefficients\n",
    "coeff_ = pd.DataFrame(reg.coef_, X2.columns, columns=['Coefficient'])  \n",
    "coeff_"
   ]
  },
  {
   "cell_type": "markdown",
   "metadata": {},
   "source": [
    "We can see that the number of bedrooms, the size of the parking lot, the number of floors, the grade of the house, and the year the house was built were not great contributors to the price of the house."
   ]
  },
  {
   "cell_type": "markdown",
   "metadata": {},
   "source": [
    "##### 3.1.5 Making Predictions & Assessing Model Accuracy"
   ]
  },
  {
   "cell_type": "code",
   "execution_count": 41,
   "metadata": {},
   "outputs": [
    {
     "data": {
      "text/html": [
       "<div>\n",
       "<style scoped>\n",
       "    .dataframe tbody tr th:only-of-type {\n",
       "        vertical-align: middle;\n",
       "    }\n",
       "\n",
       "    .dataframe tbody tr th {\n",
       "        vertical-align: top;\n",
       "    }\n",
       "\n",
       "    .dataframe thead th {\n",
       "        text-align: right;\n",
       "    }\n",
       "</style>\n",
       "<table border=\"1\" class=\"dataframe\">\n",
       "  <thead>\n",
       "    <tr style=\"text-align: right;\">\n",
       "      <th></th>\n",
       "      <th>Actual</th>\n",
       "      <th>Predicted</th>\n",
       "    </tr>\n",
       "  </thead>\n",
       "  <tbody>\n",
       "    <tr>\n",
       "      <th>17446</th>\n",
       "      <td>407500.0</td>\n",
       "      <td>548356.325233</td>\n",
       "    </tr>\n",
       "    <tr>\n",
       "      <th>14924</th>\n",
       "      <td>590000.0</td>\n",
       "      <td>697412.604882</td>\n",
       "    </tr>\n",
       "    <tr>\n",
       "      <th>1836</th>\n",
       "      <td>260000.0</td>\n",
       "      <td>264596.376503</td>\n",
       "    </tr>\n",
       "    <tr>\n",
       "      <th>19247</th>\n",
       "      <td>178500.0</td>\n",
       "      <td>363936.343393</td>\n",
       "    </tr>\n",
       "    <tr>\n",
       "      <th>10134</th>\n",
       "      <td>546500.0</td>\n",
       "      <td>609077.011562</td>\n",
       "    </tr>\n",
       "    <tr>\n",
       "      <th>776</th>\n",
       "      <td>269950.0</td>\n",
       "      <td>504664.524246</td>\n",
       "    </tr>\n",
       "    <tr>\n",
       "      <th>14413</th>\n",
       "      <td>653675.0</td>\n",
       "      <td>660858.375458</td>\n",
       "    </tr>\n",
       "    <tr>\n",
       "      <th>18428</th>\n",
       "      <td>618500.0</td>\n",
       "      <td>501800.056166</td>\n",
       "    </tr>\n",
       "    <tr>\n",
       "      <th>5965</th>\n",
       "      <td>315000.0</td>\n",
       "      <td>481114.300920</td>\n",
       "    </tr>\n",
       "    <tr>\n",
       "      <th>14919</th>\n",
       "      <td>462600.0</td>\n",
       "      <td>357024.462194</td>\n",
       "    </tr>\n",
       "    <tr>\n",
       "      <th>583</th>\n",
       "      <td>439000.0</td>\n",
       "      <td>479896.680938</td>\n",
       "    </tr>\n",
       "    <tr>\n",
       "      <th>8521</th>\n",
       "      <td>565000.0</td>\n",
       "      <td>406581.866103</td>\n",
       "    </tr>\n",
       "    <tr>\n",
       "      <th>5527</th>\n",
       "      <td>119500.0</td>\n",
       "      <td>57712.744787</td>\n",
       "    </tr>\n",
       "    <tr>\n",
       "      <th>2727</th>\n",
       "      <td>779000.0</td>\n",
       "      <td>680290.700893</td>\n",
       "    </tr>\n",
       "    <tr>\n",
       "      <th>12157</th>\n",
       "      <td>552775.0</td>\n",
       "      <td>643970.497189</td>\n",
       "    </tr>\n",
       "  </tbody>\n",
       "</table>\n",
       "</div>"
      ],
      "text/plain": [
       "         Actual      Predicted\n",
       "17446  407500.0  548356.325233\n",
       "14924  590000.0  697412.604882\n",
       "1836   260000.0  264596.376503\n",
       "19247  178500.0  363936.343393\n",
       "10134  546500.0  609077.011562\n",
       "776    269950.0  504664.524246\n",
       "14413  653675.0  660858.375458\n",
       "18428  618500.0  501800.056166\n",
       "5965   315000.0  481114.300920\n",
       "14919  462600.0  357024.462194\n",
       "583    439000.0  479896.680938\n",
       "8521   565000.0  406581.866103\n",
       "5527   119500.0   57712.744787\n",
       "2727   779000.0  680290.700893\n",
       "12157  552775.0  643970.497189"
      ]
     },
     "execution_count": 41,
     "metadata": {},
     "output_type": "execute_result"
    }
   ],
   "source": [
    "# now let's do prediction on test data\n",
    "y_pred2 = reg.predict(X_test2)\n",
    "\n",
    "# check the difference between the actual value and predicted value\n",
    "df = pd.DataFrame({'Actual': y_test2, 'Predicted': y_pred2})\n",
    "df15 = df.head(15)\n",
    "df15"
   ]
  },
  {
   "cell_type": "code",
   "execution_count": 42,
   "metadata": {},
   "outputs": [
    {
     "data": {
      "image/png": "[encoded data removed]",
      "text/plain": [
       "<Figure size 720x576 with 1 Axes>"
      ]
     },
     "metadata": {},
     "output_type": "display_data"
    }
   ],
   "source": [
    "# Now let's plot the comparison of Actual and Predicted values\n",
    "df15.plot(kind = 'bar', figsize = (10, 8))\n",
    "plt.grid(which = 'major', linestyle = '-', linewidth = '0.5', color = 'green')\n",
    "plt.grid(which = 'minor', linestyle = ':', linewidth = '0.5', color = 'black')\n",
    "plt.show()"
   ]
  },
  {
   "cell_type": "code",
   "execution_count": 43,
   "metadata": {},
   "outputs": [
    {
     "name": "stdout",
     "output_type": "stream",
     "text": [
      "Root Mean Squared Error: 260441.01285540784\n"
     ]
    }
   ],
   "source": [
    "# assessing the model's accuracy\n",
    "from sklearn.metrics import mean_squared_error\n",
    "RMSE = np.sqrt(mean_squared_error(y_test2, y_pred2))\n",
    "print(\"Root Mean Squared Error:\", RMSE)"
   ]
  },
  {
   "cell_type": "code",
   "execution_count": 44,
   "metadata": {},
   "outputs": [
    {
     "name": "stdout",
     "output_type": "stream",
     "text": [
      "10% of the mean: 54019.388095348295\n"
     ]
    }
   ],
   "source": [
    "ten_of_mean = 0.1 * house2.price.mean()\n",
    "print(\"10% of the mean:\", ten_of_mean)"
   ]
  },
  {
   "cell_type": "markdown",
   "metadata": {},
   "source": [
    "The RMSE is significantly greater than 10% of the mean. This means that our model is not accurate for the most part. I have strong suspicions that we got these values because of two or more of the following:\n",
    "    * Bad assumptions: We made the assumption that this data has a linear relationship, but that might not be the case.\n",
    "    * Poor features: The features we used may not have had a high enough correlation with the values we were trying to predict."
   ]
  },
  {
   "cell_type": "markdown",
   "metadata": {},
   "source": [
    "##### 3.1.6 Residual Plots & Heteroscedasticity Test"
   ]
  },
  {
   "cell_type": "code",
   "execution_count": 45,
   "metadata": {},
   "outputs": [
    {
     "data": {
      "text/plain": [
       "-1171.9563531762676"
      ]
     },
     "execution_count": 45,
     "metadata": {},
     "output_type": "execute_result"
    }
   ],
   "source": [
    "# now creating residuals by substracting the test value from the predicted value for each row\n",
    "# in our dataset\n",
    "\n",
    "residuals = np.subtract(y_pred2, y_test2)\n",
    "residuals.mean()"
   ]
  },
  {
   "cell_type": "code",
   "execution_count": 46,
   "metadata": {},
   "outputs": [
    {
     "data": {
      "image/png": "[encoded data removed]",
      "text/plain": [
       "<Figure size 1080x864 with 1 Axes>"
      ]
     },
     "metadata": {},
     "output_type": "display_data"
    }
   ],
   "source": [
    "# plotting the residuals\n",
    "\n",
    "plt.scatter(y_pred2, residuals, color = 'black')\n",
    "plt.figsize = [12, 10]\n",
    "plt.ylabel('residual')\n",
    "plt.xlabel('fitted values')\n",
    "plt.axhline(y = residuals.mean(), color = 'red', linewidth = 1)\n",
    "plt.show()"
   ]
  },
  {
   "cell_type": "markdown",
   "metadata": {},
   "source": [
    "Now testing for heteroscedasticity using Barlett's test. This test establishes as a null hypothesis that the variance is equal for all our datapoints, and the new hypothesis that the variance is different for at least one pair of datapoints."
   ]
  },
  {
   "cell_type": "code",
   "execution_count": 47,
   "metadata": {},
   "outputs": [
    {
     "name": "stdout",
     "output_type": "stream",
     "text": [
      "Test result: 29.305010987858505\n",
      "P-value: 6.183558033344463e-08\n"
     ]
    }
   ],
   "source": [
    "import scipy as sp\n",
    "\n",
    "test_result, p_value = sp.stats.bartlett(y_pred2, residuals)\n",
    "print(\"Test result:\", test_result)\n",
    "print(\"P-value:\", p_value)"
   ]
  },
  {
   "cell_type": "code",
   "execution_count": 48,
   "metadata": {},
   "outputs": [
    {
     "name": "stdout",
     "output_type": "stream",
     "text": [
      "Degree of Freedom: 4320\n",
      "Probability: 0.9999999381644197\n",
      "Critical Value: 4829.631509672015\n"
     ]
    }
   ],
   "source": [
    "# to interpret the results, we must compute a critical value of the chi squared distribution\n",
    "degree_of_freedom = len(y_pred2) - 1\n",
    "probability = 1 - p_value\n",
    "critical_value = sp.stats.chi2.ppf(probability, degree_of_freedom)\n",
    "\n",
    "print(\"Degree of Freedom:\", degree_of_freedom)\n",
    "print(\"Probability:\", probability)\n",
    "print(\"Critical Value:\", critical_value)"
   ]
  },
  {
   "cell_type": "markdown",
   "metadata": {},
   "source": [
    "If the test_result is greater than the critical value, then we reject our null hypothesis. This would mean that there are patterns to the variance of the data. Otherwise, we can identify no patterns, and we accept the null hypothesis that the variance is homogeneous across our data"
   ]
  },
  {
   "cell_type": "code",
   "execution_count": 49,
   "metadata": {},
   "outputs": [
    {
     "name": "stdout",
     "output_type": "stream",
     "text": [
      "The variances are equal (homogeneous). The model is doing well.\n"
     ]
    }
   ],
   "source": [
    "if (test_result > critical_value):\n",
    "  print('The variances are unequal (heterogeneous), and the model needs to be reassessed.')\n",
    "else:\n",
    "  print('The variances are equal (homogeneous). The model is doing well.')"
   ]
  },
  {
   "cell_type": "markdown",
   "metadata": {},
   "source": [
    "### 3.2 Quantile Regression"
   ]
  },
  {
   "cell_type": "markdown",
   "metadata": {},
   "source": [
    "##### 3.2.1 Know when to use this\n",
    "\n",
    "Quantile regression is an extension of linear regression which is generally used when outliers are present and the data also has high skewedness and heteroscedasticity. Unlike normal linear regression, quantile predicts the quanatile for a given independent variable or set of independent variables.\n",
    "\n",
    "Quantile regression works best when the following are true of our dependent variable *y*:\n",
    "    - is continuous\n",
    "    - does not have any zeros\n",
    "    - does not have too many repeated values"
   ]
  },
  {
   "cell_type": "code",
   "execution_count": 50,
   "metadata": {},
   "outputs": [
    {
     "data": {
      "text/plain": [
       "dtype('float64')"
      ]
     },
     "execution_count": 50,
     "metadata": {},
     "output_type": "execute_result"
    }
   ],
   "source": [
    "# checking the datatype of our dependent variable\n",
    "house.price.dtype"
   ]
  },
  {
   "cell_type": "markdown",
   "metadata": {},
   "source": [
    "Our dependent variable is of data type float which confirms it is continuous."
   ]
  },
  {
   "cell_type": "code",
   "execution_count": 51,
   "metadata": {},
   "outputs": [
    {
     "data": {
      "text/html": [
       "<div>\n",
       "<style scoped>\n",
       "    .dataframe tbody tr th:only-of-type {\n",
       "        vertical-align: middle;\n",
       "    }\n",
       "\n",
       "    .dataframe tbody tr th {\n",
       "        vertical-align: top;\n",
       "    }\n",
       "\n",
       "    .dataframe thead th {\n",
       "        text-align: right;\n",
       "    }\n",
       "</style>\n",
       "<table border=\"1\" class=\"dataframe\">\n",
       "  <thead>\n",
       "    <tr style=\"text-align: right;\">\n",
       "      <th></th>\n",
       "      <th>zipcode</th>\n",
       "      <th>price</th>\n",
       "      <th>bedrooms</th>\n",
       "      <th>bathrooms</th>\n",
       "      <th>sqft_living</th>\n",
       "      <th>sqft_lot</th>\n",
       "      <th>floors</th>\n",
       "      <th>waterfront</th>\n",
       "      <th>view</th>\n",
       "      <th>condition</th>\n",
       "      <th>grade</th>\n",
       "      <th>sqft_above</th>\n",
       "      <th>sqft_basement</th>\n",
       "      <th>yr_built</th>\n",
       "      <th>yr_renovated</th>\n",
       "    </tr>\n",
       "  </thead>\n",
       "  <tbody>\n",
       "  </tbody>\n",
       "</table>\n",
       "</div>"
      ],
      "text/plain": [
       "Empty DataFrame\n",
       "Columns: [zipcode, price, bedrooms, bathrooms, sqft_living, sqft_lot, floors, waterfront, view, condition, grade, sqft_above, sqft_basement, yr_built, yr_renovated]\n",
       "Index: []"
      ]
     },
     "execution_count": 51,
     "metadata": {},
     "output_type": "execute_result"
    }
   ],
   "source": [
    "# checking for zeros\n",
    "house.loc[house.price == 0.0]"
   ]
  },
  {
   "cell_type": "markdown",
   "metadata": {},
   "source": [
    "There are no zeros in our target variable, which is another condition that has been checked."
   ]
  },
  {
   "cell_type": "code",
   "execution_count": 54,
   "metadata": {},
   "outputs": [
    {
     "data": {
      "text/plain": [
       "450000.0    172\n",
       "350000.0    172\n",
       "550000.0    158\n",
       "500000.0    152\n",
       "425000.0    150\n",
       "325000.0    148\n",
       "400000.0    145\n",
       "375000.0    138\n",
       "300000.0    133\n",
       "525000.0    131\n",
       "Name: price, dtype: int64"
      ]
     },
     "execution_count": 54,
     "metadata": {},
     "output_type": "execute_result"
    }
   ],
   "source": [
    "# previewing our repeated values\n",
    "house.price.value_counts().head(10)"
   ]
  },
  {
   "cell_type": "markdown",
   "metadata": {},
   "source": [
    "As we can see, there are a lot of repeated values in this variable so we have not met all the requirements for quantile regression."
   ]
  },
  {
   "cell_type": "markdown",
   "metadata": {},
   "source": [
    "##### 3.2.2 How it differs from other regression models\n",
    "\n",
    "Quantile regression is better than linear regression in that it is quite robust to outliers and also works well with skewed and highly heterogeneous data."
   ]
  },
  {
   "cell_type": "markdown",
   "metadata": {},
   "source": [
    "##### 3.2.3 Application"
   ]
  },
  {
   "cell_type": "code",
   "execution_count": 55,
   "metadata": {},
   "outputs": [],
   "source": [
    "# encode the 'grade' variable\n",
    "le_ = LabelEncoder().fit(house['grade'].unique())\n",
    "class_ = le_.classes_\n",
    "house['grade'] = le_.transform(house['grade'].values)"
   ]
  },
  {
   "cell_type": "code",
   "execution_count": 56,
   "metadata": {},
   "outputs": [
    {
     "name": "stdout",
     "output_type": "stream",
     "text": [
      "(21605, 14)\n",
      "(21605,)\n"
     ]
    }
   ],
   "source": [
    "X = house.drop(columns = ['price'])\n",
    "y = house['price']\n",
    "print(X.shape)\n",
    "print(y.shape)"
   ]
  },
  {
   "cell_type": "code",
   "execution_count": 109,
   "metadata": {},
   "outputs": [
    {
     "name": "stdout",
     "output_type": "stream",
     "text": [
      "(17284, 14)\n",
      "(17284,)\n"
     ]
    }
   ],
   "source": [
    "# splitting our 'house' dataset into train and test sets\n",
    "X_train, X_test, y_train, y_test = train_test_split(X, y, test_size = 0.2, random_state = 0)\n",
    "\n",
    "print(X_train.shape)\n",
    "print(y_train.shape)"
   ]
  },
  {
   "cell_type": "code",
   "execution_count": 65,
   "metadata": {},
   "outputs": [
    {
     "name": "stdout",
     "output_type": "stream",
     "text": [
      "Mean squared error: 49543877945.06\n",
      "Variance score: 0.62\n"
     ]
    }
   ],
   "source": [
    "# creating a linear regression model \n",
    "model = LinearRegression(fit_intercept = True, normalize = False)\n",
    "model.fit(X_train, y_train)\n",
    "\n",
    "y_pred = model.predict(X_test)\n",
    "\n",
    "print(\"Mean squared error: {0:.2f}\".format(np.mean((y_pred - y_test) ** 2)))\n",
    "print(\"Variance score: {0:.2f}\".format(model.score(X_train, y_train)))"
   ]
  },
  {
   "cell_type": "markdown",
   "metadata": {},
   "source": [
    "The variance score of 0.62 means that our linear regression model did not do a good job of fitting to the data. We now do quantile regression to compare with it."
   ]
  },
  {
   "cell_type": "code",
   "execution_count": 163,
   "metadata": {},
   "outputs": [
    {
     "name": "stdout",
     "output_type": "stream",
     "text": [
      "(21605, 14)\n",
      "(21605,)\n"
     ]
    }
   ],
   "source": [
    "my_x = house.iloc[:, 0:1 - 2:].values\n",
    "my_y = house.iloc[:, 1].values\n",
    "\n",
    "print(my_x.shape)\n",
    "print(my_y.shape)"
   ]
  },
  {
   "cell_type": "code",
   "execution_count": 167,
   "metadata": {},
   "outputs": [
    {
     "data": {
      "text/plain": [
       "QuantileLinearRegression(copy_X=True, delta=0.0001, fit_intercept=True,\n",
       "                         max_iter=10, n_jobs=1, normalize=False, quantile=0.5,\n",
       "                         verbose=False)"
      ]
     },
     "execution_count": 167,
     "metadata": {},
     "output_type": "execute_result"
    }
   ],
   "source": [
    "from mlinsights.mlmodel import QuantileLinearRegression\n",
    "quantile = QuantileLinearRegression()\n",
    "quantile.fit(my_x, my_y)"
   ]
  },
  {
   "cell_type": "code",
   "execution_count": 170,
   "metadata": {},
   "outputs": [
    {
     "ename": "ValueError",
     "evalue": "arrays must all be same length",
     "output_type": "error",
     "traceback": [
      "\u001b[0;31m---------------------------------------------------------------------------\u001b[0m",
      "\u001b[0;31mValueError\u001b[0m                                Traceback (most recent call last)",
      "\u001b[0;32m<ipython-input-170-721759608d4f>\u001b[0m in \u001b[0;36m<module>\u001b[0;34m\u001b[0m\n\u001b[1;32m      1\u001b[0m \u001b[0;32mfrom\u001b[0m \u001b[0mpandas\u001b[0m \u001b[0;32mimport\u001b[0m \u001b[0mDataFrame\u001b[0m\u001b[0;34m\u001b[0m\u001b[0;34m\u001b[0m\u001b[0m\n\u001b[1;32m      2\u001b[0m \u001b[0mdata\u001b[0m \u001b[0;34m=\u001b[0m \u001b[0mdict\u001b[0m\u001b[0;34m(\u001b[0m\u001b[0mX\u001b[0m \u001b[0;34m=\u001b[0m \u001b[0mmy_x\u001b[0m\u001b[0;34m.\u001b[0m\u001b[0mravel\u001b[0m\u001b[0;34m(\u001b[0m\u001b[0;34m)\u001b[0m\u001b[0;34m,\u001b[0m \u001b[0mY\u001b[0m \u001b[0;34m=\u001b[0m \u001b[0mmy_y\u001b[0m\u001b[0;34m,\u001b[0m \u001b[0mclq\u001b[0m \u001b[0;34m=\u001b[0m \u001b[0mquantile\u001b[0m\u001b[0;34m.\u001b[0m\u001b[0mpredict\u001b[0m\u001b[0;34m(\u001b[0m\u001b[0mmy_x\u001b[0m\u001b[0;34m)\u001b[0m\u001b[0;34m)\u001b[0m\u001b[0;34m\u001b[0m\u001b[0;34m\u001b[0m\u001b[0m\n\u001b[0;32m----> 3\u001b[0;31m \u001b[0mdf\u001b[0m \u001b[0;34m=\u001b[0m \u001b[0mDataFrame\u001b[0m\u001b[0;34m(\u001b[0m\u001b[0mdata\u001b[0m\u001b[0;34m)\u001b[0m\u001b[0;34m\u001b[0m\u001b[0;34m\u001b[0m\u001b[0m\n\u001b[0m\u001b[1;32m      4\u001b[0m \u001b[0mdf\u001b[0m\u001b[0;34m.\u001b[0m\u001b[0mhead\u001b[0m\u001b[0;34m(\u001b[0m\u001b[0;34m)\u001b[0m\u001b[0;34m\u001b[0m\u001b[0;34m\u001b[0m\u001b[0m\n",
      "\u001b[0;32m~/anaconda3/lib/python3.7/site-packages/pandas/core/frame.py\u001b[0m in \u001b[0;36m__init__\u001b[0;34m(self, data, index, columns, dtype, copy)\u001b[0m\n\u001b[1;32m    390\u001b[0m                                  dtype=dtype, copy=copy)\n\u001b[1;32m    391\u001b[0m         \u001b[0;32melif\u001b[0m \u001b[0misinstance\u001b[0m\u001b[0;34m(\u001b[0m\u001b[0mdata\u001b[0m\u001b[0;34m,\u001b[0m \u001b[0mdict\u001b[0m\u001b[0;34m)\u001b[0m\u001b[0;34m:\u001b[0m\u001b[0;34m\u001b[0m\u001b[0;34m\u001b[0m\u001b[0m\n\u001b[0;32m--> 392\u001b[0;31m             \u001b[0mmgr\u001b[0m \u001b[0;34m=\u001b[0m \u001b[0minit_dict\u001b[0m\u001b[0;34m(\u001b[0m\u001b[0mdata\u001b[0m\u001b[0;34m,\u001b[0m \u001b[0mindex\u001b[0m\u001b[0;34m,\u001b[0m \u001b[0mcolumns\u001b[0m\u001b[0;34m,\u001b[0m \u001b[0mdtype\u001b[0m\u001b[0;34m=\u001b[0m\u001b[0mdtype\u001b[0m\u001b[0;34m)\u001b[0m\u001b[0;34m\u001b[0m\u001b[0;34m\u001b[0m\u001b[0m\n\u001b[0m\u001b[1;32m    393\u001b[0m         \u001b[0;32melif\u001b[0m \u001b[0misinstance\u001b[0m\u001b[0;34m(\u001b[0m\u001b[0mdata\u001b[0m\u001b[0;34m,\u001b[0m \u001b[0mma\u001b[0m\u001b[0;34m.\u001b[0m\u001b[0mMaskedArray\u001b[0m\u001b[0;34m)\u001b[0m\u001b[0;34m:\u001b[0m\u001b[0;34m\u001b[0m\u001b[0;34m\u001b[0m\u001b[0m\n\u001b[1;32m    394\u001b[0m             \u001b[0;32mimport\u001b[0m \u001b[0mnumpy\u001b[0m\u001b[0;34m.\u001b[0m\u001b[0mma\u001b[0m\u001b[0;34m.\u001b[0m\u001b[0mmrecords\u001b[0m \u001b[0;32mas\u001b[0m \u001b[0mmrecords\u001b[0m\u001b[0;34m\u001b[0m\u001b[0;34m\u001b[0m\u001b[0m\n",
      "\u001b[0;32m~/anaconda3/lib/python3.7/site-packages/pandas/core/internals/construction.py\u001b[0m in \u001b[0;36minit_dict\u001b[0;34m(data, index, columns, dtype)\u001b[0m\n\u001b[1;32m    210\u001b[0m         \u001b[0marrays\u001b[0m \u001b[0;34m=\u001b[0m \u001b[0;34m[\u001b[0m\u001b[0mdata\u001b[0m\u001b[0;34m[\u001b[0m\u001b[0mk\u001b[0m\u001b[0;34m]\u001b[0m \u001b[0;32mfor\u001b[0m \u001b[0mk\u001b[0m \u001b[0;32min\u001b[0m \u001b[0mkeys\u001b[0m\u001b[0;34m]\u001b[0m\u001b[0;34m\u001b[0m\u001b[0;34m\u001b[0m\u001b[0m\n\u001b[1;32m    211\u001b[0m \u001b[0;34m\u001b[0m\u001b[0m\n\u001b[0;32m--> 212\u001b[0;31m     \u001b[0;32mreturn\u001b[0m \u001b[0marrays_to_mgr\u001b[0m\u001b[0;34m(\u001b[0m\u001b[0marrays\u001b[0m\u001b[0;34m,\u001b[0m \u001b[0mdata_names\u001b[0m\u001b[0;34m,\u001b[0m \u001b[0mindex\u001b[0m\u001b[0;34m,\u001b[0m \u001b[0mcolumns\u001b[0m\u001b[0;34m,\u001b[0m \u001b[0mdtype\u001b[0m\u001b[0;34m=\u001b[0m\u001b[0mdtype\u001b[0m\u001b[0;34m)\u001b[0m\u001b[0;34m\u001b[0m\u001b[0;34m\u001b[0m\u001b[0m\n\u001b[0m\u001b[1;32m    213\u001b[0m \u001b[0;34m\u001b[0m\u001b[0m\n\u001b[1;32m    214\u001b[0m \u001b[0;34m\u001b[0m\u001b[0m\n",
      "\u001b[0;32m~/anaconda3/lib/python3.7/site-packages/pandas/core/internals/construction.py\u001b[0m in \u001b[0;36marrays_to_mgr\u001b[0;34m(arrays, arr_names, index, columns, dtype)\u001b[0m\n\u001b[1;32m     49\u001b[0m     \u001b[0;31m# figure out the index, if necessary\u001b[0m\u001b[0;34m\u001b[0m\u001b[0;34m\u001b[0m\u001b[0;34m\u001b[0m\u001b[0m\n\u001b[1;32m     50\u001b[0m     \u001b[0;32mif\u001b[0m \u001b[0mindex\u001b[0m \u001b[0;32mis\u001b[0m \u001b[0;32mNone\u001b[0m\u001b[0;34m:\u001b[0m\u001b[0;34m\u001b[0m\u001b[0;34m\u001b[0m\u001b[0m\n\u001b[0;32m---> 51\u001b[0;31m         \u001b[0mindex\u001b[0m \u001b[0;34m=\u001b[0m \u001b[0mextract_index\u001b[0m\u001b[0;34m(\u001b[0m\u001b[0marrays\u001b[0m\u001b[0;34m)\u001b[0m\u001b[0;34m\u001b[0m\u001b[0;34m\u001b[0m\u001b[0m\n\u001b[0m\u001b[1;32m     52\u001b[0m     \u001b[0;32melse\u001b[0m\u001b[0;34m:\u001b[0m\u001b[0;34m\u001b[0m\u001b[0;34m\u001b[0m\u001b[0m\n\u001b[1;32m     53\u001b[0m         \u001b[0mindex\u001b[0m \u001b[0;34m=\u001b[0m \u001b[0mensure_index\u001b[0m\u001b[0;34m(\u001b[0m\u001b[0mindex\u001b[0m\u001b[0;34m)\u001b[0m\u001b[0;34m\u001b[0m\u001b[0;34m\u001b[0m\u001b[0m\n",
      "\u001b[0;32m~/anaconda3/lib/python3.7/site-packages/pandas/core/internals/construction.py\u001b[0m in \u001b[0;36mextract_index\u001b[0;34m(data)\u001b[0m\n\u001b[1;32m    315\u001b[0m             \u001b[0mlengths\u001b[0m \u001b[0;34m=\u001b[0m \u001b[0mlist\u001b[0m\u001b[0;34m(\u001b[0m\u001b[0mset\u001b[0m\u001b[0;34m(\u001b[0m\u001b[0mraw_lengths\u001b[0m\u001b[0;34m)\u001b[0m\u001b[0;34m)\u001b[0m\u001b[0;34m\u001b[0m\u001b[0;34m\u001b[0m\u001b[0m\n\u001b[1;32m    316\u001b[0m             \u001b[0;32mif\u001b[0m \u001b[0mlen\u001b[0m\u001b[0;34m(\u001b[0m\u001b[0mlengths\u001b[0m\u001b[0;34m)\u001b[0m \u001b[0;34m>\u001b[0m \u001b[0;36m1\u001b[0m\u001b[0;34m:\u001b[0m\u001b[0;34m\u001b[0m\u001b[0;34m\u001b[0m\u001b[0m\n\u001b[0;32m--> 317\u001b[0;31m                 \u001b[0;32mraise\u001b[0m \u001b[0mValueError\u001b[0m\u001b[0;34m(\u001b[0m\u001b[0;34m'arrays must all be same length'\u001b[0m\u001b[0;34m)\u001b[0m\u001b[0;34m\u001b[0m\u001b[0;34m\u001b[0m\u001b[0m\n\u001b[0m\u001b[1;32m    318\u001b[0m \u001b[0;34m\u001b[0m\u001b[0m\n\u001b[1;32m    319\u001b[0m             \u001b[0;32mif\u001b[0m \u001b[0mhave_dicts\u001b[0m\u001b[0;34m:\u001b[0m\u001b[0;34m\u001b[0m\u001b[0;34m\u001b[0m\u001b[0m\n",
      "\u001b[0;31mValueError\u001b[0m: arrays must all be same length"
     ]
    }
   ],
   "source": [
    "from pandas import DataFrame\n",
    "data = dict(X = my_x.ravel(), Y = my_y, clq = quantile.predict(my_x))\n",
    "df = DataFrame(data)\n",
    "df.head()"
   ]
  },
  {
   "cell_type": "code",
   "execution_count": 166,
   "metadata": {},
   "outputs": [
    {
     "ename": "ValueError",
     "evalue": "operands could not be broadcast together with shapes (15,) (14,) ",
     "output_type": "error",
     "traceback": [
      "\u001b[0;31m---------------------------------------------------------------------------\u001b[0m",
      "\u001b[0;31mValueError\u001b[0m                                Traceback (most recent call last)",
      "\u001b[0;32m<ipython-input-166-f46e4a5fe2bd>\u001b[0m in \u001b[0;36m<module>\u001b[0;34m\u001b[0m\n\u001b[1;32m      6\u001b[0m \u001b[0;34m\u001b[0m\u001b[0m\n\u001b[1;32m      7\u001b[0m \u001b[0mquantile_25\u001b[0m \u001b[0;34m=\u001b[0m \u001b[0msmf\u001b[0m\u001b[0;34m.\u001b[0m\u001b[0mquantreg\u001b[0m\u001b[0;34m(\u001b[0m\u001b[0;34m'my_y ~ my_x'\u001b[0m\u001b[0;34m,\u001b[0m \u001b[0mhouse\u001b[0m\u001b[0;34m)\u001b[0m\u001b[0;34m\u001b[0m\u001b[0;34m\u001b[0m\u001b[0m\n\u001b[0;32m----> 8\u001b[0;31m \u001b[0mres_25\u001b[0m \u001b[0;34m=\u001b[0m \u001b[0mquantile_model\u001b[0m\u001b[0;34m.\u001b[0m\u001b[0mfit\u001b[0m\u001b[0;34m(\u001b[0m\u001b[0mquartile\u001b[0m\u001b[0;34m)\u001b[0m\u001b[0;34m\u001b[0m\u001b[0;34m\u001b[0m\u001b[0m\n\u001b[0m\u001b[1;32m      9\u001b[0m \u001b[0;34m\u001b[0m\u001b[0m\n\u001b[1;32m     10\u001b[0m \u001b[0mprint\u001b[0m\u001b[0;34m(\u001b[0m\u001b[0mres\u001b[0m\u001b[0;34m.\u001b[0m\u001b[0msummary\u001b[0m\u001b[0;34m(\u001b[0m\u001b[0;34m)\u001b[0m\u001b[0;34m)\u001b[0m\u001b[0;34m\u001b[0m\u001b[0;34m\u001b[0m\u001b[0m\n",
      "\u001b[0;32m~/anaconda3/lib/python3.7/site-packages/statsmodels/regression/quantile_regression.py\u001b[0m in \u001b[0;36mfit\u001b[0;34m(self, q, vcov, kernel, bandwidth, max_iter, p_tol, **kwargs)\u001b[0m\n\u001b[1;32m    177\u001b[0m             \u001b[0mresid\u001b[0m \u001b[0;34m=\u001b[0m \u001b[0mnp\u001b[0m\u001b[0;34m.\u001b[0m\u001b[0mabs\u001b[0m\u001b[0;34m(\u001b[0m\u001b[0mresid\u001b[0m\u001b[0;34m)\u001b[0m\u001b[0;34m\u001b[0m\u001b[0;34m\u001b[0m\u001b[0m\n\u001b[1;32m    178\u001b[0m             \u001b[0mxstar\u001b[0m \u001b[0;34m=\u001b[0m \u001b[0mexog\u001b[0m \u001b[0;34m/\u001b[0m \u001b[0mresid\u001b[0m\u001b[0;34m[\u001b[0m\u001b[0;34m:\u001b[0m\u001b[0;34m,\u001b[0m \u001b[0mnp\u001b[0m\u001b[0;34m.\u001b[0m\u001b[0mnewaxis\u001b[0m\u001b[0;34m]\u001b[0m\u001b[0;34m\u001b[0m\u001b[0;34m\u001b[0m\u001b[0m\n\u001b[0;32m--> 179\u001b[0;31m             \u001b[0mdiff\u001b[0m \u001b[0;34m=\u001b[0m \u001b[0mnp\u001b[0m\u001b[0;34m.\u001b[0m\u001b[0mmax\u001b[0m\u001b[0;34m(\u001b[0m\u001b[0mnp\u001b[0m\u001b[0;34m.\u001b[0m\u001b[0mabs\u001b[0m\u001b[0;34m(\u001b[0m\u001b[0mbeta\u001b[0m \u001b[0;34m-\u001b[0m \u001b[0mbeta0\u001b[0m\u001b[0;34m)\u001b[0m\u001b[0;34m)\u001b[0m\u001b[0;34m\u001b[0m\u001b[0;34m\u001b[0m\u001b[0m\n\u001b[0m\u001b[1;32m    180\u001b[0m             \u001b[0mhistory\u001b[0m\u001b[0;34m[\u001b[0m\u001b[0;34m'params'\u001b[0m\u001b[0;34m]\u001b[0m\u001b[0;34m.\u001b[0m\u001b[0mappend\u001b[0m\u001b[0;34m(\u001b[0m\u001b[0mbeta\u001b[0m\u001b[0;34m)\u001b[0m\u001b[0;34m\u001b[0m\u001b[0;34m\u001b[0m\u001b[0m\n\u001b[1;32m    181\u001b[0m             \u001b[0mhistory\u001b[0m\u001b[0;34m[\u001b[0m\u001b[0;34m'mse'\u001b[0m\u001b[0;34m]\u001b[0m\u001b[0;34m.\u001b[0m\u001b[0mappend\u001b[0m\u001b[0;34m(\u001b[0m\u001b[0mnp\u001b[0m\u001b[0;34m.\u001b[0m\u001b[0mmean\u001b[0m\u001b[0;34m(\u001b[0m\u001b[0mresid\u001b[0m\u001b[0;34m*\u001b[0m\u001b[0mresid\u001b[0m\u001b[0;34m)\u001b[0m\u001b[0;34m)\u001b[0m\u001b[0;34m\u001b[0m\u001b[0;34m\u001b[0m\u001b[0m\n",
      "\u001b[0;31mValueError\u001b[0m: operands could not be broadcast together with shapes (15,) (14,) "
     ]
    }
   ],
   "source": [
    "# importing the necessary library\n",
    "import statsmodels.formula.api as smf\n",
    "\n",
    "# finding the regression coefficients for each of our quartiles\n",
    "quartile = 0.25\n",
    "\n",
    "quantile_25 = smf.quantreg('my_y ~ my_x', house)\n",
    "res_25 = quantile_model.fit(quartile)\n",
    "\n",
    "print(res.summary())"
   ]
  },
  {
   "cell_type": "markdown",
   "metadata": {},
   "source": [
    "##### 3.2.4 Limitations\n",
    "The use of this model isn’t justifiable if the coefficients for a particular quantile doesn’t differ significantly from those obtained via linear regression"
   ]
  },
  {
   "cell_type": "markdown",
   "metadata": {},
   "source": [
    "### 3.3 Ridge Regression"
   ]
  },
  {
   "cell_type": "markdown",
   "metadata": {},
   "source": [
    "##### 3.3.1 Know when to use this\n",
    "\n",
    "Ridge regression relies on the following:\n",
    "    * Linearity\n",
    "    * Constant variance (no outliers)\n",
    "    * Independence of observations\n",
    "    * Normality doesn’t need to be assumed"
   ]
  },
  {
   "cell_type": "markdown",
   "metadata": {},
   "source": [
    "##### 3.3.2 How it differs from other regression models\n",
    "Ridge Regression is an advantage over linear or polynomial regression because it can work with data that has high collinearity.\n",
    "\n",
    "Ridge regression also uses penalization which imposes restrictions on the regression coefficients in order to get a much more realistic result which is also easier to interpret.\n",
    "\n",
    "Lastly, while ridge and lasso both use penalization to optimize the model's predictions, ridge uses L1 penalization (alpha) while lasso uses L2 penalization (lambda). Ridge reduces the regression model's coefficients such that they are closer to 0 than they originally were whereass lasso actually shrinks them to 0 where possible."
   ]
  },
  {
   "cell_type": "markdown",
   "metadata": {},
   "source": [
    "##### 3.3.3 Application"
   ]
  },
  {
   "cell_type": "code",
   "execution_count": 75,
   "metadata": {},
   "outputs": [
    {
     "name": "stdout",
     "output_type": "stream",
     "text": [
      "Linear Model MSE: 51428080664.7152\n"
     ]
    }
   ],
   "source": [
    "# we will use a linear regression as our baseline model\n",
    "reg = LinearRegression()\n",
    "reg.fit(X, y)\n",
    "linear_model = (mean_squared_error(y_true = y, y_pred = reg.predict(X)))\n",
    "print(\"Linear Model MSE:\", round(linear_model, 4))"
   ]
  },
  {
   "cell_type": "code",
   "execution_count": 76,
   "metadata": {},
   "outputs": [],
   "source": [
    "# in order to create our ridge model we need to first determine the most appropriate \n",
    "# value for the L2 regularization \n",
    "\n",
    "#we first create our ridge model and indicate normalization in order\n",
    "# to get better estimates\n",
    "from sklearn.linear_model import Ridge\n",
    "ridge = Ridge(normalize = True)"
   ]
  },
  {
   "cell_type": "code",
   "execution_count": 77,
   "metadata": {},
   "outputs": [],
   "source": [
    "# next we setup the grid search that we will that will take in several arguments\n",
    "from sklearn.model_selection import GridSearchCV\n",
    "grid_search = GridSearchCV(estimator = ridge, param_grid = {'alpha' : np.logspace(-5, 2, 8)},\n",
    "                      scoring = 'neg_mean_squared_error', n_jobs = 1, refit = True, cv = 10)"
   ]
  },
  {
   "cell_type": "code",
   "execution_count": 78,
   "metadata": {},
   "outputs": [
    {
     "name": "stdout",
     "output_type": "stream",
     "text": [
      "Ridge: Ridge(alpha=1.0, copy_X=True, fit_intercept=True, max_iter=None, normalize=True,\n",
      "      random_state=None, solver='auto', tol=0.001)\n",
      "Search: GridSearchCV(cv=10, error_score=nan,\n",
      "             estimator=Ridge(alpha=1.0, copy_X=True, fit_intercept=True,\n",
      "                             max_iter=None, normalize=True, random_state=None,\n",
      "                             solver='auto', tol=0.001),\n",
      "             iid='deprecated', n_jobs=1,\n",
      "             param_grid={'alpha': array([1.e-05, 1.e-04, 1.e-03, 1.e-02, 1.e-01, 1.e+00, 1.e+01, 1.e+02])},\n",
      "             pre_dispatch='2*n_jobs', refit=True, return_train_score=False,\n",
      "             scoring='neg_mean_squared_error', verbose=0)\n"
     ]
    }
   ],
   "source": [
    "print(\"Ridge:\", ridge)\n",
    "print(\"Search:\", grid_search)"
   ]
  },
  {
   "cell_type": "code",
   "execution_count": 79,
   "metadata": {},
   "outputs": [
    {
     "name": "stdout",
     "output_type": "stream",
     "text": [
      "Best Params: {'alpha': 0.01}\n",
      "Best Score: 56264348690.8337\n"
     ]
    }
   ],
   "source": [
    "# we will fit our variables to the grid search and then use it to get the best parameters and the\n",
    "# best score that will allow us to determine the model's strength\n",
    "grid_search.fit(X, y)\n",
    "\n",
    "print(\"Best Params:\", grid_search.best_params_)\n",
    "print(\"Best Score:\", abs(grid_search.best_score_))"
   ]
  },
  {
   "cell_type": "markdown",
   "metadata": {},
   "source": [
    "Our baseline model's MSE was 51428080664.7152, the ridge regression model's MSE is 56264348690.8337. Clearly our ridge model is performing worse than our baseline model. \n",
    "\n",
    "We now will try ridge again but this time with the best parameter of 0.01."
   ]
  },
  {
   "cell_type": "code",
   "execution_count": 80,
   "metadata": {},
   "outputs": [
    {
     "name": "stdout",
     "output_type": "stream",
     "text": [
      "51434579705.95447\n"
     ]
    }
   ],
   "source": [
    "ridge = Ridge(normalize = True, alpha = 0.01)\n",
    "ridge.fit(X, y)\n",
    "ridge_MSE = (mean_squared_error(y_true = y, y_pred = ridge.predict(X)))\n",
    "print(ridge_MSE)"
   ]
  },
  {
   "cell_type": "markdown",
   "metadata": {},
   "source": [
    "This is a lower score than the one gotten using the grid search, but it's still slightly larger than that of our baseline model. The reason for the large difference in the MSE was because cross validation had not been carried out"
   ]
  },
  {
   "cell_type": "markdown",
   "metadata": {},
   "source": [
    "##### 3.3.4 Limitations\n",
    "Ridge regression has the following limitations:\n",
    "    * It will include all the predictors in the final model instead of eliminating the irrelevant coefficients\n",
    "    * Doesn’t perform feature selection\n",
    "    * Unlike lasso regression, it doesn’t shrink the coefficients completely to 0"
   ]
  },
  {
   "cell_type": "markdown",
   "metadata": {},
   "source": [
    "### 3.4 Lasso Regression"
   ]
  },
  {
   "cell_type": "markdown",
   "metadata": {},
   "source": [
    "##### 3.4.1 Know when to use this\n",
    "\n",
    "Lasso regressio is typically used under the following circumstances:\n",
    "    * the target variable is normally distributed\n",
    "    * there is a linear relationship between the independent variable and the dependent variable\n",
    "    * normality is not assumed"
   ]
  },
  {
   "cell_type": "markdown",
   "metadata": {},
   "source": [
    "##### 3.4.2 How it differs from other regression models\n",
    "Lasso differs from ridge regression in that it shrinks its regression coefficients to absolute zero where necessary while ridge comes close to zero but is never zero."
   ]
  },
  {
   "cell_type": "markdown",
   "metadata": {},
   "source": [
    "##### 3.4.3 Application"
   ]
  },
  {
   "cell_type": "code",
   "execution_count": 81,
   "metadata": {},
   "outputs": [],
   "source": [
    "# first we standardize our data using a scaler\n",
    "from sklearn.preprocessing import StandardScaler\n",
    "scaler = StandardScaler()\n",
    "\n",
    "X = house.drop(columns = ['price'])\n",
    "y = house['price']\n",
    "\n",
    "X_scaled = scaler.fit_transform(X)"
   ]
  },
  {
   "cell_type": "code",
   "execution_count": 85,
   "metadata": {},
   "outputs": [
    {
     "name": "stdout",
     "output_type": "stream",
     "text": [
      "lasso score: 0.6190313514122774\n",
      "lasso MSE: 51428080827.93754\n",
      "lasso coef: [ 6.30990364e+00 -5.18377764e+04  5.86695243e+04  3.10439807e+02\n",
      " -3.04851911e-01  2.45748611e+04  5.59285618e+05  5.54125971e+04\n",
      "  1.82494643e+04 -1.02492017e+05 -6.19009903e+01 -9.78722056e+01\n",
      " -3.37798271e+03  5.58766824e+00]\n"
     ]
    }
   ],
   "source": [
    "# next we create our Lasso model\n",
    "from sklearn.linear_model import Lasso\n",
    "\n",
    "lasso = Lasso(tol = 0.0001)\n",
    "lasso_model = lasso.fit(X, y)\n",
    "\n",
    "print(\"lasso score:\", lasso.score(X, y)) \n",
    "print(\"lasso MSE:\", mean_squared_error(y, lasso.predict(X))) \n",
    "print(\"lasso coef:\", lasso.coef_) "
   ]
  },
  {
   "cell_type": "code",
   "execution_count": 86,
   "metadata": {},
   "outputs": [
    {
     "name": "stdout",
     "output_type": "stream",
     "text": [
      "lasso best parameters: {'alpha': 0.1}\n",
      "-------------------------------------------------\n",
      "lasso score: 0.6120425733453059\n",
      "linear score: 0.6120423629485992\n",
      "-------------------------------------------------\n",
      "lasso MSE: 53914049104.99209\n",
      "linear MSE: 53914078343.60849\n",
      "-------------------------------------------------\n",
      "lasso best estimator coef: [-1.29020458e+01 -5.07204808e+04  6.07387146e+04  3.08303463e+02\n",
      " -2.95442079e-01  2.37090011e+04  6.01692475e+05  5.33774433e+04\n",
      "  1.67108574e+04 -1.02390760e+05 -6.23972266e+01 -9.62710406e+01\n",
      " -3.37320817e+03  3.85233759e+00]\n",
      "linear coef: [-1.29030483e+01 -5.07206162e+04  6.07390684e+04  1.52646048e+02\n",
      " -2.95441456e-01  2.37094594e+04  6.01706952e+05  5.33768676e+04\n",
      "  1.67111291e+04 -1.02391119e+05  9.32597982e+01  5.93862497e+01\n",
      " -3.37321521e+03  3.85205632e+00]\n"
     ]
    }
   ],
   "source": [
    "# splitting the data into training and test sets, building Lasso, and choosing the regularization \n",
    "# parameter with the help of GridSearch\n",
    "from sklearn.model_selection import GridSearchCV\n",
    "import warnings\n",
    "warnings.filterwarnings(\"ignore\")\n",
    "\n",
    "X_train, X_test, y_train, y_test = train_test_split(X, y, test_size = 0.25, random_state = 101)\n",
    "parameters = {'alpha': np.concatenate((np.arange(0.1,2,0.1), np.arange(2, 5, 0.5), np.arange(5, 25, 1)))}\n",
    "\n",
    "\n",
    "linear = LinearRegression()\n",
    "lasso = Lasso() \n",
    "gridlasso = GridSearchCV(lasso, parameters, scoring ='r2') \n",
    "\n",
    "# fitting models and print the best parameters, R-squared scores, MSE, and coefficients\n",
    "gridlasso.fit(X_train, y_train) \n",
    "linear.fit(X_train, y_train) \n",
    "print(\"lasso best parameters:\", gridlasso.best_params_) \n",
    "print(\"-------------------------------------------------\")\n",
    "\n",
    "print(\"lasso score:\", gridlasso.score(X_test, y_test))\n",
    "print(\"linear score:\", linear.score(X_test, y_test)) \n",
    "print(\"-------------------------------------------------\")\n",
    "\n",
    "print(\"lasso MSE:\", mean_squared_error(y_test, gridlasso.predict(X_test)))\n",
    "print(\"linear MSE:\", mean_squared_error(y_test, linear.predict(X_test))) \n",
    "print(\"-------------------------------------------------\")\n",
    "\n",
    "print(\"lasso best estimator coef:\", gridlasso.best_estimator_.coef_)\n",
    "print(\"linear coef:\", linear.coef_)"
   ]
  },
  {
   "cell_type": "markdown",
   "metadata": {},
   "source": [
    "From this algorithm, we now know that the best hyperparameter value to use for alpha is 0.1. We also see that there are not much differences between the lasso model and the linear model."
   ]
  },
  {
   "cell_type": "code",
   "execution_count": 87,
   "metadata": {},
   "outputs": [],
   "source": [
    "# list to store lasso regression coefficients\n",
    "lasso_coeffs = [] "
   ]
  },
  {
   "cell_type": "code",
   "execution_count": 88,
   "metadata": {},
   "outputs": [],
   "source": [
    "# building Lasso for 200 values of alpha and storing the resulting coefficients in our list\n",
    "lasso_alphas = np.arange(0, 20, 0.1) \n",
    "for i in range(200):\n",
    "    lasso = Lasso(alpha = lasso_alphas[i])\n",
    "    lasso.fit(X_train, y_train)\n",
    "    lasso_coeffs.append(lasso.coef_) "
   ]
  },
  {
   "cell_type": "code",
   "execution_count": 89,
   "metadata": {},
   "outputs": [
    {
     "name": "stdout",
     "output_type": "stream",
     "text": [
      "Alpha size: (200,)\n",
      "Coeffs size: 200\n"
     ]
    }
   ],
   "source": [
    "print(\"Alpha size:\", lasso_alphas.shape)\n",
    "print(\"Coeffs size:\", len(lasso_coeffs))"
   ]
  },
  {
   "cell_type": "code",
   "execution_count": 90,
   "metadata": {},
   "outputs": [
    {
     "data": {
      "image/png": "[encoded data removed]",
      "text/plain": [
       "<Figure size 1080x720 with 1 Axes>"
      ]
     },
     "metadata": {},
     "output_type": "display_data"
    }
   ],
   "source": [
    "# visualizing the Lasso coefficient plots \n",
    "plt.figure(figsize = (15,10))\n",
    "plt.plot(lasso_alphas, lasso_coeffs)\n",
    "plt.title('Lasso coefficients')\n",
    "plt.xlabel('alphas')\n",
    "plt.ylabel('coeffs')\n",
    "\n",
    "plt.show()"
   ]
  },
  {
   "cell_type": "markdown",
   "metadata": {},
   "source": [
    "##### 3.4.4 Limitations"
   ]
  },
  {
   "cell_type": "markdown",
   "metadata": {},
   "source": [
    "### 3.5 Elastic Net Regression"
   ]
  },
  {
   "cell_type": "markdown",
   "metadata": {},
   "source": [
    "##### 3.5.1 Know when to use this"
   ]
  },
  {
   "cell_type": "markdown",
   "metadata": {},
   "source": [
    "##### 3.5.2 How it differs from other regression models"
   ]
  },
  {
   "cell_type": "markdown",
   "metadata": {},
   "source": [
    "##### 3.5.3 Application"
   ]
  },
  {
   "cell_type": "code",
   "execution_count": 91,
   "metadata": {},
   "outputs": [
    {
     "data": {
      "text/plain": [
       "51428080664.71518"
      ]
     },
     "execution_count": 91,
     "metadata": {},
     "output_type": "execute_result"
    }
   ],
   "source": [
    "# getting the MSE of the linear model which will be our baseline model\n",
    "linear_model"
   ]
  },
  {
   "cell_type": "code",
   "execution_count": 96,
   "metadata": {},
   "outputs": [
    {
     "data": {
      "text/plain": [
       "{'zipcode': 6.301227427061683,\n",
       " 'bedrooms': -51838.99557066051,\n",
       " 'bathrooms': 58673.00886205764,\n",
       " 'sqft_living': 153.70032625457057,\n",
       " 'sqft_lot': -0.3048428641957249,\n",
       " 'floors': 24579.576801881645,\n",
       " 'waterfront': 559438.6372650162,\n",
       " 'view': 55407.01781894226,\n",
       " 'condition': 18252.184940327934,\n",
       " 'grade': -102495.60567497791,\n",
       " 'sqft_above': 94.83445048216062,\n",
       " 'sqft_basement': 58.865875801411015,\n",
       " 'yr_built': -3378.0512412605085,\n",
       " 'yr_renovated': 5.584871301524972}"
      ]
     },
     "execution_count": 96,
     "metadata": {},
     "output_type": "execute_result"
    }
   ],
   "source": [
    "# checking our baseline model's coefficients\n",
    "coef_dict_baseline = {}\n",
    "for coef, feat in zip(reg.coef_, X_train.columns):\n",
    "    coef_dict_baseline[feat] = coef\n",
    "coef_dict_baseline"
   ]
  },
  {
   "cell_type": "code",
   "execution_count": 93,
   "metadata": {},
   "outputs": [],
   "source": [
    "# creating our Elastic Net model now\n",
    "# like lasso and ridge, it requires normalized data\n",
    "from sklearn.linear_model import ElasticNet\n",
    "elastic = ElasticNet(normalize = True)"
   ]
  },
  {
   "cell_type": "code",
   "execution_count": 94,
   "metadata": {},
   "outputs": [],
   "source": [
    "# we will also use a grid search\n",
    "grid_search = GridSearchCV(estimator = elastic, param_grid = {'alpha' : np.logspace(-5, 2, 8),\n",
    "                                                         'l1_ratio':[.2, .4, .6, .8]}, \n",
    "                      scoring = 'neg_mean_squared_error', n_jobs = 1, refit = True, cv = 10)"
   ]
  },
  {
   "cell_type": "code",
   "execution_count": 97,
   "metadata": {},
   "outputs": [
    {
     "name": "stdout",
     "output_type": "stream",
     "text": [
      "Best Parameter: {'alpha': 1e-05, 'l1_ratio': 0.8}\n",
      "Best score: 50959609408.33042\n"
     ]
    }
   ],
   "source": [
    "# displaying the best parameters and best score of our model\n",
    "grid_search.fit(X_train, y_train)\n",
    "print(\"Best Parameter:\", grid_search.best_params_)\n",
    "print(\"Best score:\", abs(grid_search.best_score_))"
   ]
  },
  {
   "cell_type": "markdown",
   "metadata": {},
   "source": [
    "From the above calculations, we see that we should use an alpha value of 1e-05 and a l1 ratio value of 0.8. We also got a score of roughly 50,959,609,408 which is smaller than our baseline model's score of about 51,428,080,664. We will now try Elastic Net regression again but this time we will adjust the parameters to the recommended values and see if there will be any improvements."
   ]
  },
  {
   "cell_type": "code",
   "execution_count": 98,
   "metadata": {},
   "outputs": [
    {
     "name": "stdout",
     "output_type": "stream",
     "text": [
      "50682586320.096756\n"
     ]
    }
   ],
   "source": [
    "elastic = ElasticNet(normalize = True, alpha = 1e-05, l1_ratio = 0.8)\n",
    "elastic.fit(X_train, y_train)\n",
    "second_elastic = (mean_squared_error(y_true = y_train, y_pred = elastic.predict(X_train)))\n",
    "print(second_elastic)"
   ]
  },
  {
   "cell_type": "markdown",
   "metadata": {},
   "source": [
    "We can see that our model's score has improved only slightly."
   ]
  },
  {
   "cell_type": "code",
   "execution_count": 99,
   "metadata": {},
   "outputs": [
    {
     "data": {
      "text/plain": [
       "{'zipcode': 10.960210201369051,\n",
       " 'bedrooms': -45019.3333935582,\n",
       " 'bathrooms': 59812.79429344755,\n",
       " 'sqft_living': 118.31578068343815,\n",
       " 'sqft_lot': -0.2617722814752927,\n",
       " 'floors': 21917.812381780062,\n",
       " 'waterfront': 586341.2487453059,\n",
       " 'view': 54875.67277066793,\n",
       " 'condition': 18349.99597653353,\n",
       " 'grade': -99364.8448045319,\n",
       " 'sqft_above': 119.44607995506193,\n",
       " 'sqft_basement': 87.81353975861211,\n",
       " 'yr_built': -3110.981140215498,\n",
       " 'yr_renovated': 8.606793676900903}"
      ]
     },
     "execution_count": 99,
     "metadata": {},
     "output_type": "execute_result"
    }
   ],
   "source": [
    "# checking our coefficients\n",
    "coef_dict_baseline = {}\n",
    "for coef, feat in zip(elastic.coef_, X_train.columns):\n",
    "    coef_dict_baseline[feat] = coef\n",
    "coef_dict_baseline"
   ]
  },
  {
   "cell_type": "markdown",
   "metadata": {},
   "source": [
    "##### 3.5.4 Limitations"
   ]
  },
  {
   "cell_type": "markdown",
   "metadata": {},
   "source": [
    "A limitation of Elastic net regression is that it can suffer from double shrinkage, which leads to increased bias and poor predictions. "
   ]
  }
 ],
 "metadata": {
  "kernelspec": {
   "display_name": "Python 3",
   "language": "python",
   "name": "python3"
  },
  "language_info": {
   "codemirror_mode": {
    "name": "ipython",
    "version": 3
   },
   "file_extension": ".py",
   "mimetype": "text/x-python",
   "name": "python",
   "nbconvert_exporter": "python",
   "pygments_lexer": "ipython3",
   "version": "3.7.3"
  }
 },
 "nbformat": 4,
 "nbformat_minor": 2
}
