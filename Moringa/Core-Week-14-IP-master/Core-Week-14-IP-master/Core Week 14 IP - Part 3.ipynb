{
 "cells": [
  {
   "cell_type": "markdown",
   "metadata": {},
   "source": [
    "# Part 3: Association Rules\n",
    "This section will require that you create association rules that will allow you to identify relationships between variables in the dataset. You are provided with a separate dataset that comprises groups of items that will be associated with others. Just like in the other sections, you will also be required to provide insights for your analysis."
   ]
  },
  {
   "cell_type": "code",
   "execution_count": 11,
   "metadata": {},
   "outputs": [],
   "source": [
    "# loading the arules library\n",
    "library(arules)"
   ]
  },
  {
   "cell_type": "code",
   "execution_count": 20,
   "metadata": {},
   "outputs": [
    {
     "data": {
      "text/plain": [
       "transactions in sparse format with\n",
       " 6 transactions (rows) and\n",
       " 114 items (columns)"
      ]
     },
     "metadata": {},
     "output_type": "display_data"
    }
   ],
   "source": [
    "# loading & previewing data set\n",
    "trans <- read.transactions(\"~/Downloads/Week 14/Supermarket 3.csv\", format = \"single\", header = FALSE,\n",
    "                          sep = \",\", cols = c(2, 1))\n",
    "head(trans)"
   ]
  },
  {
   "cell_type": "markdown",
   "metadata": {},
   "source": [
    "This output tells us that we have 6 transactins (rows) and 114 items (columns)."
   ]
  },
  {
   "cell_type": "code",
   "execution_count": 21,
   "metadata": {},
   "outputs": [
    {
     "data": {
      "text/html": [
       "'transactions'"
      ],
      "text/latex": [
       "'transactions'"
      ],
      "text/markdown": [
       "'transactions'"
      ],
      "text/plain": [
       "[1] \"transactions\"\n",
       "attr(,\"package\")\n",
       "[1] \"arules\""
      ]
     },
     "metadata": {},
     "output_type": "display_data"
    }
   ],
   "source": [
    "# verify object's class\n",
    "class(trans)"
   ]
  },
  {
   "cell_type": "code",
   "execution_count": 22,
   "metadata": {},
   "outputs": [
    {
     "name": "stdout",
     "output_type": "stream",
     "text": [
      "    items                     transactionID\n",
      "[1] {avocado,                              \n",
      "     burgers,                              \n",
      "     chocolate,                            \n",
      "     french fries,                         \n",
      "     fresh tuna,                           \n",
      "     frozen vegetables,                    \n",
      "     ground beef,                          \n",
      "     meatballs,                            \n",
      "     milk,                                 \n",
      "     mineral water,                        \n",
      "     olive oil,                            \n",
      "     shrimp,                               \n",
      "     spaghetti,                            \n",
      "     tomatoes}            almonds          \n",
      "[2] {antioxydant juice,                    \n",
      "     cereals,                              \n",
      "     clothes accessories,                  \n",
      "     cookies,                              \n",
      "     escalope,                             \n",
      "     grated cheese,                        \n",
      "     mineral water,                        \n",
      "     pickles,                              \n",
      "     spaghetti,                            \n",
      "     vegetables mix,                       \n",
      "     whole wheat pasta}   antioxydant juice\n",
      "[3] {chocolate,                            \n",
      "     low fat yogurt,                       \n",
      "     milk}                asparagus        \n",
      "[4] {burgers,                              \n",
      "     candy bars,                           \n",
      "     champagne,                            \n",
      "     chocolate,                            \n",
      "     dessert wine,                         \n",
      "     eggs,                                 \n",
      "     escalope,                             \n",
      "     fresh tuna,                           \n",
      "     frozen vegetables,                    \n",
      "     grated cheese,                        \n",
      "     ground beef,                          \n",
      "     ham,                                  \n",
      "     herb & pepper,                        \n",
      "     hot dogs,                             \n",
      "     mineral water,                        \n",
      "     parmesan cheese,                      \n",
      "     pickles,                              \n",
      "     red wine,                             \n",
      "     salmon,                               \n",
      "     shrimp,                               \n",
      "     soup,                                 \n",
      "     spaghetti,                            \n",
      "     tomatoes,                             \n",
      "     turkey,                               \n",
      "     whole wheat pasta,                    \n",
      "     yams}                avocado          \n",
      "[5] {chocolate,                            \n",
      "     cookies,                              \n",
      "     shampoo,                              \n",
      "     shrimp}              babies food      \n"
     ]
    }
   ],
   "source": [
    "# inspecting the first 3 transactions\n",
    "inspect(trans[1:3])"
   ]
  },
  {
   "cell_type": "code",
   "execution_count": 23,
   "metadata": {},
   "outputs": [
    {
     "data": {
      "text/html": [
       "<table>\n",
       "<thead><tr><th scope=col>Item</th></tr></thead>\n",
       "<tbody>\n",
       "\t<tr><td>almonds          </td></tr>\n",
       "\t<tr><td>antioxydant juice</td></tr>\n",
       "\t<tr><td>asparagus        </td></tr>\n",
       "\t<tr><td>avocado          </td></tr>\n",
       "\t<tr><td>babies food      </td></tr>\n",
       "\t<tr><td>bacon            </td></tr>\n",
       "\t<tr><td>barbecue sauce   </td></tr>\n",
       "\t<tr><td>black tea        </td></tr>\n",
       "\t<tr><td>blueberries      </td></tr>\n",
       "\t<tr><td>body spray       </td></tr>\n",
       "</tbody>\n",
       "</table>\n"
      ],
      "text/latex": [
       "\\begin{tabular}{r|l}\n",
       " Item\\\\\n",
       "\\hline\n",
       "\t almonds          \\\\\n",
       "\t antioxydant juice\\\\\n",
       "\t asparagus        \\\\\n",
       "\t avocado          \\\\\n",
       "\t babies food      \\\\\n",
       "\t bacon            \\\\\n",
       "\t barbecue sauce   \\\\\n",
       "\t black tea        \\\\\n",
       "\t blueberries      \\\\\n",
       "\t body spray       \\\\\n",
       "\\end{tabular}\n"
      ],
      "text/markdown": [
       "\n",
       "| Item |\n",
       "|---|\n",
       "| almonds           |\n",
       "| antioxydant juice |\n",
       "| asparagus         |\n",
       "| avocado           |\n",
       "| babies food       |\n",
       "| bacon             |\n",
       "| barbecue sauce    |\n",
       "| black tea         |\n",
       "| blueberries       |\n",
       "| body spray        |\n",
       "\n"
      ],
      "text/plain": [
       "   Item             \n",
       "1  almonds          \n",
       "2  antioxydant juice\n",
       "3  asparagus        \n",
       "4  avocado          \n",
       "5  babies food      \n",
       "6  bacon            \n",
       "7  barbecue sauce   \n",
       "8  black tea        \n",
       "9  blueberries      \n",
       "10 body spray       "
      ]
     },
     "metadata": {},
     "output_type": "display_data"
    }
   ],
   "source": [
    "# creating a data frame comprising of the individual items in the data set\n",
    "items <- as.data.frame(itemLabels(trans))\n",
    "colnames(items) <- \"Item\"\n",
    "head(items, 10)"
   ]
  },
  {
   "cell_type": "code",
   "execution_count": 24,
   "metadata": {},
   "outputs": [
    {
     "data": {
      "text/plain": [
       "transactions as itemMatrix in sparse format with\n",
       " 117 rows (elements/itemsets/transactions) and\n",
       " 114 columns (items) and a density of 0.1511471 \n",
       "\n",
       "most frequent items:\n",
       "mineral water     spaghetti       burgers     chocolate          eggs \n",
       "           78            62            61            61            61 \n",
       "      (Other) \n",
       "         1693 \n",
       "\n",
       "element (itemset/transaction) length distribution:\n",
       "sizes\n",
       " 1  2  3  4  5  6  7  8  9 10 11 12 13 14 15 16 17 18 20 21 22 23 24 25 26 27 \n",
       " 4  3  6  5  6 11  5  4  1  3  5  5  3  3  3  1  1  5  4  1  1  5  2  1  3  1 \n",
       "29 30 31 32 33 34 36 38 40 41 44 50 56 57 65 \n",
       " 2  2  1  3  1  1  2  3  1  2  2  2  1  1  1 \n",
       "\n",
       "   Min. 1st Qu.  Median    Mean 3rd Qu.    Max. \n",
       "   1.00    6.00   13.00   17.23   25.00   65.00 \n",
       "\n",
       "includes extended item information - examples:\n",
       "             labels\n",
       "1           almonds\n",
       "2 antioxydant juice\n",
       "3         asparagus\n",
       "\n",
       "includes extended transaction information - examples:\n",
       "      transactionID\n",
       "1           almonds\n",
       "2 antioxydant juice\n",
       "3         asparagus"
      ]
     },
     "metadata": {},
     "output_type": "display_data"
    }
   ],
   "source": [
    "# generating a summary of the transactions\n",
    "summary(trans)"
   ]
  },
  {
   "cell_type": "markdown",
   "metadata": {},
   "source": [
    "From this, we see that the most frequently occuring item in the transactions is mineral water."
   ]
  },
  {
   "cell_type": "code",
   "execution_count": 26,
   "metadata": {},
   "outputs": [
    {
     "data": {
      "text/html": [
       "<dl class=dl-horizontal>\n",
       "\t<dt>brownies</dt>\n",
       "\t\t<dd>15</dd>\n",
       "\t<dt>bug spray</dt>\n",
       "\t\t<dd>5</dd>\n",
       "\t<dt>burger sauce</dt>\n",
       "\t\t<dd>2</dd>\n",
       "\t<dt>burgers</dt>\n",
       "\t\t<dd>61</dd>\n",
       "</dl>\n"
      ],
      "text/latex": [
       "\\begin{description*}\n",
       "\\item[brownies] 15\n",
       "\\item[bug spray] 5\n",
       "\\item[burger sauce] 2\n",
       "\\item[burgers] 61\n",
       "\\end{description*}\n"
      ],
      "text/markdown": [
       "brownies\n",
       ":   15bug spray\n",
       ":   5burger sauce\n",
       ":   2burgers\n",
       ":   61\n",
       "\n"
      ],
      "text/plain": [
       "    brownies    bug spray burger sauce      burgers \n",
       "          15            5            2           61 "
      ]
     },
     "metadata": {},
     "output_type": "display_data"
    },
    {
     "data": {
      "text/html": [
       "<dl class=dl-horizontal>\n",
       "\t<dt>brownies</dt>\n",
       "\t\t<dd>12.82</dd>\n",
       "\t<dt>bug spray</dt>\n",
       "\t\t<dd>4.27</dd>\n",
       "\t<dt>burger sauce</dt>\n",
       "\t\t<dd>1.71</dd>\n",
       "\t<dt>burgers</dt>\n",
       "\t\t<dd>52.14</dd>\n",
       "</dl>\n"
      ],
      "text/latex": [
       "\\begin{description*}\n",
       "\\item[brownies] 12.82\n",
       "\\item[bug spray] 4.27\n",
       "\\item[burger sauce] 1.71\n",
       "\\item[burgers] 52.14\n",
       "\\end{description*}\n"
      ],
      "text/markdown": [
       "brownies\n",
       ":   12.82bug spray\n",
       ":   4.27burger sauce\n",
       ":   1.71burgers\n",
       ":   52.14\n",
       "\n"
      ],
      "text/plain": [
       "    brownies    bug spray burger sauce      burgers \n",
       "       12.82         4.27         1.71        52.14 "
      ]
     },
     "metadata": {},
     "output_type": "display_data"
    }
   ],
   "source": [
    "# exploring the frequencies of transactions 12 to 15\n",
    "itemFrequency(trans[, 12:15],type = \"absolute\")\n",
    "round(itemFrequency(trans[, 12:15],type = \"relative\")*100,2)"
   ]
  },
  {
   "cell_type": "code",
   "execution_count": 32,
   "metadata": {},
   "outputs": [
    {
     "data": {
      "image/png": "[encoded data removed]",
      "text/plain": [
       "plot without title"
      ]
     },
     "metadata": {},
     "output_type": "display_data"
    }
   ],
   "source": [
    "# plotting the top 10 most common items\n",
    "par(mfrow = c(1, 2))\n",
    "\n",
    "itemFrequencyPlot(trans, topN = 10, col=\"darkgreen\")\n",
    "itemFrequencyPlot(trans, support = 0.42, col=\"darkred\")"
   ]
  },
  {
   "cell_type": "code",
   "execution_count": null,
   "metadata": {},
   "outputs": [
    {
     "name": "stdout",
     "output_type": "stream",
     "text": [
      "Apriori\n",
      "\n",
      "Parameter specification:\n",
      " confidence minval smax arem  aval originalSupport maxtime support minlen\n",
      "        0.8    0.1    1 none FALSE            TRUE       5   0.001      1\n",
      " maxlen target   ext\n",
      "     10  rules FALSE\n",
      "\n",
      "Algorithmic control:\n",
      " filter tree heap memopt load sort verbose\n",
      "    0.1 TRUE TRUE  FALSE TRUE    2    TRUE\n",
      "\n",
      "Absolute minimum support count: 0 \n",
      "\n",
      "set item appearances ...[0 item(s)] done [0.00s].\n",
      "set transactions ...[114 item(s), 117 transaction(s)] done [0.00s].\n",
      "sorting and recoding items ... [114 item(s)] done [0.00s].\n",
      "creating transaction tree ... done [0.00s].\n",
      "checking subsets of size 1 2 3 4 5 6"
     ]
    },
    {
     "name": "stderr",
     "output_type": "stream",
     "text": [
      "Warning message in apriori(trans, parameter = list(supp = 0.001, conf = 0.8)):\n",
      "“Mining stopped (time limit reached). Only patterns up to a length of 6 returned!”"
     ]
    }
   ],
   "source": [
    "# building a model using apriori function and min support 0.001 and confidence 0.8\n",
    "rules <- apriori(trans, parameter = list(supp = 0.001, conf = 0.8))\n",
    "rules"
   ]
  },
  {
   "cell_type": "code",
   "execution_count": 1,
   "metadata": {},
   "outputs": [
    {
     "ename": "ERROR",
     "evalue": "Error in apriori(trans, parameter = list(supp = 0.002, conf = 0.8)): could not find function \"apriori\"\n",
     "output_type": "error",
     "traceback": [
      "Error in apriori(trans, parameter = list(supp = 0.002, conf = 0.8)): could not find function \"apriori\"\nTraceback:\n"
     ]
    }
   ],
   "source": [
    "# Building a apriori model with Min Support as 0.002 and confidence as 0.8.\n",
    "rules2 <- apriori (trans,parameter = list(supp = 0.002, conf = 0.8)) \n",
    "rules2\n",
    "\n",
    "# Building apriori model with Min Support as 0.002 and confidence as 0.6.\n",
    "rules3 <- apriori (trans, parameter = list(supp = 0.001, conf = 0.6)) \n",
    "rules3"
   ]
  },
  {
   "cell_type": "code",
   "execution_count": null,
   "metadata": {},
   "outputs": [],
   "source": [
    "# previewing a summary of our rules\n",
    "summary(rules)"
   ]
  },
  {
   "cell_type": "code",
   "execution_count": null,
   "metadata": {},
   "outputs": [],
   "source": [
    "# inspecting the first 5 rules built by our model\n",
    "inspect(rules[1:5])"
   ]
  },
  {
   "cell_type": "code",
   "execution_count": null,
   "metadata": {},
   "outputs": [],
   "source": [
    "# sorting the rules in decreasing order of confidence\n",
    "rules <- sort(rules, by = \"confidence\", decreasing = TRUE)\n",
    "inspect(rules[1:5])"
   ]
  }
 ],
 "metadata": {
  "kernelspec": {
   "display_name": "R",
   "language": "R",
   "name": "ir"
  },
  "language_info": {
   "codemirror_mode": "r",
   "file_extension": ".r",
   "mimetype": "text/x-r-source",
   "name": "R",
   "pygments_lexer": "r",
   "version": "3.6.1"
  }
 },
 "nbformat": 4,
 "nbformat_minor": 4
}
