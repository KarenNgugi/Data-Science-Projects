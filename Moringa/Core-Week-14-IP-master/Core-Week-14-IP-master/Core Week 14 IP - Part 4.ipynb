{
 "cells": [
  {
   "cell_type": "markdown",
   "metadata": {},
   "source": [
    "# Part 4: Anomaly Detection\n",
    "You have also been requested to check whether there are any anomalies in the given sales dataset. The objective of this task being fraud detection."
   ]
  },
  {
   "cell_type": "code",
   "execution_count": 32,
   "metadata": {},
   "outputs": [
    {
     "data": {
      "text/html": [
       "<table>\n",
       "<thead><tr><th scope=col>Date</th><th scope=col>Sales</th></tr></thead>\n",
       "<tbody>\n",
       "\t<tr><td>1/5/2019 </td><td>548.9715 </td></tr>\n",
       "\t<tr><td>3/8/2019 </td><td> 80.2200 </td></tr>\n",
       "\t<tr><td>3/3/2019 </td><td>340.5255 </td></tr>\n",
       "\t<tr><td>1/27/2019</td><td>489.0480 </td></tr>\n",
       "\t<tr><td>2/8/2019 </td><td>634.3785 </td></tr>\n",
       "\t<tr><td>3/25/2019</td><td>627.6165 </td></tr>\n",
       "</tbody>\n",
       "</table>\n"
      ],
      "text/latex": [
       "\\begin{tabular}{r|ll}\n",
       " Date & Sales\\\\\n",
       "\\hline\n",
       "\t 1/5/2019  & 548.9715 \\\\\n",
       "\t 3/8/2019  &  80.2200 \\\\\n",
       "\t 3/3/2019  & 340.5255 \\\\\n",
       "\t 1/27/2019 & 489.0480 \\\\\n",
       "\t 2/8/2019  & 634.3785 \\\\\n",
       "\t 3/25/2019 & 627.6165 \\\\\n",
       "\\end{tabular}\n"
      ],
      "text/markdown": [
       "\n",
       "| Date | Sales |\n",
       "|---|---|\n",
       "| 1/5/2019  | 548.9715  |\n",
       "| 3/8/2019  |  80.2200  |\n",
       "| 3/3/2019  | 340.5255  |\n",
       "| 1/27/2019 | 489.0480  |\n",
       "| 2/8/2019  | 634.3785  |\n",
       "| 3/25/2019 | 627.6165  |\n",
       "\n"
      ],
      "text/plain": [
       "  Date      Sales   \n",
       "1 1/5/2019  548.9715\n",
       "2 3/8/2019   80.2200\n",
       "3 3/3/2019  340.5255\n",
       "4 1/27/2019 489.0480\n",
       "5 2/8/2019  634.3785\n",
       "6 3/25/2019 627.6165"
      ]
     },
     "metadata": {},
     "output_type": "display_data"
    }
   ],
   "source": [
    "# loading the dataset\n",
    "df <- read.csv(\"Supermarket 4.csv\")\n",
    "head(df)"
   ]
  },
  {
   "cell_type": "code",
   "execution_count": 33,
   "metadata": {},
   "outputs": [
    {
     "data": {
      "text/html": [
       "<ol class=list-inline>\n",
       "\t<li>1000</li>\n",
       "\t<li>2</li>\n",
       "</ol>\n"
      ],
      "text/latex": [
       "\\begin{enumerate*}\n",
       "\\item 1000\n",
       "\\item 2\n",
       "\\end{enumerate*}\n"
      ],
      "text/markdown": [
       "1. 1000\n",
       "2. 2\n",
       "\n",
       "\n"
      ],
      "text/plain": [
       "[1] 1000    2"
      ]
     },
     "metadata": {},
     "output_type": "display_data"
    }
   ],
   "source": [
    "# checking the shape of the dataset\n",
    "dim(df)"
   ]
  },
  {
   "cell_type": "code",
   "execution_count": 34,
   "metadata": {},
   "outputs": [
    {
     "name": "stdout",
     "output_type": "stream",
     "text": [
      "'data.frame':\t1000 obs. of  2 variables:\n",
      " $ Date : Factor w/ 89 levels \"1/1/2019\",\"1/10/2019\",..: 27 88 82 20 58 77 49 48 2 44 ...\n",
      " $ Sales: num  549 80.2 340.5 489 634.4 ...\n"
     ]
    }
   ],
   "source": [
    "# previewing class types\n",
    "str(df)"
   ]
  },
  {
   "cell_type": "code",
   "execution_count": 35,
   "metadata": {},
   "outputs": [
    {
     "data": {
      "text/html": [
       "<table>\n",
       "<thead><tr><th scope=col>Date</th><th scope=col>x</th></tr></thead>\n",
       "<tbody>\n",
       "\t<tr><td>1/1/2019 </td><td>4745.181 </td></tr>\n",
       "\t<tr><td>1/10/2019</td><td>3560.949 </td></tr>\n",
       "\t<tr><td>1/11/2019</td><td>2114.963 </td></tr>\n",
       "\t<tr><td>1/12/2019</td><td>5184.764 </td></tr>\n",
       "\t<tr><td>1/13/2019</td><td>2451.204 </td></tr>\n",
       "\t<tr><td>1/14/2019</td><td>3966.617 </td></tr>\n",
       "</tbody>\n",
       "</table>\n"
      ],
      "text/latex": [
       "\\begin{tabular}{r|ll}\n",
       " Date & x\\\\\n",
       "\\hline\n",
       "\t 1/1/2019  & 4745.181 \\\\\n",
       "\t 1/10/2019 & 3560.949 \\\\\n",
       "\t 1/11/2019 & 2114.963 \\\\\n",
       "\t 1/12/2019 & 5184.764 \\\\\n",
       "\t 1/13/2019 & 2451.204 \\\\\n",
       "\t 1/14/2019 & 3966.617 \\\\\n",
       "\\end{tabular}\n"
      ],
      "text/markdown": [
       "\n",
       "| Date | x |\n",
       "|---|---|\n",
       "| 1/1/2019  | 4745.181  |\n",
       "| 1/10/2019 | 3560.949  |\n",
       "| 1/11/2019 | 2114.963  |\n",
       "| 1/12/2019 | 5184.764  |\n",
       "| 1/13/2019 | 2451.204  |\n",
       "| 1/14/2019 | 3966.617  |\n",
       "\n"
      ],
      "text/plain": [
       "  Date      x       \n",
       "1 1/1/2019  4745.181\n",
       "2 1/10/2019 3560.949\n",
       "3 1/11/2019 2114.963\n",
       "4 1/12/2019 5184.764\n",
       "5 1/13/2019 2451.204\n",
       "6 1/14/2019 3966.617"
      ]
     },
     "metadata": {},
     "output_type": "display_data"
    }
   ],
   "source": [
    "# totalling the sales based on their common shared dates\n",
    "sales_agg <- aggregate(df$Sales, by = list(Date = df$Date), FUN = sum)\n",
    "\n",
    "head(sales_agg)"
   ]
  },
  {
   "cell_type": "code",
   "execution_count": 36,
   "metadata": {},
   "outputs": [
    {
     "data": {
      "text/html": [
       "<table>\n",
       "<thead><tr><th scope=col>Var1</th><th scope=col>Freq</th></tr></thead>\n",
       "<tbody>\n",
       "\t<tr><td>1/1/2019 </td><td>12       </td></tr>\n",
       "\t<tr><td>1/10/2019</td><td> 9       </td></tr>\n",
       "\t<tr><td>1/11/2019</td><td> 8       </td></tr>\n",
       "\t<tr><td>1/12/2019</td><td>11       </td></tr>\n",
       "\t<tr><td>1/13/2019</td><td>10       </td></tr>\n",
       "\t<tr><td>1/14/2019</td><td>13       </td></tr>\n",
       "</tbody>\n",
       "</table>\n"
      ],
      "text/latex": [
       "\\begin{tabular}{r|ll}\n",
       " Var1 & Freq\\\\\n",
       "\\hline\n",
       "\t 1/1/2019  & 12       \\\\\n",
       "\t 1/10/2019 &  9       \\\\\n",
       "\t 1/11/2019 &  8       \\\\\n",
       "\t 1/12/2019 & 11       \\\\\n",
       "\t 1/13/2019 & 10       \\\\\n",
       "\t 1/14/2019 & 13       \\\\\n",
       "\\end{tabular}\n"
      ],
      "text/markdown": [
       "\n",
       "| Var1 | Freq |\n",
       "|---|---|\n",
       "| 1/1/2019  | 12        |\n",
       "| 1/10/2019 |  9        |\n",
       "| 1/11/2019 |  8        |\n",
       "| 1/12/2019 | 11        |\n",
       "| 1/13/2019 | 10        |\n",
       "| 1/14/2019 | 13        |\n",
       "\n"
      ],
      "text/plain": [
       "  Var1      Freq\n",
       "1 1/1/2019  12  \n",
       "2 1/10/2019  9  \n",
       "3 1/11/2019  8  \n",
       "4 1/12/2019 11  \n",
       "5 1/13/2019 10  \n",
       "6 1/14/2019 13  "
      ]
     },
     "metadata": {},
     "output_type": "display_data"
    }
   ],
   "source": [
    "# getting a data frame of the frequency table of Date\n",
    "date_tab <- data.frame(table(df$Date))\n",
    "head(date_tab)"
   ]
  },
  {
   "cell_type": "code",
   "execution_count": 37,
   "metadata": {},
   "outputs": [
    {
     "data": {
      "text/html": [
       "<table>\n",
       "<thead><tr><th scope=col>Date</th><th scope=col>Total.Sales</th><th scope=col>count</th></tr></thead>\n",
       "<tbody>\n",
       "\t<tr><td>1/1/2019 </td><td>4745.181 </td><td>12       </td></tr>\n",
       "\t<tr><td>1/10/2019</td><td>3560.949 </td><td> 9       </td></tr>\n",
       "\t<tr><td>1/11/2019</td><td>2114.963 </td><td> 8       </td></tr>\n",
       "\t<tr><td>1/12/2019</td><td>5184.764 </td><td>11       </td></tr>\n",
       "\t<tr><td>1/13/2019</td><td>2451.204 </td><td>10       </td></tr>\n",
       "\t<tr><td>1/14/2019</td><td>3966.617 </td><td>13       </td></tr>\n",
       "</tbody>\n",
       "</table>\n"
      ],
      "text/latex": [
       "\\begin{tabular}{r|lll}\n",
       " Date & Total.Sales & count\\\\\n",
       "\\hline\n",
       "\t 1/1/2019  & 4745.181  & 12       \\\\\n",
       "\t 1/10/2019 & 3560.949  &  9       \\\\\n",
       "\t 1/11/2019 & 2114.963  &  8       \\\\\n",
       "\t 1/12/2019 & 5184.764  & 11       \\\\\n",
       "\t 1/13/2019 & 2451.204  & 10       \\\\\n",
       "\t 1/14/2019 & 3966.617  & 13       \\\\\n",
       "\\end{tabular}\n"
      ],
      "text/markdown": [
       "\n",
       "| Date | Total.Sales | count |\n",
       "|---|---|---|\n",
       "| 1/1/2019  | 4745.181  | 12        |\n",
       "| 1/10/2019 | 3560.949  |  9        |\n",
       "| 1/11/2019 | 2114.963  |  8        |\n",
       "| 1/12/2019 | 5184.764  | 11        |\n",
       "| 1/13/2019 | 2451.204  | 10        |\n",
       "| 1/14/2019 | 3966.617  | 13        |\n",
       "\n"
      ],
      "text/plain": [
       "  Date      Total.Sales count\n",
       "1 1/1/2019  4745.181    12   \n",
       "2 1/10/2019 3560.949     9   \n",
       "3 1/11/2019 2114.963     8   \n",
       "4 1/12/2019 5184.764    11   \n",
       "5 1/13/2019 2451.204    10   \n",
       "6 1/14/2019 3966.617    13   "
      ]
     },
     "metadata": {},
     "output_type": "display_data"
    }
   ],
   "source": [
    "# combining both data frames\n",
    "fin_df <- merge(sales_agg, date_tab, by.x = \"Date\", by.y = \"Var1\")\n",
    "\n",
    "# renaming the columns\n",
    "names(fin_df) <- c(\"Date\", \"Total.Sales\", \"count\")\n",
    "head(fin_df)"
   ]
  },
  {
   "cell_type": "code",
   "execution_count": 54,
   "metadata": {},
   "outputs": [
    {
     "name": "stderr",
     "output_type": "stream",
     "text": [
      "\n",
      "Attaching package: ‘tibbletime’\n",
      "\n",
      "The following object is masked from ‘package:stats’:\n",
      "\n",
      "    filter\n",
      "\n"
     ]
    }
   ],
   "source": [
    "library(lubridate)\n",
    "library(tibbletime)"
   ]
  },
  {
   "cell_type": "code",
   "execution_count": 47,
   "metadata": {},
   "outputs": [
    {
     "name": "stdout",
     "output_type": "stream",
     "text": [
      "'data.frame':\t89 obs. of  3 variables:\n",
      " $ Date       : Date, format: \"2019-01-01\" \"2019-01-10\" ...\n",
      " $ Total.Sales: num  4745 3561 2115 5185 2451 ...\n",
      " $ count      : int  12 9 8 11 10 13 13 10 11 9 ...\n"
     ]
    }
   ],
   "source": [
    "# changing the Date column to Date format\n",
    "fin_df$Date <- mdy(fin_df$Date)\n",
    "str(fin_df)"
   ]
  },
  {
   "cell_type": "code",
   "execution_count": 60,
   "metadata": {},
   "outputs": [
    {
     "name": "stdout",
     "output_type": "stream",
     "text": [
      "Classes ‘tbl_time’, ‘tbl_df’, ‘tbl’ and 'data.frame':\t89 obs. of  3 variables:\n",
      " $ Date       : Date, format: \"2019-01-01\" \"2019-01-10\" ...\n",
      " $ Total.Sales: num  4745 3561 2115 5185 2451 ...\n",
      " $ count      : int  12 9 8 11 10 13 13 10 11 9 ...\n",
      " - attr(*, \"index_quo\")= language ~\"Date\"\n",
      "  ..- attr(*, \".Environment\")=<environment: R_EmptyEnv> \n",
      " - attr(*, \"index_time_zone\")= chr \"UTC\"\n"
     ]
    }
   ],
   "source": [
    "fin_df$Date <- as_tbl_time(fin_df, index = 'Date')\n",
    "str(fin_df$Date)"
   ]
  },
  {
   "cell_type": "code",
   "execution_count": 63,
   "metadata": {},
   "outputs": [
    {
     "data": {
      "text/html": [
       "'data.frame'"
      ],
      "text/latex": [
       "'data.frame'"
      ],
      "text/markdown": [
       "'data.frame'"
      ],
      "text/plain": [
       "[1] \"data.frame\""
      ]
     },
     "metadata": {},
     "output_type": "display_data"
    }
   ],
   "source": [
    "class(fin_df)"
   ]
  },
  {
   "cell_type": "code",
   "execution_count": 48,
   "metadata": {},
   "outputs": [
    {
     "data": {
      "text/html": [
       "0"
      ],
      "text/latex": [
       "0"
      ],
      "text/markdown": [
       "0"
      ],
      "text/plain": [
       "[1] 0"
      ]
     },
     "metadata": {},
     "output_type": "display_data"
    }
   ],
   "source": [
    "# check for duplicates\n",
    "anyDuplicated(fin_df)"
   ]
  },
  {
   "cell_type": "code",
   "execution_count": 49,
   "metadata": {},
   "outputs": [
    {
     "data": {
      "text/html": [
       "<dl class=dl-horizontal>\n",
       "\t<dt>Date</dt>\n",
       "\t\t<dd>0</dd>\n",
       "\t<dt>Total.Sales</dt>\n",
       "\t\t<dd>0</dd>\n",
       "\t<dt>count</dt>\n",
       "\t\t<dd>0</dd>\n",
       "</dl>\n"
      ],
      "text/latex": [
       "\\begin{description*}\n",
       "\\item[Date] 0\n",
       "\\item[Total.Sales] 0\n",
       "\\item[count] 0\n",
       "\\end{description*}\n"
      ],
      "text/markdown": [
       "Date\n",
       ":   0Total.Sales\n",
       ":   0count\n",
       ":   0\n",
       "\n"
      ],
      "text/plain": [
       "       Date Total.Sales       count \n",
       "          0           0           0 "
      ]
     },
     "metadata": {},
     "output_type": "display_data"
    }
   ],
   "source": [
    "# check for missing values\n",
    "colSums(is.na(fin_df))"
   ]
  },
  {
   "cell_type": "code",
   "execution_count": 42,
   "metadata": {},
   "outputs": [],
   "source": [
    "# loading relevant libraries to aid in anomaly detection\n",
    "library(tidyverse)\n",
    "library(anomalize)"
   ]
  },
  {
   "cell_type": "code",
   "execution_count": 62,
   "metadata": {},
   "outputs": [
    {
     "ename": "ERROR",
     "evalue": "Error: Error time_decompose(): Object is not of class `tbl_df` or `tbl_time`.\n",
     "output_type": "error",
     "traceback": [
      "Error: Error time_decompose(): Object is not of class `tbl_df` or `tbl_time`.\nTraceback:\n",
      "1. fin_df %>% time_decompose(count) %>% anomalize(remainder) %>% \n .     time_recompose() %>% plot_anomalies(time_recomposed = TRUE, \n .     ncol = 3, alpha_dots = 0.5)",
      "2. withVisible(eval(quote(`_fseq`(`_lhs`)), env, env))",
      "3. eval(quote(`_fseq`(`_lhs`)), env, env)",
      "4. eval(quote(`_fseq`(`_lhs`)), env, env)",
      "5. `_fseq`(`_lhs`)",
      "6. freduce(value, `_function_list`)",
      "7. function_list[[i]](value)",
      "8. time_decompose(., count)",
      "9. time_decompose.default(., count)",
      "10. stop(\"Error time_decompose(): Object is not of class `tbl_df` or `tbl_time`.\", \n  .     call. = FALSE)"
     ]
    }
   ],
   "source": [
    "fin_df %>%\n",
    "    time_decompose(count) %>%\n",
    "    anomalize(remainder) %>%\n",
    "    time_recompose() %>%\n",
    "    plot_anomalies(time_recomposed = TRUE, ncol = 3, alpha_dots = 0.5)"
   ]
  },
  {
   "cell_type": "code",
   "execution_count": null,
   "metadata": {},
   "outputs": [],
   "source": []
  },
  {
   "cell_type": "code",
   "execution_count": null,
   "metadata": {},
   "outputs": [],
   "source": []
  },
  {
   "cell_type": "code",
   "execution_count": null,
   "metadata": {},
   "outputs": [],
   "source": []
  },
  {
   "cell_type": "code",
   "execution_count": null,
   "metadata": {},
   "outputs": [],
   "source": []
  },
  {
   "cell_type": "code",
   "execution_count": null,
   "metadata": {},
   "outputs": [],
   "source": []
  },
  {
   "cell_type": "code",
   "execution_count": null,
   "metadata": {},
   "outputs": [],
   "source": []
  },
  {
   "cell_type": "code",
   "execution_count": null,
   "metadata": {},
   "outputs": [],
   "source": []
  }
 ],
 "metadata": {
  "kernelspec": {
   "display_name": "R",
   "language": "R",
   "name": "ir"
  },
  "language_info": {
   "codemirror_mode": "r",
   "file_extension": ".r",
   "mimetype": "text/x-r-source",
   "name": "R",
   "pygments_lexer": "r",
   "version": "3.6.1"
  }
 },
 "nbformat": 4,
 "nbformat_minor": 4
}
