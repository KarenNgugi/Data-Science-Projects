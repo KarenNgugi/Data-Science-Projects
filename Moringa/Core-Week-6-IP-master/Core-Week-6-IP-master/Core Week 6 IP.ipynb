{
 "cells": [
  {
   "cell_type": "markdown",
   "metadata": {},
   "source": [
    "# 1. Introduction\n",
    "\n",
    "## Overview\n",
    "You have been recruited as a football analyst in a company - Mchezopesa Ltd and tasked to accomplish the task below.\n",
    "\n",
    "*A prediction result of a game between team 1 and team 2, based on who's home and who's away, and on whether or not the game is friendly (include rank in your training).*\n",
    "\n",
    "You have two possible approaches (as shown below) given the datasets that will be provided\n",
    "\n",
    "Input: Home team, Away team, Tournament type (World cup, Friendly, Other)\n",
    "\n",
    "#### ```Approach 1: Polynomial approach```\n",
    "\n",
    "What to train given:\n",
    "* Rank of home team\n",
    "* Rank of away team\n",
    "* Tournament type\n",
    "\n",
    "***Model 1:*** Predict how many goals the home team scores.\n",
    "\n",
    "***Model 2:*** Predict how many goals the away team scores.\n",
    "\n",
    "####  ```Approach 2: Logistic approach``` \n",
    "\n",
    "Feature Engineering: Figure out from the home team’s perspective if the game is a Win, Lose or Draw (W, L, D)"
   ]
  },
  {
   "cell_type": "markdown",
   "metadata": {},
   "source": [
    "### 1.1 Research Question\n",
    "Given the rank of the home team, the rank of the away team, and the rank of the tournament type, predict:\n",
    "* how many goals the home team scores\n",
    "* how many goals the away team scores\n",
    "\n",
    "Also, from the home team's perspective, use feature engineering to determine if the game is a Win, Lose, or Draw (W, L, or D)"
   ]
  },
  {
   "cell_type": "markdown",
   "metadata": {},
   "source": [
    "### 1.2 Metric for Success\n",
    "The model will be considered a success when it is able to correctly and accurately predict the respective scores, and determine whether the game is a win, lose, or draw. I'm setting the minimum accuracy level to be 80% because I feel like it's a good target score for accuracy."
   ]
  },
  {
   "cell_type": "markdown",
   "metadata": {},
   "source": [
    "### 1.3 Context\n",
    "``` \"After a long period testing and analysing the best way to calculate the FIFA/Coca-Cola World Ranking, a new model took effect in August 2018 after approval by the FIFA Council.This new version developed by FIFA was named \"SUM\" as it relies on adding/subtracting points won or lost for a game to/from the previous point totals rather than averaging game points over a given time period as in the previous version of the World Ranking.The points which are added or subtracted are partially determined by the relative strength of the two opponents, including the logical expectation that teams higher in the ranking should fare better against teams lower in the ranking.\" ```\n",
    "\n",
    "**Sources:** https://www.fifa.com/fifa-world-ranking/procedure/men , https://img.fifa.com/image/upload/edbm045h0udbwkqew35a.pdf"
   ]
  },
  {
   "cell_type": "markdown",
   "metadata": {},
   "source": [
    "### 1.4 Experimental Design\n",
    "I will carry out the following procedure to solve the research question:\n",
    "    - load, merge, prepare, and clean the datasets\n",
    "    - perform exploratory data analysis\n",
    "    - perform polynomial and logistic regression\n",
    "    - build the models and cross-validate them\n",
    "    - interpret results obtained and use them to make conclusions\n",
    "    - challenge my working\n",
    "  \n",
    "\n",
    "For the Polynomial Regression part, I intend to do the following:\n",
    "<ul>\n",
    "    <li>Carry out feature engineering, where applicable</li>\n",
    "    <li>Check for multicollinearity</li>\n",
    "    <li>Build an optimal model</li>\n",
    "    <li>Cross validate the model</li>\n",
    "    <li>Compute and interpret the RMSE</li>\n",
    "    <li>Assess the heteroscedasticity</li>\n",
    "</ul>\n",
    "\n",
    "For Logistic Regression, I will carry out the following:\n",
    "<ul>\n",
    "    <li>Feature engineering, where necessary</li>\n",
    "    <li>Train an optimal classifier</li>\n",
    "    <li>Interpret the results</li>\n",
    "    <li>Make a suitable prediction</li>\n",
    "</ul>"
   ]
  },
  {
   "cell_type": "markdown",
   "metadata": {},
   "source": [
    "### 1.5 Appropriateness of Data\n",
    "I personally do not find the data used to be really appropriate. There was confusion as to what the dates in both datasets referred to. Also, a lot of data was lost during merging because both datasets did not have sufficient matching records.\n",
    "\n",
    "The data can be found here: https://drive.google.com/open?id=1BYUqaEEnFtAe5lvzJh9lpVpR2MAvERUc"
   ]
  },
  {
   "cell_type": "markdown",
   "metadata": {},
   "source": [
    "# 2. Data Preparation & Cleaning"
   ]
  },
  {
   "cell_type": "markdown",
   "metadata": {},
   "source": [
    "## 2.1 Working with the original data sets"
   ]
  },
  {
   "cell_type": "code",
   "execution_count": 1,
   "metadata": {},
   "outputs": [],
   "source": [
    "# import libraries\n",
    "import numpy as np\n",
    "import pandas as pd\n",
    "import seaborn as sb\n",
    "import scipy as sp\n",
    "\n",
    "from sklearn import metrics\n",
    "from sklearn.linear_model import LinearRegression\n",
    "from sklearn.linear_model import LogisticRegression\n",
    "from sklearn.preprocessing import PolynomialFeatures\n",
    "from sklearn.preprocessing import LabelEncoder\n",
    "\n",
    "from sklearn.model_selection import cross_val_score\n",
    "from sklearn.model_selection import KFold\n",
    "from sklearn.model_selection import train_test_split\n",
    "from sklearn.neighbors import KNeighborsClassifier\n",
    "\n",
    "import matplotlib.pyplot as plt\n",
    "%matplotlib inline"
   ]
  },
  {
   "cell_type": "code",
   "execution_count": 2,
   "metadata": {},
   "outputs": [],
   "source": [
    "# to preview all columns\n",
    "pd.set_option(\"display.max.columns\", None)"
   ]
  },
  {
   "cell_type": "code",
   "execution_count": 3,
   "metadata": {},
   "outputs": [
    {
     "data": {
      "text/html": [
       "<div>\n",
       "<style scoped>\n",
       "    .dataframe tbody tr th:only-of-type {\n",
       "        vertical-align: middle;\n",
       "    }\n",
       "\n",
       "    .dataframe tbody tr th {\n",
       "        vertical-align: top;\n",
       "    }\n",
       "\n",
       "    .dataframe thead th {\n",
       "        text-align: right;\n",
       "    }\n",
       "</style>\n",
       "<table border=\"1\" class=\"dataframe\">\n",
       "  <thead>\n",
       "    <tr style=\"text-align: right;\">\n",
       "      <th></th>\n",
       "      <th>rank</th>\n",
       "      <th>country_full</th>\n",
       "      <th>country_abrv</th>\n",
       "      <th>total_points</th>\n",
       "      <th>previous_points</th>\n",
       "      <th>rank_change</th>\n",
       "      <th>cur_year_avg</th>\n",
       "      <th>cur_year_avg_weighted</th>\n",
       "      <th>last_year_avg</th>\n",
       "      <th>last_year_avg_weighted</th>\n",
       "      <th>two_year_ago_avg</th>\n",
       "      <th>two_year_ago_weighted</th>\n",
       "      <th>three_year_ago_avg</th>\n",
       "      <th>three_year_ago_weighted</th>\n",
       "      <th>confederation</th>\n",
       "      <th>rank_date</th>\n",
       "    </tr>\n",
       "  </thead>\n",
       "  <tbody>\n",
       "    <tr>\n",
       "      <th>0</th>\n",
       "      <td>1</td>\n",
       "      <td>Germany</td>\n",
       "      <td>GER</td>\n",
       "      <td>0.0</td>\n",
       "      <td>57</td>\n",
       "      <td>0</td>\n",
       "      <td>0.0</td>\n",
       "      <td>0.0</td>\n",
       "      <td>0.0</td>\n",
       "      <td>0.0</td>\n",
       "      <td>0.0</td>\n",
       "      <td>0.0</td>\n",
       "      <td>0.0</td>\n",
       "      <td>0.0</td>\n",
       "      <td>UEFA</td>\n",
       "      <td>1993-08-08</td>\n",
       "    </tr>\n",
       "    <tr>\n",
       "      <th>1</th>\n",
       "      <td>2</td>\n",
       "      <td>Italy</td>\n",
       "      <td>ITA</td>\n",
       "      <td>0.0</td>\n",
       "      <td>57</td>\n",
       "      <td>0</td>\n",
       "      <td>0.0</td>\n",
       "      <td>0.0</td>\n",
       "      <td>0.0</td>\n",
       "      <td>0.0</td>\n",
       "      <td>0.0</td>\n",
       "      <td>0.0</td>\n",
       "      <td>0.0</td>\n",
       "      <td>0.0</td>\n",
       "      <td>UEFA</td>\n",
       "      <td>1993-08-08</td>\n",
       "    </tr>\n",
       "    <tr>\n",
       "      <th>2</th>\n",
       "      <td>3</td>\n",
       "      <td>Switzerland</td>\n",
       "      <td>SUI</td>\n",
       "      <td>0.0</td>\n",
       "      <td>50</td>\n",
       "      <td>9</td>\n",
       "      <td>0.0</td>\n",
       "      <td>0.0</td>\n",
       "      <td>0.0</td>\n",
       "      <td>0.0</td>\n",
       "      <td>0.0</td>\n",
       "      <td>0.0</td>\n",
       "      <td>0.0</td>\n",
       "      <td>0.0</td>\n",
       "      <td>UEFA</td>\n",
       "      <td>1993-08-08</td>\n",
       "    </tr>\n",
       "    <tr>\n",
       "      <th>3</th>\n",
       "      <td>4</td>\n",
       "      <td>Sweden</td>\n",
       "      <td>SWE</td>\n",
       "      <td>0.0</td>\n",
       "      <td>55</td>\n",
       "      <td>0</td>\n",
       "      <td>0.0</td>\n",
       "      <td>0.0</td>\n",
       "      <td>0.0</td>\n",
       "      <td>0.0</td>\n",
       "      <td>0.0</td>\n",
       "      <td>0.0</td>\n",
       "      <td>0.0</td>\n",
       "      <td>0.0</td>\n",
       "      <td>UEFA</td>\n",
       "      <td>1993-08-08</td>\n",
       "    </tr>\n",
       "    <tr>\n",
       "      <th>4</th>\n",
       "      <td>5</td>\n",
       "      <td>Argentina</td>\n",
       "      <td>ARG</td>\n",
       "      <td>0.0</td>\n",
       "      <td>51</td>\n",
       "      <td>5</td>\n",
       "      <td>0.0</td>\n",
       "      <td>0.0</td>\n",
       "      <td>0.0</td>\n",
       "      <td>0.0</td>\n",
       "      <td>0.0</td>\n",
       "      <td>0.0</td>\n",
       "      <td>0.0</td>\n",
       "      <td>0.0</td>\n",
       "      <td>CONMEBOL</td>\n",
       "      <td>1993-08-08</td>\n",
       "    </tr>\n",
       "  </tbody>\n",
       "</table>\n",
       "</div>"
      ],
      "text/plain": [
       "   rank country_full country_abrv  total_points  previous_points  rank_change  \\\n",
       "0     1      Germany          GER           0.0               57            0   \n",
       "1     2        Italy          ITA           0.0               57            0   \n",
       "2     3  Switzerland          SUI           0.0               50            9   \n",
       "3     4       Sweden          SWE           0.0               55            0   \n",
       "4     5    Argentina          ARG           0.0               51            5   \n",
       "\n",
       "   cur_year_avg  cur_year_avg_weighted  last_year_avg  last_year_avg_weighted  \\\n",
       "0           0.0                    0.0            0.0                     0.0   \n",
       "1           0.0                    0.0            0.0                     0.0   \n",
       "2           0.0                    0.0            0.0                     0.0   \n",
       "3           0.0                    0.0            0.0                     0.0   \n",
       "4           0.0                    0.0            0.0                     0.0   \n",
       "\n",
       "   two_year_ago_avg  two_year_ago_weighted  three_year_ago_avg  \\\n",
       "0               0.0                    0.0                 0.0   \n",
       "1               0.0                    0.0                 0.0   \n",
       "2               0.0                    0.0                 0.0   \n",
       "3               0.0                    0.0                 0.0   \n",
       "4               0.0                    0.0                 0.0   \n",
       "\n",
       "   three_year_ago_weighted confederation   rank_date  \n",
       "0                      0.0          UEFA  1993-08-08  \n",
       "1                      0.0          UEFA  1993-08-08  \n",
       "2                      0.0          UEFA  1993-08-08  \n",
       "3                      0.0          UEFA  1993-08-08  \n",
       "4                      0.0      CONMEBOL  1993-08-08  "
      ]
     },
     "execution_count": 3,
     "metadata": {},
     "output_type": "execute_result"
    }
   ],
   "source": [
    "# load fifa ranking dataset\n",
    "fifa_ranking = pd.read_csv('fifa_ranking.csv')\n",
    "fifa_ranking.head()"
   ]
  },
  {
   "cell_type": "code",
   "execution_count": 4,
   "metadata": {},
   "outputs": [
    {
     "data": {
      "text/html": [
       "<div>\n",
       "<style scoped>\n",
       "    .dataframe tbody tr th:only-of-type {\n",
       "        vertical-align: middle;\n",
       "    }\n",
       "\n",
       "    .dataframe tbody tr th {\n",
       "        vertical-align: top;\n",
       "    }\n",
       "\n",
       "    .dataframe thead th {\n",
       "        text-align: right;\n",
       "    }\n",
       "</style>\n",
       "<table border=\"1\" class=\"dataframe\">\n",
       "  <thead>\n",
       "    <tr style=\"text-align: right;\">\n",
       "      <th></th>\n",
       "      <th>date</th>\n",
       "      <th>home_team</th>\n",
       "      <th>away_team</th>\n",
       "      <th>home_score</th>\n",
       "      <th>away_score</th>\n",
       "      <th>tournament</th>\n",
       "      <th>city</th>\n",
       "      <th>country</th>\n",
       "      <th>neutral</th>\n",
       "    </tr>\n",
       "  </thead>\n",
       "  <tbody>\n",
       "    <tr>\n",
       "      <th>0</th>\n",
       "      <td>1872-11-30</td>\n",
       "      <td>Scotland</td>\n",
       "      <td>England</td>\n",
       "      <td>0</td>\n",
       "      <td>0</td>\n",
       "      <td>Friendly</td>\n",
       "      <td>Glasgow</td>\n",
       "      <td>Scotland</td>\n",
       "      <td>False</td>\n",
       "    </tr>\n",
       "    <tr>\n",
       "      <th>1</th>\n",
       "      <td>1873-03-08</td>\n",
       "      <td>England</td>\n",
       "      <td>Scotland</td>\n",
       "      <td>4</td>\n",
       "      <td>2</td>\n",
       "      <td>Friendly</td>\n",
       "      <td>London</td>\n",
       "      <td>England</td>\n",
       "      <td>False</td>\n",
       "    </tr>\n",
       "    <tr>\n",
       "      <th>2</th>\n",
       "      <td>1874-03-07</td>\n",
       "      <td>Scotland</td>\n",
       "      <td>England</td>\n",
       "      <td>2</td>\n",
       "      <td>1</td>\n",
       "      <td>Friendly</td>\n",
       "      <td>Glasgow</td>\n",
       "      <td>Scotland</td>\n",
       "      <td>False</td>\n",
       "    </tr>\n",
       "    <tr>\n",
       "      <th>3</th>\n",
       "      <td>1875-03-06</td>\n",
       "      <td>England</td>\n",
       "      <td>Scotland</td>\n",
       "      <td>2</td>\n",
       "      <td>2</td>\n",
       "      <td>Friendly</td>\n",
       "      <td>London</td>\n",
       "      <td>England</td>\n",
       "      <td>False</td>\n",
       "    </tr>\n",
       "    <tr>\n",
       "      <th>4</th>\n",
       "      <td>1876-03-04</td>\n",
       "      <td>Scotland</td>\n",
       "      <td>England</td>\n",
       "      <td>3</td>\n",
       "      <td>0</td>\n",
       "      <td>Friendly</td>\n",
       "      <td>Glasgow</td>\n",
       "      <td>Scotland</td>\n",
       "      <td>False</td>\n",
       "    </tr>\n",
       "  </tbody>\n",
       "</table>\n",
       "</div>"
      ],
      "text/plain": [
       "         date home_team away_team  home_score  away_score tournament     city  \\\n",
       "0  1872-11-30  Scotland   England           0           0   Friendly  Glasgow   \n",
       "1  1873-03-08   England  Scotland           4           2   Friendly   London   \n",
       "2  1874-03-07  Scotland   England           2           1   Friendly  Glasgow   \n",
       "3  1875-03-06   England  Scotland           2           2   Friendly   London   \n",
       "4  1876-03-04  Scotland   England           3           0   Friendly  Glasgow   \n",
       "\n",
       "    country  neutral  \n",
       "0  Scotland    False  \n",
       "1   England    False  \n",
       "2  Scotland    False  \n",
       "3   England    False  \n",
       "4  Scotland    False  "
      ]
     },
     "execution_count": 4,
     "metadata": {},
     "output_type": "execute_result"
    }
   ],
   "source": [
    "# load results dataset\n",
    "results = pd.read_csv('results.csv')\n",
    "results.head()"
   ]
  },
  {
   "cell_type": "code",
   "execution_count": 5,
   "metadata": {},
   "outputs": [
    {
     "name": "stdout",
     "output_type": "stream",
     "text": [
      "<class 'pandas.core.frame.DataFrame'>\n",
      "RangeIndex: 57793 entries, 0 to 57792\n",
      "Data columns (total 16 columns):\n",
      "rank                       57793 non-null int64\n",
      "country_full               57793 non-null object\n",
      "country_abrv               57793 non-null object\n",
      "total_points               57793 non-null float64\n",
      "previous_points            57793 non-null int64\n",
      "rank_change                57793 non-null int64\n",
      "cur_year_avg               57793 non-null float64\n",
      "cur_year_avg_weighted      57793 non-null float64\n",
      "last_year_avg              57793 non-null float64\n",
      "last_year_avg_weighted     57793 non-null float64\n",
      "two_year_ago_avg           57793 non-null float64\n",
      "two_year_ago_weighted      57793 non-null float64\n",
      "three_year_ago_avg         57793 non-null float64\n",
      "three_year_ago_weighted    57793 non-null float64\n",
      "confederation              57793 non-null object\n",
      "rank_date                  57793 non-null object\n",
      "dtypes: float64(9), int64(3), object(4)\n",
      "memory usage: 7.1+ MB\n"
     ]
    }
   ],
   "source": [
    "# check basic information\n",
    "fifa_ranking.info()"
   ]
  },
  {
   "cell_type": "markdown",
   "metadata": {},
   "source": [
    "There are no missing values in this dataset."
   ]
  },
  {
   "cell_type": "code",
   "execution_count": 6,
   "metadata": {},
   "outputs": [
    {
     "name": "stdout",
     "output_type": "stream",
     "text": [
      "<class 'pandas.core.frame.DataFrame'>\n",
      "RangeIndex: 40839 entries, 0 to 40838\n",
      "Data columns (total 9 columns):\n",
      "date          40839 non-null object\n",
      "home_team     40839 non-null object\n",
      "away_team     40839 non-null object\n",
      "home_score    40839 non-null int64\n",
      "away_score    40839 non-null int64\n",
      "tournament    40839 non-null object\n",
      "city          40839 non-null object\n",
      "country       40839 non-null object\n",
      "neutral       40839 non-null bool\n",
      "dtypes: bool(1), int64(2), object(6)\n",
      "memory usage: 2.5+ MB\n"
     ]
    }
   ],
   "source": [
    "results.info()"
   ]
  },
  {
   "cell_type": "markdown",
   "metadata": {},
   "source": [
    "There are no missing values in this dataset either."
   ]
  },
  {
   "cell_type": "code",
   "execution_count": 7,
   "metadata": {
    "scrolled": true
   },
   "outputs": [
    {
     "data": {
      "text/plain": [
       "(37, 16)"
      ]
     },
     "execution_count": 7,
     "metadata": {},
     "output_type": "execute_result"
    }
   ],
   "source": [
    "# check for duplicates\n",
    "duplicated = fifa_ranking[fifa_ranking.duplicated()]\n",
    "duplicated.shape"
   ]
  },
  {
   "cell_type": "code",
   "execution_count": 8,
   "metadata": {},
   "outputs": [],
   "source": [
    "# deleting the duplicated values\n",
    "fifa_ranking = fifa_ranking.drop_duplicates()"
   ]
  },
  {
   "cell_type": "code",
   "execution_count": 9,
   "metadata": {},
   "outputs": [
    {
     "name": "stdout",
     "output_type": "stream",
     "text": [
      "Fifa Ranking dataset shape: (57756, 16)\n",
      "Results dataset shape: (40839, 9)\n"
     ]
    }
   ],
   "source": [
    "# get the shapes of both data sets\n",
    "print(\"Fifa Ranking dataset shape:\", fifa_ranking.shape)\n",
    "print(\"Results dataset shape:\", results.shape)"
   ]
  },
  {
   "cell_type": "markdown",
   "metadata": {},
   "source": [
    "The \"fifa_ranking\" dataset has 57,756 records and 16 columns whereas the \"results\" dataset has 40,839 records and 9 columns."
   ]
  },
  {
   "cell_type": "markdown",
   "metadata": {},
   "source": [
    "## 2.2 Merging the two datasets"
   ]
  },
  {
   "cell_type": "code",
   "execution_count": 10,
   "metadata": {
    "scrolled": true
   },
   "outputs": [
    {
     "data": {
      "text/html": [
       "<div>\n",
       "<style scoped>\n",
       "    .dataframe tbody tr th:only-of-type {\n",
       "        vertical-align: middle;\n",
       "    }\n",
       "\n",
       "    .dataframe tbody tr th {\n",
       "        vertical-align: top;\n",
       "    }\n",
       "\n",
       "    .dataframe thead th {\n",
       "        text-align: right;\n",
       "    }\n",
       "</style>\n",
       "<table border=\"1\" class=\"dataframe\">\n",
       "  <thead>\n",
       "    <tr style=\"text-align: right;\">\n",
       "      <th></th>\n",
       "      <th>date</th>\n",
       "      <th>home_team</th>\n",
       "      <th>away_team</th>\n",
       "      <th>home_score</th>\n",
       "      <th>away_score</th>\n",
       "      <th>tournament</th>\n",
       "      <th>city</th>\n",
       "      <th>country</th>\n",
       "      <th>neutral</th>\n",
       "      <th>rank</th>\n",
       "      <th>country_full</th>\n",
       "      <th>country_abrv</th>\n",
       "      <th>total_points</th>\n",
       "      <th>previous_points</th>\n",
       "      <th>rank_change</th>\n",
       "      <th>cur_year_avg</th>\n",
       "      <th>cur_year_avg_weighted</th>\n",
       "      <th>last_year_avg</th>\n",
       "      <th>last_year_avg_weighted</th>\n",
       "      <th>two_year_ago_avg</th>\n",
       "      <th>two_year_ago_weighted</th>\n",
       "      <th>three_year_ago_avg</th>\n",
       "      <th>three_year_ago_weighted</th>\n",
       "      <th>confederation</th>\n",
       "      <th>rank_date</th>\n",
       "    </tr>\n",
       "  </thead>\n",
       "  <tbody>\n",
       "    <tr>\n",
       "      <th>0</th>\n",
       "      <td>1993-08-08</td>\n",
       "      <td>Bolivia</td>\n",
       "      <td>Uruguay</td>\n",
       "      <td>3</td>\n",
       "      <td>1</td>\n",
       "      <td>FIFA World Cup qualification</td>\n",
       "      <td>La Paz</td>\n",
       "      <td>Bolivia</td>\n",
       "      <td>False</td>\n",
       "      <td>59</td>\n",
       "      <td>Bolivia</td>\n",
       "      <td>BOL</td>\n",
       "      <td>0.0</td>\n",
       "      <td>13</td>\n",
       "      <td>28</td>\n",
       "      <td>0.0</td>\n",
       "      <td>0.0</td>\n",
       "      <td>0.0</td>\n",
       "      <td>0.0</td>\n",
       "      <td>0.0</td>\n",
       "      <td>0.0</td>\n",
       "      <td>0.0</td>\n",
       "      <td>0.0</td>\n",
       "      <td>CONMEBOL</td>\n",
       "      <td>1993-08-08</td>\n",
       "    </tr>\n",
       "    <tr>\n",
       "      <th>1</th>\n",
       "      <td>1993-08-08</td>\n",
       "      <td>Brazil</td>\n",
       "      <td>Mexico</td>\n",
       "      <td>1</td>\n",
       "      <td>1</td>\n",
       "      <td>Friendly</td>\n",
       "      <td>Maceió</td>\n",
       "      <td>Brazil</td>\n",
       "      <td>False</td>\n",
       "      <td>8</td>\n",
       "      <td>Brazil</td>\n",
       "      <td>BRA</td>\n",
       "      <td>0.0</td>\n",
       "      <td>55</td>\n",
       "      <td>-5</td>\n",
       "      <td>0.0</td>\n",
       "      <td>0.0</td>\n",
       "      <td>0.0</td>\n",
       "      <td>0.0</td>\n",
       "      <td>0.0</td>\n",
       "      <td>0.0</td>\n",
       "      <td>0.0</td>\n",
       "      <td>0.0</td>\n",
       "      <td>CONMEBOL</td>\n",
       "      <td>1993-08-08</td>\n",
       "    </tr>\n",
       "    <tr>\n",
       "      <th>2</th>\n",
       "      <td>1993-08-08</td>\n",
       "      <td>Ecuador</td>\n",
       "      <td>Venezuela</td>\n",
       "      <td>5</td>\n",
       "      <td>0</td>\n",
       "      <td>FIFA World Cup qualification</td>\n",
       "      <td>Quito</td>\n",
       "      <td>Ecuador</td>\n",
       "      <td>False</td>\n",
       "      <td>35</td>\n",
       "      <td>Ecuador</td>\n",
       "      <td>ECU</td>\n",
       "      <td>0.0</td>\n",
       "      <td>23</td>\n",
       "      <td>30</td>\n",
       "      <td>0.0</td>\n",
       "      <td>0.0</td>\n",
       "      <td>0.0</td>\n",
       "      <td>0.0</td>\n",
       "      <td>0.0</td>\n",
       "      <td>0.0</td>\n",
       "      <td>0.0</td>\n",
       "      <td>0.0</td>\n",
       "      <td>CONMEBOL</td>\n",
       "      <td>1993-08-08</td>\n",
       "    </tr>\n",
       "    <tr>\n",
       "      <th>3</th>\n",
       "      <td>1993-08-08</td>\n",
       "      <td>Guinea</td>\n",
       "      <td>Sierra Leone</td>\n",
       "      <td>1</td>\n",
       "      <td>0</td>\n",
       "      <td>Friendly</td>\n",
       "      <td>Conakry</td>\n",
       "      <td>Guinea</td>\n",
       "      <td>False</td>\n",
       "      <td>65</td>\n",
       "      <td>Guinea</td>\n",
       "      <td>GUI</td>\n",
       "      <td>0.0</td>\n",
       "      <td>23</td>\n",
       "      <td>-2</td>\n",
       "      <td>0.0</td>\n",
       "      <td>0.0</td>\n",
       "      <td>0.0</td>\n",
       "      <td>0.0</td>\n",
       "      <td>0.0</td>\n",
       "      <td>0.0</td>\n",
       "      <td>0.0</td>\n",
       "      <td>0.0</td>\n",
       "      <td>CAF</td>\n",
       "      <td>1993-08-08</td>\n",
       "    </tr>\n",
       "    <tr>\n",
       "      <th>4</th>\n",
       "      <td>1993-08-08</td>\n",
       "      <td>Paraguay</td>\n",
       "      <td>Argentina</td>\n",
       "      <td>1</td>\n",
       "      <td>3</td>\n",
       "      <td>FIFA World Cup qualification</td>\n",
       "      <td>Asunción</td>\n",
       "      <td>Paraguay</td>\n",
       "      <td>False</td>\n",
       "      <td>67</td>\n",
       "      <td>Paraguay</td>\n",
       "      <td>PAR</td>\n",
       "      <td>0.0</td>\n",
       "      <td>22</td>\n",
       "      <td>1</td>\n",
       "      <td>0.0</td>\n",
       "      <td>0.0</td>\n",
       "      <td>0.0</td>\n",
       "      <td>0.0</td>\n",
       "      <td>0.0</td>\n",
       "      <td>0.0</td>\n",
       "      <td>0.0</td>\n",
       "      <td>0.0</td>\n",
       "      <td>CONMEBOL</td>\n",
       "      <td>1993-08-08</td>\n",
       "    </tr>\n",
       "  </tbody>\n",
       "</table>\n",
       "</div>"
      ],
      "text/plain": [
       "         date home_team     away_team  home_score  away_score  \\\n",
       "0  1993-08-08   Bolivia       Uruguay           3           1   \n",
       "1  1993-08-08    Brazil        Mexico           1           1   \n",
       "2  1993-08-08   Ecuador     Venezuela           5           0   \n",
       "3  1993-08-08    Guinea  Sierra Leone           1           0   \n",
       "4  1993-08-08  Paraguay     Argentina           1           3   \n",
       "\n",
       "                     tournament      city   country  neutral  rank  \\\n",
       "0  FIFA World Cup qualification    La Paz   Bolivia    False    59   \n",
       "1                      Friendly    Maceió    Brazil    False     8   \n",
       "2  FIFA World Cup qualification     Quito   Ecuador    False    35   \n",
       "3                      Friendly   Conakry    Guinea    False    65   \n",
       "4  FIFA World Cup qualification  Asunción  Paraguay    False    67   \n",
       "\n",
       "  country_full country_abrv  total_points  previous_points  rank_change  \\\n",
       "0      Bolivia          BOL           0.0               13           28   \n",
       "1       Brazil          BRA           0.0               55           -5   \n",
       "2      Ecuador          ECU           0.0               23           30   \n",
       "3       Guinea          GUI           0.0               23           -2   \n",
       "4     Paraguay          PAR           0.0               22            1   \n",
       "\n",
       "   cur_year_avg  cur_year_avg_weighted  last_year_avg  last_year_avg_weighted  \\\n",
       "0           0.0                    0.0            0.0                     0.0   \n",
       "1           0.0                    0.0            0.0                     0.0   \n",
       "2           0.0                    0.0            0.0                     0.0   \n",
       "3           0.0                    0.0            0.0                     0.0   \n",
       "4           0.0                    0.0            0.0                     0.0   \n",
       "\n",
       "   two_year_ago_avg  two_year_ago_weighted  three_year_ago_avg  \\\n",
       "0               0.0                    0.0                 0.0   \n",
       "1               0.0                    0.0                 0.0   \n",
       "2               0.0                    0.0                 0.0   \n",
       "3               0.0                    0.0                 0.0   \n",
       "4               0.0                    0.0                 0.0   \n",
       "\n",
       "   three_year_ago_weighted confederation   rank_date  \n",
       "0                      0.0      CONMEBOL  1993-08-08  \n",
       "1                      0.0      CONMEBOL  1993-08-08  \n",
       "2                      0.0      CONMEBOL  1993-08-08  \n",
       "3                      0.0           CAF  1993-08-08  \n",
       "4                      0.0      CONMEBOL  1993-08-08  "
      ]
     },
     "execution_count": 10,
     "metadata": {},
     "output_type": "execute_result"
    }
   ],
   "source": [
    "# merge the two datasets on the basis of date and home team\n",
    "# we are keeping everything in the \"results\" dataset\n",
    "dataset = results.merge(fifa_ranking, left_on = ['date', 'home_team'],\n",
    "                        right_on = ['rank_date', 'country_full'], how = 'inner')\n",
    "dataset.head()"
   ]
  },
  {
   "cell_type": "code",
   "execution_count": 11,
   "metadata": {},
   "outputs": [],
   "source": [
    "dataset.drop(columns = ['country_full', 'country_abrv', 'total_points', 'previous_points', 'rank_change', \n",
    "                        'cur_year_avg', 'cur_year_avg_weighted', 'last_year_avg', 'last_year_avg_weighted',\n",
    "                        'two_year_ago_avg', 'two_year_ago_weighted', 'three_year_ago_avg', \n",
    "                        'three_year_ago_weighted'], axis = 1, inplace = True)"
   ]
  },
  {
   "cell_type": "code",
   "execution_count": 12,
   "metadata": {},
   "outputs": [],
   "source": [
    "# since we merged the datasets using the home team/home country, we should rename the rank to 'home_rank'\n",
    "dataset.rename(columns = {'rank' : 'home_rank'}, inplace = True)"
   ]
  },
  {
   "cell_type": "code",
   "execution_count": 13,
   "metadata": {},
   "outputs": [
    {
     "data": {
      "text/html": [
       "<div>\n",
       "<style scoped>\n",
       "    .dataframe tbody tr th:only-of-type {\n",
       "        vertical-align: middle;\n",
       "    }\n",
       "\n",
       "    .dataframe tbody tr th {\n",
       "        vertical-align: top;\n",
       "    }\n",
       "\n",
       "    .dataframe thead th {\n",
       "        text-align: right;\n",
       "    }\n",
       "</style>\n",
       "<table border=\"1\" class=\"dataframe\">\n",
       "  <thead>\n",
       "    <tr style=\"text-align: right;\">\n",
       "      <th></th>\n",
       "      <th>date</th>\n",
       "      <th>home_team</th>\n",
       "      <th>away_team</th>\n",
       "      <th>home_score</th>\n",
       "      <th>away_score</th>\n",
       "      <th>tournament</th>\n",
       "      <th>city</th>\n",
       "      <th>country</th>\n",
       "      <th>neutral</th>\n",
       "      <th>home_rank</th>\n",
       "      <th>confederation</th>\n",
       "      <th>rank_date</th>\n",
       "    </tr>\n",
       "  </thead>\n",
       "  <tbody>\n",
       "    <tr>\n",
       "      <th>0</th>\n",
       "      <td>1993-08-08</td>\n",
       "      <td>Bolivia</td>\n",
       "      <td>Uruguay</td>\n",
       "      <td>3</td>\n",
       "      <td>1</td>\n",
       "      <td>FIFA World Cup qualification</td>\n",
       "      <td>La Paz</td>\n",
       "      <td>Bolivia</td>\n",
       "      <td>False</td>\n",
       "      <td>59</td>\n",
       "      <td>CONMEBOL</td>\n",
       "      <td>1993-08-08</td>\n",
       "    </tr>\n",
       "    <tr>\n",
       "      <th>1</th>\n",
       "      <td>1993-08-08</td>\n",
       "      <td>Brazil</td>\n",
       "      <td>Mexico</td>\n",
       "      <td>1</td>\n",
       "      <td>1</td>\n",
       "      <td>Friendly</td>\n",
       "      <td>Maceió</td>\n",
       "      <td>Brazil</td>\n",
       "      <td>False</td>\n",
       "      <td>8</td>\n",
       "      <td>CONMEBOL</td>\n",
       "      <td>1993-08-08</td>\n",
       "    </tr>\n",
       "    <tr>\n",
       "      <th>2</th>\n",
       "      <td>1993-08-08</td>\n",
       "      <td>Ecuador</td>\n",
       "      <td>Venezuela</td>\n",
       "      <td>5</td>\n",
       "      <td>0</td>\n",
       "      <td>FIFA World Cup qualification</td>\n",
       "      <td>Quito</td>\n",
       "      <td>Ecuador</td>\n",
       "      <td>False</td>\n",
       "      <td>35</td>\n",
       "      <td>CONMEBOL</td>\n",
       "      <td>1993-08-08</td>\n",
       "    </tr>\n",
       "  </tbody>\n",
       "</table>\n",
       "</div>"
      ],
      "text/plain": [
       "         date home_team  away_team  home_score  away_score  \\\n",
       "0  1993-08-08   Bolivia    Uruguay           3           1   \n",
       "1  1993-08-08    Brazil     Mexico           1           1   \n",
       "2  1993-08-08   Ecuador  Venezuela           5           0   \n",
       "\n",
       "                     tournament    city  country  neutral  home_rank  \\\n",
       "0  FIFA World Cup qualification  La Paz  Bolivia    False         59   \n",
       "1                      Friendly  Maceió   Brazil    False          8   \n",
       "2  FIFA World Cup qualification   Quito  Ecuador    False         35   \n",
       "\n",
       "  confederation   rank_date  \n",
       "0      CONMEBOL  1993-08-08  \n",
       "1      CONMEBOL  1993-08-08  \n",
       "2      CONMEBOL  1993-08-08  "
      ]
     },
     "execution_count": 13,
     "metadata": {},
     "output_type": "execute_result"
    }
   ],
   "source": [
    "# preview the new dataset\n",
    "dataset.head(3)"
   ]
  },
  {
   "cell_type": "code",
   "execution_count": 14,
   "metadata": {},
   "outputs": [],
   "source": [
    "# now to get the rank of the away team on the day of the match\n",
    "dataset = dataset.merge(fifa_ranking, left_on = ['date', 'away_team'],\n",
    "                        right_on = ['rank_date', 'country_full'], how = 'inner')"
   ]
  },
  {
   "cell_type": "code",
   "execution_count": 15,
   "metadata": {},
   "outputs": [],
   "source": [
    "# rename the rank column to 'away_rank'\n",
    "dataset.rename(columns = {'rank' : 'away_rank'}, inplace = True)"
   ]
  },
  {
   "cell_type": "code",
   "execution_count": 16,
   "metadata": {},
   "outputs": [],
   "source": [
    "# remove the extra columns\n",
    "dataset = dataset.drop(columns = ['confederation_x', 'rank_date_x','country_full',\n",
    "       'country_abrv', 'total_points', 'previous_points', 'rank_change',\n",
    "       'cur_year_avg', 'cur_year_avg_weighted', 'last_year_avg',\n",
    "       'last_year_avg_weighted', 'two_year_ago_avg', 'two_year_ago_weighted',\n",
    "       'three_year_ago_avg', 'three_year_ago_weighted', 'confederation_y',\n",
    "       'rank_date_y' ])"
   ]
  },
  {
   "cell_type": "code",
   "execution_count": 17,
   "metadata": {},
   "outputs": [
    {
     "data": {
      "text/html": [
       "<div>\n",
       "<style scoped>\n",
       "    .dataframe tbody tr th:only-of-type {\n",
       "        vertical-align: middle;\n",
       "    }\n",
       "\n",
       "    .dataframe tbody tr th {\n",
       "        vertical-align: top;\n",
       "    }\n",
       "\n",
       "    .dataframe thead th {\n",
       "        text-align: right;\n",
       "    }\n",
       "</style>\n",
       "<table border=\"1\" class=\"dataframe\">\n",
       "  <thead>\n",
       "    <tr style=\"text-align: right;\">\n",
       "      <th></th>\n",
       "      <th>date</th>\n",
       "      <th>home_team</th>\n",
       "      <th>away_team</th>\n",
       "      <th>home_score</th>\n",
       "      <th>away_score</th>\n",
       "      <th>tournament</th>\n",
       "      <th>city</th>\n",
       "      <th>country</th>\n",
       "      <th>neutral</th>\n",
       "      <th>home_rank</th>\n",
       "      <th>away_rank</th>\n",
       "    </tr>\n",
       "  </thead>\n",
       "  <tbody>\n",
       "    <tr>\n",
       "      <th>0</th>\n",
       "      <td>1993-08-08</td>\n",
       "      <td>Bolivia</td>\n",
       "      <td>Uruguay</td>\n",
       "      <td>3</td>\n",
       "      <td>1</td>\n",
       "      <td>FIFA World Cup qualification</td>\n",
       "      <td>La Paz</td>\n",
       "      <td>Bolivia</td>\n",
       "      <td>False</td>\n",
       "      <td>59</td>\n",
       "      <td>22</td>\n",
       "    </tr>\n",
       "    <tr>\n",
       "      <th>1</th>\n",
       "      <td>1993-08-08</td>\n",
       "      <td>Brazil</td>\n",
       "      <td>Mexico</td>\n",
       "      <td>1</td>\n",
       "      <td>1</td>\n",
       "      <td>Friendly</td>\n",
       "      <td>Maceió</td>\n",
       "      <td>Brazil</td>\n",
       "      <td>False</td>\n",
       "      <td>8</td>\n",
       "      <td>14</td>\n",
       "    </tr>\n",
       "    <tr>\n",
       "      <th>2</th>\n",
       "      <td>1993-08-08</td>\n",
       "      <td>Ecuador</td>\n",
       "      <td>Venezuela</td>\n",
       "      <td>5</td>\n",
       "      <td>0</td>\n",
       "      <td>FIFA World Cup qualification</td>\n",
       "      <td>Quito</td>\n",
       "      <td>Ecuador</td>\n",
       "      <td>False</td>\n",
       "      <td>35</td>\n",
       "      <td>94</td>\n",
       "    </tr>\n",
       "  </tbody>\n",
       "</table>\n",
       "</div>"
      ],
      "text/plain": [
       "         date home_team  away_team  home_score  away_score  \\\n",
       "0  1993-08-08   Bolivia    Uruguay           3           1   \n",
       "1  1993-08-08    Brazil     Mexico           1           1   \n",
       "2  1993-08-08   Ecuador  Venezuela           5           0   \n",
       "\n",
       "                     tournament    city  country  neutral  home_rank  \\\n",
       "0  FIFA World Cup qualification  La Paz  Bolivia    False         59   \n",
       "1                      Friendly  Maceió   Brazil    False          8   \n",
       "2  FIFA World Cup qualification   Quito  Ecuador    False         35   \n",
       "\n",
       "   away_rank  \n",
       "0         22  \n",
       "1         14  \n",
       "2         94  "
      ]
     },
     "execution_count": 17,
     "metadata": {},
     "output_type": "execute_result"
    }
   ],
   "source": [
    "# previewing our final dataset\n",
    "dataset.head(3)"
   ]
  },
  {
   "cell_type": "code",
   "execution_count": 18,
   "metadata": {},
   "outputs": [
    {
     "name": "stdout",
     "output_type": "stream",
     "text": [
      "Merged datasets shape: (871, 11)\n",
      "Number of data samples lost: 39968\n",
      "Percent of data samples lost: 97.87\n"
     ]
    }
   ],
   "source": [
    "# check the shapes\n",
    "print(\"Merged datasets shape:\", dataset.shape)\n",
    "\n",
    "# calculate how much data has been lost\n",
    "lost = results.shape[0] - dataset.shape[0]\n",
    "percent = (lost / results.shape[0]) * 100\n",
    "print(\"Number of data samples lost:\", lost)\n",
    "print(\"Percent of data samples lost:\", round(percent, 2))"
   ]
  },
  {
   "cell_type": "code",
   "execution_count": 19,
   "metadata": {},
   "outputs": [
    {
     "data": {
      "text/plain": [
       "date          0\n",
       "home_team     0\n",
       "away_team     0\n",
       "home_score    0\n",
       "away_score    0\n",
       "tournament    0\n",
       "city          0\n",
       "country       0\n",
       "neutral       0\n",
       "home_rank     0\n",
       "away_rank     0\n",
       "dtype: int64"
      ]
     },
     "execution_count": 19,
     "metadata": {},
     "output_type": "execute_result"
    }
   ],
   "source": [
    "# check for missing values\n",
    "dataset.isna().sum()"
   ]
  },
  {
   "cell_type": "markdown",
   "metadata": {},
   "source": [
    "There are no missing values."
   ]
  },
  {
   "cell_type": "code",
   "execution_count": 20,
   "metadata": {},
   "outputs": [
    {
     "data": {
      "text/html": [
       "<div>\n",
       "<style scoped>\n",
       "    .dataframe tbody tr th:only-of-type {\n",
       "        vertical-align: middle;\n",
       "    }\n",
       "\n",
       "    .dataframe tbody tr th {\n",
       "        vertical-align: top;\n",
       "    }\n",
       "\n",
       "    .dataframe thead th {\n",
       "        text-align: right;\n",
       "    }\n",
       "</style>\n",
       "<table border=\"1\" class=\"dataframe\">\n",
       "  <thead>\n",
       "    <tr style=\"text-align: right;\">\n",
       "      <th></th>\n",
       "      <th>date</th>\n",
       "      <th>home_team</th>\n",
       "      <th>away_team</th>\n",
       "      <th>home_score</th>\n",
       "      <th>away_score</th>\n",
       "      <th>tournament</th>\n",
       "      <th>city</th>\n",
       "      <th>country</th>\n",
       "      <th>neutral</th>\n",
       "      <th>home_rank</th>\n",
       "      <th>away_rank</th>\n",
       "    </tr>\n",
       "  </thead>\n",
       "  <tbody>\n",
       "  </tbody>\n",
       "</table>\n",
       "</div>"
      ],
      "text/plain": [
       "Empty DataFrame\n",
       "Columns: [date, home_team, away_team, home_score, away_score, tournament, city, country, neutral, home_rank, away_rank]\n",
       "Index: []"
      ]
     },
     "execution_count": 20,
     "metadata": {},
     "output_type": "execute_result"
    }
   ],
   "source": [
    "# check for duplicated records\n",
    "duplicatedData = dataset[dataset.duplicated()]\n",
    "duplicatedData"
   ]
  },
  {
   "cell_type": "markdown",
   "metadata": {},
   "source": [
    "There are no duplicated records either."
   ]
  },
  {
   "cell_type": "markdown",
   "metadata": {},
   "source": [
    "# 3. Exploratory Data Analysis & Feature Engineering"
   ]
  },
  {
   "cell_type": "code",
   "execution_count": 21,
   "metadata": {},
   "outputs": [
    {
     "data": {
      "text/html": [
       "<div>\n",
       "<style scoped>\n",
       "    .dataframe tbody tr th:only-of-type {\n",
       "        vertical-align: middle;\n",
       "    }\n",
       "\n",
       "    .dataframe tbody tr th {\n",
       "        vertical-align: top;\n",
       "    }\n",
       "\n",
       "    .dataframe thead th {\n",
       "        text-align: right;\n",
       "    }\n",
       "</style>\n",
       "<table border=\"1\" class=\"dataframe\">\n",
       "  <thead>\n",
       "    <tr style=\"text-align: right;\">\n",
       "      <th></th>\n",
       "      <th>date</th>\n",
       "      <th>home_team</th>\n",
       "      <th>away_team</th>\n",
       "      <th>home_score</th>\n",
       "      <th>away_score</th>\n",
       "      <th>tournament</th>\n",
       "      <th>city</th>\n",
       "      <th>country</th>\n",
       "      <th>neutral</th>\n",
       "      <th>home_rank</th>\n",
       "      <th>away_rank</th>\n",
       "    </tr>\n",
       "  </thead>\n",
       "  <tbody>\n",
       "    <tr>\n",
       "      <th>count</th>\n",
       "      <td>871</td>\n",
       "      <td>871</td>\n",
       "      <td>871</td>\n",
       "      <td>871.000000</td>\n",
       "      <td>871.000000</td>\n",
       "      <td>871</td>\n",
       "      <td>871</td>\n",
       "      <td>871</td>\n",
       "      <td>871</td>\n",
       "      <td>871.000000</td>\n",
       "      <td>871.000000</td>\n",
       "    </tr>\n",
       "    <tr>\n",
       "      <th>unique</th>\n",
       "      <td>157</td>\n",
       "      <td>160</td>\n",
       "      <td>159</td>\n",
       "      <td>NaN</td>\n",
       "      <td>NaN</td>\n",
       "      <td>38</td>\n",
       "      <td>399</td>\n",
       "      <td>153</td>\n",
       "      <td>2</td>\n",
       "      <td>NaN</td>\n",
       "      <td>NaN</td>\n",
       "    </tr>\n",
       "    <tr>\n",
       "      <th>top</th>\n",
       "      <td>2010-08-11</td>\n",
       "      <td>Mexico</td>\n",
       "      <td>Uruguay</td>\n",
       "      <td>NaN</td>\n",
       "      <td>NaN</td>\n",
       "      <td>Friendly</td>\n",
       "      <td>Doha</td>\n",
       "      <td>United States</td>\n",
       "      <td>False</td>\n",
       "      <td>NaN</td>\n",
       "      <td>NaN</td>\n",
       "    </tr>\n",
       "    <tr>\n",
       "      <th>freq</th>\n",
       "      <td>45</td>\n",
       "      <td>23</td>\n",
       "      <td>15</td>\n",
       "      <td>NaN</td>\n",
       "      <td>NaN</td>\n",
       "      <td>574</td>\n",
       "      <td>14</td>\n",
       "      <td>34</td>\n",
       "      <td>733</td>\n",
       "      <td>NaN</td>\n",
       "      <td>NaN</td>\n",
       "    </tr>\n",
       "    <tr>\n",
       "      <th>mean</th>\n",
       "      <td>NaN</td>\n",
       "      <td>NaN</td>\n",
       "      <td>NaN</td>\n",
       "      <td>1.632606</td>\n",
       "      <td>1.004592</td>\n",
       "      <td>NaN</td>\n",
       "      <td>NaN</td>\n",
       "      <td>NaN</td>\n",
       "      <td>NaN</td>\n",
       "      <td>65.549943</td>\n",
       "      <td>69.918485</td>\n",
       "    </tr>\n",
       "    <tr>\n",
       "      <th>std</th>\n",
       "      <td>NaN</td>\n",
       "      <td>NaN</td>\n",
       "      <td>NaN</td>\n",
       "      <td>1.905960</td>\n",
       "      <td>1.154691</td>\n",
       "      <td>NaN</td>\n",
       "      <td>NaN</td>\n",
       "      <td>NaN</td>\n",
       "      <td>NaN</td>\n",
       "      <td>47.557993</td>\n",
       "      <td>50.497652</td>\n",
       "    </tr>\n",
       "    <tr>\n",
       "      <th>min</th>\n",
       "      <td>NaN</td>\n",
       "      <td>NaN</td>\n",
       "      <td>NaN</td>\n",
       "      <td>0.000000</td>\n",
       "      <td>0.000000</td>\n",
       "      <td>NaN</td>\n",
       "      <td>NaN</td>\n",
       "      <td>NaN</td>\n",
       "      <td>NaN</td>\n",
       "      <td>1.000000</td>\n",
       "      <td>1.000000</td>\n",
       "    </tr>\n",
       "    <tr>\n",
       "      <th>25%</th>\n",
       "      <td>NaN</td>\n",
       "      <td>NaN</td>\n",
       "      <td>NaN</td>\n",
       "      <td>0.000000</td>\n",
       "      <td>0.000000</td>\n",
       "      <td>NaN</td>\n",
       "      <td>NaN</td>\n",
       "      <td>NaN</td>\n",
       "      <td>NaN</td>\n",
       "      <td>27.000000</td>\n",
       "      <td>28.000000</td>\n",
       "    </tr>\n",
       "    <tr>\n",
       "      <th>50%</th>\n",
       "      <td>NaN</td>\n",
       "      <td>NaN</td>\n",
       "      <td>NaN</td>\n",
       "      <td>1.000000</td>\n",
       "      <td>1.000000</td>\n",
       "      <td>NaN</td>\n",
       "      <td>NaN</td>\n",
       "      <td>NaN</td>\n",
       "      <td>NaN</td>\n",
       "      <td>58.000000</td>\n",
       "      <td>61.000000</td>\n",
       "    </tr>\n",
       "    <tr>\n",
       "      <th>75%</th>\n",
       "      <td>NaN</td>\n",
       "      <td>NaN</td>\n",
       "      <td>NaN</td>\n",
       "      <td>2.000000</td>\n",
       "      <td>2.000000</td>\n",
       "      <td>NaN</td>\n",
       "      <td>NaN</td>\n",
       "      <td>NaN</td>\n",
       "      <td>NaN</td>\n",
       "      <td>95.000000</td>\n",
       "      <td>102.500000</td>\n",
       "    </tr>\n",
       "    <tr>\n",
       "      <th>max</th>\n",
       "      <td>NaN</td>\n",
       "      <td>NaN</td>\n",
       "      <td>NaN</td>\n",
       "      <td>31.000000</td>\n",
       "      <td>9.000000</td>\n",
       "      <td>NaN</td>\n",
       "      <td>NaN</td>\n",
       "      <td>NaN</td>\n",
       "      <td>NaN</td>\n",
       "      <td>206.000000</td>\n",
       "      <td>209.000000</td>\n",
       "    </tr>\n",
       "  </tbody>\n",
       "</table>\n",
       "</div>"
      ],
      "text/plain": [
       "              date home_team away_team  home_score  away_score tournament  \\\n",
       "count          871       871       871  871.000000  871.000000        871   \n",
       "unique         157       160       159         NaN         NaN         38   \n",
       "top     2010-08-11    Mexico   Uruguay         NaN         NaN   Friendly   \n",
       "freq            45        23        15         NaN         NaN        574   \n",
       "mean           NaN       NaN       NaN    1.632606    1.004592        NaN   \n",
       "std            NaN       NaN       NaN    1.905960    1.154691        NaN   \n",
       "min            NaN       NaN       NaN    0.000000    0.000000        NaN   \n",
       "25%            NaN       NaN       NaN    0.000000    0.000000        NaN   \n",
       "50%            NaN       NaN       NaN    1.000000    1.000000        NaN   \n",
       "75%            NaN       NaN       NaN    2.000000    2.000000        NaN   \n",
       "max            NaN       NaN       NaN   31.000000    9.000000        NaN   \n",
       "\n",
       "        city        country neutral   home_rank   away_rank  \n",
       "count    871            871     871  871.000000  871.000000  \n",
       "unique   399            153       2         NaN         NaN  \n",
       "top     Doha  United States   False         NaN         NaN  \n",
       "freq      14             34     733         NaN         NaN  \n",
       "mean     NaN            NaN     NaN   65.549943   69.918485  \n",
       "std      NaN            NaN     NaN   47.557993   50.497652  \n",
       "min      NaN            NaN     NaN    1.000000    1.000000  \n",
       "25%      NaN            NaN     NaN   27.000000   28.000000  \n",
       "50%      NaN            NaN     NaN   58.000000   61.000000  \n",
       "75%      NaN            NaN     NaN   95.000000  102.500000  \n",
       "max      NaN            NaN     NaN  206.000000  209.000000  "
      ]
     },
     "execution_count": 21,
     "metadata": {},
     "output_type": "execute_result"
    }
   ],
   "source": [
    "# view descriptive statistics\n",
    "dataset.describe(include = 'all')"
   ]
  },
  {
   "cell_type": "code",
   "execution_count": 22,
   "metadata": {},
   "outputs": [
    {
     "name": "stdout",
     "output_type": "stream",
     "text": [
      "False    733\n",
      "True     138\n",
      "Name: neutral, dtype: int64\n"
     ]
    },
    {
     "data": {
      "image/png": "[encoded data removed]",
      "text/plain": [
       "<Figure size 432x288 with 1 Axes>"
      ]
     },
     "metadata": {
      "needs_background": "light"
     },
     "output_type": "display_data"
    }
   ],
   "source": [
    "# what is the distribution of whether a location was neutral or not like?\n",
    "dataset.neutral.value_counts().plot(kind = 'bar', color = ('red', 'green'), rot = 0)\n",
    "plt.title(\"Did the match occur at a neutral location?\")\n",
    "print(dataset.neutral.value_counts())"
   ]
  },
  {
   "cell_type": "markdown",
   "metadata": {},
   "source": [
    "We can see that very few matches occured at neutral locations. We can look into whether being on \"enemy territory\" affected performance."
   ]
  },
  {
   "cell_type": "code",
   "execution_count": 23,
   "metadata": {
    "scrolled": true
   },
   "outputs": [
    {
     "data": {
      "text/plain": [
       "1     264\n",
       "0     224\n",
       "2     205\n",
       "3      97\n",
       "4      35\n",
       "5      23\n",
       "6       8\n",
       "8       4\n",
       "7       4\n",
       "9       3\n",
       "31      1\n",
       "15      1\n",
       "11      1\n",
       "10      1\n",
       "Name: home_score, dtype: int64"
      ]
     },
     "execution_count": 23,
     "metadata": {},
     "output_type": "execute_result"
    },
    {
     "data": {
      "image/png": "[encoded data removed]",
      "text/plain": [
       "<Figure size 432x288 with 1 Axes>"
      ]
     },
     "metadata": {
      "needs_background": "light"
     },
     "output_type": "display_data"
    }
   ],
   "source": [
    "# checking for outliers\n",
    "dataset.home_score.plot(kind =\"box\")\n",
    "\n",
    "dataset.home_score.value_counts()"
   ]
  },
  {
   "cell_type": "code",
   "execution_count": 24,
   "metadata": {
    "scrolled": true
   },
   "outputs": [
    {
     "data": {
      "text/plain": [
       "0    353\n",
       "1    292\n",
       "2    148\n",
       "3     47\n",
       "4     20\n",
       "5      5\n",
       "6      3\n",
       "7      2\n",
       "9      1\n",
       "Name: away_score, dtype: int64"
      ]
     },
     "execution_count": 24,
     "metadata": {},
     "output_type": "execute_result"
    },
    {
     "data": {
      "image/png": "[encoded data removed]",
      "text/plain": [
       "<Figure size 432x288 with 1 Axes>"
      ]
     },
     "metadata": {
      "needs_background": "light"
     },
     "output_type": "display_data"
    }
   ],
   "source": [
    "dataset.away_score.plot(kind =\"box\")\n",
    "\n",
    "dataset.away_score.value_counts()"
   ]
  },
  {
   "cell_type": "code",
   "execution_count": 25,
   "metadata": {},
   "outputs": [
    {
     "data": {
      "text/plain": [
       "(709, 11)"
      ]
     },
     "execution_count": 25,
     "metadata": {},
     "output_type": "execute_result"
    }
   ],
   "source": [
    "# remove outliers using IQR method\n",
    "\n",
    "Q3 = dataset.quantile(0.75)\n",
    "Q1 = dataset.quantile(0.25)\n",
    "IQR = Q3 - Q1\n",
    "\n",
    "IQR\n",
    "\n",
    "\n",
    "dataset = dataset[~((dataset < (Q1 - 1.5 * IQR)) |(dataset > (Q3 + 1.5 * IQR))).any(axis=1)]\n",
    "dataset.shape"
   ]
  },
  {
   "cell_type": "markdown",
   "metadata": {},
   "source": [
    "After removing the outliers, we are now down to 709 records."
   ]
  },
  {
   "cell_type": "code",
   "execution_count": 26,
   "metadata": {},
   "outputs": [
    {
     "data": {
      "text/plain": [
       "Text(0.5, 1.0, 'Did the match occur at a neutral location?')"
      ]
     },
     "execution_count": 26,
     "metadata": {},
     "output_type": "execute_result"
    },
    {
     "data": {
      "image/png": "[encoded data removed]",
      "text/plain": [
       "<Figure size 432x288 with 1 Axes>"
      ]
     },
     "metadata": {
      "needs_background": "light"
     },
     "output_type": "display_data"
    }
   ],
   "source": [
    "dataset.neutral.value_counts().plot(kind = 'bar', color = ('red', 'green'), rot = 0)\n",
    "plt.title(\"Did the match occur at a neutral location?\")"
   ]
  },
  {
   "cell_type": "markdown",
   "metadata": {},
   "source": [
    "After removing the outliers, we see that all the matches left in our dataset did not occur in the home team's location. This raises the possibility that some of the matches that  were not played in neutral locations might have been rigged or the scores for those matches were altered."
   ]
  },
  {
   "cell_type": "code",
   "execution_count": 27,
   "metadata": {},
   "outputs": [
    {
     "data": {
      "text/plain": [
       "Friendly                                      490\n",
       "FIFA World Cup qualification                  114\n",
       "UEFA Euro qualification                        34\n",
       "AFC Asian Cup qualification                    29\n",
       "AFF Championship                                5\n",
       "African Cup of Nations qualification            5\n",
       "Gulf Cup                                        4\n",
       "Cyprus International Tournament                 3\n",
       "King's Cup                                      2\n",
       "SAFF Cup                                        2\n",
       "United Arab Emirates Friendship Tournament      2\n",
       "CECAFA Cup                                      2\n",
       "Prime Minister's Cup                            1\n",
       "UAFA Cup                                        1\n",
       "Confederations Cup                              1\n",
       "CFU Caribbean Cup qualification                 1\n",
       "Intercontinental Cup                            1\n",
       "African Cup of Nations                          1\n",
       "COSAFA Cup                                      1\n",
       "AFC Asian Cup                                   1\n",
       "Oceania Nations Cup                             1\n",
       "UNCAF Cup                                       1\n",
       "CFU Caribbean Cup                               1\n",
       "Copa América                                    1\n",
       "Windward Islands Tournament                     1\n",
       "AFC Challenge Cup qualification                 1\n",
       "Gold Cup qualification                          1\n",
       "Copa del Pacífico                               1\n",
       "Malta International Tournament                  1\n",
       "Name: tournament, dtype: int64"
      ]
     },
     "execution_count": 27,
     "metadata": {},
     "output_type": "execute_result"
    }
   ],
   "source": [
    "# let's see the different types of tournaments\n",
    "dataset.tournament.value_counts()"
   ]
  },
  {
   "cell_type": "markdown",
   "metadata": {},
   "source": [
    "There are so many different tournament types. I am not a football fan, so I do not know whether there is a difference between a Championship, a Cup, and a Tournament. I am assuming that the one thing they have in common is that they are all not friendly matches so we'll group them accordingly."
   ]
  },
  {
   "cell_type": "code",
   "execution_count": 28,
   "metadata": {},
   "outputs": [
    {
     "data": {
      "text/plain": [
       "array([<matplotlib.axes._subplots.AxesSubplot object at 0x7f98d74a8e48>],\n",
       "      dtype=object)"
      ]
     },
     "execution_count": 28,
     "metadata": {},
     "output_type": "execute_result"
    },
    {
     "data": {
      "image/png": "[encoded data removed]",
      "text/plain": [
       "<Figure size 576x432 with 1 Axes>"
      ]
     },
     "metadata": {},
     "output_type": "display_data"
    }
   ],
   "source": [
    "dataset.loc[dataset.tournament != 'Friendly', 'tournament'] = 'Not Friendly'\n",
    "dataset.tournament.value_counts().plot(kind = 'pie', autopct = '%0.1f%%', figsize = [8, 6],\n",
    "                                       subplots = True)"
   ]
  },
  {
   "cell_type": "markdown",
   "metadata": {},
   "source": [
    "As we can see, the number of friendly matches far outnumber those of the non-friendly matches, which makes our dataset biased."
   ]
  },
  {
   "cell_type": "code",
   "execution_count": 29,
   "metadata": {},
   "outputs": [
    {
     "data": {
      "text/html": [
       "<div>\n",
       "<style scoped>\n",
       "    .dataframe tbody tr th:only-of-type {\n",
       "        vertical-align: middle;\n",
       "    }\n",
       "\n",
       "    .dataframe tbody tr th {\n",
       "        vertical-align: top;\n",
       "    }\n",
       "\n",
       "    .dataframe thead th {\n",
       "        text-align: right;\n",
       "    }\n",
       "</style>\n",
       "<table border=\"1\" class=\"dataframe\">\n",
       "  <thead>\n",
       "    <tr style=\"text-align: right;\">\n",
       "      <th></th>\n",
       "      <th>date</th>\n",
       "      <th>home_team</th>\n",
       "      <th>away_team</th>\n",
       "      <th>home_score</th>\n",
       "      <th>away_score</th>\n",
       "      <th>tournament</th>\n",
       "      <th>city</th>\n",
       "      <th>country</th>\n",
       "      <th>neutral</th>\n",
       "      <th>home_rank</th>\n",
       "      <th>away_rank</th>\n",
       "      <th>win_loss_draw</th>\n",
       "    </tr>\n",
       "  </thead>\n",
       "  <tbody>\n",
       "    <tr>\n",
       "      <th>0</th>\n",
       "      <td>1993-08-08</td>\n",
       "      <td>Bolivia</td>\n",
       "      <td>Uruguay</td>\n",
       "      <td>3</td>\n",
       "      <td>1</td>\n",
       "      <td>Not Friendly</td>\n",
       "      <td>La Paz</td>\n",
       "      <td>Bolivia</td>\n",
       "      <td>False</td>\n",
       "      <td>59</td>\n",
       "      <td>22</td>\n",
       "      <td>win</td>\n",
       "    </tr>\n",
       "    <tr>\n",
       "      <th>1</th>\n",
       "      <td>1993-08-08</td>\n",
       "      <td>Brazil</td>\n",
       "      <td>Mexico</td>\n",
       "      <td>1</td>\n",
       "      <td>1</td>\n",
       "      <td>Friendly</td>\n",
       "      <td>Maceió</td>\n",
       "      <td>Brazil</td>\n",
       "      <td>False</td>\n",
       "      <td>8</td>\n",
       "      <td>14</td>\n",
       "      <td>draw</td>\n",
       "    </tr>\n",
       "    <tr>\n",
       "      <th>2</th>\n",
       "      <td>1993-08-08</td>\n",
       "      <td>Ecuador</td>\n",
       "      <td>Venezuela</td>\n",
       "      <td>5</td>\n",
       "      <td>0</td>\n",
       "      <td>Not Friendly</td>\n",
       "      <td>Quito</td>\n",
       "      <td>Ecuador</td>\n",
       "      <td>False</td>\n",
       "      <td>35</td>\n",
       "      <td>94</td>\n",
       "      <td>win</td>\n",
       "    </tr>\n",
       "    <tr>\n",
       "      <th>3</th>\n",
       "      <td>1993-08-08</td>\n",
       "      <td>Guinea</td>\n",
       "      <td>Sierra Leone</td>\n",
       "      <td>1</td>\n",
       "      <td>0</td>\n",
       "      <td>Friendly</td>\n",
       "      <td>Conakry</td>\n",
       "      <td>Guinea</td>\n",
       "      <td>False</td>\n",
       "      <td>65</td>\n",
       "      <td>86</td>\n",
       "      <td>win</td>\n",
       "    </tr>\n",
       "    <tr>\n",
       "      <th>4</th>\n",
       "      <td>1993-08-08</td>\n",
       "      <td>Paraguay</td>\n",
       "      <td>Argentina</td>\n",
       "      <td>1</td>\n",
       "      <td>3</td>\n",
       "      <td>Not Friendly</td>\n",
       "      <td>Asunción</td>\n",
       "      <td>Paraguay</td>\n",
       "      <td>False</td>\n",
       "      <td>67</td>\n",
       "      <td>5</td>\n",
       "      <td>lose</td>\n",
       "    </tr>\n",
       "  </tbody>\n",
       "</table>\n",
       "</div>"
      ],
      "text/plain": [
       "         date home_team     away_team  home_score  away_score    tournament  \\\n",
       "0  1993-08-08   Bolivia       Uruguay           3           1  Not Friendly   \n",
       "1  1993-08-08    Brazil        Mexico           1           1      Friendly   \n",
       "2  1993-08-08   Ecuador     Venezuela           5           0  Not Friendly   \n",
       "3  1993-08-08    Guinea  Sierra Leone           1           0      Friendly   \n",
       "4  1993-08-08  Paraguay     Argentina           1           3  Not Friendly   \n",
       "\n",
       "       city   country  neutral  home_rank  away_rank win_loss_draw  \n",
       "0    La Paz   Bolivia    False         59         22           win  \n",
       "1    Maceió    Brazil    False          8         14          draw  \n",
       "2     Quito   Ecuador    False         35         94           win  \n",
       "3   Conakry    Guinea    False         65         86           win  \n",
       "4  Asunción  Paraguay    False         67          5          lose  "
      ]
     },
     "execution_count": 29,
     "metadata": {},
     "output_type": "execute_result"
    }
   ],
   "source": [
    "# add a column that determines whether the home team won, lost, or had a draw with the away team\n",
    "\n",
    "conditions = [\n",
    "    (dataset.home_score > dataset.away_score),\n",
    "    (dataset.home_score < dataset.away_score),\n",
    "    (dataset.home_score == dataset.away_score)\n",
    "]\n",
    "choices = ['win', 'lose', 'draw']\n",
    "\n",
    "dataset['win_loss_draw'] = np.select(conditions, choices)\n",
    "dataset.head()\n"
   ]
  },
  {
   "cell_type": "code",
   "execution_count": 30,
   "metadata": {},
   "outputs": [
    {
     "name": "stdout",
     "output_type": "stream",
     "text": [
      "win     338\n",
      "draw    192\n",
      "lose    179\n",
      "Name: win_loss_draw, dtype: int64\n"
     ]
    },
    {
     "data": {
      "image/png": "[encoded data removed]",
      "text/plain": [
       "<Figure size 432x288 with 1 Axes>"
      ]
     },
     "metadata": {
      "needs_background": "light"
     },
     "output_type": "display_data"
    }
   ],
   "source": [
    "# let's see the distribution of the scores from the home team's perspective\n",
    "dataset.win_loss_draw.value_counts().plot(kind = 'bar', rot = 0)\n",
    "print(dataset.win_loss_draw.value_counts())"
   ]
  },
  {
   "cell_type": "markdown",
   "metadata": {},
   "source": [
    "Majority of the matches resulted in the home team winning, while around half of that number resulted in either a draw or a win."
   ]
  },
  {
   "cell_type": "code",
   "execution_count": 31,
   "metadata": {},
   "outputs": [
    {
     "data": {
      "text/plain": [
       "[Text(0, 0.5, 'Win, Lose, or Draw'),\n",
       " Text(0.5, 1.0, 'Distribution of Outcomes depending on Tournament')]"
      ]
     },
     "execution_count": 31,
     "metadata": {},
     "output_type": "execute_result"
    },
    {
     "data": {
      "image/png": "[encoded data removed]",
      "text/plain": [
       "<Figure size 432x288 with 1 Axes>"
      ]
     },
     "metadata": {
      "needs_background": "light"
     },
     "output_type": "display_data"
    }
   ],
   "source": [
    "# how did the home team perform depending on the tournament type?\n",
    "home = sb.countplot('win_loss_draw', hue = 'tournament', data = dataset)\n",
    "home.set(title = \"Distribution of Outcomes depending on Tournament\",\n",
    "        ylabel = \"Win, Lose, or Draw\")"
   ]
  },
  {
   "cell_type": "markdown",
   "metadata": {},
   "source": [
    "It looks like the home team's performance is really good when the match is friendly. And, even in non-friendly matches such as tournaments and championships, the home team manages to win more than the visiting team. This shows that tournament type is not as big an impact on the outcome as I thought although friendly matches certainly do make winning easier."
   ]
  },
  {
   "cell_type": "code",
   "execution_count": 32,
   "metadata": {},
   "outputs": [],
   "source": [
    "# drop the 'country' and 'neutral' columns because we no longer need them\n",
    "dataset.drop(columns = ['city', 'country', 'neutral'], inplace = True)"
   ]
  },
  {
   "cell_type": "code",
   "execution_count": 33,
   "metadata": {},
   "outputs": [],
   "source": [
    "# saving our dataset in case of irreversible errors\n",
    "dataset.to_csv('ready_dataset.csv', index = False)"
   ]
  },
  {
   "cell_type": "code",
   "execution_count": 34,
   "metadata": {},
   "outputs": [
    {
     "data": {
      "text/html": [
       "<div>\n",
       "<style scoped>\n",
       "    .dataframe tbody tr th:only-of-type {\n",
       "        vertical-align: middle;\n",
       "    }\n",
       "\n",
       "    .dataframe tbody tr th {\n",
       "        vertical-align: top;\n",
       "    }\n",
       "\n",
       "    .dataframe thead th {\n",
       "        text-align: right;\n",
       "    }\n",
       "</style>\n",
       "<table border=\"1\" class=\"dataframe\">\n",
       "  <thead>\n",
       "    <tr style=\"text-align: right;\">\n",
       "      <th></th>\n",
       "      <th>date</th>\n",
       "      <th>home_team</th>\n",
       "      <th>away_team</th>\n",
       "      <th>home_score</th>\n",
       "      <th>away_score</th>\n",
       "      <th>tournament</th>\n",
       "      <th>home_rank</th>\n",
       "      <th>away_rank</th>\n",
       "      <th>win_loss_draw</th>\n",
       "    </tr>\n",
       "  </thead>\n",
       "  <tbody>\n",
       "    <tr>\n",
       "      <th>704</th>\n",
       "      <td>2018-06-07</td>\n",
       "      <td>England</td>\n",
       "      <td>Costa Rica</td>\n",
       "      <td>2</td>\n",
       "      <td>0</td>\n",
       "      <td>Friendly</td>\n",
       "      <td>12</td>\n",
       "      <td>23</td>\n",
       "      <td>win</td>\n",
       "    </tr>\n",
       "    <tr>\n",
       "      <th>705</th>\n",
       "      <td>2018-06-07</td>\n",
       "      <td>Uruguay</td>\n",
       "      <td>Uzbekistan</td>\n",
       "      <td>3</td>\n",
       "      <td>0</td>\n",
       "      <td>Friendly</td>\n",
       "      <td>14</td>\n",
       "      <td>95</td>\n",
       "      <td>win</td>\n",
       "    </tr>\n",
       "    <tr>\n",
       "      <th>706</th>\n",
       "      <td>2018-06-07</td>\n",
       "      <td>Portugal</td>\n",
       "      <td>Algeria</td>\n",
       "      <td>3</td>\n",
       "      <td>0</td>\n",
       "      <td>Friendly</td>\n",
       "      <td>4</td>\n",
       "      <td>66</td>\n",
       "      <td>win</td>\n",
       "    </tr>\n",
       "    <tr>\n",
       "      <th>707</th>\n",
       "      <td>2018-06-07</td>\n",
       "      <td>Iceland</td>\n",
       "      <td>Ghana</td>\n",
       "      <td>2</td>\n",
       "      <td>2</td>\n",
       "      <td>Friendly</td>\n",
       "      <td>22</td>\n",
       "      <td>47</td>\n",
       "      <td>draw</td>\n",
       "    </tr>\n",
       "    <tr>\n",
       "      <th>708</th>\n",
       "      <td>2018-06-07</td>\n",
       "      <td>India</td>\n",
       "      <td>New Zealand</td>\n",
       "      <td>1</td>\n",
       "      <td>2</td>\n",
       "      <td>Not Friendly</td>\n",
       "      <td>97</td>\n",
       "      <td>120</td>\n",
       "      <td>lose</td>\n",
       "    </tr>\n",
       "  </tbody>\n",
       "</table>\n",
       "</div>"
      ],
      "text/plain": [
       "           date home_team    away_team  home_score  away_score    tournament  \\\n",
       "704  2018-06-07   England   Costa Rica           2           0      Friendly   \n",
       "705  2018-06-07   Uruguay   Uzbekistan           3           0      Friendly   \n",
       "706  2018-06-07  Portugal      Algeria           3           0      Friendly   \n",
       "707  2018-06-07   Iceland        Ghana           2           2      Friendly   \n",
       "708  2018-06-07     India  New Zealand           1           2  Not Friendly   \n",
       "\n",
       "     home_rank  away_rank win_loss_draw  \n",
       "704         12         23           win  \n",
       "705         14         95           win  \n",
       "706          4         66           win  \n",
       "707         22         47          draw  \n",
       "708         97        120          lose  "
      ]
     },
     "execution_count": 34,
     "metadata": {},
     "output_type": "execute_result"
    }
   ],
   "source": [
    "# loading our new modified dataset\n",
    "dataset = pd.read_csv('ready_dataset.csv')\n",
    "dataset.tail()"
   ]
  },
  {
   "cell_type": "markdown",
   "metadata": {},
   "source": [
    "# 4. Polynomial Regression"
   ]
  },
  {
   "cell_type": "markdown",
   "metadata": {},
   "source": [
    "### 4.1 The Question"
   ]
  },
  {
   "cell_type": "markdown",
   "metadata": {},
   "source": [
    "What to train given:\n",
    "* Rank of home team\n",
    "* Rank of away team\n",
    "* Tournament type\n",
    "\n",
    "***Model 1:*** Predict how many goals the home team scores.\n",
    "\n",
    "***Model 2:*** Predict how many goals the away team scores."
   ]
  },
  {
   "cell_type": "markdown",
   "metadata": {},
   "source": [
    "### 4.2 Feature Engineering"
   ]
  },
  {
   "cell_type": "markdown",
   "metadata": {},
   "source": [
    "We need to encode our categorical variables in order to carry out regression with them.\n",
    "We will use LabelEncoder for this."
   ]
  },
  {
   "cell_type": "code",
   "execution_count": 35,
   "metadata": {},
   "outputs": [],
   "source": [
    "# working on the 'tournament' column\n",
    "\n",
    "le_tournament = LabelEncoder().fit(dataset['tournament'].unique())\n",
    "\n",
    "class_tournament = le_tournament.classes_\n",
    "\n",
    "dataset['tournament'] = le_tournament.transform(dataset['tournament'].values)\n"
   ]
  },
  {
   "cell_type": "code",
   "execution_count": 36,
   "metadata": {},
   "outputs": [],
   "source": [
    "# working on the 'win_loss_draw' column\n",
    "le_outcome = LabelEncoder().fit(dataset['win_loss_draw'].unique())\n",
    "\n",
    "class_outcome = le_outcome.classes_\n",
    "\n",
    "dataset['win_loss_draw'] = le_outcome.transform(dataset['win_loss_draw'].values)"
   ]
  },
  {
   "cell_type": "code",
   "execution_count": 37,
   "metadata": {},
   "outputs": [
    {
     "data": {
      "text/html": [
       "<div>\n",
       "<style scoped>\n",
       "    .dataframe tbody tr th:only-of-type {\n",
       "        vertical-align: middle;\n",
       "    }\n",
       "\n",
       "    .dataframe tbody tr th {\n",
       "        vertical-align: top;\n",
       "    }\n",
       "\n",
       "    .dataframe thead th {\n",
       "        text-align: right;\n",
       "    }\n",
       "</style>\n",
       "<table border=\"1\" class=\"dataframe\">\n",
       "  <thead>\n",
       "    <tr style=\"text-align: right;\">\n",
       "      <th></th>\n",
       "      <th>date</th>\n",
       "      <th>home_team</th>\n",
       "      <th>away_team</th>\n",
       "      <th>home_score</th>\n",
       "      <th>away_score</th>\n",
       "      <th>tournament</th>\n",
       "      <th>home_rank</th>\n",
       "      <th>away_rank</th>\n",
       "      <th>win_loss_draw</th>\n",
       "    </tr>\n",
       "  </thead>\n",
       "  <tbody>\n",
       "    <tr>\n",
       "      <th>704</th>\n",
       "      <td>2018-06-07</td>\n",
       "      <td>England</td>\n",
       "      <td>Costa Rica</td>\n",
       "      <td>2</td>\n",
       "      <td>0</td>\n",
       "      <td>0</td>\n",
       "      <td>12</td>\n",
       "      <td>23</td>\n",
       "      <td>2</td>\n",
       "    </tr>\n",
       "    <tr>\n",
       "      <th>705</th>\n",
       "      <td>2018-06-07</td>\n",
       "      <td>Uruguay</td>\n",
       "      <td>Uzbekistan</td>\n",
       "      <td>3</td>\n",
       "      <td>0</td>\n",
       "      <td>0</td>\n",
       "      <td>14</td>\n",
       "      <td>95</td>\n",
       "      <td>2</td>\n",
       "    </tr>\n",
       "    <tr>\n",
       "      <th>706</th>\n",
       "      <td>2018-06-07</td>\n",
       "      <td>Portugal</td>\n",
       "      <td>Algeria</td>\n",
       "      <td>3</td>\n",
       "      <td>0</td>\n",
       "      <td>0</td>\n",
       "      <td>4</td>\n",
       "      <td>66</td>\n",
       "      <td>2</td>\n",
       "    </tr>\n",
       "    <tr>\n",
       "      <th>707</th>\n",
       "      <td>2018-06-07</td>\n",
       "      <td>Iceland</td>\n",
       "      <td>Ghana</td>\n",
       "      <td>2</td>\n",
       "      <td>2</td>\n",
       "      <td>0</td>\n",
       "      <td>22</td>\n",
       "      <td>47</td>\n",
       "      <td>0</td>\n",
       "    </tr>\n",
       "    <tr>\n",
       "      <th>708</th>\n",
       "      <td>2018-06-07</td>\n",
       "      <td>India</td>\n",
       "      <td>New Zealand</td>\n",
       "      <td>1</td>\n",
       "      <td>2</td>\n",
       "      <td>1</td>\n",
       "      <td>97</td>\n",
       "      <td>120</td>\n",
       "      <td>1</td>\n",
       "    </tr>\n",
       "  </tbody>\n",
       "</table>\n",
       "</div>"
      ],
      "text/plain": [
       "           date home_team    away_team  home_score  away_score  tournament  \\\n",
       "704  2018-06-07   England   Costa Rica           2           0           0   \n",
       "705  2018-06-07   Uruguay   Uzbekistan           3           0           0   \n",
       "706  2018-06-07  Portugal      Algeria           3           0           0   \n",
       "707  2018-06-07   Iceland        Ghana           2           2           0   \n",
       "708  2018-06-07     India  New Zealand           1           2           1   \n",
       "\n",
       "     home_rank  away_rank  win_loss_draw  \n",
       "704         12         23              2  \n",
       "705         14         95              2  \n",
       "706          4         66              2  \n",
       "707         22         47              0  \n",
       "708         97        120              1  "
      ]
     },
     "execution_count": 37,
     "metadata": {},
     "output_type": "execute_result"
    }
   ],
   "source": [
    "# let's preview our modified dataset\n",
    "dataset.tail()"
   ]
  },
  {
   "cell_type": "code",
   "execution_count": 38,
   "metadata": {},
   "outputs": [
    {
     "name": "stdout",
     "output_type": "stream",
     "text": [
      "Not Friendly\n",
      "win\n"
     ]
    }
   ],
   "source": [
    "# if we want to check what an encoded value represents, we just find it in the respective class list\n",
    "# like this:\n",
    "print(class_tournament[1])\n",
    "print(class_outcome[2])"
   ]
  },
  {
   "cell_type": "markdown",
   "metadata": {},
   "source": [
    "### 4.3 Checking for Multicollinearity"
   ]
  },
  {
   "cell_type": "code",
   "execution_count": 39,
   "metadata": {},
   "outputs": [
    {
     "data": {
      "text/html": [
       "<div>\n",
       "<style scoped>\n",
       "    .dataframe tbody tr th:only-of-type {\n",
       "        vertical-align: middle;\n",
       "    }\n",
       "\n",
       "    .dataframe tbody tr th {\n",
       "        vertical-align: top;\n",
       "    }\n",
       "\n",
       "    .dataframe thead th {\n",
       "        text-align: right;\n",
       "    }\n",
       "</style>\n",
       "<table border=\"1\" class=\"dataframe\">\n",
       "  <thead>\n",
       "    <tr style=\"text-align: right;\">\n",
       "      <th></th>\n",
       "      <th>home_score</th>\n",
       "      <th>away_score</th>\n",
       "      <th>tournament</th>\n",
       "      <th>home_rank</th>\n",
       "      <th>away_rank</th>\n",
       "      <th>win_loss_draw</th>\n",
       "    </tr>\n",
       "  </thead>\n",
       "  <tbody>\n",
       "    <tr>\n",
       "      <th>home_score</th>\n",
       "      <td>1.000000</td>\n",
       "      <td>-0.099387</td>\n",
       "      <td>0.044133</td>\n",
       "      <td>-0.109400</td>\n",
       "      <td>0.243599</td>\n",
       "      <td>0.563621</td>\n",
       "    </tr>\n",
       "    <tr>\n",
       "      <th>away_score</th>\n",
       "      <td>-0.099387</td>\n",
       "      <td>1.000000</td>\n",
       "      <td>-0.047003</td>\n",
       "      <td>0.063842</td>\n",
       "      <td>-0.195406</td>\n",
       "      <td>-0.246870</td>\n",
       "    </tr>\n",
       "    <tr>\n",
       "      <th>tournament</th>\n",
       "      <td>0.044133</td>\n",
       "      <td>-0.047003</td>\n",
       "      <td>1.000000</td>\n",
       "      <td>0.240629</td>\n",
       "      <td>0.293178</td>\n",
       "      <td>0.075989</td>\n",
       "    </tr>\n",
       "    <tr>\n",
       "      <th>home_rank</th>\n",
       "      <td>-0.109400</td>\n",
       "      <td>0.063842</td>\n",
       "      <td>0.240629</td>\n",
       "      <td>1.000000</td>\n",
       "      <td>0.523705</td>\n",
       "      <td>-0.059115</td>\n",
       "    </tr>\n",
       "    <tr>\n",
       "      <th>away_rank</th>\n",
       "      <td>0.243599</td>\n",
       "      <td>-0.195406</td>\n",
       "      <td>0.293178</td>\n",
       "      <td>0.523705</td>\n",
       "      <td>1.000000</td>\n",
       "      <td>0.199186</td>\n",
       "    </tr>\n",
       "    <tr>\n",
       "      <th>win_loss_draw</th>\n",
       "      <td>0.563621</td>\n",
       "      <td>-0.246870</td>\n",
       "      <td>0.075989</td>\n",
       "      <td>-0.059115</td>\n",
       "      <td>0.199186</td>\n",
       "      <td>1.000000</td>\n",
       "    </tr>\n",
       "  </tbody>\n",
       "</table>\n",
       "</div>"
      ],
      "text/plain": [
       "               home_score  away_score  tournament  home_rank  away_rank  \\\n",
       "home_score       1.000000   -0.099387    0.044133  -0.109400   0.243599   \n",
       "away_score      -0.099387    1.000000   -0.047003   0.063842  -0.195406   \n",
       "tournament       0.044133   -0.047003    1.000000   0.240629   0.293178   \n",
       "home_rank       -0.109400    0.063842    0.240629   1.000000   0.523705   \n",
       "away_rank        0.243599   -0.195406    0.293178   0.523705   1.000000   \n",
       "win_loss_draw    0.563621   -0.246870    0.075989  -0.059115   0.199186   \n",
       "\n",
       "               win_loss_draw  \n",
       "home_score          0.563621  \n",
       "away_score         -0.246870  \n",
       "tournament          0.075989  \n",
       "home_rank          -0.059115  \n",
       "away_rank           0.199186  \n",
       "win_loss_draw       1.000000  "
      ]
     },
     "execution_count": 39,
     "metadata": {},
     "output_type": "execute_result"
    }
   ],
   "source": [
    "# first we get the correlations\n",
    "corr = dataset.corr()\n",
    "corr"
   ]
  },
  {
   "cell_type": "code",
   "execution_count": 40,
   "metadata": {},
   "outputs": [
    {
     "data": {
      "text/plain": [
       "<matplotlib.axes._subplots.AxesSubplot at 0x7f98d7809908>"
      ]
     },
     "execution_count": 40,
     "metadata": {},
     "output_type": "execute_result"
    },
    {
     "data": {
      "image/png": "[encoded data removed]",
      "text/plain": [
       "<Figure size 720x576 with 2 Axes>"
      ]
     },
     "metadata": {
      "needs_background": "light"
     },
     "output_type": "display_data"
    }
   ],
   "source": [
    "# then we get the Variance Inflation Factor (VIF)\n",
    "vif = pd.DataFrame(np.linalg.inv(corr.values), index = corr.index, columns = corr.columns)\n",
    "\n",
    "# using a heatmap to display the results\n",
    "plt.figure(figsize = (10,8))\n",
    "sb.heatmap(vif, annot = True)"
   ]
  },
  {
   "cell_type": "markdown",
   "metadata": {},
   "source": [
    "As we can see, the VIF scores for each column are very low (below 5). This shows that there is very low correlation between the variables.The 'away_rank' column shows the highest VIF of all the variables in this dataset, but it is not so worrying that we have to remove it. As a result, we can proceed with building our model."
   ]
  },
  {
   "cell_type": "markdown",
   "metadata": {},
   "source": [
    "### 4.4 Model 1: Predict Home Scores"
   ]
  },
  {
   "cell_type": "code",
   "execution_count": 41,
   "metadata": {},
   "outputs": [
    {
     "name": "stdout",
     "output_type": "stream",
     "text": [
      "(709, 3)\n",
      "(709,)\n"
     ]
    }
   ],
   "source": [
    "# getting our attributes and labels\n",
    "X_home = np.array(dataset[['home_rank', 'away_rank', 'tournament']])\n",
    "y_home = dataset['home_score']\n",
    "print(X_home.shape)\n",
    "print(y_home.shape)"
   ]
  },
  {
   "cell_type": "code",
   "execution_count": 42,
   "metadata": {
    "scrolled": true
   },
   "outputs": [
    {
     "data": {
      "text/plain": [
       "LinearRegression(copy_X=True, fit_intercept=True, n_jobs=None, normalize=False)"
      ]
     },
     "execution_count": 42,
     "metadata": {},
     "output_type": "execute_result"
    }
   ],
   "source": [
    "# fitting the Linear Regression model to our dataset\n",
    "reg_line_home = LinearRegression()\n",
    "reg_line_home.fit(X_home, y_home)"
   ]
  },
  {
   "cell_type": "code",
   "execution_count": 43,
   "metadata": {},
   "outputs": [],
   "source": [
    "# getting our training and testing sets\n",
    "X_home_train, X_home_test, y_home_train, y_home_test = train_test_split(X_home, y_home, \n",
    "                                                    test_size = 0.2, random_state = 0)"
   ]
  },
  {
   "cell_type": "code",
   "execution_count": 44,
   "metadata": {},
   "outputs": [
    {
     "data": {
      "text/plain": [
       "(567,)"
      ]
     },
     "execution_count": 44,
     "metadata": {},
     "output_type": "execute_result"
    }
   ],
   "source": [
    "y_home_train.shape"
   ]
  },
  {
   "cell_type": "code",
   "execution_count": 45,
   "metadata": {},
   "outputs": [],
   "source": [
    "# fitting a polynomial regression to our data\n",
    "poly_reg_home = PolynomialFeatures(degree = 5)\n",
    "X_poly_home = poly_reg_home.fit_transform(X_home)"
   ]
  },
  {
   "cell_type": "code",
   "execution_count": 46,
   "metadata": {},
   "outputs": [
    {
     "data": {
      "text/plain": [
       "LinearRegression(copy_X=True, fit_intercept=True, n_jobs=None, normalize=False)"
      ]
     },
     "execution_count": 46,
     "metadata": {},
     "output_type": "execute_result"
    }
   ],
   "source": [
    "# fitting a linear regression to our polynomial regression\n",
    "lin_reg_home = LinearRegression()\n",
    "lin_reg_home.fit(X_poly_home, y_home)"
   ]
  },
  {
   "cell_type": "code",
   "execution_count": 47,
   "metadata": {},
   "outputs": [
    {
     "name": "stdout",
     "output_type": "stream",
     "text": [
      "Linear Prediction: 1\n",
      "Linear Prediction (accurate): [1.24726153]\n",
      "Polynomial Prediction: 1\n",
      "Polynomial Prediction (accurate): [1.25588194]\n"
     ]
    }
   ],
   "source": [
    "# using home rank 12, away rank 5, and tournament 0 (Friendly)\n",
    "\n",
    "# predict using linear regression\n",
    "lin_pred_home = reg_line_home.predict([[12, 5, 0]])\n",
    "print(\"Linear Prediction: %d\" %lin_pred_home)\n",
    "print(\"Linear Prediction (accurate):\", lin_pred_home)\n",
    "\n",
    "# predict using polynomial regression\n",
    "poly_pred_home = lin_reg_home.predict(poly_reg_home.fit_transform([[12, 5, 0]]))\n",
    "print(\"Polynomial Prediction: %d\" %poly_pred_home)\n",
    "print(\"Polynomial Prediction (accurate):\", poly_pred_home)"
   ]
  },
  {
   "cell_type": "markdown",
   "metadata": {},
   "source": [
    "An example of Home Rank 12, Away Rank 5, and a friendly match resulted in the home team scoring one goal. Let us try another example, this time using one of the last records to predict the home score."
   ]
  },
  {
   "cell_type": "code",
   "execution_count": 48,
   "metadata": {
    "scrolled": true
   },
   "outputs": [
    {
     "data": {
      "text/html": [
       "<div>\n",
       "<style scoped>\n",
       "    .dataframe tbody tr th:only-of-type {\n",
       "        vertical-align: middle;\n",
       "    }\n",
       "\n",
       "    .dataframe tbody tr th {\n",
       "        vertical-align: top;\n",
       "    }\n",
       "\n",
       "    .dataframe thead th {\n",
       "        text-align: right;\n",
       "    }\n",
       "</style>\n",
       "<table border=\"1\" class=\"dataframe\">\n",
       "  <thead>\n",
       "    <tr style=\"text-align: right;\">\n",
       "      <th></th>\n",
       "      <th>date</th>\n",
       "      <th>home_team</th>\n",
       "      <th>away_team</th>\n",
       "      <th>home_score</th>\n",
       "      <th>away_score</th>\n",
       "      <th>tournament</th>\n",
       "      <th>home_rank</th>\n",
       "      <th>away_rank</th>\n",
       "      <th>win_loss_draw</th>\n",
       "    </tr>\n",
       "  </thead>\n",
       "  <tbody>\n",
       "    <tr>\n",
       "      <th>704</th>\n",
       "      <td>2018-06-07</td>\n",
       "      <td>England</td>\n",
       "      <td>Costa Rica</td>\n",
       "      <td>2</td>\n",
       "      <td>0</td>\n",
       "      <td>0</td>\n",
       "      <td>12</td>\n",
       "      <td>23</td>\n",
       "      <td>2</td>\n",
       "    </tr>\n",
       "    <tr>\n",
       "      <th>705</th>\n",
       "      <td>2018-06-07</td>\n",
       "      <td>Uruguay</td>\n",
       "      <td>Uzbekistan</td>\n",
       "      <td>3</td>\n",
       "      <td>0</td>\n",
       "      <td>0</td>\n",
       "      <td>14</td>\n",
       "      <td>95</td>\n",
       "      <td>2</td>\n",
       "    </tr>\n",
       "    <tr>\n",
       "      <th>706</th>\n",
       "      <td>2018-06-07</td>\n",
       "      <td>Portugal</td>\n",
       "      <td>Algeria</td>\n",
       "      <td>3</td>\n",
       "      <td>0</td>\n",
       "      <td>0</td>\n",
       "      <td>4</td>\n",
       "      <td>66</td>\n",
       "      <td>2</td>\n",
       "    </tr>\n",
       "    <tr>\n",
       "      <th>707</th>\n",
       "      <td>2018-06-07</td>\n",
       "      <td>Iceland</td>\n",
       "      <td>Ghana</td>\n",
       "      <td>2</td>\n",
       "      <td>2</td>\n",
       "      <td>0</td>\n",
       "      <td>22</td>\n",
       "      <td>47</td>\n",
       "      <td>0</td>\n",
       "    </tr>\n",
       "    <tr>\n",
       "      <th>708</th>\n",
       "      <td>2018-06-07</td>\n",
       "      <td>India</td>\n",
       "      <td>New Zealand</td>\n",
       "      <td>1</td>\n",
       "      <td>2</td>\n",
       "      <td>1</td>\n",
       "      <td>97</td>\n",
       "      <td>120</td>\n",
       "      <td>1</td>\n",
       "    </tr>\n",
       "  </tbody>\n",
       "</table>\n",
       "</div>"
      ],
      "text/plain": [
       "           date home_team    away_team  home_score  away_score  tournament  \\\n",
       "704  2018-06-07   England   Costa Rica           2           0           0   \n",
       "705  2018-06-07   Uruguay   Uzbekistan           3           0           0   \n",
       "706  2018-06-07  Portugal      Algeria           3           0           0   \n",
       "707  2018-06-07   Iceland        Ghana           2           2           0   \n",
       "708  2018-06-07     India  New Zealand           1           2           1   \n",
       "\n",
       "     home_rank  away_rank  win_loss_draw  \n",
       "704         12         23              2  \n",
       "705         14         95              2  \n",
       "706          4         66              2  \n",
       "707         22         47              0  \n",
       "708         97        120              1  "
      ]
     },
     "execution_count": 48,
     "metadata": {},
     "output_type": "execute_result"
    }
   ],
   "source": [
    "dataset.tail()"
   ]
  },
  {
   "cell_type": "code",
   "execution_count": 49,
   "metadata": {},
   "outputs": [
    {
     "name": "stdout",
     "output_type": "stream",
     "text": [
      "Linear Prediction: 2\n",
      "Linear Prediction (accurate): [2.18894794]\n",
      "Polynomial Prediction: 2\n",
      "Polynomial Prediction (accurate): [2.68499544]\n"
     ]
    }
   ],
   "source": [
    "# we'll use the match between Uruguay and Uzbekistan (index 705)\n",
    "# so Home Rank 14, Away rank 95, and Tournament Type 0\n",
    "\n",
    "# predict using linear regression\n",
    "lin_pred_home2 = reg_line_home.predict([[14, 95, 0]])\n",
    "print(\"Linear Prediction: %d\" %lin_pred_home2)\n",
    "print(\"Linear Prediction (accurate):\", lin_pred_home2)\n",
    "\n",
    "# predict using polynomial regression\n",
    "poly_pred_home2 = lin_reg_home.predict(poly_reg_home.fit_transform([[14, 95, 0]]))\n",
    "print(\"Polynomial Prediction: %d\" %poly_pred_home2)\n",
    "print(\"Polynomial Prediction (accurate):\", poly_pred_home2)"
   ]
  },
  {
   "cell_type": "markdown",
   "metadata": {},
   "source": [
    "Both models returned 2 instead of the correct value (3). So the models are doing good but could be better."
   ]
  },
  {
   "cell_type": "markdown",
   "metadata": {},
   "source": [
    "##### 4.4.1 Cross-Validating Model 1"
   ]
  },
  {
   "cell_type": "code",
   "execution_count": 50,
   "metadata": {},
   "outputs": [],
   "source": [
    "# we will use k-fold cross validation with the standard 5 folds\n",
    "folds = KFold(n_splits = 5)"
   ]
  },
  {
   "cell_type": "code",
   "execution_count": 51,
   "metadata": {},
   "outputs": [
    {
     "name": "stdout",
     "output_type": "stream",
     "text": [
      "Root Mean Squared Error: 1.20029938893442\n"
     ]
    }
   ],
   "source": [
    "# first assess the accuracy of that model\n",
    "\n",
    "regressor_home = LinearRegression()\n",
    "regressor_home.fit(X_home_train, y_home_train)\n",
    "\n",
    "y_predict_home = regressor_home.predict(X_home_test)\n",
    "\n",
    "print(\"Root Mean Squared Error:\", np.sqrt(metrics.mean_squared_error(y_home_test, y_predict_home)))"
   ]
  },
  {
   "cell_type": "code",
   "execution_count": 52,
   "metadata": {},
   "outputs": [
    {
     "name": "stdout",
     "output_type": "stream",
     "text": [
      "\n",
      "Training model 1\n",
      "Model 1 Root Mean Squared Error: 1.2576352631320842\n",
      "\n",
      "Training model 2\n",
      "Model 2 Root Mean Squared Error: 1.168393693365753\n",
      "\n",
      "Training model 3\n",
      "Model 3 Root Mean Squared Error: 1.1261004523852056\n",
      "\n",
      "Training model 4\n",
      "Model 4 Root Mean Squared Error: 1.0932397460979064\n",
      "\n",
      "Training model 5\n",
      "Model 5 Root Mean Squared Error: 1.1959736436288844\n"
     ]
    }
   ],
   "source": [
    "# create array to store the RMSE values of each fold\n",
    "RMSES_home = []\n",
    "\n",
    "# create a counter\n",
    "count_home = 1\n",
    "\n",
    "for train_index, test_index in folds.split(X_home):\n",
    "    print(\"\\nTraining model \" + str(count_home))\n",
    "    \n",
    "    X_home_train, X_home_test = X_home[train_index], X_home[test_index]\n",
    "    y_home_train, y_home_test = y_home[train_index], y_home[test_index]\n",
    "    \n",
    "    # fit a regression model accordingly\n",
    "    reg_home = LinearRegression()\n",
    "    reg_home.fit(X_home_train, y_home_train)\n",
    "    \n",
    "    # assess the accuracy of the model\n",
    "    y_home_pred = reg_home.predict(X_home_test)\n",
    "    \n",
    "    rmse_value_home = np.sqrt(metrics.mean_squared_error(y_home_test, y_home_pred))\n",
    "    RMSES_home.append(rmse_value_home)\n",
    "    \n",
    "    print('Model ' + str(count_home) + ' Root Mean Squared Error:',rmse_value_home)\n",
    "    count_home += 1"
   ]
  },
  {
   "cell_type": "markdown",
   "metadata": {},
   "source": [
    "The first model's RMSE is the largest RMSE value of all our models, followed by the RMSE value of our model then the rest of the models from the k-folds. This shows that there are outliers from the main dataset which have been distributed across all the models."
   ]
  },
  {
   "cell_type": "code",
   "execution_count": 53,
   "metadata": {},
   "outputs": [
    {
     "data": {
      "text/plain": [
       "1.1682685597219666"
      ]
     },
     "execution_count": 53,
     "metadata": {},
     "output_type": "execute_result"
    }
   ],
   "source": [
    "# calculating the average RMSE value of the RMSE values created by the k-folds\n",
    "np.mean(RMSES_home)"
   ]
  },
  {
   "cell_type": "markdown",
   "metadata": {},
   "source": [
    "The mean of the RMSE array is smaller than that of our initial RMSE, but it's close to that of the second model."
   ]
  },
  {
   "cell_type": "markdown",
   "metadata": {},
   "source": [
    "##### 4.4.2 Residual Plots and Heteroscedasticity Test for Model 1"
   ]
  },
  {
   "cell_type": "code",
   "execution_count": 54,
   "metadata": {},
   "outputs": [],
   "source": [
    "# set prediction\n",
    "home_reg = LinearRegression()\n",
    "home_reg.fit(X_home_train, y_home_train)\n",
    "home_predict = home_reg.predict(X_home_test)"
   ]
  },
  {
   "cell_type": "code",
   "execution_count": 55,
   "metadata": {},
   "outputs": [
    {
     "data": {
      "text/plain": [
       "568   -1.076505\n",
       "569    0.488491\n",
       "570   -0.358410\n",
       "571   -2.584394\n",
       "572    0.658368\n",
       "Name: home_score, dtype: float64"
      ]
     },
     "execution_count": 55,
     "metadata": {},
     "output_type": "execute_result"
    }
   ],
   "source": [
    "# creating residuals\n",
    "residuals_home = np.subtract(home_predict, y_home_test)\n",
    "\n",
    "# let's preview our residuals\n",
    "residuals_home.head()"
   ]
  },
  {
   "cell_type": "code",
   "execution_count": 56,
   "metadata": {},
   "outputs": [
    {
     "data": {
      "text/plain": [
       "count    141.000000\n",
       "mean       0.106942\n",
       "std        1.195429\n",
       "min       -3.127683\n",
       "25%       -0.650290\n",
       "50%        0.229223\n",
       "75%        0.895631\n",
       "max        2.404547\n",
       "Name: home_score, dtype: float64"
      ]
     },
     "execution_count": 56,
     "metadata": {},
     "output_type": "execute_result"
    }
   ],
   "source": [
    "residuals_home.describe()"
   ]
  },
  {
   "cell_type": "code",
   "execution_count": 57,
   "metadata": {},
   "outputs": [
    {
     "name": "stdout",
     "output_type": "stream",
     "text": [
      "inf\n"
     ]
    }
   ],
   "source": [
    "# let's conduct a Bartlett's test for heteroscedasticity\n",
    "test_result_home, p_value_home = sp.stats.bartlett(home_predict, residuals_home)\n",
    "\n",
    "# To interpret the results we must also compute a critical value of the chi squared distribution\n",
    "degree_of_freedom_home = len(home_predict) - 1\n",
    "probability_home = 1 - p_value_home\n",
    "\n",
    "critical_value_home = sp.stats.chi2.ppf(probability_home, degree_of_freedom_home)\n",
    "print(critical_value_home)"
   ]
  },
  {
   "cell_type": "markdown",
   "metadata": {},
   "source": [
    "If the test_result is greater than the critical value, then we reject our null hypothesis. This would mean that there are patterns to the variance of the data.\n",
    "\n",
    "Otherwise, we can identify no patterns, and we accept the null hypothesis that the variance is homogeneous across our data."
   ]
  },
  {
   "cell_type": "code",
   "execution_count": 58,
   "metadata": {
    "scrolled": true
   },
   "outputs": [
    {
     "name": "stdout",
     "output_type": "stream",
     "text": [
      "The variances are homogeneous. The model passes the test.\n"
     ]
    }
   ],
   "source": [
    "if (test_result_home > critical_value_home):\n",
    "  print(\"The variances are heterogeneous, and the model needs to be reassessed.\")\n",
    "else:\n",
    "  print(\"The variances are homogeneous. The model passes the test.\")\n"
   ]
  },
  {
   "cell_type": "markdown",
   "metadata": {},
   "source": [
    "### 4.5 Model 2: Predict Away Scores"
   ]
  },
  {
   "cell_type": "code",
   "execution_count": 59,
   "metadata": {},
   "outputs": [
    {
     "name": "stdout",
     "output_type": "stream",
     "text": [
      "(709, 3)\n",
      "(709,)\n"
     ]
    }
   ],
   "source": [
    "# getting our attributes and labels\n",
    "X_away = np.array(dataset[['home_rank', 'away_rank', 'tournament']])\n",
    "y_away = dataset['away_score']\n",
    "print(X_away.shape)\n",
    "print(y_away.shape)"
   ]
  },
  {
   "cell_type": "code",
   "execution_count": 60,
   "metadata": {},
   "outputs": [
    {
     "data": {
      "text/plain": [
       "LinearRegression(copy_X=True, fit_intercept=True, n_jobs=None, normalize=False)"
      ]
     },
     "execution_count": 60,
     "metadata": {},
     "output_type": "execute_result"
    }
   ],
   "source": [
    "# fitting the Linear Regression model to our dataset\n",
    "reg_line_away = LinearRegression()\n",
    "reg_line_away.fit(X_away, y_away)"
   ]
  },
  {
   "cell_type": "code",
   "execution_count": 61,
   "metadata": {},
   "outputs": [],
   "source": [
    "# getting our training and testing sets\n",
    "X_train_away,  X_test_away, y_train_away, y_test_away = train_test_split(X_away, y_away, \n",
    "                                                    test_size = 0.2, random_state = 0)\n"
   ]
  },
  {
   "cell_type": "code",
   "execution_count": 62,
   "metadata": {},
   "outputs": [],
   "source": [
    "# fitting a polynomial regression to our data\n",
    "poly_reg_away = PolynomialFeatures(degree = 5)\n",
    "X_poly_away = poly_reg_away.fit_transform(X_away)"
   ]
  },
  {
   "cell_type": "code",
   "execution_count": 63,
   "metadata": {},
   "outputs": [
    {
     "data": {
      "text/plain": [
       "LinearRegression(copy_X=True, fit_intercept=True, n_jobs=None, normalize=False)"
      ]
     },
     "execution_count": 63,
     "metadata": {},
     "output_type": "execute_result"
    }
   ],
   "source": [
    "# fitting a linear regression to our polynomial regression\n",
    "lin_reg_away = LinearRegression()\n",
    "lin_reg_away.fit(X_poly_away, y_away)"
   ]
  },
  {
   "cell_type": "code",
   "execution_count": 64,
   "metadata": {},
   "outputs": [
    {
     "name": "stdout",
     "output_type": "stream",
     "text": [
      "Linear Prediction: 1\n",
      "Linear Prediction (accurate): [1.01651431]\n",
      "Polynomial Prediction: 1\n",
      "Polynomial Prediction (accurate): [1.00052776]\n"
     ]
    }
   ],
   "source": [
    "# using home rank 12, away rank 5, and tournament 0 (Friendly), like the example in the\n",
    "# first model\n",
    "\n",
    "# predict using linear regression\n",
    "lin_pred_away = reg_line_away.predict([[5, 12, 0]])\n",
    "print(\"Linear Prediction: %d\" %lin_pred_away)\n",
    "print(\"Linear Prediction (accurate):\", lin_pred_away)\n",
    "\n",
    "# predict using polynomial regression\n",
    "poly_pred_away = lin_reg_away.predict(poly_reg_away.fit_transform([[5, 12, 0]]))\n",
    "print(\"Polynomial Prediction: %d\" %poly_pred_away)\n",
    "print(\"Polynomial Prediction (accurate):\", poly_pred_away)"
   ]
  },
  {
   "cell_type": "markdown",
   "metadata": {},
   "source": [
    "An example of Home Rank 12, Away Rank 5, and a friendly match resulted in the away team scoring only one goal.\n",
    "\n",
    "In case this is coincidental, let's get the last record of our dataset and see whether the model will be able to predict the away score."
   ]
  },
  {
   "cell_type": "code",
   "execution_count": 65,
   "metadata": {
    "scrolled": true
   },
   "outputs": [
    {
     "data": {
      "text/html": [
       "<div>\n",
       "<style scoped>\n",
       "    .dataframe tbody tr th:only-of-type {\n",
       "        vertical-align: middle;\n",
       "    }\n",
       "\n",
       "    .dataframe tbody tr th {\n",
       "        vertical-align: top;\n",
       "    }\n",
       "\n",
       "    .dataframe thead th {\n",
       "        text-align: right;\n",
       "    }\n",
       "</style>\n",
       "<table border=\"1\" class=\"dataframe\">\n",
       "  <thead>\n",
       "    <tr style=\"text-align: right;\">\n",
       "      <th></th>\n",
       "      <th>date</th>\n",
       "      <th>home_team</th>\n",
       "      <th>away_team</th>\n",
       "      <th>home_score</th>\n",
       "      <th>away_score</th>\n",
       "      <th>tournament</th>\n",
       "      <th>home_rank</th>\n",
       "      <th>away_rank</th>\n",
       "      <th>win_loss_draw</th>\n",
       "    </tr>\n",
       "  </thead>\n",
       "  <tbody>\n",
       "    <tr>\n",
       "      <th>704</th>\n",
       "      <td>2018-06-07</td>\n",
       "      <td>England</td>\n",
       "      <td>Costa Rica</td>\n",
       "      <td>2</td>\n",
       "      <td>0</td>\n",
       "      <td>0</td>\n",
       "      <td>12</td>\n",
       "      <td>23</td>\n",
       "      <td>2</td>\n",
       "    </tr>\n",
       "    <tr>\n",
       "      <th>705</th>\n",
       "      <td>2018-06-07</td>\n",
       "      <td>Uruguay</td>\n",
       "      <td>Uzbekistan</td>\n",
       "      <td>3</td>\n",
       "      <td>0</td>\n",
       "      <td>0</td>\n",
       "      <td>14</td>\n",
       "      <td>95</td>\n",
       "      <td>2</td>\n",
       "    </tr>\n",
       "    <tr>\n",
       "      <th>706</th>\n",
       "      <td>2018-06-07</td>\n",
       "      <td>Portugal</td>\n",
       "      <td>Algeria</td>\n",
       "      <td>3</td>\n",
       "      <td>0</td>\n",
       "      <td>0</td>\n",
       "      <td>4</td>\n",
       "      <td>66</td>\n",
       "      <td>2</td>\n",
       "    </tr>\n",
       "    <tr>\n",
       "      <th>707</th>\n",
       "      <td>2018-06-07</td>\n",
       "      <td>Iceland</td>\n",
       "      <td>Ghana</td>\n",
       "      <td>2</td>\n",
       "      <td>2</td>\n",
       "      <td>0</td>\n",
       "      <td>22</td>\n",
       "      <td>47</td>\n",
       "      <td>0</td>\n",
       "    </tr>\n",
       "    <tr>\n",
       "      <th>708</th>\n",
       "      <td>2018-06-07</td>\n",
       "      <td>India</td>\n",
       "      <td>New Zealand</td>\n",
       "      <td>1</td>\n",
       "      <td>2</td>\n",
       "      <td>1</td>\n",
       "      <td>97</td>\n",
       "      <td>120</td>\n",
       "      <td>1</td>\n",
       "    </tr>\n",
       "  </tbody>\n",
       "</table>\n",
       "</div>"
      ],
      "text/plain": [
       "           date home_team    away_team  home_score  away_score  tournament  \\\n",
       "704  2018-06-07   England   Costa Rica           2           0           0   \n",
       "705  2018-06-07   Uruguay   Uzbekistan           3           0           0   \n",
       "706  2018-06-07  Portugal      Algeria           3           0           0   \n",
       "707  2018-06-07   Iceland        Ghana           2           2           0   \n",
       "708  2018-06-07     India  New Zealand           1           2           1   \n",
       "\n",
       "     home_rank  away_rank  win_loss_draw  \n",
       "704         12         23              2  \n",
       "705         14         95              2  \n",
       "706          4         66              2  \n",
       "707         22         47              0  \n",
       "708         97        120              1  "
      ]
     },
     "execution_count": 65,
     "metadata": {},
     "output_type": "execute_result"
    }
   ],
   "source": [
    "dataset.tail()"
   ]
  },
  {
   "cell_type": "code",
   "execution_count": 66,
   "metadata": {},
   "outputs": [
    {
     "name": "stdout",
     "output_type": "stream",
     "text": [
      "Linear Prediction: 0\n",
      "Linear Prediction (accurate): [0.75342337]\n",
      "Polynomial Prediction: 0\n",
      "Polynomial Prediction (accurate): [0.82567393]\n"
     ]
    }
   ],
   "source": [
    "# so we'll use Home Rank 97, Away Rank 120, and tournament 1\n",
    "\n",
    "# predict using linear regression\n",
    "lin_pred_away2 = reg_line_away.predict([[97, 120, 1]])\n",
    "print(\"Linear Prediction: %d\" %lin_pred_away2)\n",
    "print(\"Linear Prediction (accurate):\", lin_pred_away2)\n",
    "\n",
    "# predict using polynomial regression\n",
    "poly_pred_away2 = lin_reg_away.predict(poly_reg_away.fit_transform([[97, 120, 1]]))\n",
    "print(\"Polynomial Prediction: %d\" %poly_pred_away2)\n",
    "print(\"Polynomial Prediction (accurate):\", poly_pred_away2)"
   ]
  },
  {
   "cell_type": "markdown",
   "metadata": {},
   "source": [
    "The model did not return the correct value (2) or even come close to it, so there was a problem somewhere. Either the models are not appropriate for this problem, the independent variables are not relevant or appropriate for these regression models, or there was a problem during the process."
   ]
  },
  {
   "cell_type": "markdown",
   "metadata": {},
   "source": [
    "##### 4.5.1 Cross-validating Model 2"
   ]
  },
  {
   "cell_type": "code",
   "execution_count": 67,
   "metadata": {},
   "outputs": [
    {
     "name": "stdout",
     "output_type": "stream",
     "text": [
      "Root Mean Squared Error: 1.125334293954114\n"
     ]
    }
   ],
   "source": [
    "# first assess the accuracy of that model\n",
    "regressor_away = LinearRegression()\n",
    "regressor_away.fit(X_train_away, y_train_away)\n",
    "\n",
    "y_predict_away = regressor_away.predict(X_test_away)\n",
    "\n",
    "print(\"Root Mean Squared Error:\", np.sqrt(metrics.mean_squared_error(y_test_away, y_predict_away)))"
   ]
  },
  {
   "cell_type": "code",
   "execution_count": 68,
   "metadata": {},
   "outputs": [
    {
     "name": "stdout",
     "output_type": "stream",
     "text": [
      "\n",
      "Training model 1\n",
      "Model 1 Root Mean Squared Error: 1.0000064859739377\n",
      "\n",
      "Training model 2\n",
      "Model 2 Root Mean Squared Error: 1.1325814084565446\n",
      "\n",
      "Training model 3\n",
      "Model 3 Root Mean Squared Error: 0.9848908457187839\n",
      "\n",
      "Training model 4\n",
      "Model 4 Root Mean Squared Error: 0.9583437655203897\n",
      "\n",
      "Training model 5\n",
      "Model 5 Root Mean Squared Error: 0.8919709045452252\n"
     ]
    }
   ],
   "source": [
    "# create array to store the RMSE values of each fold\n",
    "RMSES_away = []\n",
    "\n",
    "# create a counter\n",
    "count_away = 1\n",
    "\n",
    "for train_index, test_index in folds.split(X_away):\n",
    "    print(\"\\nTraining model \" + str(count_away))\n",
    "    \n",
    "    X_away_train, X_away_test = X_away[train_index], X_away[test_index]\n",
    "    y_away_train, y_away_test = y_away[train_index], y_away[test_index]\n",
    "    \n",
    "    # fit a regression model accordingly\n",
    "    reg_away = LinearRegression()\n",
    "    reg_away.fit(X_away_train, y_away_train)\n",
    "    \n",
    "    # assess the accuracy of the model\n",
    "    y_away_pred = reg_away.predict(X_away_test)\n",
    "\n",
    "    rmse_value_away = np.sqrt(metrics.mean_squared_error(y_away_test, y_away_pred))\n",
    "    RMSES_away.append(rmse_value_away)\n",
    "    \n",
    "    print('Model ' + str(count_away) + ' Root Mean Squared Error:',rmse_value_away)\n",
    "    count_away += 1"
   ]
  },
  {
   "cell_type": "markdown",
   "metadata": {},
   "source": [
    "The RMSE value of our second model is the largest RMSE value of all our models, followed by the RMSE value of our original model and then that of the first model. This signifies the presence of outliers from the main dataset in all three models."
   ]
  },
  {
   "cell_type": "code",
   "execution_count": 69,
   "metadata": {},
   "outputs": [
    {
     "data": {
      "text/plain": [
       "0.9935586820429763"
      ]
     },
     "execution_count": 69,
     "metadata": {},
     "output_type": "execute_result"
    }
   ],
   "source": [
    "# calculating the average RMSE value of the RMSE values created by the k-folds\n",
    "np.mean(RMSES_away)"
   ]
  },
  {
   "cell_type": "markdown",
   "metadata": {},
   "source": [
    "The mean of the RMSE array is smaller than our initial RMSE."
   ]
  },
  {
   "cell_type": "markdown",
   "metadata": {},
   "source": [
    "##### 4.5.2 Residual Plots and Heteroscedasticity Test for Model 2"
   ]
  },
  {
   "cell_type": "code",
   "execution_count": 70,
   "metadata": {},
   "outputs": [],
   "source": [
    "# set prediction\n",
    "away_reg = LinearRegression()\n",
    "away_reg.fit(X_train_away, y_train_away)\n",
    "away_predict = away_reg.predict(X_test_away)"
   ]
  },
  {
   "cell_type": "code",
   "execution_count": 71,
   "metadata": {},
   "outputs": [
    {
     "data": {
      "text/plain": [
       "540    0.022764\n",
       "467    1.037150\n",
       "355   -1.422636\n",
       "172   -0.249191\n",
       "637   -2.728918\n",
       "Name: away_score, dtype: float64"
      ]
     },
     "execution_count": 71,
     "metadata": {},
     "output_type": "execute_result"
    }
   ],
   "source": [
    "# creating residuals\n",
    "residuals_away = np.subtract(away_predict, y_test_away)\n",
    "\n",
    "# let's preview our residuals\n",
    "residuals_away.head()"
   ]
  },
  {
   "cell_type": "code",
   "execution_count": 72,
   "metadata": {},
   "outputs": [
    {
     "data": {
      "text/plain": [
       "count    142.000000\n",
       "mean      -0.233404\n",
       "std        1.104760\n",
       "min       -4.220329\n",
       "25%       -0.930239\n",
       "50%       -0.000322\n",
       "75%        0.631420\n",
       "max        1.618219\n",
       "Name: away_score, dtype: float64"
      ]
     },
     "execution_count": 72,
     "metadata": {},
     "output_type": "execute_result"
    }
   ],
   "source": [
    "residuals_away.describe()"
   ]
  },
  {
   "cell_type": "code",
   "execution_count": 73,
   "metadata": {},
   "outputs": [
    {
     "name": "stdout",
     "output_type": "stream",
     "text": [
      "inf\n"
     ]
    }
   ],
   "source": [
    "# let's conduct a Bartlett's test for heteroscedasticity\n",
    "test_result_away, p_value_away = sp.stats.bartlett(away_predict, residuals_away)\n",
    "\n",
    "# To interpret the results we must also compute a critical value of the chi squared distribution\n",
    "degree_of_freedom_away = len(away_predict) - 1\n",
    "probability_away = 1 - p_value_away\n",
    "\n",
    "critical_value_away = sp.stats.chi2.ppf(probability_away, degree_of_freedom_away)\n",
    "print(critical_value_away)"
   ]
  },
  {
   "cell_type": "markdown",
   "metadata": {},
   "source": [
    "If the test_result is greater than the critical value, then we reject our null hypothesis. This would mean that there are patterns to the variance of the data.\n",
    "\n",
    "Otherwise, we can identify no patterns, and we accept the null hypothesis that the variance is homogeneous across our data."
   ]
  },
  {
   "cell_type": "code",
   "execution_count": 74,
   "metadata": {},
   "outputs": [
    {
     "name": "stdout",
     "output_type": "stream",
     "text": [
      "The variances are homogeneous. The model passes the test.\n"
     ]
    }
   ],
   "source": [
    "if (test_result_away > critical_value_away):\n",
    "  print(\"The variances are heterogeneous, and the model needs to be reassessed.\")\n",
    "else:\n",
    "  print(\"The variances are homogeneous. The model passes the test.\")\n"
   ]
  },
  {
   "cell_type": "markdown",
   "metadata": {},
   "source": [
    "# 5. Logistic Regression"
   ]
  },
  {
   "cell_type": "markdown",
   "metadata": {},
   "source": [
    "### 5.1 The Question"
   ]
  },
  {
   "cell_type": "markdown",
   "metadata": {},
   "source": [
    "Figure out from the home team’s perspective if the game is a Win, Lose or Draw (W, L, D)"
   ]
  },
  {
   "cell_type": "markdown",
   "metadata": {},
   "source": [
    "### 5.2 Feature Engineering"
   ]
  },
  {
   "cell_type": "markdown",
   "metadata": {},
   "source": [
    "This has already been done in the \"Polynomial Regression\" section, so there's no need to do it again. For the logistic approach question, we will work with the encoded *'win_loss_draw'* column."
   ]
  },
  {
   "cell_type": "markdown",
   "metadata": {},
   "source": [
    "### 5.3 Training an optimal classifier"
   ]
  },
  {
   "cell_type": "code",
   "execution_count": 75,
   "metadata": {},
   "outputs": [
    {
     "data": {
      "text/html": [
       "<div>\n",
       "<style scoped>\n",
       "    .dataframe tbody tr th:only-of-type {\n",
       "        vertical-align: middle;\n",
       "    }\n",
       "\n",
       "    .dataframe tbody tr th {\n",
       "        vertical-align: top;\n",
       "    }\n",
       "\n",
       "    .dataframe thead th {\n",
       "        text-align: right;\n",
       "    }\n",
       "</style>\n",
       "<table border=\"1\" class=\"dataframe\">\n",
       "  <thead>\n",
       "    <tr style=\"text-align: right;\">\n",
       "      <th></th>\n",
       "      <th>home_score</th>\n",
       "      <th>away_score</th>\n",
       "      <th>win_loss_draw</th>\n",
       "    </tr>\n",
       "  </thead>\n",
       "  <tbody>\n",
       "    <tr>\n",
       "      <th>0</th>\n",
       "      <td>3</td>\n",
       "      <td>1</td>\n",
       "      <td>2</td>\n",
       "    </tr>\n",
       "    <tr>\n",
       "      <th>1</th>\n",
       "      <td>1</td>\n",
       "      <td>1</td>\n",
       "      <td>0</td>\n",
       "    </tr>\n",
       "    <tr>\n",
       "      <th>2</th>\n",
       "      <td>5</td>\n",
       "      <td>0</td>\n",
       "      <td>2</td>\n",
       "    </tr>\n",
       "    <tr>\n",
       "      <th>3</th>\n",
       "      <td>1</td>\n",
       "      <td>0</td>\n",
       "      <td>2</td>\n",
       "    </tr>\n",
       "    <tr>\n",
       "      <th>4</th>\n",
       "      <td>1</td>\n",
       "      <td>3</td>\n",
       "      <td>1</td>\n",
       "    </tr>\n",
       "  </tbody>\n",
       "</table>\n",
       "</div>"
      ],
      "text/plain": [
       "   home_score  away_score  win_loss_draw\n",
       "0           3           1              2\n",
       "1           1           1              0\n",
       "2           5           0              2\n",
       "3           1           0              2\n",
       "4           1           3              1"
      ]
     },
     "execution_count": 75,
     "metadata": {},
     "output_type": "execute_result"
    }
   ],
   "source": [
    "# since we want to predict whether a match is a win, lose, or draw from the perspective\n",
    "# of the home team, our target variable will be the 'win_loss_draw' column\n",
    "wld_prediction = dataset.drop(columns = ['date', 'home_team', 'away_team', 'tournament',\n",
    "                                         'home_rank', 'away_rank'])\n",
    "wld_prediction.head()"
   ]
  },
  {
   "cell_type": "code",
   "execution_count": 76,
   "metadata": {},
   "outputs": [
    {
     "data": {
      "text/plain": [
       "<matplotlib.axes._subplots.AxesSubplot at 0x7f98d4a51ef0>"
      ]
     },
     "execution_count": 76,
     "metadata": {},
     "output_type": "execute_result"
    },
    {
     "data": {
      "image/png": "[encoded data removed]",
      "text/plain": [
       "<Figure size 720x576 with 2 Axes>"
      ]
     },
     "metadata": {
      "needs_background": "light"
     },
     "output_type": "display_data"
    }
   ],
   "source": [
    "# check for multicollinearity between the variables\n",
    "wld_vif = pd.DataFrame(np.linalg.inv(wld_prediction.corr().values), index = wld_prediction.corr().index,\n",
    "                      columns = wld_prediction.corr().columns)\n",
    "\n",
    "plt.figure(figsize = (10,8))\n",
    "sb.heatmap(wld_vif, annot = True)"
   ]
  },
  {
   "cell_type": "markdown",
   "metadata": {},
   "source": [
    "All VIF scores are way below 5, so it is safe to proceed with this dataset."
   ]
  },
  {
   "cell_type": "code",
   "execution_count": 77,
   "metadata": {},
   "outputs": [
    {
     "name": "stdout",
     "output_type": "stream",
     "text": [
      "(709, 2)\n",
      "(709,)\n"
     ]
    }
   ],
   "source": [
    "# setting up our train and test sets\n",
    "\n",
    "X_wld = wld_prediction.drop('win_loss_draw', axis = 1)\n",
    "y_wld = wld_prediction['win_loss_draw']\n",
    "\n",
    "print(X_wld.shape)\n",
    "print(y_wld.shape)"
   ]
  },
  {
   "cell_type": "code",
   "execution_count": 78,
   "metadata": {},
   "outputs": [],
   "source": [
    "# splitting our data 80:20\n",
    "X_wld_train, X_wld_test, y_wld_train, y_wld_test = train_test_split(X_wld, y_wld,\n",
    "                                                                    test_size = 0.2,\n",
    "                                                                    random_state = 0)"
   ]
  },
  {
   "cell_type": "code",
   "execution_count": 79,
   "metadata": {},
   "outputs": [
    {
     "data": {
      "text/plain": [
       "LogisticRegression(C=1.0, class_weight=None, dual=False, fit_intercept=True,\n",
       "                   intercept_scaling=1, l1_ratio=None, max_iter=100,\n",
       "                   multi_class='auto', n_jobs=None, penalty='l2',\n",
       "                   random_state=None, solver='liblinear', tol=0.0001, verbose=0,\n",
       "                   warm_start=False)"
      ]
     },
     "execution_count": 79,
     "metadata": {},
     "output_type": "execute_result"
    }
   ],
   "source": [
    "# fitting our model\n",
    "LogReg = LogisticRegression(solver = 'liblinear', multi_class = 'auto')\n",
    "LogReg.fit(X_wld_train, y_wld_train)"
   ]
  },
  {
   "cell_type": "markdown",
   "metadata": {},
   "source": [
    "### 5.4 Making predictions"
   ]
  },
  {
   "cell_type": "code",
   "execution_count": 80,
   "metadata": {},
   "outputs": [],
   "source": [
    "# I will use KNN\n",
    "knn = KNeighborsClassifier(n_neighbors = 1)"
   ]
  },
  {
   "cell_type": "code",
   "execution_count": 81,
   "metadata": {},
   "outputs": [
    {
     "data": {
      "text/plain": [
       "KNeighborsClassifier(algorithm='auto', leaf_size=30, metric='minkowski',\n",
       "                     metric_params=None, n_jobs=None, n_neighbors=1, p=2,\n",
       "                     weights='uniform')"
      ]
     },
     "execution_count": 81,
     "metadata": {},
     "output_type": "execute_result"
    }
   ],
   "source": [
    "knn.fit(X_wld_train, y_wld_train)"
   ]
  },
  {
   "cell_type": "code",
   "execution_count": 82,
   "metadata": {},
   "outputs": [
    {
     "data": {
      "text/plain": [
       "array([[7, 3]])"
      ]
     },
     "execution_count": 82,
     "metadata": {},
     "output_type": "execute_result"
    }
   ],
   "source": [
    "# example\n",
    "# suppose home team scores 7 goals and away team scores 3 (we want to get a 'win')\n",
    "X_example = np.array([[7, 3]])\n",
    "X_example"
   ]
  },
  {
   "cell_type": "code",
   "execution_count": 83,
   "metadata": {},
   "outputs": [
    {
     "name": "stdout",
     "output_type": "stream",
     "text": [
      "Result of prediction: [2]\n"
     ]
    }
   ],
   "source": [
    "prediction = knn.predict(X_example)\n",
    "print(\"Result of prediction:\", prediction)"
   ]
  },
  {
   "cell_type": "code",
   "execution_count": 84,
   "metadata": {},
   "outputs": [
    {
     "name": "stdout",
     "output_type": "stream",
     "text": [
      "Outcome of the match: ['win']\n"
     ]
    }
   ],
   "source": [
    "# decoding our prediction using the outcome class we had set up earlier\n",
    "print(\"Outcome of the match:\", class_outcome[prediction])"
   ]
  },
  {
   "cell_type": "code",
   "execution_count": 85,
   "metadata": {},
   "outputs": [
    {
     "name": "stdout",
     "output_type": "stream",
     "text": [
      "Match outcome: ['draw']\n"
     ]
    }
   ],
   "source": [
    "# let's try again with a home score of 3 and an away score of 3 and see if we can get a 'draw'\n",
    "X_example_2 = np.array([[3, 3]])\n",
    "prediction2 = knn.predict(X_example_2)\n",
    "print(\"Match outcome:\", class_outcome[prediction2])"
   ]
  },
  {
   "cell_type": "code",
   "execution_count": 86,
   "metadata": {},
   "outputs": [
    {
     "data": {
      "text/plain": [
       "0.9788732394366197"
      ]
     },
     "execution_count": 86,
     "metadata": {},
     "output_type": "execute_result"
    }
   ],
   "source": [
    "# how accurate is our model?\n",
    "prediction_score = knn.score(X_wld_test, y_wld_test)\n",
    "prediction_score"
   ]
  },
  {
   "cell_type": "markdown",
   "metadata": {},
   "source": [
    "From this, we see that our model is accurate approximately 97.88% of the time. While accuracy alone is not sufficient to conclude whether the model is actually good or not, I'd say it's a really good option to settle with for the time being until a better model can be made."
   ]
  },
  {
   "cell_type": "markdown",
   "metadata": {},
   "source": [
    "### 5.5 Cross Validating the Model"
   ]
  },
  {
   "cell_type": "code",
   "execution_count": 87,
   "metadata": {},
   "outputs": [
    {
     "data": {
      "text/plain": [
       "array([1.        , 0.98728814, 1.        ])"
      ]
     },
     "execution_count": 87,
     "metadata": {},
     "output_type": "execute_result"
    }
   ],
   "source": [
    "# cross-validating the logistic regression model using the cross_val_score method\n",
    "score = cross_val_score(LogisticRegression(solver='liblinear', multi_class = 'auto'), X_wld, y_wld, cv = 3)\n",
    "score"
   ]
  },
  {
   "cell_type": "code",
   "execution_count": 88,
   "metadata": {},
   "outputs": [
    {
     "name": "stdout",
     "output_type": "stream",
     "text": [
      "Accuracy: 1.00 (+/- 0.01)\n"
     ]
    }
   ],
   "source": [
    "# assessing the accuracy of our model\n",
    "print(\"Accuracy: %0.2f (+/- %0.2f)\" % (score.mean(), score.std() * 2))"
   ]
  },
  {
   "cell_type": "markdown",
   "metadata": {},
   "source": [
    "We see here that our model is very accurate at predicting whether the match will be a win, loss, or draw given the home and away scores."
   ]
  },
  {
   "cell_type": "markdown",
   "metadata": {},
   "source": [
    "# 6. Conclusion"
   ]
  },
  {
   "cell_type": "markdown",
   "metadata": {},
   "source": [
    "In conclusion, we see that tournament type, home rank, and away rank do not really influence the home or away scores by a large margin. Either the models used were not really good at predicting the scores, the variables actually do not influence them, or I did something wrong during the process.\n",
    "\n",
    "When it comes to the logistic regression question, however, I can say that my Logistic regression model performed really well and with 100% accuracy."
   ]
  },
  {
   "cell_type": "markdown",
   "metadata": {},
   "source": [
    "# 7. Challenging the Solution"
   ]
  },
  {
   "cell_type": "markdown",
   "metadata": {},
   "source": [
    "I believe that a better model than polynomial regression should have been used. Also, the data sets need to be more completed and less biased (e.g., a very large majority of the matches were friendly, and also did not take place in neutral locations) so that there is not so much loss of data when merging the two datasets. Furthermore, better understanding of how to interpret and improve results such as RMSE values is needed.\n",
    "\n",
    "Next time I should also try to figure out a way to extensively explore the relationship between ranks and scores. I should also try splitting the matches according to regions (e.g. country or continent) and/or confederations, and see if there's an influence on ranking and scores."
   ]
  }
 ],
 "metadata": {
  "kernelspec": {
   "display_name": "Python 3",
   "language": "python",
   "name": "python3"
  },
  "language_info": {
   "codemirror_mode": {
    "name": "ipython",
    "version": 3
   },
   "file_extension": ".py",
   "mimetype": "text/x-python",
   "name": "python",
   "nbconvert_exporter": "python",
   "pygments_lexer": "ipython3",
   "version": "3.7.3"
  }
 },
 "nbformat": 4,
 "nbformat_minor": 2
}
