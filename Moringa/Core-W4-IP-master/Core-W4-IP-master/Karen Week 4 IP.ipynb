{
 "cells": [
  {
   "cell_type": "markdown",
   "metadata": {},
   "source": [
    "# Research Question\n",
    "\n",
    "As a Data Scientist, I would like to investigate which of the three electric car models, the BlueCar, the Utilib, and the Utilib 14, is the most popular on a weekend and the day it is in high demand."
   ]
  },
  {
   "cell_type": "markdown",
   "metadata": {},
   "source": [
    "## Data Preparation"
   ]
  },
  {
   "cell_type": "code",
   "execution_count": 52,
   "metadata": {},
   "outputs": [],
   "source": [
    "# load Python libraries\n",
    "import numpy as np\n",
    "import pandas as pd\n",
    "import scipy.stats as stats\n",
    "import matplotlib.pyplot as plt\n",
    "import seaborn as sns"
   ]
  },
  {
   "cell_type": "code",
   "execution_count": 53,
   "metadata": {},
   "outputs": [
    {
     "data": {
      "text/html": [
       "<div>\n",
       "<style scoped>\n",
       "    .dataframe tbody tr th:only-of-type {\n",
       "        vertical-align: middle;\n",
       "    }\n",
       "\n",
       "    .dataframe tbody tr th {\n",
       "        vertical-align: top;\n",
       "    }\n",
       "\n",
       "    .dataframe thead th {\n",
       "        text-align: right;\n",
       "    }\n",
       "</style>\n",
       "<table border=\"1\" class=\"dataframe\">\n",
       "  <thead>\n",
       "    <tr style=\"text-align: right;\">\n",
       "      <th></th>\n",
       "      <th>Postal code</th>\n",
       "      <th>date</th>\n",
       "      <th>n_daily_data_points</th>\n",
       "      <th>dayOfWeek</th>\n",
       "      <th>day_type</th>\n",
       "      <th>BlueCars_taken_sum</th>\n",
       "      <th>BlueCars_returned_sum</th>\n",
       "      <th>Utilib_taken_sum</th>\n",
       "      <th>Utilib_returned_sum</th>\n",
       "      <th>Utilib_14_taken_sum</th>\n",
       "      <th>Utilib_14_returned_sum</th>\n",
       "      <th>Slots_freed_sum</th>\n",
       "      <th>Slots_taken_sum</th>\n",
       "    </tr>\n",
       "  </thead>\n",
       "  <tbody>\n",
       "    <tr>\n",
       "      <th>0</th>\n",
       "      <td>75001</td>\n",
       "      <td>1/1/2018</td>\n",
       "      <td>1440</td>\n",
       "      <td>0</td>\n",
       "      <td>weekday</td>\n",
       "      <td>110</td>\n",
       "      <td>103</td>\n",
       "      <td>3</td>\n",
       "      <td>2</td>\n",
       "      <td>10</td>\n",
       "      <td>9</td>\n",
       "      <td>22</td>\n",
       "      <td>20</td>\n",
       "    </tr>\n",
       "    <tr>\n",
       "      <th>1</th>\n",
       "      <td>75001</td>\n",
       "      <td>1/2/2018</td>\n",
       "      <td>1438</td>\n",
       "      <td>1</td>\n",
       "      <td>weekday</td>\n",
       "      <td>98</td>\n",
       "      <td>94</td>\n",
       "      <td>1</td>\n",
       "      <td>1</td>\n",
       "      <td>8</td>\n",
       "      <td>8</td>\n",
       "      <td>23</td>\n",
       "      <td>22</td>\n",
       "    </tr>\n",
       "    <tr>\n",
       "      <th>2</th>\n",
       "      <td>75001</td>\n",
       "      <td>1/3/2018</td>\n",
       "      <td>1439</td>\n",
       "      <td>2</td>\n",
       "      <td>weekday</td>\n",
       "      <td>138</td>\n",
       "      <td>139</td>\n",
       "      <td>0</td>\n",
       "      <td>0</td>\n",
       "      <td>2</td>\n",
       "      <td>2</td>\n",
       "      <td>27</td>\n",
       "      <td>27</td>\n",
       "    </tr>\n",
       "    <tr>\n",
       "      <th>3</th>\n",
       "      <td>75001</td>\n",
       "      <td>1/4/2018</td>\n",
       "      <td>1320</td>\n",
       "      <td>3</td>\n",
       "      <td>weekday</td>\n",
       "      <td>104</td>\n",
       "      <td>104</td>\n",
       "      <td>2</td>\n",
       "      <td>2</td>\n",
       "      <td>9</td>\n",
       "      <td>8</td>\n",
       "      <td>25</td>\n",
       "      <td>21</td>\n",
       "    </tr>\n",
       "    <tr>\n",
       "      <th>4</th>\n",
       "      <td>75001</td>\n",
       "      <td>1/5/2018</td>\n",
       "      <td>1440</td>\n",
       "      <td>4</td>\n",
       "      <td>weekday</td>\n",
       "      <td>114</td>\n",
       "      <td>117</td>\n",
       "      <td>3</td>\n",
       "      <td>3</td>\n",
       "      <td>6</td>\n",
       "      <td>6</td>\n",
       "      <td>18</td>\n",
       "      <td>20</td>\n",
       "    </tr>\n",
       "  </tbody>\n",
       "</table>\n",
       "</div>"
      ],
      "text/plain": [
       "   Postal code      date  n_daily_data_points  dayOfWeek day_type  \\\n",
       "0        75001  1/1/2018                 1440          0  weekday   \n",
       "1        75001  1/2/2018                 1438          1  weekday   \n",
       "2        75001  1/3/2018                 1439          2  weekday   \n",
       "3        75001  1/4/2018                 1320          3  weekday   \n",
       "4        75001  1/5/2018                 1440          4  weekday   \n",
       "\n",
       "   BlueCars_taken_sum  BlueCars_returned_sum  Utilib_taken_sum  \\\n",
       "0                 110                    103                 3   \n",
       "1                  98                     94                 1   \n",
       "2                 138                    139                 0   \n",
       "3                 104                    104                 2   \n",
       "4                 114                    117                 3   \n",
       "\n",
       "   Utilib_returned_sum  Utilib_14_taken_sum  Utilib_14_returned_sum  \\\n",
       "0                    2                   10                       9   \n",
       "1                    1                    8                       8   \n",
       "2                    0                    2                       2   \n",
       "3                    2                    9                       8   \n",
       "4                    3                    6                       6   \n",
       "\n",
       "   Slots_freed_sum  Slots_taken_sum  \n",
       "0               22               20  \n",
       "1               23               22  \n",
       "2               27               27  \n",
       "3               25               21  \n",
       "4               18               20  "
      ]
     },
     "execution_count": 53,
     "metadata": {},
     "output_type": "execute_result"
    }
   ],
   "source": [
    "# load & preview the dataset\n",
    "autolib_dataset = pd.read_csv('autolib_daily_events_postal_code.csv')\n",
    "autolib_dataset.head(5)"
   ]
  },
  {
   "cell_type": "code",
   "execution_count": 54,
   "metadata": {},
   "outputs": [
    {
     "data": {
      "text/html": [
       "<div>\n",
       "<style scoped>\n",
       "    .dataframe tbody tr th:only-of-type {\n",
       "        vertical-align: middle;\n",
       "    }\n",
       "\n",
       "    .dataframe tbody tr th {\n",
       "        vertical-align: top;\n",
       "    }\n",
       "\n",
       "    .dataframe thead th {\n",
       "        text-align: right;\n",
       "    }\n",
       "</style>\n",
       "<table border=\"1\" class=\"dataframe\">\n",
       "  <thead>\n",
       "    <tr style=\"text-align: right;\">\n",
       "      <th></th>\n",
       "      <th>Postal code</th>\n",
       "      <th>date</th>\n",
       "      <th>n_daily_data_points</th>\n",
       "      <th>dayOfWeek</th>\n",
       "      <th>day_type</th>\n",
       "      <th>BlueCars_taken_sum</th>\n",
       "      <th>BlueCars_returned_sum</th>\n",
       "      <th>Utilib_taken_sum</th>\n",
       "      <th>Utilib_returned_sum</th>\n",
       "      <th>Utilib_14_taken_sum</th>\n",
       "      <th>Utilib_14_returned_sum</th>\n",
       "      <th>Slots_freed_sum</th>\n",
       "      <th>Slots_taken_sum</th>\n",
       "    </tr>\n",
       "  </thead>\n",
       "  <tbody>\n",
       "    <tr>\n",
       "      <th>5</th>\n",
       "      <td>75001</td>\n",
       "      <td>1/6/2018</td>\n",
       "      <td>1437</td>\n",
       "      <td>5</td>\n",
       "      <td>weekend</td>\n",
       "      <td>187</td>\n",
       "      <td>185</td>\n",
       "      <td>6</td>\n",
       "      <td>6</td>\n",
       "      <td>7</td>\n",
       "      <td>8</td>\n",
       "      <td>38</td>\n",
       "      <td>35</td>\n",
       "    </tr>\n",
       "    <tr>\n",
       "      <th>6</th>\n",
       "      <td>75001</td>\n",
       "      <td>1/7/2018</td>\n",
       "      <td>1440</td>\n",
       "      <td>6</td>\n",
       "      <td>weekend</td>\n",
       "      <td>180</td>\n",
       "      <td>180</td>\n",
       "      <td>2</td>\n",
       "      <td>2</td>\n",
       "      <td>10</td>\n",
       "      <td>9</td>\n",
       "      <td>34</td>\n",
       "      <td>34</td>\n",
       "    </tr>\n",
       "    <tr>\n",
       "      <th>12</th>\n",
       "      <td>75001</td>\n",
       "      <td>1/13/2018</td>\n",
       "      <td>1440</td>\n",
       "      <td>5</td>\n",
       "      <td>weekend</td>\n",
       "      <td>224</td>\n",
       "      <td>223</td>\n",
       "      <td>2</td>\n",
       "      <td>2</td>\n",
       "      <td>15</td>\n",
       "      <td>15</td>\n",
       "      <td>38</td>\n",
       "      <td>38</td>\n",
       "    </tr>\n",
       "    <tr>\n",
       "      <th>13</th>\n",
       "      <td>75001</td>\n",
       "      <td>1/14/2018</td>\n",
       "      <td>1440</td>\n",
       "      <td>6</td>\n",
       "      <td>weekend</td>\n",
       "      <td>193</td>\n",
       "      <td>193</td>\n",
       "      <td>2</td>\n",
       "      <td>2</td>\n",
       "      <td>12</td>\n",
       "      <td>12</td>\n",
       "      <td>22</td>\n",
       "      <td>20</td>\n",
       "    </tr>\n",
       "    <tr>\n",
       "      <th>19</th>\n",
       "      <td>75001</td>\n",
       "      <td>1/20/2018</td>\n",
       "      <td>1439</td>\n",
       "      <td>5</td>\n",
       "      <td>weekend</td>\n",
       "      <td>217</td>\n",
       "      <td>217</td>\n",
       "      <td>2</td>\n",
       "      <td>2</td>\n",
       "      <td>25</td>\n",
       "      <td>25</td>\n",
       "      <td>41</td>\n",
       "      <td>39</td>\n",
       "    </tr>\n",
       "  </tbody>\n",
       "</table>\n",
       "</div>"
      ],
      "text/plain": [
       "    Postal code       date  n_daily_data_points  dayOfWeek day_type  \\\n",
       "5         75001   1/6/2018                 1437          5  weekend   \n",
       "6         75001   1/7/2018                 1440          6  weekend   \n",
       "12        75001  1/13/2018                 1440          5  weekend   \n",
       "13        75001  1/14/2018                 1440          6  weekend   \n",
       "19        75001  1/20/2018                 1439          5  weekend   \n",
       "\n",
       "    BlueCars_taken_sum  BlueCars_returned_sum  Utilib_taken_sum  \\\n",
       "5                  187                    185                 6   \n",
       "6                  180                    180                 2   \n",
       "12                 224                    223                 2   \n",
       "13                 193                    193                 2   \n",
       "19                 217                    217                 2   \n",
       "\n",
       "    Utilib_returned_sum  Utilib_14_taken_sum  Utilib_14_returned_sum  \\\n",
       "5                     6                    7                       8   \n",
       "6                     2                   10                       9   \n",
       "12                    2                   15                      15   \n",
       "13                    2                   12                      12   \n",
       "19                    2                   25                      25   \n",
       "\n",
       "    Slots_freed_sum  Slots_taken_sum  \n",
       "5                38               35  \n",
       "6                34               34  \n",
       "12               38               38  \n",
       "13               22               20  \n",
       "19               41               39  "
      ]
     },
     "execution_count": 54,
     "metadata": {},
     "output_type": "execute_result"
    }
   ],
   "source": [
    "#create a dataset that contains the Autolib data recorded only on weekends\n",
    "autolib = autolib_dataset.loc[autolib_dataset['day_type'] == 'weekend']\n",
    "\n",
    "# preview the dataset\n",
    "autolib.head(5)"
   ]
  },
  {
   "cell_type": "code",
   "execution_count": 55,
   "metadata": {},
   "outputs": [],
   "source": [
    "# drop the 'day_type' column since it is redundant now\n",
    "autolib = autolib.drop(columns='day_type')"
   ]
  },
  {
   "cell_type": "code",
   "execution_count": 56,
   "metadata": {},
   "outputs": [
    {
     "data": {
      "text/html": [
       "<div>\n",
       "<style scoped>\n",
       "    .dataframe tbody tr th:only-of-type {\n",
       "        vertical-align: middle;\n",
       "    }\n",
       "\n",
       "    .dataframe tbody tr th {\n",
       "        vertical-align: top;\n",
       "    }\n",
       "\n",
       "    .dataframe thead th {\n",
       "        text-align: right;\n",
       "    }\n",
       "</style>\n",
       "<table border=\"1\" class=\"dataframe\">\n",
       "  <thead>\n",
       "    <tr style=\"text-align: right;\">\n",
       "      <th></th>\n",
       "      <th>Postal code</th>\n",
       "      <th>date</th>\n",
       "      <th>n_daily_data_points</th>\n",
       "      <th>dayOfWeek</th>\n",
       "      <th>BlueCars_taken_sum</th>\n",
       "      <th>BlueCars_returned_sum</th>\n",
       "      <th>Utilib_taken_sum</th>\n",
       "      <th>Utilib_returned_sum</th>\n",
       "      <th>Utilib_14_taken_sum</th>\n",
       "      <th>Utilib_14_returned_sum</th>\n",
       "      <th>Slots_freed_sum</th>\n",
       "      <th>Slots_taken_sum</th>\n",
       "    </tr>\n",
       "  </thead>\n",
       "  <tbody>\n",
       "    <tr>\n",
       "      <th>5</th>\n",
       "      <td>75001</td>\n",
       "      <td>1/6/2018</td>\n",
       "      <td>1437</td>\n",
       "      <td>Saturday</td>\n",
       "      <td>187</td>\n",
       "      <td>185</td>\n",
       "      <td>6</td>\n",
       "      <td>6</td>\n",
       "      <td>7</td>\n",
       "      <td>8</td>\n",
       "      <td>38</td>\n",
       "      <td>35</td>\n",
       "    </tr>\n",
       "    <tr>\n",
       "      <th>6</th>\n",
       "      <td>75001</td>\n",
       "      <td>1/7/2018</td>\n",
       "      <td>1440</td>\n",
       "      <td>Sunday</td>\n",
       "      <td>180</td>\n",
       "      <td>180</td>\n",
       "      <td>2</td>\n",
       "      <td>2</td>\n",
       "      <td>10</td>\n",
       "      <td>9</td>\n",
       "      <td>34</td>\n",
       "      <td>34</td>\n",
       "    </tr>\n",
       "    <tr>\n",
       "      <th>12</th>\n",
       "      <td>75001</td>\n",
       "      <td>1/13/2018</td>\n",
       "      <td>1440</td>\n",
       "      <td>Saturday</td>\n",
       "      <td>224</td>\n",
       "      <td>223</td>\n",
       "      <td>2</td>\n",
       "      <td>2</td>\n",
       "      <td>15</td>\n",
       "      <td>15</td>\n",
       "      <td>38</td>\n",
       "      <td>38</td>\n",
       "    </tr>\n",
       "    <tr>\n",
       "      <th>13</th>\n",
       "      <td>75001</td>\n",
       "      <td>1/14/2018</td>\n",
       "      <td>1440</td>\n",
       "      <td>Sunday</td>\n",
       "      <td>193</td>\n",
       "      <td>193</td>\n",
       "      <td>2</td>\n",
       "      <td>2</td>\n",
       "      <td>12</td>\n",
       "      <td>12</td>\n",
       "      <td>22</td>\n",
       "      <td>20</td>\n",
       "    </tr>\n",
       "    <tr>\n",
       "      <th>19</th>\n",
       "      <td>75001</td>\n",
       "      <td>1/20/2018</td>\n",
       "      <td>1439</td>\n",
       "      <td>Saturday</td>\n",
       "      <td>217</td>\n",
       "      <td>217</td>\n",
       "      <td>2</td>\n",
       "      <td>2</td>\n",
       "      <td>25</td>\n",
       "      <td>25</td>\n",
       "      <td>41</td>\n",
       "      <td>39</td>\n",
       "    </tr>\n",
       "  </tbody>\n",
       "</table>\n",
       "</div>"
      ],
      "text/plain": [
       "    Postal code       date  n_daily_data_points dayOfWeek  BlueCars_taken_sum  \\\n",
       "5         75001   1/6/2018                 1437  Saturday                 187   \n",
       "6         75001   1/7/2018                 1440    Sunday                 180   \n",
       "12        75001  1/13/2018                 1440  Saturday                 224   \n",
       "13        75001  1/14/2018                 1440    Sunday                 193   \n",
       "19        75001  1/20/2018                 1439  Saturday                 217   \n",
       "\n",
       "    BlueCars_returned_sum  Utilib_taken_sum  Utilib_returned_sum  \\\n",
       "5                     185                 6                    6   \n",
       "6                     180                 2                    2   \n",
       "12                    223                 2                    2   \n",
       "13                    193                 2                    2   \n",
       "19                    217                 2                    2   \n",
       "\n",
       "    Utilib_14_taken_sum  Utilib_14_returned_sum  Slots_freed_sum  \\\n",
       "5                     7                       8               38   \n",
       "6                    10                       9               34   \n",
       "12                   15                      15               38   \n",
       "13                   12                      12               22   \n",
       "19                   25                      25               41   \n",
       "\n",
       "    Slots_taken_sum  \n",
       "5                35  \n",
       "6                34  \n",
       "12               38  \n",
       "13               20  \n",
       "19               39  "
      ]
     },
     "execution_count": 56,
     "metadata": {},
     "output_type": "execute_result"
    }
   ],
   "source": [
    "# replace \"6\" with \"Sunday\" and \"5\" with \"Saturday\"\n",
    "\n",
    "autolib.loc[autolib['dayOfWeek'] == 6, 'dayOfWeek'] = 'Sunday'\n",
    "autolib.loc[autolib['dayOfWeek'] == 5, 'dayOfWeek'] = 'Saturday'\n",
    "\n",
    "autolib.head()"
   ]
  },
  {
   "cell_type": "code",
   "execution_count": 57,
   "metadata": {},
   "outputs": [
    {
     "data": {
      "text/plain": [
       "(4541, 12)"
      ]
     },
     "execution_count": 57,
     "metadata": {},
     "output_type": "execute_result"
    }
   ],
   "source": [
    "# check the shape (size) of the dataset\n",
    "autolib.shape\n",
    "\n",
    "## we have 4,541 rows and 12 columns"
   ]
  },
  {
   "cell_type": "code",
   "execution_count": 58,
   "metadata": {},
   "outputs": [
    {
     "name": "stdout",
     "output_type": "stream",
     "text": [
      "<class 'pandas.core.frame.DataFrame'>\n",
      "Int64Index: 4541 entries, 5 to 16082\n",
      "Data columns (total 12 columns):\n",
      "Postal code               4541 non-null int64\n",
      "date                      4541 non-null object\n",
      "n_daily_data_points       4541 non-null int64\n",
      "dayOfWeek                 4541 non-null object\n",
      "BlueCars_taken_sum        4541 non-null int64\n",
      "BlueCars_returned_sum     4541 non-null int64\n",
      "Utilib_taken_sum          4541 non-null int64\n",
      "Utilib_returned_sum       4541 non-null int64\n",
      "Utilib_14_taken_sum       4541 non-null int64\n",
      "Utilib_14_returned_sum    4541 non-null int64\n",
      "Slots_freed_sum           4541 non-null int64\n",
      "Slots_taken_sum           4541 non-null int64\n",
      "dtypes: int64(10), object(2)\n",
      "memory usage: 461.2+ KB\n"
     ]
    }
   ],
   "source": [
    "# check the info on the Autolib dataset\n",
    "autolib.info()"
   ]
  },
  {
   "cell_type": "code",
   "execution_count": 59,
   "metadata": {},
   "outputs": [],
   "source": [
    "# rename the columns to improve consistency\n",
    "autolib = autolib.rename(columns={\n",
    "    'Postal code' : 'postal_code',\n",
    "    'dayOfWeek' : 'day_of_week',\n",
    "    'BlueCars_taken_sum' : 'bluecars_taken_sum',\n",
    "    'BlueCars_returned_sum' : 'bluecars_returned_sum',\n",
    "    'Utilib_taken_sum' : 'utilib_taken_sum',\n",
    "    'Utilib_returned_sum' : 'utilib_returned_sum',\n",
    "    'Utilib_14_taken_sum' : 'utilib_14_taken_sum',\n",
    "    'Utilib_14_returned_sum' : 'utilib_14_returned_sum',\n",
    "    'Slots_freed_sum' : 'slots_freed_sum',\n",
    "    'Slots_taken_sum' : 'slots_taken_sum'\n",
    "})"
   ]
  },
  {
   "cell_type": "code",
   "execution_count": 60,
   "metadata": {},
   "outputs": [
    {
     "data": {
      "text/plain": [
       "postal_code                int64\n",
       "date                      object\n",
       "n_daily_data_points        int64\n",
       "day_of_week               object\n",
       "bluecars_taken_sum         int64\n",
       "bluecars_returned_sum      int64\n",
       "utilib_taken_sum           int64\n",
       "utilib_returned_sum        int64\n",
       "utilib_14_taken_sum        int64\n",
       "utilib_14_returned_sum     int64\n",
       "slots_freed_sum            int64\n",
       "slots_taken_sum            int64\n",
       "dtype: object"
      ]
     },
     "execution_count": 60,
     "metadata": {},
     "output_type": "execute_result"
    }
   ],
   "source": [
    "# check columns and their corresponding data type\n",
    "autolib.dtypes"
   ]
  },
  {
   "cell_type": "code",
   "execution_count": 61,
   "metadata": {},
   "outputs": [
    {
     "data": {
      "text/plain": [
       "postal_code               0\n",
       "date                      0\n",
       "n_daily_data_points       0\n",
       "day_of_week               0\n",
       "bluecars_taken_sum        0\n",
       "bluecars_returned_sum     0\n",
       "utilib_taken_sum          0\n",
       "utilib_returned_sum       0\n",
       "utilib_14_taken_sum       0\n",
       "utilib_14_returned_sum    0\n",
       "slots_freed_sum           0\n",
       "slots_taken_sum           0\n",
       "dtype: int64"
      ]
     },
     "execution_count": 61,
     "metadata": {},
     "output_type": "execute_result"
    }
   ],
   "source": [
    "# check for null values\n",
    "autolib.isna().sum()\n",
    "\n",
    "## there are no null values in any column"
   ]
  },
  {
   "cell_type": "code",
   "execution_count": 62,
   "metadata": {},
   "outputs": [
    {
     "name": "stdout",
     "output_type": "stream",
     "text": [
      "Empty DataFrame\n",
      "Columns: [postal_code, date, n_daily_data_points, day_of_week, bluecars_taken_sum, bluecars_returned_sum, utilib_taken_sum, utilib_returned_sum, utilib_14_taken_sum, utilib_14_returned_sum, slots_freed_sum, slots_taken_sum]\n",
      "Index: []\n"
     ]
    }
   ],
   "source": [
    "# check for duplicates\n",
    "isDuplicated = autolib[autolib.duplicated()]\n",
    "print(isDuplicated)\n",
    "\n",
    "# \"Empty DataFrame\" means that there are no duplicated values in the dataset"
   ]
  },
  {
   "cell_type": "code",
   "execution_count": 63,
   "metadata": {
    "scrolled": true
   },
   "outputs": [
    {
     "data": {
      "text/html": [
       "<div>\n",
       "<style scoped>\n",
       "    .dataframe tbody tr th:only-of-type {\n",
       "        vertical-align: middle;\n",
       "    }\n",
       "\n",
       "    .dataframe tbody tr th {\n",
       "        vertical-align: top;\n",
       "    }\n",
       "\n",
       "    .dataframe thead th {\n",
       "        text-align: right;\n",
       "    }\n",
       "</style>\n",
       "<table border=\"1\" class=\"dataframe\">\n",
       "  <thead>\n",
       "    <tr style=\"text-align: right;\">\n",
       "      <th></th>\n",
       "      <th>postal_code</th>\n",
       "      <th>n_daily_data_points</th>\n",
       "      <th>bluecars_taken_sum</th>\n",
       "      <th>bluecars_returned_sum</th>\n",
       "      <th>utilib_taken_sum</th>\n",
       "      <th>utilib_returned_sum</th>\n",
       "      <th>utilib_14_taken_sum</th>\n",
       "      <th>utilib_14_returned_sum</th>\n",
       "      <th>slots_freed_sum</th>\n",
       "      <th>slots_taken_sum</th>\n",
       "    </tr>\n",
       "  </thead>\n",
       "  <tbody>\n",
       "    <tr>\n",
       "      <th>count</th>\n",
       "      <td>4541.000000</td>\n",
       "      <td>4541.000000</td>\n",
       "      <td>4541.000000</td>\n",
       "      <td>4541.000000</td>\n",
       "      <td>4541.000000</td>\n",
       "      <td>4541.000000</td>\n",
       "      <td>4541.000000</td>\n",
       "      <td>4541.000000</td>\n",
       "      <td>4541.000000</td>\n",
       "      <td>4541.000000</td>\n",
       "    </tr>\n",
       "    <tr>\n",
       "      <th>mean</th>\n",
       "      <td>88794.686633</td>\n",
       "      <td>1434.694781</td>\n",
       "      <td>151.090068</td>\n",
       "      <td>152.029289</td>\n",
       "      <td>4.393085</td>\n",
       "      <td>4.414666</td>\n",
       "      <td>10.129707</td>\n",
       "      <td>10.184761</td>\n",
       "      <td>26.909712</td>\n",
       "      <td>26.970932</td>\n",
       "    </tr>\n",
       "    <tr>\n",
       "      <th>std</th>\n",
       "      <td>7646.521844</td>\n",
       "      <td>20.819324</td>\n",
       "      <td>218.565642</td>\n",
       "      <td>221.140337</td>\n",
       "      <td>6.747905</td>\n",
       "      <td>6.834645</td>\n",
       "      <td>14.821601</td>\n",
       "      <td>14.973810</td>\n",
       "      <td>61.357605</td>\n",
       "      <td>61.531368</td>\n",
       "    </tr>\n",
       "    <tr>\n",
       "      <th>min</th>\n",
       "      <td>75001.000000</td>\n",
       "      <td>1318.000000</td>\n",
       "      <td>0.000000</td>\n",
       "      <td>0.000000</td>\n",
       "      <td>0.000000</td>\n",
       "      <td>0.000000</td>\n",
       "      <td>0.000000</td>\n",
       "      <td>0.000000</td>\n",
       "      <td>0.000000</td>\n",
       "      <td>0.000000</td>\n",
       "    </tr>\n",
       "    <tr>\n",
       "      <th>25%</th>\n",
       "      <td>91330.000000</td>\n",
       "      <td>1440.000000</td>\n",
       "      <td>25.000000</td>\n",
       "      <td>24.000000</td>\n",
       "      <td>0.000000</td>\n",
       "      <td>0.000000</td>\n",
       "      <td>1.000000</td>\n",
       "      <td>1.000000</td>\n",
       "      <td>0.000000</td>\n",
       "      <td>0.000000</td>\n",
       "    </tr>\n",
       "    <tr>\n",
       "      <th>50%</th>\n",
       "      <td>92340.000000</td>\n",
       "      <td>1440.000000</td>\n",
       "      <td>59.000000</td>\n",
       "      <td>58.000000</td>\n",
       "      <td>2.000000</td>\n",
       "      <td>2.000000</td>\n",
       "      <td>4.000000</td>\n",
       "      <td>4.000000</td>\n",
       "      <td>0.000000</td>\n",
       "      <td>0.000000</td>\n",
       "    </tr>\n",
       "    <tr>\n",
       "      <th>75%</th>\n",
       "      <td>93400.000000</td>\n",
       "      <td>1440.000000</td>\n",
       "      <td>156.000000</td>\n",
       "      <td>157.000000</td>\n",
       "      <td>5.000000</td>\n",
       "      <td>5.000000</td>\n",
       "      <td>11.000000</td>\n",
       "      <td>12.000000</td>\n",
       "      <td>6.000000</td>\n",
       "      <td>6.000000</td>\n",
       "    </tr>\n",
       "    <tr>\n",
       "      <th>max</th>\n",
       "      <td>95880.000000</td>\n",
       "      <td>1440.000000</td>\n",
       "      <td>1352.000000</td>\n",
       "      <td>1332.000000</td>\n",
       "      <td>54.000000</td>\n",
       "      <td>58.000000</td>\n",
       "      <td>100.000000</td>\n",
       "      <td>101.000000</td>\n",
       "      <td>360.000000</td>\n",
       "      <td>359.000000</td>\n",
       "    </tr>\n",
       "  </tbody>\n",
       "</table>\n",
       "</div>"
      ],
      "text/plain": [
       "        postal_code  n_daily_data_points  bluecars_taken_sum  \\\n",
       "count   4541.000000          4541.000000         4541.000000   \n",
       "mean   88794.686633          1434.694781          151.090068   \n",
       "std     7646.521844            20.819324          218.565642   \n",
       "min    75001.000000          1318.000000            0.000000   \n",
       "25%    91330.000000          1440.000000           25.000000   \n",
       "50%    92340.000000          1440.000000           59.000000   \n",
       "75%    93400.000000          1440.000000          156.000000   \n",
       "max    95880.000000          1440.000000         1352.000000   \n",
       "\n",
       "       bluecars_returned_sum  utilib_taken_sum  utilib_returned_sum  \\\n",
       "count            4541.000000       4541.000000          4541.000000   \n",
       "mean              152.029289          4.393085             4.414666   \n",
       "std               221.140337          6.747905             6.834645   \n",
       "min                 0.000000          0.000000             0.000000   \n",
       "25%                24.000000          0.000000             0.000000   \n",
       "50%                58.000000          2.000000             2.000000   \n",
       "75%               157.000000          5.000000             5.000000   \n",
       "max              1332.000000         54.000000            58.000000   \n",
       "\n",
       "       utilib_14_taken_sum  utilib_14_returned_sum  slots_freed_sum  \\\n",
       "count          4541.000000             4541.000000      4541.000000   \n",
       "mean             10.129707               10.184761        26.909712   \n",
       "std              14.821601               14.973810        61.357605   \n",
       "min               0.000000                0.000000         0.000000   \n",
       "25%               1.000000                1.000000         0.000000   \n",
       "50%               4.000000                4.000000         0.000000   \n",
       "75%              11.000000               12.000000         6.000000   \n",
       "max             100.000000              101.000000       360.000000   \n",
       "\n",
       "       slots_taken_sum  \n",
       "count      4541.000000  \n",
       "mean         26.970932  \n",
       "std          61.531368  \n",
       "min           0.000000  \n",
       "25%           0.000000  \n",
       "50%           0.000000  \n",
       "75%           6.000000  \n",
       "max         359.000000  "
      ]
     },
     "execution_count": 63,
     "metadata": {},
     "output_type": "execute_result"
    }
   ],
   "source": [
    "# investigate the dataset's descriptive statistics\n",
    "autolib.describe()\n",
    "\n",
    "# points of interest to note:\n"
   ]
  },
  {
   "cell_type": "markdown",
   "metadata": {},
   "source": [
    "### Outliers"
   ]
  },
  {
   "cell_type": "code",
   "execution_count": 100,
   "metadata": {},
   "outputs": [
    {
     "data": {
      "text/plain": [
       "<matplotlib.axes._subplots.AxesSubplot at 0x7ff0f3ffd198>"
      ]
     },
     "execution_count": 100,
     "metadata": {},
     "output_type": "execute_result"
    },
    {
     "data": {
      "image/png": "[encoded data removed]",
      "text/plain": [
       "<Figure size 432x288 with 1 Axes>"
      ]
     },
     "metadata": {
      "needs_background": "light"
     },
     "output_type": "display_data"
    }
   ],
   "source": [
    "# using a boxplot, find outliers in 'n_daily_data_points'\n",
    "\n",
    "sns.boxplot(x = autolib['n_daily_data_points'])"
   ]
  },
  {
   "cell_type": "code",
   "execution_count": 98,
   "metadata": {},
   "outputs": [
    {
     "data": {
      "text/plain": [
       "<matplotlib.axes._subplots.AxesSubplot at 0x7ff0f80bcdd8>"
      ]
     },
     "execution_count": 98,
     "metadata": {},
     "output_type": "execute_result"
    },
    {
     "data": {
      "image/png": "[encoded data removed]",
      "text/plain": [
       "<Figure size 432x288 with 1 Axes>"
      ]
     },
     "metadata": {
      "needs_background": "light"
     },
     "output_type": "display_data"
    }
   ],
   "source": [
    "# using a boxplot, find outliers in 'bluecars_taken_sum'\n",
    "\n",
    "sns.boxplot(x = autolib['bluecars_taken_sum'])"
   ]
  },
  {
   "cell_type": "code",
   "execution_count": 101,
   "metadata": {},
   "outputs": [
    {
     "data": {
      "text/plain": [
       "<matplotlib.axes._subplots.AxesSubplot at 0x7ff0f3f4b5c0>"
      ]
     },
     "execution_count": 101,
     "metadata": {},
     "output_type": "execute_result"
    },
    {
     "data": {
      "image/png": "[encoded data removed]",
      "text/plain": [
       "<Figure size 432x288 with 1 Axes>"
      ]
     },
     "metadata": {
      "needs_background": "light"
     },
     "output_type": "display_data"
    }
   ],
   "source": [
    "# using a boxplot, find outliers in 'bluecars_returned_sum'\n",
    "\n",
    "sns.boxplot(x = autolib['bluecars_returned_sum'])"
   ]
  },
  {
   "cell_type": "code",
   "execution_count": 102,
   "metadata": {},
   "outputs": [
    {
     "data": {
      "text/plain": [
       "<matplotlib.axes._subplots.AxesSubplot at 0x7ff0f3f33da0>"
      ]
     },
     "execution_count": 102,
     "metadata": {},
     "output_type": "execute_result"
    },
    {
     "data": {
      "image/png": "[encoded data removed]",
      "text/plain": [
       "<Figure size 432x288 with 1 Axes>"
      ]
     },
     "metadata": {
      "needs_background": "light"
     },
     "output_type": "display_data"
    }
   ],
   "source": [
    "# using a boxplot, find outliers in 'utilib_taken_sum'\n",
    "\n",
    "sns.boxplot(x = autolib['utilib_taken_sum'])"
   ]
  },
  {
   "cell_type": "code",
   "execution_count": 103,
   "metadata": {},
   "outputs": [
    {
     "data": {
      "text/plain": [
       "<matplotlib.axes._subplots.AxesSubplot at 0x7ff0f3e85390>"
      ]
     },
     "execution_count": 103,
     "metadata": {},
     "output_type": "execute_result"
    },
    {
     "data": {
      "image/png": "[encoded data removed]",
      "text/plain": [
       "<Figure size 432x288 with 1 Axes>"
      ]
     },
     "metadata": {
      "needs_background": "light"
     },
     "output_type": "display_data"
    }
   ],
   "source": [
    "# using a boxplot, find outliers in 'utilib_returned_sum'\n",
    "\n",
    "sns.boxplot(x = autolib['utilib_returned_sum'])"
   ]
  },
  {
   "cell_type": "code",
   "execution_count": 104,
   "metadata": {},
   "outputs": [
    {
     "data": {
      "text/plain": [
       "<matplotlib.axes._subplots.AxesSubplot at 0x7ff0f3e56f60>"
      ]
     },
     "execution_count": 104,
     "metadata": {},
     "output_type": "execute_result"
    },
    {
     "data": {
      "image/png": "[encoded data removed]",
      "text/plain": [
       "<Figure size 432x288 with 1 Axes>"
      ]
     },
     "metadata": {
      "needs_background": "light"
     },
     "output_type": "display_data"
    }
   ],
   "source": [
    "# using a boxplot, find outliers in 'utilib_14_taken_sum'\n",
    "\n",
    "sns.boxplot(x = autolib['utilib_14_taken_sum'])"
   ]
  },
  {
   "cell_type": "code",
   "execution_count": 105,
   "metadata": {
    "scrolled": true
   },
   "outputs": [
    {
     "data": {
      "text/plain": [
       "<matplotlib.axes._subplots.AxesSubplot at 0x7ff0f3e36da0>"
      ]
     },
     "execution_count": 105,
     "metadata": {},
     "output_type": "execute_result"
    },
    {
     "data": {
      "image/png": "[encoded data removed]",
      "text/plain": [
       "<Figure size 432x288 with 1 Axes>"
      ]
     },
     "metadata": {
      "needs_background": "light"
     },
     "output_type": "display_data"
    }
   ],
   "source": [
    "# using a boxplot, find outliers in 'utilib_14_returned_sum'\n",
    "\n",
    "sns.boxplot(x = autolib['utilib_14_returned_sum'])"
   ]
  },
  {
   "cell_type": "markdown",
   "metadata": {},
   "source": [
    "## Data Analysis"
   ]
  },
  {
   "cell_type": "code",
   "execution_count": 91,
   "metadata": {},
   "outputs": [
    {
     "data": {
      "image/png": "[encoded data removed]",
      "text/plain": [
       "<Figure size 432x288 with 1 Axes>"
      ]
     },
     "metadata": {
      "needs_background": "light"
     },
     "output_type": "display_data"
    },
    {
     "name": "stdout",
     "output_type": "stream",
     "text": [
      "Sunday      2274\n",
      "Saturday    2267\n",
      "Name: day_of_week, dtype: int64\n"
     ]
    }
   ],
   "source": [
    "# is there a significant difference between the days?\n",
    "autolib.day_of_week.value_counts().plot(kind='bar', rot=0)\n",
    "plt.xlabel(\"Weekend Day \\n6 - Sunday, 5 - Saturday\")\n",
    "plt.ylabel(\"Total No. of Data Points entered per weekend day\")\n",
    "plt.show()\n",
    "print(autolib.day_of_week.value_counts())\n",
    "\n",
    "## there seems to be no significant difference"
   ]
  },
  {
   "cell_type": "code",
   "execution_count": 82,
   "metadata": {},
   "outputs": [
    {
     "data": {
      "image/png": "[encoded data removed]",
      "text/plain": [
       "<Figure size 432x288 with 1 Axes>"
      ]
     },
     "metadata": {
      "needs_background": "light"
     },
     "output_type": "display_data"
    }
   ],
   "source": [
    "# find the average number of cars taken\n",
    "carsAvg =[autolib.bluecars_taken_sum.mean(),\n",
    "            autolib.utilib_taken_sum.mean(),\n",
    "           autolib.utilib_14_taken_sum.mean()]\n",
    "avgCarLabels = ['Bluecars', 'Utilibs', 'Utilib 14s']\n",
    "\n",
    "plt.bar(avgCarLabels, carsAvg)\n",
    "plt.title(\"Average number of cars taken\")\n",
    "plt.show()\n",
    "\n",
    "## this shows that the Bluecars are the most popular and the Utilibs are the least popular"
   ]
  },
  {
   "cell_type": "code",
   "execution_count": 84,
   "metadata": {},
   "outputs": [
    {
     "data": {
      "image/png": "[encoded data removed]",
      "text/plain": [
       "<Figure size 432x288 with 1 Axes>"
      ]
     },
     "metadata": {
      "needs_background": "light"
     },
     "output_type": "display_data"
    }
   ],
   "source": [
    "# total number of cars returned\n",
    "returnedAvg = [autolib.bluecars_returned_sum.mean(),\n",
    "              autolib.utilib_returned_sum.mean(),\n",
    "              autolib.utilib_14_returned_sum.mean()]\n",
    "returnedLabels = ['Bluecars', 'Utilibs', 'Utilib 14']\n",
    "\n",
    "plt.bar(returnedLabels, returnedAvg)\n",
    "plt.title('Average number of cars returned')\n",
    "plt.show()\n",
    "\n",
    "## again, we see that the Bluecars have the highest number of cars returned while the Utilib shows the least number."
   ]
  },
  {
   "cell_type": "code",
   "execution_count": 16,
   "metadata": {},
   "outputs": [
    {
     "name": "stdout",
     "output_type": "stream",
     "text": [
      "104\n"
     ]
    }
   ],
   "source": [
    "# How many distinct postal codes are in this dataset?\n",
    "postalCodes = autolib.postal_code.unique()\n",
    "print(len(postalCodes))"
   ]
  },
  {
   "cell_type": "code",
   "execution_count": 116,
   "metadata": {},
   "outputs": [
    {
     "data": {
      "text/plain": [
       "44"
      ]
     },
     "execution_count": 116,
     "metadata": {},
     "output_type": "execute_result"
    }
   ],
   "source": [
    "# number of unique dates\n",
    "len(autolib.date.unique())"
   ]
  },
  {
   "cell_type": "code",
   "execution_count": 127,
   "metadata": {},
   "outputs": [
    {
     "data": {
      "image/png": "[encoded data removed]",
      "text/plain": [
       "<Figure size 432x288 with 1 Axes>"
      ]
     },
     "metadata": {
      "needs_background": "light"
     },
     "output_type": "display_data"
    },
    {
     "name": "stdout",
     "output_type": "stream",
     "text": [
      "Slots freed: 278\n",
      "Slots taken: 282\n"
     ]
    }
   ],
   "source": [
    "# average number of recharging slots freed vs that of slots taken\n",
    "freedAvg = autolib.slots_freed_sum.mean()\n",
    "takenAvg = autolib.slots_taken_sum.mean()\n",
    "\n",
    "plt.bar('Freed', freedAvg, color='blue')\n",
    "plt.bar('Taken', takenAvg, color='green')\n",
    "plt.xlabel(\"Slots\")\n",
    "plt.title('Plots freed vs plots taken')\n",
    "plt.show()\n",
    "\n",
    "\n",
    "print(\"Slots freed:\", autolib.slots_freed_sum.value_counts().count())\n",
    "print(\"Slots taken:\", autolib.slots_taken_sum.value_counts().count())\n",
    "\n",
    "## no significant difference"
   ]
  },
  {
   "cell_type": "code",
   "execution_count": 137,
   "metadata": {},
   "outputs": [
    {
     "name": "stdout",
     "output_type": "stream",
     "text": [
      "Empty DataFrame\n",
      "Columns: [postal_code, date, n_daily_data_points, day_of_week, bluecars_taken_sum, bluecars_returned_sum, utilib_taken_sum, utilib_returned_sum, utilib_14_taken_sum, utilib_14_returned_sum, slots_freed_sum, slots_taken_sum]\n",
      "Index: []\n",
      "Empty DataFrame\n",
      "Columns: [postal_code, date, n_daily_data_points, day_of_week, bluecars_taken_sum, bluecars_returned_sum, utilib_taken_sum, utilib_returned_sum, utilib_14_taken_sum, utilib_14_returned_sum, slots_freed_sum, slots_taken_sum]\n",
      "Index: []\n"
     ]
    },
    {
     "data": {
      "text/plain": [
       "Index(['postal_code', 'date', 'n_daily_data_points', 'bluecars_taken_sum',\n",
       "       'bluecars_returned_sum', 'utilib_taken_sum', 'utilib_returned_sum',\n",
       "       'utilib_14_taken_sum', 'utilib_14_returned_sum', 'slots_freed_sum',\n",
       "       'slots_taken_sum'],\n",
       "      dtype='object')"
      ]
     },
     "execution_count": 137,
     "metadata": {},
     "output_type": "execute_result"
    }
   ],
   "source": [
    "# split dataset into two, one for Saturday and one for Sunday\n",
    "saturday = autolib.loc[autolib['day_of_week'] == \"Saturday\"] \n",
    "sunday = autolib.loc[autolib['day_of_week'] == \"Sunday\"]\n",
    "\n",
    "# check to ensure that they don't have what they're not supposed to contain\n",
    "# e.g., the saturday dataset is not supposed to contain any Sunday records and vice versa\n",
    "noSat = saturday.loc[saturday['day_of_week'] != \"Saturday\"]\n",
    "noSun = sunday.loc[sunday['day_of_week'] != \"Sunday\"]\n",
    "## no record out of place\n",
    "\n",
    "print(noSat)\n",
    "print(noSun)\n",
    "\n",
    "# drop the 'day_of_week' column in both datasets since it has now become redundant\n",
    "saturday = saturday.drop(columns='day_of_week')\n",
    "sunday = sunday.drop(columns='day_of_week')\n"
   ]
  },
  {
   "cell_type": "code",
   "execution_count": 141,
   "metadata": {
    "scrolled": true
   },
   "outputs": [
    {
     "name": "stdout",
     "output_type": "stream",
     "text": [
      "Bluecars on Saturday: 156.12\n",
      "Bluecars on Sunday: 146.07\n",
      "Utilibs on Saturday: 4.51\n",
      "Utilibs on Sunday: 4.28\n",
      "Utilib 14s on Saturday: 10.43\n",
      "Utilib 14s on Sunday: 9.83\n"
     ]
    }
   ],
   "source": [
    "# mean number of cars taken per weekend day\n",
    "satBluecars = saturday.bluecars_taken_sum.mean()\n",
    "sunBluecars = sunday.bluecars_taken_sum.mean()\n",
    "satUtilib = saturday.utilib_taken_sum.mean()\n",
    "sunUtilib = sunday.utilib_taken_sum.mean()\n",
    "satUtilib14 = saturday.utilib_14_taken_sum.mean()\n",
    "sunUtilib14 = sunday.utilib_14_taken_sum.mean()\n",
    "\n",
    "print(\"Bluecars on Saturday:\", round(satBluecars, 2))\n",
    "print(\"Bluecars on Sunday:\", round(sunBluecars, 2))\n",
    "print(\"Utilibs on Saturday:\", round(satUtilib, 2))\n",
    "print(\"Utilibs on Sunday:\", round(sunUtilib, 2))\n",
    "print(\"Utilib 14s on Saturday:\", round(satUtilib14, 2))\n",
    "print(\"Utilib 14s on Sunday:\", round(sunUtilib14, 2))\n",
    "\n",
    "## Bluecars are the most popular cars and are taken more on Saturdays than on Sundays"
   ]
  },
  {
   "cell_type": "code",
   "execution_count": null,
   "metadata": {},
   "outputs": [],
   "source": []
  },
  {
   "cell_type": "code",
   "execution_count": 117,
   "metadata": {},
   "outputs": [
    {
     "data": {
      "text/html": [
       "<div>\n",
       "<style scoped>\n",
       "    .dataframe tbody tr th:only-of-type {\n",
       "        vertical-align: middle;\n",
       "    }\n",
       "\n",
       "    .dataframe tbody tr th {\n",
       "        vertical-align: top;\n",
       "    }\n",
       "\n",
       "    .dataframe thead th {\n",
       "        text-align: right;\n",
       "    }\n",
       "</style>\n",
       "<table border=\"1\" class=\"dataframe\">\n",
       "  <thead>\n",
       "    <tr style=\"text-align: right;\">\n",
       "      <th></th>\n",
       "      <th>postal_code</th>\n",
       "      <th>date</th>\n",
       "      <th>n_daily_data_points</th>\n",
       "      <th>day_of_week</th>\n",
       "      <th>bluecars_taken_sum</th>\n",
       "      <th>bluecars_returned_sum</th>\n",
       "      <th>utilib_taken_sum</th>\n",
       "      <th>utilib_returned_sum</th>\n",
       "      <th>utilib_14_taken_sum</th>\n",
       "      <th>utilib_14_returned_sum</th>\n",
       "      <th>slots_freed_sum</th>\n",
       "      <th>slots_taken_sum</th>\n",
       "    </tr>\n",
       "  </thead>\n",
       "  <tbody>\n",
       "    <tr>\n",
       "      <th>5</th>\n",
       "      <td>75001</td>\n",
       "      <td>1/6/2018</td>\n",
       "      <td>1437</td>\n",
       "      <td>Saturday</td>\n",
       "      <td>187</td>\n",
       "      <td>185</td>\n",
       "      <td>6</td>\n",
       "      <td>6</td>\n",
       "      <td>7</td>\n",
       "      <td>8</td>\n",
       "      <td>38</td>\n",
       "      <td>35</td>\n",
       "    </tr>\n",
       "    <tr>\n",
       "      <th>6</th>\n",
       "      <td>75001</td>\n",
       "      <td>1/7/2018</td>\n",
       "      <td>1440</td>\n",
       "      <td>Sunday</td>\n",
       "      <td>180</td>\n",
       "      <td>180</td>\n",
       "      <td>2</td>\n",
       "      <td>2</td>\n",
       "      <td>10</td>\n",
       "      <td>9</td>\n",
       "      <td>34</td>\n",
       "      <td>34</td>\n",
       "    </tr>\n",
       "    <tr>\n",
       "      <th>12</th>\n",
       "      <td>75001</td>\n",
       "      <td>1/13/2018</td>\n",
       "      <td>1440</td>\n",
       "      <td>Saturday</td>\n",
       "      <td>224</td>\n",
       "      <td>223</td>\n",
       "      <td>2</td>\n",
       "      <td>2</td>\n",
       "      <td>15</td>\n",
       "      <td>15</td>\n",
       "      <td>38</td>\n",
       "      <td>38</td>\n",
       "    </tr>\n",
       "    <tr>\n",
       "      <th>13</th>\n",
       "      <td>75001</td>\n",
       "      <td>1/14/2018</td>\n",
       "      <td>1440</td>\n",
       "      <td>Sunday</td>\n",
       "      <td>193</td>\n",
       "      <td>193</td>\n",
       "      <td>2</td>\n",
       "      <td>2</td>\n",
       "      <td>12</td>\n",
       "      <td>12</td>\n",
       "      <td>22</td>\n",
       "      <td>20</td>\n",
       "    </tr>\n",
       "    <tr>\n",
       "      <th>19</th>\n",
       "      <td>75001</td>\n",
       "      <td>1/20/2018</td>\n",
       "      <td>1439</td>\n",
       "      <td>Saturday</td>\n",
       "      <td>217</td>\n",
       "      <td>217</td>\n",
       "      <td>2</td>\n",
       "      <td>2</td>\n",
       "      <td>25</td>\n",
       "      <td>25</td>\n",
       "      <td>41</td>\n",
       "      <td>39</td>\n",
       "    </tr>\n",
       "  </tbody>\n",
       "</table>\n",
       "</div>"
      ],
      "text/plain": [
       "    postal_code       date  n_daily_data_points day_of_week  \\\n",
       "5         75001   1/6/2018                 1437    Saturday   \n",
       "6         75001   1/7/2018                 1440      Sunday   \n",
       "12        75001  1/13/2018                 1440    Saturday   \n",
       "13        75001  1/14/2018                 1440      Sunday   \n",
       "19        75001  1/20/2018                 1439    Saturday   \n",
       "\n",
       "    bluecars_taken_sum  bluecars_returned_sum  utilib_taken_sum  \\\n",
       "5                  187                    185                 6   \n",
       "6                  180                    180                 2   \n",
       "12                 224                    223                 2   \n",
       "13                 193                    193                 2   \n",
       "19                 217                    217                 2   \n",
       "\n",
       "    utilib_returned_sum  utilib_14_taken_sum  utilib_14_returned_sum  \\\n",
       "5                     6                    7                       8   \n",
       "6                     2                   10                       9   \n",
       "12                    2                   15                      15   \n",
       "13                    2                   12                      12   \n",
       "19                    2                   25                      25   \n",
       "\n",
       "    slots_freed_sum  slots_taken_sum  \n",
       "5                38               35  \n",
       "6                34               34  \n",
       "12               38               38  \n",
       "13               22               20  \n",
       "19               41               39  "
      ]
     },
     "execution_count": 117,
     "metadata": {},
     "output_type": "execute_result"
    }
   ],
   "source": [
    "autolib.head()"
   ]
  },
  {
   "cell_type": "markdown",
   "metadata": {},
   "source": [
    "# Conclusion"
   ]
  },
  {
   "cell_type": "markdown",
   "metadata": {},
   "source": [
    "# Note to the TM\n",
    "I am unable to complete the work due to personal issues. I promise to redo and resubmit this IP as soon as I can."
   ]
  }
 ],
 "metadata": {
  "kernelspec": {
   "display_name": "Python 3",
   "language": "python",
   "name": "python3"
  },
  "language_info": {
   "codemirror_mode": {
    "name": "ipython",
    "version": 3
   },
   "file_extension": ".py",
   "mimetype": "text/x-python",
   "name": "python",
   "nbconvert_exporter": "python",
   "pygments_lexer": "ipython3",
   "version": "3.7.3"
  }
 },
 "nbformat": 4,
 "nbformat_minor": 2
}
